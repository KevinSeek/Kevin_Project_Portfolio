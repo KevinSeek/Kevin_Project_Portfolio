{
 "cells": [
  {
   "cell_type": "markdown",
   "metadata": {
    "id": "PqqDx0GHIIST"
   },
   "source": [
    "## Connection to Google Drive"
   ]
  },
  {
   "cell_type": "code",
   "execution_count": 1,
   "metadata": {
    "colab": {
     "base_uri": "https://localhost:8080/",
     "height": 34
    },
    "id": "cG7iSpv_CKWG",
    "outputId": "4c14575f-305e-4c5e-856a-10016b88c44e"
   },
   "outputs": [],
   "source": [
    "# Importing datasets from shared folder\n",
    "# from google.colab import drive\n",
    "# drive.mount(\"/content/drive/\")"
   ]
  },
  {
   "cell_type": "code",
   "execution_count": 1,
   "metadata": {
    "id": "aq126kRZCPy9"
   },
   "outputs": [],
   "source": [
    "# File location variable \n",
    "# fileloc = '/content/drive/My Drive/DSI_16/Capstone/datasets/'\n",
    "\n",
    "# File @ local machine\n",
    "fileloc = 'datasets/'"
   ]
  },
  {
   "cell_type": "markdown",
   "metadata": {
    "id": "CPpBOZrwRiTx"
   },
   "source": [
    "## Introduction\n",
    "----\n",
    "As techonology progress and more of our lifestyle revolving around tech gadgets, many companies have accumulated a large amount of data pertaining to their customers. The key question has and always been - \"How are we going to tap on this immerse wealth of data not just to gain insight into both our customers and our own strengths but also to monetize it?\"\n",
    "\n",
    "The simplest of solution or the most practical will be to hire a team of data scientists, data dump and help me solve my problem. Yet, very often, whether intentionally or unintentionally, stakeholder left out the most crucial piece of information - full access of domain knowledge. Due to this missing chunk, data scientists often and usually create analysis or products that are sub-par to the expectation of the stakeholder. More often than more, data scientist spend much time gathering these domain knowledge from various stakeholders that little time is left to produce quality and succinct analysis and product.\n",
    "\n",
    "This project serve as a simulation where I am hired as a data scientist and provided access to limited but substantial amount of data to quickly (~approx 2 weeks) generate ways to help business stakeholders make better sale decisions yet with little or no interactions with any of the stakeholders. Beyond this scope and restrictions, I am given limited time to tap on the knowledge of other tech teams in the course of this project.\n",
    "\n",
    "The simulated datasets used is Kaggle Prize Dataset. The data is sufficient large (~4GB) but limited in information - no user's profile except their ratings, title details are missing except for the release year."
   ]
  },
  {
   "cell_type": "markdown",
   "metadata": {
    "id": "GK_2rVTzRrtG"
   },
   "source": [
    "## Problem Statement\n",
    "\n",
    "Using the Netflix Dataset, develop recommendation system where new customers are able to find titles pertaining to their taste out of all the titles available in the repository. The recommendation system need to fulfill the following criteria:\n",
    "\n",
    "- To design and create a robust recommendation systems where titles are pushed to users by knowing their preferences/tastes in doing so eliminate cold-start problems that have plague most early recommendation system.\n",
    "- Recommendation system needs to highlight and persuade customers why the selections are recommended to them.\n"
   ]
  },
  {
   "cell_type": "markdown",
   "metadata": {},
   "source": [
    "## Executive Summary\n",
    "\n",
    "Using Netflix as an example to simulate situation where company or department are holding to immersive 'data wealth' but do not have the ability to monetize it (depending on context, either in producing profit or gain further insights/efficiencies).\n",
    "\n",
    "Often insights or in this case recommendation are pushed to customers based on prior knowledge or widely accepted facts - eg. titles that are popular or knowing the customer personally. This create a knowledge silo or key-person risks where a single person or system may hold the company hostage simplify because of it being indispensable. In addition, this may that recommendations are 'whole-sale' and changing trends from company-push to on-demand model; customers may be left unsatisfied if a company do not provide a personalized touch to their experience.\n",
    "\n",
    "Using multiple recommendation systems which targets user's rating similarity; title-similarity and looking for relationship between titles based on their meta-data seems like a good way to start to personalized products to customers.\n",
    "\n",
    "Based on the model created, we can see that all recommendations systems provide different titles based on different aspect of the understanding the user. An ensemble model was created to find the best title recommendation from each of the sub-recommendation system. This will give a more generalized titles recommendations to user.\n",
    "\n",
    "Comparing to the base recommendations - popularity titles, we see that our recommendations systems pushes titles that are more relating to the user's preference. In addition to this, the systems in its entirety has achieved to eliminate cold start problem where new users may be recommended something that are not to their taste.\n",
    "\n",
    "### Key Observations:\n",
    "\n",
    "Limitation of data available. Initially API-calls to MovieDB was supposed to be the panacea to the limited information available. However, MoiveDB do not have an exact match function but give the best movie hence I have to discards some of my data. In total, I have to reduce close to about 16% of my data.\n",
    "\n",
    "The traditional machine learning models based recommendation systems - Collaborative Filtering and Title-Based are computationally expensive. This limits me to use a subset in order to generate the user matrix. Hence the recommendations may not be as comprehensive in terms of the titles to push to users. In additional, for every user, it need to re-calculate the user matrix again hence reducing the user experience when they need to wait longer time to find titles that are suitable to their taste.\n",
    "\n",
    "*Neural Network (Meta-data rec system) although eliminate the problems experienced by traditional ML but it suffers from longer training time when we runs more epochs and more embedded layers. However, it do not suffers the long calculation time required to generate recommendations to users.\n",
    "\n",
    "Each systems have their pros and cons and the bottlenecks occurs at different sections. However, storing preference is for Neutral Networks because:\n",
    "- Heavy lifting is during the model training phase hence the on the user-front, there is close to little lag in pushing titles to users.\n",
    "- Additional of inputs/variables are an additional layers into the Neural Network. It is relative easier to perform features \"top-up\" compared to traditional MLs.\n",
    "\n",
    "### Recommendations & Further Research\n",
    "Given the short turn-around time, evaluation of the recommendation system is limited to referencing to the popular titles in the database. The next steps is to explore deeper into evaluation metrics using confusion matrix metric to find how each system are recommending titles correctly using created training datasets (created as part of training for neural network)\n",
    "\n",
    "Another direction is to look into TDIDF of meta-data. This will give a aggregated weight matrix of meta-data across all the titles. Using this matrix in the Neural Network might give better recommendation as it takes into account of weight of each keyword the title contains. Currently, each keywords is assumed to have the same weight.\n",
    "\n",
    "* Neural Network Concept & use are heavily inspired by the following article:\n",
    "<a href=\"https://towardsdatascience.com/building-a-recommendation-system-using-neural-network-embeddings-1ef92e5c80c9\">Building a Recommendation System Using Neural Network Embeddings</a>"
   ]
  },
  {
   "cell_type": "markdown",
   "metadata": {
    "id": "arQQz3y1UVLK"
   },
   "source": [
    "# Codes Book\n",
    "\n",
    "The code in this notebook are relating to data collection, API Call & data transformations"
   ]
  },
  {
   "cell_type": "markdown",
   "metadata": {
    "id": "JRYK5qUjCoW8"
   },
   "source": [
    "## Import Library"
   ]
  },
  {
   "cell_type": "code",
   "execution_count": 2,
   "metadata": {
    "id": "EQUBU7zACgyx"
   },
   "outputs": [],
   "source": [
    "import numpy as np\n",
    "import pandas as pd\n",
    "\n",
    "# Library for importing and saving large datasets\n",
    "import glob\n",
    "import json\n",
    "import h5py\n",
    "\n",
    "# For dealing with iterables\n",
    "from itertools import chain\n",
    "from collections import ChainMap\n",
    "\n",
    "# Plotting\n",
    "import matplotlib.pyplot as plt\n",
    "import seaborn as sns\n",
    "\n",
    "# API Call\n",
    "import requests\n",
    "\n",
    "from datetime import datetime\n",
    "import time\n",
    "import random\n",
    "import ast\n",
    "\n",
    "# Additional Setting\n",
    "pd.set_option(\"display.max_rows\", 201)"
   ]
  },
  {
   "cell_type": "markdown",
   "metadata": {
    "id": "2TpcaRi1SQmZ"
   },
   "source": [
    "## User Defined Functions"
   ]
  },
  {
   "cell_type": "markdown",
   "metadata": {
    "id": "qVdEqrC6AKjE"
   },
   "source": [
    "### Time Function"
   ]
  },
  {
   "cell_type": "code",
   "execution_count": 3,
   "metadata": {
    "id": "lAjRkW8BDSkg"
   },
   "outputs": [],
   "source": [
    "# Time function\n",
    "\n",
    "def t_now(string):\n",
    "    '''\n",
    "    Insert Docstring\n",
    "    '''\n",
    "    time = datetime.now()\n",
    "    current_time = time.strftime(\"%H:%M:%S\")\n",
    "    return f\"{string} = {current_time}\""
   ]
  },
  {
   "cell_type": "markdown",
   "metadata": {
    "id": "dG0mDF9HAKjH"
   },
   "source": [
    "### Title Pull"
   ]
  },
  {
   "cell_type": "code",
   "execution_count": 4,
   "metadata": {
    "id": "8h9017HnDPYW"
   },
   "outputs": [],
   "source": [
    "# Create a function for API call for different movie titles\n",
    "\n",
    "def title_pull(item_ls, item_release_year):\n",
    "    '''\n",
    "    Function: This is \n",
    "    '''\n",
    "    \n",
    "    global REQUEST_TOKEN\n",
    "    \n",
    "    item_name = ''\n",
    "    \n",
    "    # Loop to create a string to search movie database\n",
    "    for i in range(len(item_ls)):\n",
    "        if i != 0:\n",
    "            item_name += \":\" + item_ls[i]\n",
    "        else:\n",
    "            item_name = item_ls[i]\n",
    "        \n",
    "        # replace whitespace with %20\n",
    "        search_item = item_name.replace(\" \", \"%20\")\n",
    "            \n",
    "        # Try to search based on movie & release year\n",
    "        try:\n",
    "            url = f\"https://api.themoviedb.org/3/search/movie?api_key={REQUEST_TOKEN}&query={search_item}&primary_release_year={item_release_year}&page=1\" \n",
    "            req = requests.get(url)\n",
    "            sq_dict = req.json()\n",
    "            res = {key: sq_dict['results'][0][key] for key in sq_dict['results'][0].keys() & {'id', 'title'}}\n",
    "            #res = {key: sq_dict['results'][0][key] for key in sq_dict['results'][0].keys() & {'id', 'title','genre_ids'}}\n",
    "            res['search_title'] = search_item.replace(\"%20\", ' ')\n",
    "            res['type'] = 'movie'\n",
    "            return res\n",
    "        except:\n",
    "            pass\n",
    "\n",
    "        # Try to search based on TV name & first air date\n",
    "        try:\n",
    "            url = f\"https://api.themoviedb.org/3/search/tv?api_key={REQUEST_TOKEN}&query={search_item}&first_air_date_year={item_release_year}&page=1\"\n",
    "            req = requests.get(url)\n",
    "            sq_dict = req.json()\n",
    "            res = {key: sq_dict['results'][0][key] for key in sq_dict['results'][0].keys() & {'id', 'name'}}\n",
    "            #res = {key: sq_dict['results'][0][key] for key in sq_dict['results'][0].keys() & {'id', 'name','genre_ids'}}\n",
    "            res['search_title'] = search_item.replace(\"%20\", ' ')\n",
    "            res['type'] = 'tv'\n",
    "            return res\n",
    "        except:\n",
    "            pass\n",
    "\n",
    "        # Try to search based on Movie title only\n",
    "        try:\n",
    "            url = f\"https://api.themoviedb.org/3/search/movie?api_key={REQUEST_TOKEN}&query={search_item}&page=1\" \n",
    "            req = requests.get(url)\n",
    "            sq_dict = req.json()\n",
    "            res = {key: sq_dict['results'][0][key] for key in sq_dict['results'][0].keys() & {'id', 'title'}}\n",
    "            #res = {key: sq_dict['results'][0][key] for key in sq_dict['results'][0].keys() & {'id', 'title','genre_ids'}}\n",
    "            res['search_title'] = search_item.replace(\"%20\", ' ')\n",
    "            res['type'] = 'movie'\n",
    "            return res\n",
    "        except:\n",
    "            pass\n",
    "\n",
    "        # Try to search based on TV name only\n",
    "        try:\n",
    "            url = f\"https://api.themoviedb.org/3/search/tv?api_key={REQUEST_TOKEN}&query={search_item}&page=1\"\n",
    "            req = requests.get(url)\n",
    "            sq_dict = req.json()\n",
    "            res = {key: sq_dict['results'][0][key] for key in sq_dict['results'][0].keys() & {'id', 'name'}}\n",
    "            #res = {key: sq_dict['results'][0][key] for key in sq_dict['results'][0].keys() & {'id', 'name','genre_ids'}}\n",
    "            res['search_title'] = search_item.replace(\"%20\", ' ')\n",
    "            res['type'] = 'tv'\n",
    "            return res\n",
    "        except:\n",
    "            return 'NA'"
   ]
  },
  {
   "cell_type": "markdown",
   "metadata": {
    "id": "bCpwTH_PAKjJ"
   },
   "source": [
    "### Metadata API"
   ]
  },
  {
   "cell_type": "code",
   "execution_count": 5,
   "metadata": {
    "id": "jGRGfpmCBTgM"
   },
   "outputs": [],
   "source": [
    "# Create a function for API call for different movie titles\n",
    "\n",
    "def movieid_pull(index, item_id, title_type):\n",
    "    '''\n",
    "    Function: Perform API call to movie db and extract relevant information base on movie_id\n",
    "\n",
    "    arg1 (int): moive_id unique to the movie db\n",
    "\n",
    "    arg2 (str): Whether the title is a movie or a tv show\n",
    "    '''\n",
    "    \n",
    "    global REQUEST_TOKEN, chunk_size\n",
    "\n",
    "    #Create empty dict\n",
    "    res = dict()\n",
    "    sq_dict = dict()\n",
    "\n",
    "    # # Loop to create a string to search movie database\n",
    "    # if index % chunk_size == 0:\n",
    "    #     print(f\"{chunk_size}{t_now(' rows processed')}\")\n",
    "\n",
    "    #Check title type\n",
    "    if title_type == 'movie':\n",
    "        # Find the top actor/actress of the moive - api order = 0\n",
    "        url = f\"https://api.themoviedb.org/3/movie/{item_id}/credits?api_key={REQUEST_TOKEN}\" \n",
    "        req = requests.get(url)\n",
    "        sq_dict = req.json()\n",
    "\n",
    "        # Find actor/actress\n",
    "        if sq_dict['cast']:\n",
    "            res = {key: sq_dict['cast'][0][key] for key in sq_dict['cast'][0].keys() & {'name'}}\n",
    "        \n",
    "        # Find Associated Keywords with titles\n",
    "        url = f\"https://api.themoviedb.org/3/movie/{item_id}/keywords?api_key={REQUEST_TOKEN}\"\n",
    "        req = requests.get(url)\n",
    "        sq_dict = req.json()\n",
    "        if sq_dict['keywords']:\n",
    "            res['keywords'] = sq_dict['keywords']\n",
    "\n",
    "        # Find titles details\n",
    "        url = f\"https://api.themoviedb.org/3/movie/{item_id}?api_key={REQUEST_TOKEN}\"\n",
    "        req = requests.get(url)\n",
    "        sq_dict = req.json()\n",
    "        for i in ['genres', 'popularity','vote_count','vote_average']:\n",
    "            if sq_dict[i]:\n",
    "                res[i] = sq_dict[i]\n",
    "        return res\n",
    "    \n",
    "    elif title_type == 'tv':\n",
    "        # Find the top actor/actress/host of the moive - api order = 0\n",
    "        url = f\"https://api.themoviedb.org/3/tv/{item_id}/credits?api_key={REQUEST_TOKEN}\" \n",
    "        req = requests.get(url)\n",
    "        sq_dict = req.json()\n",
    "        if sq_dict['cast']:\n",
    "            res = {key: sq_dict['cast'][0][key] for key in sq_dict['cast'][0].keys() & {'name'}}\n",
    "\n",
    "        # Find Associated Keywords with titles\n",
    "        url = f\"https://api.themoviedb.org/3/tv/{item_id}/keywords?api_key={REQUEST_TOKEN}\"\n",
    "        req = requests.get(url)\n",
    "        sq_dict = req.json()\n",
    "        if sq_dict['results']:\n",
    "            res['keywords'] = sq_dict['results']\n",
    "\n",
    "        # Find titles details\n",
    "        url = f\"https://api.themoviedb.org/3/tv/{item_id}?api_key={REQUEST_TOKEN}\"\n",
    "        req = requests.get(url)\n",
    "        sq_dict = req.json()\n",
    "        for i in ['genres', 'popularity','vote_count','vote_average']:\n",
    "            if sq_dict[i]:\n",
    "                res[i] = sq_dict[i]\n",
    "        return res"
   ]
  },
  {
   "cell_type": "markdown",
   "metadata": {
    "id": "e1BT4X8HAKjM"
   },
   "source": [
    "### make dict"
   ]
  },
  {
   "cell_type": "code",
   "execution_count": 6,
   "metadata": {
    "id": "boUfJjW5av1b"
   },
   "outputs": [],
   "source": [
    "def make_dict(x):\n",
    "    '''\n",
    "    Function: Return a dict of 2 vals within a dict = {val1: val2}\n",
    "    \n",
    "    arg1 (list): A list of dictionaries\n",
    "\n",
    "    '''\n",
    "    \n",
    "    final_dict = dict()\n",
    "    try:\n",
    "        for item in x:\n",
    "            final_dict.update({item['name'] : item['id']})\n",
    "        return final_dict\n",
    "    except:\n",
    "        return final_dict"
   ]
  },
  {
   "cell_type": "markdown",
   "metadata": {
    "id": "8W7c33AOAKjP"
   },
   "source": [
    "### Chunking"
   ]
  },
  {
   "cell_type": "code",
   "execution_count": 7,
   "metadata": {
    "id": "VWq8UcVDAKjP"
   },
   "outputs": [],
   "source": [
    "def chunking(chunk_size, df):\n",
    "    '''\n",
    "    Function return a lsit of chunked dataframe\n",
    "    \n",
    "    arg1 (int): Chunk size of each chunk\n",
    "    arg2 (df) : Dataframe to chunk\n",
    "    \n",
    "    return (list): A list of chunked dataframe\n",
    "    '''\n",
    "    \n",
    "    chunk_list = []\n",
    "    for i in range(0, len(titles),chunk_size):\n",
    "        if i == 0:\n",
    "            start_point = 0\n",
    "        else:\n",
    "            start_point = i\n",
    "\n",
    "        df = titles.loc[start_point: start_point + chunk_size -1 ,:]\n",
    "        chunk_list.append(df)\n",
    "        \n",
    "    return chunk_list"
   ]
  },
  {
   "cell_type": "markdown",
   "metadata": {
    "id": "kyN-6svxCxFU"
   },
   "source": [
    "## Import Dataset"
   ]
  },
  {
   "cell_type": "markdown",
   "metadata": {
    "id": "jG9fpXCRR85-"
   },
   "source": [
    "### Movie Title Dataset"
   ]
  },
  {
   "cell_type": "markdown",
   "metadata": {
    "id": "ua1CDSJmYCSt"
   },
   "source": [
    "<span style='color:magenta'>Remarks:</span>\n",
    "As mentioned during the introduction, the dataset might be brief. There are about 17770 titles, the word titles is used because a quick scan on the name of the datasets, shows that there are a mixture of both movies and short series. No additonal information is presented exepcted for the year_of_release. Additonal information such as genre, keywords & featured actors are required to be extracted from external database - MoiveDB via a API call"
   ]
  },
  {
   "cell_type": "code",
   "execution_count": 8,
   "metadata": {
    "id": "lsOagZ95Cttg"
   },
   "outputs": [],
   "source": [
    "# Import Movie titles file\n",
    "titles = pd.read_csv(fileloc+ 'movie_titles.txt', sep = ',', names=['movie_id','year_of_release','title'], encoding='Latin_1')"
   ]
  },
  {
   "cell_type": "code",
   "execution_count": 9,
   "metadata": {
    "id": "UjsyGiYcC3o-"
   },
   "outputs": [],
   "source": [
    "# convert all movie title to lower case\n",
    "titles['title'] = titles['title'].map(lambda x: str.lower(x))"
   ]
  },
  {
   "cell_type": "code",
   "execution_count": 10,
   "metadata": {
    "colab": {
     "base_uri": "https://localhost:8080/",
     "height": 221
    },
    "id": "jcdfWFOaC6g8",
    "outputId": "681bb05b-9a85-405d-ebbf-e71e5fad286d"
   },
   "outputs": [
    {
     "name": "stdout",
     "output_type": "stream",
     "text": [
      "shape of titles (17770, 3)\n"
     ]
    },
    {
     "data": {
      "text/html": [
       "<div>\n",
       "<style scoped>\n",
       "    .dataframe tbody tr th:only-of-type {\n",
       "        vertical-align: middle;\n",
       "    }\n",
       "\n",
       "    .dataframe tbody tr th {\n",
       "        vertical-align: top;\n",
       "    }\n",
       "\n",
       "    .dataframe thead th {\n",
       "        text-align: right;\n",
       "    }\n",
       "</style>\n",
       "<table border=\"1\" class=\"dataframe\">\n",
       "  <thead>\n",
       "    <tr style=\"text-align: right;\">\n",
       "      <th></th>\n",
       "      <th>movie_id</th>\n",
       "      <th>year_of_release</th>\n",
       "      <th>title</th>\n",
       "    </tr>\n",
       "  </thead>\n",
       "  <tbody>\n",
       "    <tr>\n",
       "      <th>0</th>\n",
       "      <td>1</td>\n",
       "      <td>2003.0</td>\n",
       "      <td>dinosaur planet</td>\n",
       "    </tr>\n",
       "    <tr>\n",
       "      <th>1</th>\n",
       "      <td>2</td>\n",
       "      <td>2004.0</td>\n",
       "      <td>isle of man tt 2004 review</td>\n",
       "    </tr>\n",
       "    <tr>\n",
       "      <th>2</th>\n",
       "      <td>3</td>\n",
       "      <td>1997.0</td>\n",
       "      <td>character</td>\n",
       "    </tr>\n",
       "    <tr>\n",
       "      <th>3</th>\n",
       "      <td>4</td>\n",
       "      <td>1994.0</td>\n",
       "      <td>paula abdul's get up &amp; dance</td>\n",
       "    </tr>\n",
       "    <tr>\n",
       "      <th>4</th>\n",
       "      <td>5</td>\n",
       "      <td>2004.0</td>\n",
       "      <td>the rise and fall of ecw</td>\n",
       "    </tr>\n",
       "  </tbody>\n",
       "</table>\n",
       "</div>"
      ],
      "text/plain": [
       "   movie_id  year_of_release                         title\n",
       "0         1           2003.0               dinosaur planet\n",
       "1         2           2004.0    isle of man tt 2004 review\n",
       "2         3           1997.0                     character\n",
       "3         4           1994.0  paula abdul's get up & dance\n",
       "4         5           2004.0      the rise and fall of ecw"
      ]
     },
     "execution_count": 10,
     "metadata": {},
     "output_type": "execute_result"
    }
   ],
   "source": [
    "print(f'shape of titles {titles.shape}')\n",
    "titles.head()"
   ]
  },
  {
   "cell_type": "markdown",
   "metadata": {
    "id": "m98sV9ohC9ib"
   },
   "source": [
    "#### Delimit Title for search in MovieDB"
   ]
  },
  {
   "cell_type": "code",
   "execution_count": 11,
   "metadata": {
    "colab": {
     "base_uri": "https://localhost:8080/",
     "height": 359
    },
    "id": "hdCS87MRqVO2",
    "outputId": "8faf8232-aeb7-4380-d4eb-914fba5ad98e"
   },
   "outputs": [
    {
     "data": {
      "text/html": [
       "<div>\n",
       "<style scoped>\n",
       "    .dataframe tbody tr th:only-of-type {\n",
       "        vertical-align: middle;\n",
       "    }\n",
       "\n",
       "    .dataframe tbody tr th {\n",
       "        vertical-align: top;\n",
       "    }\n",
       "\n",
       "    .dataframe thead th {\n",
       "        text-align: right;\n",
       "    }\n",
       "</style>\n",
       "<table border=\"1\" class=\"dataframe\">\n",
       "  <thead>\n",
       "    <tr style=\"text-align: right;\">\n",
       "      <th></th>\n",
       "      <th>movie_id</th>\n",
       "      <th>year_of_release</th>\n",
       "      <th>title</th>\n",
       "      <th>split_title</th>\n",
       "    </tr>\n",
       "  </thead>\n",
       "  <tbody>\n",
       "    <tr>\n",
       "      <th>0</th>\n",
       "      <td>1</td>\n",
       "      <td>2003.0</td>\n",
       "      <td>dinosaur planet</td>\n",
       "      <td>[dinosaur planet]</td>\n",
       "    </tr>\n",
       "    <tr>\n",
       "      <th>1</th>\n",
       "      <td>2</td>\n",
       "      <td>2004.0</td>\n",
       "      <td>isle of man tt 2004 review</td>\n",
       "      <td>[isle of man tt 2004 review]</td>\n",
       "    </tr>\n",
       "    <tr>\n",
       "      <th>2</th>\n",
       "      <td>3</td>\n",
       "      <td>1997.0</td>\n",
       "      <td>character</td>\n",
       "      <td>[character]</td>\n",
       "    </tr>\n",
       "    <tr>\n",
       "      <th>3</th>\n",
       "      <td>4</td>\n",
       "      <td>1994.0</td>\n",
       "      <td>paula abdul's get up &amp; dance</td>\n",
       "      <td>[paula abdul's get up &amp; dance]</td>\n",
       "    </tr>\n",
       "    <tr>\n",
       "      <th>4</th>\n",
       "      <td>5</td>\n",
       "      <td>2004.0</td>\n",
       "      <td>the rise and fall of ecw</td>\n",
       "      <td>[the rise and fall of ecw]</td>\n",
       "    </tr>\n",
       "    <tr>\n",
       "      <th>5</th>\n",
       "      <td>6</td>\n",
       "      <td>1997.0</td>\n",
       "      <td>sick</td>\n",
       "      <td>[sick]</td>\n",
       "    </tr>\n",
       "    <tr>\n",
       "      <th>6</th>\n",
       "      <td>7</td>\n",
       "      <td>1992.0</td>\n",
       "      <td>8 man</td>\n",
       "      <td>[8 man]</td>\n",
       "    </tr>\n",
       "    <tr>\n",
       "      <th>7</th>\n",
       "      <td>8</td>\n",
       "      <td>2004.0</td>\n",
       "      <td>what the #$*! do we know!?</td>\n",
       "      <td>[what the #$*! do we know!?]</td>\n",
       "    </tr>\n",
       "    <tr>\n",
       "      <th>8</th>\n",
       "      <td>9</td>\n",
       "      <td>1991.0</td>\n",
       "      <td>class of nuke 'em high 2</td>\n",
       "      <td>[class of nuke 'em high 2]</td>\n",
       "    </tr>\n",
       "    <tr>\n",
       "      <th>9</th>\n",
       "      <td>10</td>\n",
       "      <td>2001.0</td>\n",
       "      <td>fighter</td>\n",
       "      <td>[fighter]</td>\n",
       "    </tr>\n",
       "  </tbody>\n",
       "</table>\n",
       "</div>"
      ],
      "text/plain": [
       "   movie_id  year_of_release                         title  \\\n",
       "0         1           2003.0               dinosaur planet   \n",
       "1         2           2004.0    isle of man tt 2004 review   \n",
       "2         3           1997.0                     character   \n",
       "3         4           1994.0  paula abdul's get up & dance   \n",
       "4         5           2004.0      the rise and fall of ecw   \n",
       "5         6           1997.0                          sick   \n",
       "6         7           1992.0                         8 man   \n",
       "7         8           2004.0    what the #$*! do we know!?   \n",
       "8         9           1991.0      class of nuke 'em high 2   \n",
       "9        10           2001.0                       fighter   \n",
       "\n",
       "                      split_title  \n",
       "0               [dinosaur planet]  \n",
       "1    [isle of man tt 2004 review]  \n",
       "2                     [character]  \n",
       "3  [paula abdul's get up & dance]  \n",
       "4      [the rise and fall of ecw]  \n",
       "5                          [sick]  \n",
       "6                         [8 man]  \n",
       "7    [what the #$*! do we know!?]  \n",
       "8      [class of nuke 'em high 2]  \n",
       "9                       [fighter]  "
      ]
     },
     "execution_count": 11,
     "metadata": {},
     "output_type": "execute_result"
    }
   ],
   "source": [
    "# Split title into a list of words - delimiter \":\"\n",
    "titles['split_title'] = titles['title'].str.split(':')\n",
    "titles.head(10)"
   ]
  },
  {
   "cell_type": "code",
   "execution_count": 12,
   "metadata": {
    "id": "5ZDuhbZ4DAqB"
   },
   "outputs": [],
   "source": [
    "# Create Chunk Size\n",
    "chunk_size = 3000"
   ]
  },
  {
   "cell_type": "code",
   "execution_count": 13,
   "metadata": {
    "id": "Nxfitl1AAKjj"
   },
   "outputs": [],
   "source": [
    "chunk_list = chunking(chunk_size, titles)"
   ]
  },
  {
   "cell_type": "markdown",
   "metadata": {
    "id": "tm43x8W7YCSE"
   },
   "source": [
    "#### Invoke API call to extract title id from MovieDB"
   ]
  },
  {
   "cell_type": "code",
   "execution_count": 14,
   "metadata": {
    "colab": {
     "base_uri": "https://localhost:8080/",
     "height": 34
    },
    "id": "eJ55-U3VAKkf",
    "outputId": "8d040569-d6d5-4071-9451-175b63100611"
   },
   "outputs": [
    {
     "name": "stdout",
     "output_type": "stream",
     "text": [
      "200\n"
     ]
    }
   ],
   "source": [
    "# API key\n",
    "REQUEST_TOKEN = 'd8f46f139abc47c1f048f3efc486fe53'\n",
    "\n",
    "# Target web page:\n",
    "\n",
    "# To authenticate api call session\n",
    "url = \"https://www.themoviedb.org/authenticate/\"+ REQUEST_TOKEN\n",
    "\n",
    "# Establishing the connection to the web page:\n",
    "response = requests.get(url)\n",
    "\n",
    "# You can use status codes to understand how the target server responds to your request.\n",
    "# Ex., 200 = OK, 400 = Bad Request, 403 = Forbidden, 404 = Not Found.\n",
    "print(response.status_code)"
   ]
  },
  {
   "cell_type": "code",
   "execution_count": 16,
   "metadata": {
    "colab": {
     "base_uri": "https://localhost:8080/",
     "height": 493
    },
    "id": "Y1e0O9ezAKkh",
    "outputId": "5c1ff6c6-1cb1-448f-e8ba-728b2328cff2",
    "scrolled": true
   },
   "outputs": [
    {
     "name": "stdout",
     "output_type": "stream",
     "text": [
      "Start Time = 10:45:32\n",
      "There are 6 batches to process\n"
     ]
    },
    {
     "name": "stderr",
     "output_type": "stream",
     "text": [
      "/usr/local/lib/python3.6/dist-packages/ipykernel_launcher.py:7: SettingWithCopyWarning: \n",
      "A value is trying to be set on a copy of a slice from a DataFrame.\n",
      "Try using .loc[row_indexer,col_indexer] = value instead\n",
      "\n",
      "See the caveats in the documentation: https://pandas.pydata.org/pandas-docs/stable/user_guide/indexing.html#returning-a-view-versus-a-copy\n",
      "  import sys\n"
     ]
    },
    {
     "name": "stdout",
     "output_type": "stream",
     "text": [
      "0 batch: run time = 10:56:58\n",
      "Sleep Duration: 2\n",
      "--------------------------------------------------\n",
      "1 batch: run time = 11:08:21\n",
      "Sleep Duration: 0\n",
      "--------------------------------------------------\n",
      "2 batch: run time = 11:20:14\n",
      "Sleep Duration: 0\n",
      "--------------------------------------------------\n",
      "3 batch: run time = 11:31:38\n",
      "Sleep Duration: 1\n",
      "--------------------------------------------------\n",
      "4 batch: run time = 11:42:48\n",
      "Sleep Duration: 2\n",
      "--------------------------------------------------\n",
      "5 batch: run time = 11:53:21\n",
      "Sleep Duration: 1\n",
      "--------------------------------------------------\n",
      "CPU times: user 4min 48s, sys: 15.9 s, total: 5min 4s\n",
      "Wall time: 1h 7min 49s\n"
     ]
    }
   ],
   "source": [
    "%%time\n",
    "\n",
    "print(t_now('Start Time'))\n",
    "print(f\"There are {len(chunk_list)} batches to process\")\n",
    "\n",
    "# Saving of titles files\n",
    "for index, df in enumerate(chunk_list):\n",
    "    df['moviedb_result'] = df.apply(lambda x: title_pull(x['split_title'], x['year_of_release']),axis=1)\n",
    "    print(f\"{index} batch: {t_now('run time')}\")\n",
    "    df.to_csv(f'{fileloc}titles_added/ta_{index}.csv', index=False)\n",
    "        \n",
    "    # Check if url time-out\n",
    "    if response.status_code != 200:\n",
    "        print(f'Connection Error, error type: {response.status_code}')\n",
    "        url = \"https://www.themoviedb.org/authenticate/\"+ REQUEST_TOKEN\n",
    "        print(response.status_code)\n",
    "        \n",
    "    #generate a random sleep duration to look more 'natural'\n",
    "    sleep_duration = random.randint(0,2)\n",
    "    print(f'Sleep Duration: {sleep_duration}')\n",
    "    print('-' * 50)\n",
    "    time.sleep(sleep_duration) "
   ]
  },
  {
   "cell_type": "code",
   "execution_count": 15,
   "metadata": {
    "colab": {
     "base_uri": "https://localhost:8080/",
     "height": 68
    },
    "id": "kbjz_7WrAKkk",
    "outputId": "4b74687e-12a8-4e13-af5b-d76e7f435436"
   },
   "outputs": [
    {
     "name": "stdout",
     "output_type": "stream",
     "text": [
      "glob completed\n",
      "Wall time: 81.8 ms\n"
     ]
    }
   ],
   "source": [
    "%%time\n",
    "# Globbing of saved Chunks\n",
    "# Import titles chunks into dataframe\n",
    "ls_of_titles = []\n",
    "\n",
    "# Specify the pattern matching for glob\n",
    "rating_files = glob.glob(fileloc + 'titles_added/*')\n",
    "\n",
    "# Loop to get dataframe into list\n",
    "for filename in rating_files:\n",
    "    df = pd.read_csv(filename, sep=',')\n",
    "    ls_of_titles.append(df)\n",
    "\n",
    "# Concat dataframe together\n",
    "titles = pd.concat(ls_of_titles,ignore_index=True)\n",
    "\n",
    "print('glob completed')"
   ]
  },
  {
   "cell_type": "code",
   "execution_count": 16,
   "metadata": {
    "colab": {
     "base_uri": "https://localhost:8080/",
     "height": 34
    },
    "id": "m4C7lg_yAKkl",
    "outputId": "fb0af414-d813-4e2b-bca1-720c97845c0d"
   },
   "outputs": [
    {
     "name": "stdout",
     "output_type": "stream",
     "text": [
      "(17770, 5)\n"
     ]
    }
   ],
   "source": [
    "print(titles.shape)"
   ]
  },
  {
   "cell_type": "code",
   "execution_count": 17,
   "metadata": {
    "colab": {
     "base_uri": "https://localhost:8080/",
     "height": 204
    },
    "id": "kqnmrAGRAKkn",
    "outputId": "88c79c4c-6e0d-42fb-b83f-fcff37c347e6"
   },
   "outputs": [
    {
     "data": {
      "text/html": [
       "<div>\n",
       "<style scoped>\n",
       "    .dataframe tbody tr th:only-of-type {\n",
       "        vertical-align: middle;\n",
       "    }\n",
       "\n",
       "    .dataframe tbody tr th {\n",
       "        vertical-align: top;\n",
       "    }\n",
       "\n",
       "    .dataframe thead th {\n",
       "        text-align: right;\n",
       "    }\n",
       "</style>\n",
       "<table border=\"1\" class=\"dataframe\">\n",
       "  <thead>\n",
       "    <tr style=\"text-align: right;\">\n",
       "      <th></th>\n",
       "      <th>movie_id</th>\n",
       "      <th>year_of_release</th>\n",
       "      <th>title</th>\n",
       "      <th>split_title</th>\n",
       "      <th>moviedb_result</th>\n",
       "    </tr>\n",
       "  </thead>\n",
       "  <tbody>\n",
       "    <tr>\n",
       "      <th>0</th>\n",
       "      <td>1</td>\n",
       "      <td>2003.0</td>\n",
       "      <td>dinosaur planet</td>\n",
       "      <td>['dinosaur planet']</td>\n",
       "      <td>{'id': 11710, 'name': 'Dinosaur Planet', 'sear...</td>\n",
       "    </tr>\n",
       "    <tr>\n",
       "      <th>1</th>\n",
       "      <td>2</td>\n",
       "      <td>2004.0</td>\n",
       "      <td>isle of man tt 2004 review</td>\n",
       "      <td>['isle of man tt 2004 review']</td>\n",
       "      <td>NaN</td>\n",
       "    </tr>\n",
       "    <tr>\n",
       "      <th>2</th>\n",
       "      <td>3</td>\n",
       "      <td>1997.0</td>\n",
       "      <td>character</td>\n",
       "      <td>['character']</td>\n",
       "      <td>{'id': 17139, 'title': 'Character', 'search_ti...</td>\n",
       "    </tr>\n",
       "    <tr>\n",
       "      <th>3</th>\n",
       "      <td>4</td>\n",
       "      <td>1994.0</td>\n",
       "      <td>paula abdul's get up &amp; dance</td>\n",
       "      <td>[\"paula abdul's get up &amp; dance\"]</td>\n",
       "      <td>{'id': 274766, 'title': \"Paula Abdul's Get Up ...</td>\n",
       "    </tr>\n",
       "    <tr>\n",
       "      <th>4</th>\n",
       "      <td>5</td>\n",
       "      <td>2004.0</td>\n",
       "      <td>the rise and fall of ecw</td>\n",
       "      <td>['the rise and fall of ecw']</td>\n",
       "      <td>{'id': 33209, 'title': 'The Rise &amp; Fall of ECW...</td>\n",
       "    </tr>\n",
       "  </tbody>\n",
       "</table>\n",
       "</div>"
      ],
      "text/plain": [
       "   movie_id  year_of_release                         title  \\\n",
       "0         1           2003.0               dinosaur planet   \n",
       "1         2           2004.0    isle of man tt 2004 review   \n",
       "2         3           1997.0                     character   \n",
       "3         4           1994.0  paula abdul's get up & dance   \n",
       "4         5           2004.0      the rise and fall of ecw   \n",
       "\n",
       "                        split_title  \\\n",
       "0               ['dinosaur planet']   \n",
       "1    ['isle of man tt 2004 review']   \n",
       "2                     ['character']   \n",
       "3  [\"paula abdul's get up & dance\"]   \n",
       "4      ['the rise and fall of ecw']   \n",
       "\n",
       "                                      moviedb_result  \n",
       "0  {'id': 11710, 'name': 'Dinosaur Planet', 'sear...  \n",
       "1                                                NaN  \n",
       "2  {'id': 17139, 'title': 'Character', 'search_ti...  \n",
       "3  {'id': 274766, 'title': \"Paula Abdul's Get Up ...  \n",
       "4  {'id': 33209, 'title': 'The Rise & Fall of ECW...  "
      ]
     },
     "execution_count": 17,
     "metadata": {},
     "output_type": "execute_result"
    }
   ],
   "source": [
    "titles.head()"
   ]
  },
  {
   "cell_type": "markdown",
   "metadata": {
    "id": "Lc5oTBqKYCSO"
   },
   "source": [
    "#### Cleaning of Title Dataset"
   ]
  },
  {
   "cell_type": "markdown",
   "metadata": {
    "id": "hmqEV4sqYCSO"
   },
   "source": [
    "##### Dropping of Null Values"
   ]
  },
  {
   "cell_type": "code",
   "execution_count": 18,
   "metadata": {
    "colab": {
     "base_uri": "https://localhost:8080/",
     "height": 68
    },
    "id": "X2xPWcJnAKkp",
    "outputId": "c106811f-0fee-4474-b20d-93d924cf015c"
   },
   "outputs": [
    {
     "data": {
      "text/plain": [
       "year_of_release      7\n",
       "moviedb_result     803\n",
       "dtype: int64"
      ]
     },
     "execution_count": 18,
     "metadata": {},
     "output_type": "execute_result"
    }
   ],
   "source": [
    "titles.isnull().sum()[titles.isnull().sum()>0]"
   ]
  },
  {
   "cell_type": "code",
   "execution_count": 19,
   "metadata": {
    "colab": {
     "base_uri": "https://localhost:8080/",
     "height": 51
    },
    "id": "lLbTz-N9YCSQ",
    "outputId": "b56f3277-a125-4eb3-ea14-778c05b87846"
   },
   "outputs": [
    {
     "name": "stdout",
     "output_type": "stream",
     "text": [
      "Shape of titles before dropping: (17770, 5)\n",
      "Shape of titles after dropping: (16967, 5)\n"
     ]
    }
   ],
   "source": [
    "# Drop null values in moviedb_result and reassigned back to titles\n",
    "print(f'Shape of titles before dropping: {titles.shape}')\n",
    "titles = titles.dropna(axis=0, how='all', subset=['moviedb_result'])\n",
    "print(f'Shape of titles after dropping: {titles.shape}')"
   ]
  },
  {
   "cell_type": "code",
   "execution_count": 20,
   "metadata": {
    "colab": {
     "base_uri": "https://localhost:8080/",
     "height": 221
    },
    "id": "edTjv-9eAKkq",
    "outputId": "fa2c1e21-9842-41d8-e59a-106f9e64fb8d"
   },
   "outputs": [
    {
     "name": "stdout",
     "output_type": "stream",
     "text": [
      "(16967, 5)\n"
     ]
    },
    {
     "data": {
      "text/html": [
       "<div>\n",
       "<style scoped>\n",
       "    .dataframe tbody tr th:only-of-type {\n",
       "        vertical-align: middle;\n",
       "    }\n",
       "\n",
       "    .dataframe tbody tr th {\n",
       "        vertical-align: top;\n",
       "    }\n",
       "\n",
       "    .dataframe thead th {\n",
       "        text-align: right;\n",
       "    }\n",
       "</style>\n",
       "<table border=\"1\" class=\"dataframe\">\n",
       "  <thead>\n",
       "    <tr style=\"text-align: right;\">\n",
       "      <th></th>\n",
       "      <th>movie_id</th>\n",
       "      <th>year_of_release</th>\n",
       "      <th>title</th>\n",
       "      <th>split_title</th>\n",
       "      <th>moviedb_result</th>\n",
       "    </tr>\n",
       "  </thead>\n",
       "  <tbody>\n",
       "    <tr>\n",
       "      <th>0</th>\n",
       "      <td>1</td>\n",
       "      <td>2003.0</td>\n",
       "      <td>dinosaur planet</td>\n",
       "      <td>['dinosaur planet']</td>\n",
       "      <td>{'id': 11710, 'title': 'Dinosaur Planet', 'sea...</td>\n",
       "    </tr>\n",
       "    <tr>\n",
       "      <th>1</th>\n",
       "      <td>3</td>\n",
       "      <td>1997.0</td>\n",
       "      <td>character</td>\n",
       "      <td>['character']</td>\n",
       "      <td>{'id': 17139, 'title': 'Character', 'search_ti...</td>\n",
       "    </tr>\n",
       "    <tr>\n",
       "      <th>2</th>\n",
       "      <td>4</td>\n",
       "      <td>1994.0</td>\n",
       "      <td>paula abdul's get up &amp; dance</td>\n",
       "      <td>[\"paula abdul's get up &amp; dance\"]</td>\n",
       "      <td>{'id': 274766, 'title': \"Paula Abdul's Get Up ...</td>\n",
       "    </tr>\n",
       "    <tr>\n",
       "      <th>3</th>\n",
       "      <td>5</td>\n",
       "      <td>2004.0</td>\n",
       "      <td>the rise and fall of ecw</td>\n",
       "      <td>['the rise and fall of ecw']</td>\n",
       "      <td>{'id': 33209, 'title': 'The Rise &amp; Fall of ECW...</td>\n",
       "    </tr>\n",
       "    <tr>\n",
       "      <th>4</th>\n",
       "      <td>6</td>\n",
       "      <td>1997.0</td>\n",
       "      <td>sick</td>\n",
       "      <td>['sick']</td>\n",
       "      <td>{'id': 35638, 'title': 'Sick: The Life and Dea...</td>\n",
       "    </tr>\n",
       "  </tbody>\n",
       "</table>\n",
       "</div>"
      ],
      "text/plain": [
       "   movie_id  year_of_release                         title  \\\n",
       "0         1           2003.0               dinosaur planet   \n",
       "1         3           1997.0                     character   \n",
       "2         4           1994.0  paula abdul's get up & dance   \n",
       "3         5           2004.0      the rise and fall of ecw   \n",
       "4         6           1997.0                          sick   \n",
       "\n",
       "                        split_title  \\\n",
       "0               ['dinosaur planet']   \n",
       "1                     ['character']   \n",
       "2  [\"paula abdul's get up & dance\"]   \n",
       "3      ['the rise and fall of ecw']   \n",
       "4                          ['sick']   \n",
       "\n",
       "                                      moviedb_result  \n",
       "0  {'id': 11710, 'title': 'Dinosaur Planet', 'sea...  \n",
       "1  {'id': 17139, 'title': 'Character', 'search_ti...  \n",
       "2  {'id': 274766, 'title': \"Paula Abdul's Get Up ...  \n",
       "3  {'id': 33209, 'title': 'The Rise & Fall of ECW...  \n",
       "4  {'id': 35638, 'title': 'Sick: The Life and Dea...  "
      ]
     },
     "execution_count": 20,
     "metadata": {},
     "output_type": "execute_result"
    }
   ],
   "source": [
    "# Change the wordings from API function call\n",
    "titles['moviedb_result'] = titles['moviedb_result'].map(lambda x : x.replace('name', 'title'))\n",
    "titles.reset_index(drop=True,inplace=True)\n",
    "print(titles.shape)\n",
    "titles.head()"
   ]
  },
  {
   "cell_type": "code",
   "execution_count": 21,
   "metadata": {
    "colab": {
     "base_uri": "https://localhost:8080/",
     "height": 204
    },
    "id": "MU331oQYYCSU",
    "outputId": "bdde2aae-a951-4cfe-98f5-80ba76a157f6"
   },
   "outputs": [
    {
     "data": {
      "text/html": [
       "<div>\n",
       "<style scoped>\n",
       "    .dataframe tbody tr th:only-of-type {\n",
       "        vertical-align: middle;\n",
       "    }\n",
       "\n",
       "    .dataframe tbody tr th {\n",
       "        vertical-align: top;\n",
       "    }\n",
       "\n",
       "    .dataframe thead th {\n",
       "        text-align: right;\n",
       "    }\n",
       "</style>\n",
       "<table border=\"1\" class=\"dataframe\">\n",
       "  <thead>\n",
       "    <tr style=\"text-align: right;\">\n",
       "      <th></th>\n",
       "      <th>movie_id</th>\n",
       "      <th>year_of_release</th>\n",
       "      <th>title</th>\n",
       "      <th>split_title</th>\n",
       "      <th>moviedb_result</th>\n",
       "    </tr>\n",
       "  </thead>\n",
       "  <tbody>\n",
       "    <tr>\n",
       "      <th>4191</th>\n",
       "      <td>4388</td>\n",
       "      <td>NaN</td>\n",
       "      <td>ancient civilizations: rome and pompeii</td>\n",
       "      <td>['ancient civilizations', ' rome and pompeii']</td>\n",
       "      <td>{'id': 503681, 'title': 'Ancient Civilizations...</td>\n",
       "    </tr>\n",
       "    <tr>\n",
       "      <th>4577</th>\n",
       "      <td>4794</td>\n",
       "      <td>NaN</td>\n",
       "      <td>ancient civilizations: land of the pharaohs</td>\n",
       "      <td>['ancient civilizations', ' land of the pharao...</td>\n",
       "      <td>{'id': 503681, 'title': 'Ancient Civilizations...</td>\n",
       "    </tr>\n",
       "    <tr>\n",
       "      <th>6898</th>\n",
       "      <td>7241</td>\n",
       "      <td>NaN</td>\n",
       "      <td>ancient civilizations: athens and greece</td>\n",
       "      <td>['ancient civilizations', ' athens and greece']</td>\n",
       "      <td>{'id': 503681, 'title': 'Ancient Civilizations...</td>\n",
       "    </tr>\n",
       "    <tr>\n",
       "      <th>10300</th>\n",
       "      <td>10782</td>\n",
       "      <td>NaN</td>\n",
       "      <td>roti kapada aur makaan</td>\n",
       "      <td>['roti kapada aur makaan']</td>\n",
       "      <td>{'id': 125292, 'title': 'Roti Kapada Aur Makaa...</td>\n",
       "    </tr>\n",
       "    <tr>\n",
       "      <th>15932</th>\n",
       "      <td>16678</td>\n",
       "      <td>NaN</td>\n",
       "      <td>jimmy hollywood</td>\n",
       "      <td>['jimmy hollywood']</td>\n",
       "      <td>{'id': 31643, 'title': 'Jimmy Hollywood', 'sea...</td>\n",
       "    </tr>\n",
       "  </tbody>\n",
       "</table>\n",
       "</div>"
      ],
      "text/plain": [
       "       movie_id  year_of_release                                        title  \\\n",
       "4191       4388              NaN      ancient civilizations: rome and pompeii   \n",
       "4577       4794              NaN  ancient civilizations: land of the pharaohs   \n",
       "6898       7241              NaN     ancient civilizations: athens and greece   \n",
       "10300     10782              NaN                       roti kapada aur makaan   \n",
       "15932     16678              NaN                              jimmy hollywood   \n",
       "\n",
       "                                             split_title  \\\n",
       "4191      ['ancient civilizations', ' rome and pompeii']   \n",
       "4577   ['ancient civilizations', ' land of the pharao...   \n",
       "6898     ['ancient civilizations', ' athens and greece']   \n",
       "10300                         ['roti kapada aur makaan']   \n",
       "15932                                ['jimmy hollywood']   \n",
       "\n",
       "                                          moviedb_result  \n",
       "4191   {'id': 503681, 'title': 'Ancient Civilizations...  \n",
       "4577   {'id': 503681, 'title': 'Ancient Civilizations...  \n",
       "6898   {'id': 503681, 'title': 'Ancient Civilizations...  \n",
       "10300  {'id': 125292, 'title': 'Roti Kapada Aur Makaa...  \n",
       "15932  {'id': 31643, 'title': 'Jimmy Hollywood', 'sea...  "
      ]
     },
     "execution_count": 21,
     "metadata": {},
     "output_type": "execute_result"
    }
   ],
   "source": [
    "titles[titles['year_of_release'].isnull()]"
   ]
  },
  {
   "cell_type": "code",
   "execution_count": 22,
   "metadata": {
    "colab": {
     "base_uri": "https://localhost:8080/",
     "height": 51
    },
    "id": "vYS7_YB6YCSW",
    "outputId": "22f8e554-ea86-4b90-93b2-1e58c2bcc0cf"
   },
   "outputs": [
    {
     "name": "stdout",
     "output_type": "stream",
     "text": [
      "Shape of titles before dropping: (16967, 5)\n",
      "Shape of titles before dropping: (16962, 5)\n"
     ]
    }
   ],
   "source": [
    "# Filter for years of releases that are missing\n",
    "print(f'Shape of titles before dropping: {titles.shape}')\n",
    "titles = titles[~(titles['year_of_release'].isnull())]\n",
    "print(f'Shape of titles before dropping: {titles.shape}')\n",
    "\n",
    "# Reset titles index after dropping of rows\n",
    "titles.reset_index(drop=True,inplace=True)"
   ]
  },
  {
   "cell_type": "markdown",
   "metadata": {
    "id": "nf7O80xYAKku",
    "outputId": "942d73d4-7710-4c3c-92e4-759689add832"
   },
   "source": [
    "<span style='color:magenta'>Remarks:</span> I have removed 808 titles from the Netflix datasets. This amount to about 4.5% loss in original data. This is acceptable as the cleanliness of the dataset is important to model a good recommendation system."
   ]
  },
  {
   "cell_type": "markdown",
   "metadata": {
    "id": "pdJ8mDEZYCSY"
   },
   "source": [
    "##### Change column datatype using ast.literal.eval"
   ]
  },
  {
   "cell_type": "code",
   "execution_count": 23,
   "metadata": {
    "colab": {
     "base_uri": "https://localhost:8080/",
     "height": 51
    },
    "id": "bVxnHsNrYCSY",
    "outputId": "39245e2a-76b7-422d-b115-3e06c41d896e"
   },
   "outputs": [
    {
     "name": "stdout",
     "output_type": "stream",
     "text": [
      "<class 'str'>\n",
      "<class 'str'>\n"
     ]
    }
   ],
   "source": [
    "# Check the data type of the 2 columns\n",
    "print(type(titles.loc[0,'split_title']))\n",
    "print(type(titles.loc[0,'moviedb_result']))"
   ]
  },
  {
   "cell_type": "code",
   "execution_count": 24,
   "metadata": {
    "id": "WDsIMVwYYCSa"
   },
   "outputs": [],
   "source": [
    "# Convert, evaluate stirng representation into actual type\n",
    "titles['split_title']  = titles['split_title'].apply(ast.literal_eval)\n",
    "titles['moviedb_result']  = titles['moviedb_result'].apply(ast.literal_eval)"
   ]
  },
  {
   "cell_type": "code",
   "execution_count": 25,
   "metadata": {
    "colab": {
     "base_uri": "https://localhost:8080/",
     "height": 51
    },
    "id": "KVPvzBsrYCSb",
    "outputId": "5a2f4250-42da-4003-a3b6-5965b394deb9"
   },
   "outputs": [
    {
     "name": "stdout",
     "output_type": "stream",
     "text": [
      "<class 'list'>\n",
      "<class 'dict'>\n"
     ]
    }
   ],
   "source": [
    "print(type(titles.loc[0,'split_title']))\n",
    "print(type(titles.loc[0,'moviedb_result']))"
   ]
  },
  {
   "cell_type": "code",
   "execution_count": 26,
   "metadata": {
    "colab": {
     "base_uri": "https://localhost:8080/",
     "height": 85
    },
    "id": "xC9ZeAHbYCSd",
    "outputId": "c4fddbd8-0605-40c0-931c-c867f596586e"
   },
   "outputs": [
    {
     "data": {
      "text/plain": [
       "{'id': 11710,\n",
       " 'title': 'Dinosaur Planet',\n",
       " 'search_title': 'dinosaur planet',\n",
       " 'type': 'tv'}"
      ]
     },
     "execution_count": 26,
     "metadata": {},
     "output_type": "execute_result"
    }
   ],
   "source": [
    "# Sample of an element\n",
    "titles.loc[0,'moviedb_result']"
   ]
  },
  {
   "cell_type": "code",
   "execution_count": 27,
   "metadata": {
    "colab": {
     "base_uri": "https://localhost:8080/",
     "height": 204
    },
    "id": "kMfOwAiZYCSf",
    "outputId": "d4fa354f-c351-4b23-d637-44eb06a753cc"
   },
   "outputs": [
    {
     "data": {
      "text/html": [
       "<div>\n",
       "<style scoped>\n",
       "    .dataframe tbody tr th:only-of-type {\n",
       "        vertical-align: middle;\n",
       "    }\n",
       "\n",
       "    .dataframe tbody tr th {\n",
       "        vertical-align: top;\n",
       "    }\n",
       "\n",
       "    .dataframe thead th {\n",
       "        text-align: right;\n",
       "    }\n",
       "</style>\n",
       "<table border=\"1\" class=\"dataframe\">\n",
       "  <thead>\n",
       "    <tr style=\"text-align: right;\">\n",
       "      <th></th>\n",
       "      <th>movie_id</th>\n",
       "      <th>year_of_release</th>\n",
       "      <th>title</th>\n",
       "      <th>split_title</th>\n",
       "      <th>moviedb_result</th>\n",
       "      <th>moviedb_id</th>\n",
       "      <th>moviedb_search_title</th>\n",
       "      <th>result_title</th>\n",
       "      <th>type</th>\n",
       "    </tr>\n",
       "  </thead>\n",
       "  <tbody>\n",
       "    <tr>\n",
       "      <th>0</th>\n",
       "      <td>1</td>\n",
       "      <td>2003.0</td>\n",
       "      <td>dinosaur planet</td>\n",
       "      <td>[dinosaur planet]</td>\n",
       "      <td>{'id': 11710, 'title': 'Dinosaur Planet', 'sea...</td>\n",
       "      <td>11710</td>\n",
       "      <td>Dinosaur Planet</td>\n",
       "      <td>dinosaur planet</td>\n",
       "      <td>tv</td>\n",
       "    </tr>\n",
       "    <tr>\n",
       "      <th>1</th>\n",
       "      <td>3</td>\n",
       "      <td>1997.0</td>\n",
       "      <td>character</td>\n",
       "      <td>[character]</td>\n",
       "      <td>{'id': 17139, 'title': 'Character', 'search_ti...</td>\n",
       "      <td>17139</td>\n",
       "      <td>Character</td>\n",
       "      <td>character</td>\n",
       "      <td>movie</td>\n",
       "    </tr>\n",
       "    <tr>\n",
       "      <th>2</th>\n",
       "      <td>4</td>\n",
       "      <td>1994.0</td>\n",
       "      <td>paula abdul's get up &amp; dance</td>\n",
       "      <td>[paula abdul's get up &amp; dance]</td>\n",
       "      <td>{'id': 274766, 'title': 'Paula Abdul's Get Up ...</td>\n",
       "      <td>274766</td>\n",
       "      <td>Paula Abdul's Get Up &amp; Dance</td>\n",
       "      <td>paula abdul's get up &amp; dance</td>\n",
       "      <td>movie</td>\n",
       "    </tr>\n",
       "    <tr>\n",
       "      <th>3</th>\n",
       "      <td>5</td>\n",
       "      <td>2004.0</td>\n",
       "      <td>the rise and fall of ecw</td>\n",
       "      <td>[the rise and fall of ecw]</td>\n",
       "      <td>{'id': 33209, 'title': 'The Rise &amp; Fall of ECW...</td>\n",
       "      <td>33209</td>\n",
       "      <td>The Rise &amp; Fall of ECW</td>\n",
       "      <td>the rise and fall of ecw</td>\n",
       "      <td>movie</td>\n",
       "    </tr>\n",
       "    <tr>\n",
       "      <th>4</th>\n",
       "      <td>6</td>\n",
       "      <td>1997.0</td>\n",
       "      <td>sick</td>\n",
       "      <td>[sick]</td>\n",
       "      <td>{'id': 35638, 'title': 'Sick: The Life and Dea...</td>\n",
       "      <td>35638</td>\n",
       "      <td>Sick: The Life and Death of Bob Flanagan, Supe...</td>\n",
       "      <td>sick</td>\n",
       "      <td>movie</td>\n",
       "    </tr>\n",
       "  </tbody>\n",
       "</table>\n",
       "</div>"
      ],
      "text/plain": [
       "   movie_id  year_of_release                         title  \\\n",
       "0         1           2003.0               dinosaur planet   \n",
       "1         3           1997.0                     character   \n",
       "2         4           1994.0  paula abdul's get up & dance   \n",
       "3         5           2004.0      the rise and fall of ecw   \n",
       "4         6           1997.0                          sick   \n",
       "\n",
       "                      split_title  \\\n",
       "0               [dinosaur planet]   \n",
       "1                     [character]   \n",
       "2  [paula abdul's get up & dance]   \n",
       "3      [the rise and fall of ecw]   \n",
       "4                          [sick]   \n",
       "\n",
       "                                      moviedb_result  moviedb_id  \\\n",
       "0  {'id': 11710, 'title': 'Dinosaur Planet', 'sea...       11710   \n",
       "1  {'id': 17139, 'title': 'Character', 'search_ti...       17139   \n",
       "2  {'id': 274766, 'title': 'Paula Abdul's Get Up ...      274766   \n",
       "3  {'id': 33209, 'title': 'The Rise & Fall of ECW...       33209   \n",
       "4  {'id': 35638, 'title': 'Sick: The Life and Dea...       35638   \n",
       "\n",
       "                                moviedb_search_title  \\\n",
       "0                                    Dinosaur Planet   \n",
       "1                                          Character   \n",
       "2                       Paula Abdul's Get Up & Dance   \n",
       "3                             The Rise & Fall of ECW   \n",
       "4  Sick: The Life and Death of Bob Flanagan, Supe...   \n",
       "\n",
       "                   result_title   type  \n",
       "0               dinosaur planet     tv  \n",
       "1                     character  movie  \n",
       "2  paula abdul's get up & dance  movie  \n",
       "3      the rise and fall of ecw  movie  \n",
       "4                          sick  movie  "
      ]
     },
     "execution_count": 27,
     "metadata": {},
     "output_type": "execute_result"
    }
   ],
   "source": [
    "# Unpack dictionary into dataframe columns\n",
    "titles[['moviedb_id','moviedb_search_title', 'result_title','type']] =  pd.DataFrame(titles['moviedb_result'].tolist(), index=titles.index)\n",
    "titles.head()"
   ]
  },
  {
   "cell_type": "markdown",
   "metadata": {
    "id": "2nY-r2r0YCSh"
   },
   "source": [
    "##### Filter Netflix title = MovieDB titles"
   ]
  },
  {
   "cell_type": "code",
   "execution_count": 28,
   "metadata": {
    "colab": {
     "base_uri": "https://localhost:8080/",
     "height": 51
    },
    "id": "Yii6GdRxYCSi",
    "outputId": "17303d37-807c-457e-dc7b-5fe8ef00ff2d"
   },
   "outputs": [
    {
     "name": "stdout",
     "output_type": "stream",
     "text": [
      "Wall time: 300 ms\n"
     ]
    },
    {
     "data": {
      "text/html": [
       "<div>\n",
       "<style scoped>\n",
       "    .dataframe tbody tr th:only-of-type {\n",
       "        vertical-align: middle;\n",
       "    }\n",
       "\n",
       "    .dataframe tbody tr th {\n",
       "        vertical-align: top;\n",
       "    }\n",
       "\n",
       "    .dataframe thead th {\n",
       "        text-align: right;\n",
       "    }\n",
       "</style>\n",
       "<table border=\"1\" class=\"dataframe\">\n",
       "  <thead>\n",
       "    <tr style=\"text-align: right;\">\n",
       "      <th></th>\n",
       "      <th>movie_id</th>\n",
       "      <th>year_of_release</th>\n",
       "      <th>title</th>\n",
       "      <th>split_title</th>\n",
       "      <th>moviedb_result</th>\n",
       "      <th>moviedb_id</th>\n",
       "      <th>moviedb_search_title</th>\n",
       "      <th>result_title</th>\n",
       "      <th>type</th>\n",
       "      <th>match</th>\n",
       "    </tr>\n",
       "  </thead>\n",
       "  <tbody>\n",
       "    <tr>\n",
       "      <th>0</th>\n",
       "      <td>1</td>\n",
       "      <td>2003.0</td>\n",
       "      <td>dinosaur planet</td>\n",
       "      <td>[dinosaur planet]</td>\n",
       "      <td>{'id': 11710, 'title': 'Dinosaur Planet', 'sea...</td>\n",
       "      <td>11710</td>\n",
       "      <td>Dinosaur Planet</td>\n",
       "      <td>dinosaur planet</td>\n",
       "      <td>tv</td>\n",
       "      <td>1</td>\n",
       "    </tr>\n",
       "    <tr>\n",
       "      <th>1</th>\n",
       "      <td>3</td>\n",
       "      <td>1997.0</td>\n",
       "      <td>character</td>\n",
       "      <td>[character]</td>\n",
       "      <td>{'id': 17139, 'title': 'Character', 'search_ti...</td>\n",
       "      <td>17139</td>\n",
       "      <td>Character</td>\n",
       "      <td>character</td>\n",
       "      <td>movie</td>\n",
       "      <td>1</td>\n",
       "    </tr>\n",
       "    <tr>\n",
       "      <th>2</th>\n",
       "      <td>4</td>\n",
       "      <td>1994.0</td>\n",
       "      <td>paula abdul's get up &amp; dance</td>\n",
       "      <td>[paula abdul's get up &amp; dance]</td>\n",
       "      <td>{'id': 274766, 'title': 'Paula Abdul's Get Up ...</td>\n",
       "      <td>274766</td>\n",
       "      <td>Paula Abdul's Get Up &amp; Dance</td>\n",
       "      <td>paula abdul's get up &amp; dance</td>\n",
       "      <td>movie</td>\n",
       "      <td>1</td>\n",
       "    </tr>\n",
       "    <tr>\n",
       "      <th>3</th>\n",
       "      <td>5</td>\n",
       "      <td>2004.0</td>\n",
       "      <td>the rise and fall of ecw</td>\n",
       "      <td>[the rise and fall of ecw]</td>\n",
       "      <td>{'id': 33209, 'title': 'The Rise &amp; Fall of ECW...</td>\n",
       "      <td>33209</td>\n",
       "      <td>The Rise &amp; Fall of ECW</td>\n",
       "      <td>the rise and fall of ecw</td>\n",
       "      <td>movie</td>\n",
       "      <td>0</td>\n",
       "    </tr>\n",
       "    <tr>\n",
       "      <th>4</th>\n",
       "      <td>6</td>\n",
       "      <td>1997.0</td>\n",
       "      <td>sick</td>\n",
       "      <td>[sick]</td>\n",
       "      <td>{'id': 35638, 'title': 'Sick: The Life and Dea...</td>\n",
       "      <td>35638</td>\n",
       "      <td>Sick: The Life and Death of Bob Flanagan, Supe...</td>\n",
       "      <td>sick</td>\n",
       "      <td>movie</td>\n",
       "      <td>1</td>\n",
       "    </tr>\n",
       "  </tbody>\n",
       "</table>\n",
       "</div>"
      ],
      "text/plain": [
       "   movie_id  year_of_release                         title  \\\n",
       "0         1           2003.0               dinosaur planet   \n",
       "1         3           1997.0                     character   \n",
       "2         4           1994.0  paula abdul's get up & dance   \n",
       "3         5           2004.0      the rise and fall of ecw   \n",
       "4         6           1997.0                          sick   \n",
       "\n",
       "                      split_title  \\\n",
       "0               [dinosaur planet]   \n",
       "1                     [character]   \n",
       "2  [paula abdul's get up & dance]   \n",
       "3      [the rise and fall of ecw]   \n",
       "4                          [sick]   \n",
       "\n",
       "                                      moviedb_result  moviedb_id  \\\n",
       "0  {'id': 11710, 'title': 'Dinosaur Planet', 'sea...       11710   \n",
       "1  {'id': 17139, 'title': 'Character', 'search_ti...       17139   \n",
       "2  {'id': 274766, 'title': 'Paula Abdul's Get Up ...      274766   \n",
       "3  {'id': 33209, 'title': 'The Rise & Fall of ECW...       33209   \n",
       "4  {'id': 35638, 'title': 'Sick: The Life and Dea...       35638   \n",
       "\n",
       "                                moviedb_search_title  \\\n",
       "0                                    Dinosaur Planet   \n",
       "1                                          Character   \n",
       "2                       Paula Abdul's Get Up & Dance   \n",
       "3                             The Rise & Fall of ECW   \n",
       "4  Sick: The Life and Death of Bob Flanagan, Supe...   \n",
       "\n",
       "                   result_title   type  match  \n",
       "0               dinosaur planet     tv      1  \n",
       "1                     character  movie      1  \n",
       "2  paula abdul's get up & dance  movie      1  \n",
       "3      the rise and fall of ecw  movie      0  \n",
       "4                          sick  movie      1  "
      ]
     },
     "execution_count": 28,
     "metadata": {},
     "output_type": "execute_result"
    }
   ],
   "source": [
    "%%time\n",
    "# 1 if exact match for each item of list in split_title == moviedb_search_title\n",
    "titles['match'] = [[1 if element in titles.loc[i, 'moviedb_search_title'].lower() else 0 for element in titles.loc[i,'split_title']][0] for i in range(len(titles))]\n",
    "titles.head()"
   ]
  },
  {
   "cell_type": "markdown",
   "metadata": {
    "id": "Z6DL4Mn9YCSk"
   },
   "source": [
    "<span style='color:magenta'>Remarks:</span>\n",
    "To find match as there are instances where the moviedb is returning a wrong moive. This happens as the API call do not have an exact match function and only the top result is returned"
   ]
  },
  {
   "cell_type": "code",
   "execution_count": 29,
   "metadata": {
    "colab": {
     "base_uri": "https://localhost:8080/",
     "height": 34
    },
    "id": "IR5c3bTeYCSl",
    "outputId": "3cce7b5f-1193-45b1-d3e4-f93307310042"
   },
   "outputs": [
    {
     "data": {
      "text/plain": [
       "1590"
      ]
     },
     "execution_count": 29,
     "metadata": {},
     "output_type": "execute_result"
    }
   ],
   "source": [
    "# Filter for those that are wrongly match\n",
    "titles[titles['match']==0].shape[0]"
   ]
  },
  {
   "cell_type": "code",
   "execution_count": 30,
   "metadata": {
    "colab": {
     "base_uri": "https://localhost:8080/",
     "height": 221
    },
    "id": "uMxyYFqGYCSm",
    "outputId": "d60efdc9-e272-4c72-9ae7-3fcc496f7c08"
   },
   "outputs": [
    {
     "name": "stdout",
     "output_type": "stream",
     "text": [
      "(15372, 10)\n"
     ]
    },
    {
     "data": {
      "text/html": [
       "<div>\n",
       "<style scoped>\n",
       "    .dataframe tbody tr th:only-of-type {\n",
       "        vertical-align: middle;\n",
       "    }\n",
       "\n",
       "    .dataframe tbody tr th {\n",
       "        vertical-align: top;\n",
       "    }\n",
       "\n",
       "    .dataframe thead th {\n",
       "        text-align: right;\n",
       "    }\n",
       "</style>\n",
       "<table border=\"1\" class=\"dataframe\">\n",
       "  <thead>\n",
       "    <tr style=\"text-align: right;\">\n",
       "      <th></th>\n",
       "      <th>movie_id</th>\n",
       "      <th>year_of_release</th>\n",
       "      <th>title</th>\n",
       "      <th>split_title</th>\n",
       "      <th>moviedb_result</th>\n",
       "      <th>moviedb_id</th>\n",
       "      <th>moviedb_search_title</th>\n",
       "      <th>result_title</th>\n",
       "      <th>type</th>\n",
       "      <th>match</th>\n",
       "    </tr>\n",
       "  </thead>\n",
       "  <tbody>\n",
       "    <tr>\n",
       "      <th>0</th>\n",
       "      <td>1</td>\n",
       "      <td>2003.0</td>\n",
       "      <td>dinosaur planet</td>\n",
       "      <td>[dinosaur planet]</td>\n",
       "      <td>{'id': 11710, 'title': 'Dinosaur Planet', 'sea...</td>\n",
       "      <td>11710</td>\n",
       "      <td>Dinosaur Planet</td>\n",
       "      <td>dinosaur planet</td>\n",
       "      <td>tv</td>\n",
       "      <td>1</td>\n",
       "    </tr>\n",
       "    <tr>\n",
       "      <th>1</th>\n",
       "      <td>3</td>\n",
       "      <td>1997.0</td>\n",
       "      <td>character</td>\n",
       "      <td>[character]</td>\n",
       "      <td>{'id': 17139, 'title': 'Character', 'search_ti...</td>\n",
       "      <td>17139</td>\n",
       "      <td>Character</td>\n",
       "      <td>character</td>\n",
       "      <td>movie</td>\n",
       "      <td>1</td>\n",
       "    </tr>\n",
       "    <tr>\n",
       "      <th>2</th>\n",
       "      <td>4</td>\n",
       "      <td>1994.0</td>\n",
       "      <td>paula abdul's get up &amp; dance</td>\n",
       "      <td>[paula abdul's get up &amp; dance]</td>\n",
       "      <td>{'id': 274766, 'title': 'Paula Abdul's Get Up ...</td>\n",
       "      <td>274766</td>\n",
       "      <td>Paula Abdul's Get Up &amp; Dance</td>\n",
       "      <td>paula abdul's get up &amp; dance</td>\n",
       "      <td>movie</td>\n",
       "      <td>1</td>\n",
       "    </tr>\n",
       "    <tr>\n",
       "      <th>3</th>\n",
       "      <td>6</td>\n",
       "      <td>1997.0</td>\n",
       "      <td>sick</td>\n",
       "      <td>[sick]</td>\n",
       "      <td>{'id': 35638, 'title': 'Sick: The Life and Dea...</td>\n",
       "      <td>35638</td>\n",
       "      <td>Sick: The Life and Death of Bob Flanagan, Supe...</td>\n",
       "      <td>sick</td>\n",
       "      <td>movie</td>\n",
       "      <td>1</td>\n",
       "    </tr>\n",
       "    <tr>\n",
       "      <th>4</th>\n",
       "      <td>7</td>\n",
       "      <td>1992.0</td>\n",
       "      <td>8 man</td>\n",
       "      <td>[8 man]</td>\n",
       "      <td>{'id': 196685, 'title': '8 Man - For All Lonel...</td>\n",
       "      <td>196685</td>\n",
       "      <td>8 Man - For All Lonely Nights</td>\n",
       "      <td>8 man</td>\n",
       "      <td>movie</td>\n",
       "      <td>1</td>\n",
       "    </tr>\n",
       "  </tbody>\n",
       "</table>\n",
       "</div>"
      ],
      "text/plain": [
       "   movie_id  year_of_release                         title  \\\n",
       "0         1           2003.0               dinosaur planet   \n",
       "1         3           1997.0                     character   \n",
       "2         4           1994.0  paula abdul's get up & dance   \n",
       "3         6           1997.0                          sick   \n",
       "4         7           1992.0                         8 man   \n",
       "\n",
       "                      split_title  \\\n",
       "0               [dinosaur planet]   \n",
       "1                     [character]   \n",
       "2  [paula abdul's get up & dance]   \n",
       "3                          [sick]   \n",
       "4                         [8 man]   \n",
       "\n",
       "                                      moviedb_result  moviedb_id  \\\n",
       "0  {'id': 11710, 'title': 'Dinosaur Planet', 'sea...       11710   \n",
       "1  {'id': 17139, 'title': 'Character', 'search_ti...       17139   \n",
       "2  {'id': 274766, 'title': 'Paula Abdul's Get Up ...      274766   \n",
       "3  {'id': 35638, 'title': 'Sick: The Life and Dea...       35638   \n",
       "4  {'id': 196685, 'title': '8 Man - For All Lonel...      196685   \n",
       "\n",
       "                                moviedb_search_title  \\\n",
       "0                                    Dinosaur Planet   \n",
       "1                                          Character   \n",
       "2                       Paula Abdul's Get Up & Dance   \n",
       "3  Sick: The Life and Death of Bob Flanagan, Supe...   \n",
       "4                      8 Man - For All Lonely Nights   \n",
       "\n",
       "                   result_title   type  match  \n",
       "0               dinosaur planet     tv      1  \n",
       "1                     character  movie      1  \n",
       "2  paula abdul's get up & dance  movie      1  \n",
       "3                          sick  movie      1  \n",
       "4                         8 man  movie      1  "
      ]
     },
     "execution_count": 30,
     "metadata": {},
     "output_type": "execute_result"
    }
   ],
   "source": [
    "# Filter for those that are match\n",
    "titles = titles[titles['match']!=0]\n",
    "titles.reset_index(drop=True, inplace=True)\n",
    "print(titles.shape)\n",
    "titles.head()"
   ]
  },
  {
   "cell_type": "markdown",
   "metadata": {
    "id": "wYibUw_tYCSo"
   },
   "source": [
    "##### Check if there are duplicated movies"
   ]
  },
  {
   "cell_type": "code",
   "execution_count": 31,
   "metadata": {
    "colab": {
     "base_uri": "https://localhost:8080/",
     "height": 419
    },
    "id": "sYSV2SP6YCSo",
    "outputId": "8f343273-01ad-4777-a3ed-7486f580467d"
   },
   "outputs": [
    {
     "data": {
      "text/html": [
       "<div>\n",
       "<style scoped>\n",
       "    .dataframe tbody tr th:only-of-type {\n",
       "        vertical-align: middle;\n",
       "    }\n",
       "\n",
       "    .dataframe tbody tr th {\n",
       "        vertical-align: top;\n",
       "    }\n",
       "\n",
       "    .dataframe thead th {\n",
       "        text-align: right;\n",
       "    }\n",
       "</style>\n",
       "<table border=\"1\" class=\"dataframe\">\n",
       "  <thead>\n",
       "    <tr style=\"text-align: right;\">\n",
       "      <th></th>\n",
       "      <th>movie_id</th>\n",
       "      <th>year_of_release</th>\n",
       "      <th>title</th>\n",
       "      <th>split_title</th>\n",
       "      <th>moviedb_result</th>\n",
       "      <th>moviedb_id</th>\n",
       "      <th>moviedb_search_title</th>\n",
       "      <th>result_title</th>\n",
       "      <th>type</th>\n",
       "      <th>match</th>\n",
       "    </tr>\n",
       "  </thead>\n",
       "  <tbody>\n",
       "    <tr>\n",
       "      <th>267</th>\n",
       "      <td>305</td>\n",
       "      <td>1996.0</td>\n",
       "      <td>jack</td>\n",
       "      <td>[jack]</td>\n",
       "      <td>{'id': 7095, 'title': 'Jack', 'search_title': ...</td>\n",
       "      <td>7095</td>\n",
       "      <td>Jack</td>\n",
       "      <td>jack</td>\n",
       "      <td>movie</td>\n",
       "      <td>1</td>\n",
       "    </tr>\n",
       "    <tr>\n",
       "      <th>327</th>\n",
       "      <td>379</td>\n",
       "      <td>1996.0</td>\n",
       "      <td>crash dive</td>\n",
       "      <td>[crash dive]</td>\n",
       "      <td>{'id': 160019, 'title': 'Crash Dive', 'search_...</td>\n",
       "      <td>160019</td>\n",
       "      <td>Crash Dive</td>\n",
       "      <td>crash dive</td>\n",
       "      <td>movie</td>\n",
       "      <td>1</td>\n",
       "    </tr>\n",
       "    <tr>\n",
       "      <th>888</th>\n",
       "      <td>1015</td>\n",
       "      <td>1996.0</td>\n",
       "      <td>dr. quinn</td>\n",
       "      <td>[dr. quinn]</td>\n",
       "      <td>{'id': 25101, 'title': 'Dr. Quinn Medicine Wom...</td>\n",
       "      <td>25101</td>\n",
       "      <td>Dr. Quinn Medicine Woman: The Movie</td>\n",
       "      <td>dr. quinn</td>\n",
       "      <td>movie</td>\n",
       "      <td>1</td>\n",
       "    </tr>\n",
       "    <tr>\n",
       "      <th>1107</th>\n",
       "      <td>1260</td>\n",
       "      <td>1999.0</td>\n",
       "      <td>journey to the center of the earth</td>\n",
       "      <td>[journey to the center of the earth]</td>\n",
       "      <td>{'id': 732427, 'title': 'Journey to the Center...</td>\n",
       "      <td>732427</td>\n",
       "      <td>Journey to the Center of the Earth</td>\n",
       "      <td>journey to the center of the earth</td>\n",
       "      <td>movie</td>\n",
       "      <td>1</td>\n",
       "    </tr>\n",
       "    <tr>\n",
       "      <th>1322</th>\n",
       "      <td>1505</td>\n",
       "      <td>1964.0</td>\n",
       "      <td>hamlet</td>\n",
       "      <td>[hamlet]</td>\n",
       "      <td>{'id': 261439, 'title': 'Hamlet at Elsinore', ...</td>\n",
       "      <td>261439</td>\n",
       "      <td>Hamlet at Elsinore</td>\n",
       "      <td>hamlet</td>\n",
       "      <td>movie</td>\n",
       "      <td>1</td>\n",
       "    </tr>\n",
       "    <tr>\n",
       "      <th>...</th>\n",
       "      <td>...</td>\n",
       "      <td>...</td>\n",
       "      <td>...</td>\n",
       "      <td>...</td>\n",
       "      <td>...</td>\n",
       "      <td>...</td>\n",
       "      <td>...</td>\n",
       "      <td>...</td>\n",
       "      <td>...</td>\n",
       "      <td>...</td>\n",
       "    </tr>\n",
       "    <tr>\n",
       "      <th>15274</th>\n",
       "      <td>17658</td>\n",
       "      <td>1994.0</td>\n",
       "      <td>the chase</td>\n",
       "      <td>[the chase]</td>\n",
       "      <td>{'id': 10694, 'title': 'The Chase', 'search_ti...</td>\n",
       "      <td>10694</td>\n",
       "      <td>The Chase</td>\n",
       "      <td>the chase</td>\n",
       "      <td>movie</td>\n",
       "      <td>1</td>\n",
       "    </tr>\n",
       "    <tr>\n",
       "      <th>15297</th>\n",
       "      <td>17685</td>\n",
       "      <td>1988.0</td>\n",
       "      <td>alice</td>\n",
       "      <td>[alice]</td>\n",
       "      <td>{'id': 114364, 'title': 'Alice in Wonderland',...</td>\n",
       "      <td>114364</td>\n",
       "      <td>Alice in Wonderland</td>\n",
       "      <td>alice</td>\n",
       "      <td>movie</td>\n",
       "      <td>1</td>\n",
       "    </tr>\n",
       "    <tr>\n",
       "      <th>15315</th>\n",
       "      <td>17704</td>\n",
       "      <td>1999.0</td>\n",
       "      <td>taboo</td>\n",
       "      <td>[taboo]</td>\n",
       "      <td>{'id': 20617, 'title': 'Taboo', 'search_title'...</td>\n",
       "      <td>20617</td>\n",
       "      <td>Taboo</td>\n",
       "      <td>taboo</td>\n",
       "      <td>movie</td>\n",
       "      <td>1</td>\n",
       "    </tr>\n",
       "    <tr>\n",
       "      <th>15330</th>\n",
       "      <td>17721</td>\n",
       "      <td>1998.0</td>\n",
       "      <td>the love letter</td>\n",
       "      <td>[the love letter]</td>\n",
       "      <td>{'id': 57943, 'title': 'The Love Letter', 'sea...</td>\n",
       "      <td>57943</td>\n",
       "      <td>The Love Letter</td>\n",
       "      <td>the love letter</td>\n",
       "      <td>movie</td>\n",
       "      <td>1</td>\n",
       "    </tr>\n",
       "    <tr>\n",
       "      <th>15337</th>\n",
       "      <td>17730</td>\n",
       "      <td>1958.0</td>\n",
       "      <td>the blob</td>\n",
       "      <td>[the blob]</td>\n",
       "      <td>{'id': 8851, 'title': 'The Blob', 'search_titl...</td>\n",
       "      <td>8851</td>\n",
       "      <td>The Blob</td>\n",
       "      <td>the blob</td>\n",
       "      <td>movie</td>\n",
       "      <td>1</td>\n",
       "    </tr>\n",
       "  </tbody>\n",
       "</table>\n",
       "<p>449 rows × 10 columns</p>\n",
       "</div>"
      ],
      "text/plain": [
       "       movie_id  year_of_release                               title  \\\n",
       "267         305           1996.0                                jack   \n",
       "327         379           1996.0                          crash dive   \n",
       "888        1015           1996.0                           dr. quinn   \n",
       "1107       1260           1999.0  journey to the center of the earth   \n",
       "1322       1505           1964.0                              hamlet   \n",
       "...         ...              ...                                 ...   \n",
       "15274     17658           1994.0                           the chase   \n",
       "15297     17685           1988.0                               alice   \n",
       "15315     17704           1999.0                               taboo   \n",
       "15330     17721           1998.0                     the love letter   \n",
       "15337     17730           1958.0                            the blob   \n",
       "\n",
       "                                split_title  \\\n",
       "267                                  [jack]   \n",
       "327                            [crash dive]   \n",
       "888                             [dr. quinn]   \n",
       "1107   [journey to the center of the earth]   \n",
       "1322                               [hamlet]   \n",
       "...                                     ...   \n",
       "15274                           [the chase]   \n",
       "15297                               [alice]   \n",
       "15315                               [taboo]   \n",
       "15330                     [the love letter]   \n",
       "15337                            [the blob]   \n",
       "\n",
       "                                          moviedb_result  moviedb_id  \\\n",
       "267    {'id': 7095, 'title': 'Jack', 'search_title': ...        7095   \n",
       "327    {'id': 160019, 'title': 'Crash Dive', 'search_...      160019   \n",
       "888    {'id': 25101, 'title': 'Dr. Quinn Medicine Wom...       25101   \n",
       "1107   {'id': 732427, 'title': 'Journey to the Center...      732427   \n",
       "1322   {'id': 261439, 'title': 'Hamlet at Elsinore', ...      261439   \n",
       "...                                                  ...         ...   \n",
       "15274  {'id': 10694, 'title': 'The Chase', 'search_ti...       10694   \n",
       "15297  {'id': 114364, 'title': 'Alice in Wonderland',...      114364   \n",
       "15315  {'id': 20617, 'title': 'Taboo', 'search_title'...       20617   \n",
       "15330  {'id': 57943, 'title': 'The Love Letter', 'sea...       57943   \n",
       "15337  {'id': 8851, 'title': 'The Blob', 'search_titl...        8851   \n",
       "\n",
       "                      moviedb_search_title  \\\n",
       "267                                   Jack   \n",
       "327                             Crash Dive   \n",
       "888    Dr. Quinn Medicine Woman: The Movie   \n",
       "1107    Journey to the Center of the Earth   \n",
       "1322                    Hamlet at Elsinore   \n",
       "...                                    ...   \n",
       "15274                            The Chase   \n",
       "15297                  Alice in Wonderland   \n",
       "15315                                Taboo   \n",
       "15330                      The Love Letter   \n",
       "15337                             The Blob   \n",
       "\n",
       "                             result_title   type  match  \n",
       "267                                  jack  movie      1  \n",
       "327                            crash dive  movie      1  \n",
       "888                             dr. quinn  movie      1  \n",
       "1107   journey to the center of the earth  movie      1  \n",
       "1322                               hamlet  movie      1  \n",
       "...                                   ...    ...    ...  \n",
       "15274                           the chase  movie      1  \n",
       "15297                               alice  movie      1  \n",
       "15315                               taboo  movie      1  \n",
       "15330                     the love letter  movie      1  \n",
       "15337                            the blob  movie      1  \n",
       "\n",
       "[449 rows x 10 columns]"
      ]
     },
     "execution_count": 31,
     "metadata": {},
     "output_type": "execute_result"
    }
   ],
   "source": [
    "titles[titles.duplicated(subset='title', keep='first')]"
   ]
  },
  {
   "cell_type": "code",
   "execution_count": 32,
   "metadata": {
    "colab": {
     "base_uri": "https://localhost:8080/",
     "height": 111
    },
    "id": "FavYCfkVYCSq",
    "outputId": "09ab2aa2-cb06-4aed-99df-89b2288775fa"
   },
   "outputs": [
    {
     "data": {
      "text/html": [
       "<div>\n",
       "<style scoped>\n",
       "    .dataframe tbody tr th:only-of-type {\n",
       "        vertical-align: middle;\n",
       "    }\n",
       "\n",
       "    .dataframe tbody tr th {\n",
       "        vertical-align: top;\n",
       "    }\n",
       "\n",
       "    .dataframe thead th {\n",
       "        text-align: right;\n",
       "    }\n",
       "</style>\n",
       "<table border=\"1\" class=\"dataframe\">\n",
       "  <thead>\n",
       "    <tr style=\"text-align: right;\">\n",
       "      <th></th>\n",
       "      <th>movie_id</th>\n",
       "      <th>year_of_release</th>\n",
       "      <th>title</th>\n",
       "      <th>split_title</th>\n",
       "      <th>moviedb_result</th>\n",
       "      <th>moviedb_id</th>\n",
       "      <th>moviedb_search_title</th>\n",
       "      <th>result_title</th>\n",
       "      <th>type</th>\n",
       "      <th>match</th>\n",
       "    </tr>\n",
       "  </thead>\n",
       "  <tbody>\n",
       "    <tr>\n",
       "      <th>415</th>\n",
       "      <td>486</td>\n",
       "      <td>1959.0</td>\n",
       "      <td>journey to the center of the earth</td>\n",
       "      <td>[journey to the center of the earth]</td>\n",
       "      <td>{'id': 11571, 'title': 'Journey to the Center ...</td>\n",
       "      <td>11571</td>\n",
       "      <td>Journey to the Center of the Earth</td>\n",
       "      <td>journey to the center of the earth</td>\n",
       "      <td>movie</td>\n",
       "      <td>1</td>\n",
       "    </tr>\n",
       "    <tr>\n",
       "      <th>1107</th>\n",
       "      <td>1260</td>\n",
       "      <td>1999.0</td>\n",
       "      <td>journey to the center of the earth</td>\n",
       "      <td>[journey to the center of the earth]</td>\n",
       "      <td>{'id': 732427, 'title': 'Journey to the Center...</td>\n",
       "      <td>732427</td>\n",
       "      <td>Journey to the Center of the Earth</td>\n",
       "      <td>journey to the center of the earth</td>\n",
       "      <td>movie</td>\n",
       "      <td>1</td>\n",
       "    </tr>\n",
       "  </tbody>\n",
       "</table>\n",
       "</div>"
      ],
      "text/plain": [
       "      movie_id  year_of_release                               title  \\\n",
       "415        486           1959.0  journey to the center of the earth   \n",
       "1107      1260           1999.0  journey to the center of the earth   \n",
       "\n",
       "                               split_title  \\\n",
       "415   [journey to the center of the earth]   \n",
       "1107  [journey to the center of the earth]   \n",
       "\n",
       "                                         moviedb_result  moviedb_id  \\\n",
       "415   {'id': 11571, 'title': 'Journey to the Center ...       11571   \n",
       "1107  {'id': 732427, 'title': 'Journey to the Center...      732427   \n",
       "\n",
       "                    moviedb_search_title                        result_title  \\\n",
       "415   Journey to the Center of the Earth  journey to the center of the earth   \n",
       "1107  Journey to the Center of the Earth  journey to the center of the earth   \n",
       "\n",
       "       type  match  \n",
       "415   movie      1  \n",
       "1107  movie      1  "
      ]
     },
     "execution_count": 32,
     "metadata": {},
     "output_type": "execute_result"
    }
   ],
   "source": [
    "# Check Sample 1\n",
    "titles[titles['title']=='journey to the center of the earth']"
   ]
  },
  {
   "cell_type": "code",
   "execution_count": 33,
   "metadata": {
    "colab": {
     "base_uri": "https://localhost:8080/",
     "height": 111
    },
    "id": "dnCzjaC2YCSs",
    "outputId": "e2843881-137e-4624-a17b-9f22046ef514"
   },
   "outputs": [
    {
     "data": {
      "text/html": [
       "<div>\n",
       "<style scoped>\n",
       "    .dataframe tbody tr th:only-of-type {\n",
       "        vertical-align: middle;\n",
       "    }\n",
       "\n",
       "    .dataframe tbody tr th {\n",
       "        vertical-align: top;\n",
       "    }\n",
       "\n",
       "    .dataframe thead th {\n",
       "        text-align: right;\n",
       "    }\n",
       "</style>\n",
       "<table border=\"1\" class=\"dataframe\">\n",
       "  <thead>\n",
       "    <tr style=\"text-align: right;\">\n",
       "      <th></th>\n",
       "      <th>movie_id</th>\n",
       "      <th>year_of_release</th>\n",
       "      <th>title</th>\n",
       "      <th>split_title</th>\n",
       "      <th>moviedb_result</th>\n",
       "      <th>moviedb_id</th>\n",
       "      <th>moviedb_search_title</th>\n",
       "      <th>result_title</th>\n",
       "      <th>type</th>\n",
       "      <th>match</th>\n",
       "    </tr>\n",
       "  </thead>\n",
       "  <tbody>\n",
       "    <tr>\n",
       "      <th>51</th>\n",
       "      <td>63</td>\n",
       "      <td>1943.0</td>\n",
       "      <td>crash dive</td>\n",
       "      <td>[crash dive]</td>\n",
       "      <td>{'id': 74012, 'title': 'Crash Dive', 'search_t...</td>\n",
       "      <td>74012</td>\n",
       "      <td>Crash Dive</td>\n",
       "      <td>crash dive</td>\n",
       "      <td>movie</td>\n",
       "      <td>1</td>\n",
       "    </tr>\n",
       "    <tr>\n",
       "      <th>327</th>\n",
       "      <td>379</td>\n",
       "      <td>1996.0</td>\n",
       "      <td>crash dive</td>\n",
       "      <td>[crash dive]</td>\n",
       "      <td>{'id': 160019, 'title': 'Crash Dive', 'search_...</td>\n",
       "      <td>160019</td>\n",
       "      <td>Crash Dive</td>\n",
       "      <td>crash dive</td>\n",
       "      <td>movie</td>\n",
       "      <td>1</td>\n",
       "    </tr>\n",
       "  </tbody>\n",
       "</table>\n",
       "</div>"
      ],
      "text/plain": [
       "     movie_id  year_of_release       title   split_title  \\\n",
       "51         63           1943.0  crash dive  [crash dive]   \n",
       "327       379           1996.0  crash dive  [crash dive]   \n",
       "\n",
       "                                        moviedb_result  moviedb_id  \\\n",
       "51   {'id': 74012, 'title': 'Crash Dive', 'search_t...       74012   \n",
       "327  {'id': 160019, 'title': 'Crash Dive', 'search_...      160019   \n",
       "\n",
       "    moviedb_search_title result_title   type  match  \n",
       "51            Crash Dive   crash dive  movie      1  \n",
       "327           Crash Dive   crash dive  movie      1  "
      ]
     },
     "execution_count": 33,
     "metadata": {},
     "output_type": "execute_result"
    }
   ],
   "source": [
    "# Check Sample 2\n",
    "titles[titles['title']=='crash dive']"
   ]
  },
  {
   "cell_type": "markdown",
   "metadata": {
    "id": "ua1CDSJmYCSt"
   },
   "source": [
    "<span style='color:magenta'>Remarks:</span>\n",
    "It seems like there are some movies that are a re-make of the original. This may 'pollute' our model when we pull additional data from MovieDB especially when we are creating an title-based recommendation system later on. There are 2 treatments for this:\n",
    "1. Create a unique Name that is a combination of title & year_of_release. This will helps us to retain these old movies and may improve our recommendation system.\n",
    "2. Remove them as the improvement may be insignificant. \n",
    "\n",
    "I will choose option (2) for the following reason:\n",
    "- These old titles may have missing information when I perfrom an API call from MovieDB. This will not value-add to my features in my recommendation system.\n",
    "- Users tends to watch and rate more recent movies hence if we ignore the materiality of less features, the low ratings of these movies may mean that they will very unlikely to be recommended."
   ]
  },
  {
   "cell_type": "code",
   "execution_count": 34,
   "metadata": {
    "colab": {
     "base_uri": "https://localhost:8080/",
     "height": 204
    },
    "id": "WXX8pItHYCSu",
    "outputId": "44cec2aa-5103-4cb4-f43d-7814d980cdd0"
   },
   "outputs": [
    {
     "data": {
      "text/html": [
       "<div>\n",
       "<style scoped>\n",
       "    .dataframe tbody tr th:only-of-type {\n",
       "        vertical-align: middle;\n",
       "    }\n",
       "\n",
       "    .dataframe tbody tr th {\n",
       "        vertical-align: top;\n",
       "    }\n",
       "\n",
       "    .dataframe thead th {\n",
       "        text-align: right;\n",
       "    }\n",
       "</style>\n",
       "<table border=\"1\" class=\"dataframe\">\n",
       "  <thead>\n",
       "    <tr style=\"text-align: right;\">\n",
       "      <th></th>\n",
       "      <th>movie_id</th>\n",
       "      <th>year_of_release</th>\n",
       "      <th>title</th>\n",
       "      <th>split_title</th>\n",
       "      <th>moviedb_result</th>\n",
       "      <th>moviedb_id</th>\n",
       "      <th>moviedb_search_title</th>\n",
       "      <th>result_title</th>\n",
       "      <th>type</th>\n",
       "      <th>match</th>\n",
       "    </tr>\n",
       "  </thead>\n",
       "  <tbody>\n",
       "    <tr>\n",
       "      <th>6071</th>\n",
       "      <td>7003</td>\n",
       "      <td>2005.0</td>\n",
       "      <td>national geographic: arlington: field of honor</td>\n",
       "      <td>[national geographic,  arlington,  field of ho...</td>\n",
       "      <td>{'id': 312215, 'title': 'National Geographic E...</td>\n",
       "      <td>312215</td>\n",
       "      <td>National Geographic Explorer: King Tut's Final...</td>\n",
       "      <td>national geographic</td>\n",
       "      <td>movie</td>\n",
       "      <td>1</td>\n",
       "    </tr>\n",
       "    <tr>\n",
       "      <th>8336</th>\n",
       "      <td>9603</td>\n",
       "      <td>2005.0</td>\n",
       "      <td>pink floyd: atom heart mother</td>\n",
       "      <td>[pink floyd,  atom heart mother]</td>\n",
       "      <td>{'id': 61913, 'title': 'Pink Floyd - Comfortab...</td>\n",
       "      <td>61913</td>\n",
       "      <td>Pink Floyd - Comfortably Numb</td>\n",
       "      <td>pink floyd</td>\n",
       "      <td>movie</td>\n",
       "      <td>1</td>\n",
       "    </tr>\n",
       "    <tr>\n",
       "      <th>12769</th>\n",
       "      <td>14762</td>\n",
       "      <td>2005.0</td>\n",
       "      <td>devour</td>\n",
       "      <td>[devour]</td>\n",
       "      <td>{'id': 14147, 'title': 'DeVour', 'search_title...</td>\n",
       "      <td>14147</td>\n",
       "      <td>DeVour</td>\n",
       "      <td>devour</td>\n",
       "      <td>movie</td>\n",
       "      <td>1</td>\n",
       "    </tr>\n",
       "    <tr>\n",
       "      <th>12764</th>\n",
       "      <td>14757</td>\n",
       "      <td>2005.0</td>\n",
       "      <td>palindromes</td>\n",
       "      <td>[palindromes]</td>\n",
       "      <td>{'id': 13073, 'title': 'Palindromes', 'search_...</td>\n",
       "      <td>13073</td>\n",
       "      <td>Palindromes</td>\n",
       "      <td>palindromes</td>\n",
       "      <td>movie</td>\n",
       "      <td>1</td>\n",
       "    </tr>\n",
       "    <tr>\n",
       "      <th>546</th>\n",
       "      <td>631</td>\n",
       "      <td>2005.0</td>\n",
       "      <td>unleashed</td>\n",
       "      <td>[unleashed]</td>\n",
       "      <td>{'id': 10027, 'title': 'Unleashed', 'search_ti...</td>\n",
       "      <td>10027</td>\n",
       "      <td>Unleashed</td>\n",
       "      <td>unleashed</td>\n",
       "      <td>movie</td>\n",
       "      <td>1</td>\n",
       "    </tr>\n",
       "  </tbody>\n",
       "</table>\n",
       "</div>"
      ],
      "text/plain": [
       "       movie_id  year_of_release  \\\n",
       "6071       7003           2005.0   \n",
       "8336       9603           2005.0   \n",
       "12769     14762           2005.0   \n",
       "12764     14757           2005.0   \n",
       "546         631           2005.0   \n",
       "\n",
       "                                                title  \\\n",
       "6071   national geographic: arlington: field of honor   \n",
       "8336                    pink floyd: atom heart mother   \n",
       "12769                                          devour   \n",
       "12764                                     palindromes   \n",
       "546                                         unleashed   \n",
       "\n",
       "                                             split_title  \\\n",
       "6071   [national geographic,  arlington,  field of ho...   \n",
       "8336                    [pink floyd,  atom heart mother]   \n",
       "12769                                           [devour]   \n",
       "12764                                      [palindromes]   \n",
       "546                                          [unleashed]   \n",
       "\n",
       "                                          moviedb_result  moviedb_id  \\\n",
       "6071   {'id': 312215, 'title': 'National Geographic E...      312215   \n",
       "8336   {'id': 61913, 'title': 'Pink Floyd - Comfortab...       61913   \n",
       "12769  {'id': 14147, 'title': 'DeVour', 'search_title...       14147   \n",
       "12764  {'id': 13073, 'title': 'Palindromes', 'search_...       13073   \n",
       "546    {'id': 10027, 'title': 'Unleashed', 'search_ti...       10027   \n",
       "\n",
       "                                    moviedb_search_title         result_title  \\\n",
       "6071   National Geographic Explorer: King Tut's Final...  national geographic   \n",
       "8336                       Pink Floyd - Comfortably Numb           pink floyd   \n",
       "12769                                             DeVour               devour   \n",
       "12764                                        Palindromes          palindromes   \n",
       "546                                            Unleashed            unleashed   \n",
       "\n",
       "        type  match  \n",
       "6071   movie      1  \n",
       "8336   movie      1  \n",
       "12769  movie      1  \n",
       "12764  movie      1  \n",
       "546    movie      1  "
      ]
     },
     "execution_count": 34,
     "metadata": {},
     "output_type": "execute_result"
    }
   ],
   "source": [
    "# Sort titles based on latest year_of_release\n",
    "titles.sort_values(by='year_of_release',ascending=False, inplace=True)\n",
    "titles.head()"
   ]
  },
  {
   "cell_type": "code",
   "execution_count": 35,
   "metadata": {
    "colab": {
     "base_uri": "https://localhost:8080/",
     "height": 51
    },
    "id": "6yU101DjYCSx",
    "outputId": "37abfbb6-7ae0-42fd-a433-bb7e3f9d2291"
   },
   "outputs": [
    {
     "name": "stdout",
     "output_type": "stream",
     "text": [
      "Shape of titles before dropping: (15372, 10)\n",
      "Shape of titles after dropping: (14923, 10)\n"
     ]
    }
   ],
   "source": [
    "# Drop all duplicate titles\n",
    "print(f'Shape of titles before dropping: {titles.shape}')\n",
    "titles = titles[~(titles.duplicated(subset='title', keep='first'))]\n",
    "print(f'Shape of titles after dropping: {titles.shape}')"
   ]
  },
  {
   "cell_type": "code",
   "execution_count": 36,
   "metadata": {
    "colab": {
     "base_uri": "https://localhost:8080/",
     "height": 80
    },
    "id": "gkUZBbkHYCS1",
    "outputId": "81e3257c-7238-4b46-af22-e7ba07cfdcf3"
   },
   "outputs": [
    {
     "data": {
      "text/html": [
       "<div>\n",
       "<style scoped>\n",
       "    .dataframe tbody tr th:only-of-type {\n",
       "        vertical-align: middle;\n",
       "    }\n",
       "\n",
       "    .dataframe tbody tr th {\n",
       "        vertical-align: top;\n",
       "    }\n",
       "\n",
       "    .dataframe thead th {\n",
       "        text-align: right;\n",
       "    }\n",
       "</style>\n",
       "<table border=\"1\" class=\"dataframe\">\n",
       "  <thead>\n",
       "    <tr style=\"text-align: right;\">\n",
       "      <th></th>\n",
       "      <th>movie_id</th>\n",
       "      <th>year_of_release</th>\n",
       "      <th>title</th>\n",
       "      <th>split_title</th>\n",
       "      <th>moviedb_result</th>\n",
       "      <th>moviedb_id</th>\n",
       "      <th>moviedb_search_title</th>\n",
       "      <th>result_title</th>\n",
       "      <th>type</th>\n",
       "      <th>match</th>\n",
       "    </tr>\n",
       "  </thead>\n",
       "  <tbody>\n",
       "    <tr>\n",
       "      <th>1107</th>\n",
       "      <td>1260</td>\n",
       "      <td>1999.0</td>\n",
       "      <td>journey to the center of the earth</td>\n",
       "      <td>[journey to the center of the earth]</td>\n",
       "      <td>{'id': 732427, 'title': 'Journey to the Center...</td>\n",
       "      <td>732427</td>\n",
       "      <td>Journey to the Center of the Earth</td>\n",
       "      <td>journey to the center of the earth</td>\n",
       "      <td>movie</td>\n",
       "      <td>1</td>\n",
       "    </tr>\n",
       "  </tbody>\n",
       "</table>\n",
       "</div>"
      ],
      "text/plain": [
       "      movie_id  year_of_release                               title  \\\n",
       "1107      1260           1999.0  journey to the center of the earth   \n",
       "\n",
       "                               split_title  \\\n",
       "1107  [journey to the center of the earth]   \n",
       "\n",
       "                                         moviedb_result  moviedb_id  \\\n",
       "1107  {'id': 732427, 'title': 'Journey to the Center...      732427   \n",
       "\n",
       "                    moviedb_search_title                        result_title  \\\n",
       "1107  Journey to the Center of the Earth  journey to the center of the earth   \n",
       "\n",
       "       type  match  \n",
       "1107  movie      1  "
      ]
     },
     "execution_count": 36,
     "metadata": {},
     "output_type": "execute_result"
    }
   ],
   "source": [
    "# Sample 1\n",
    "titles[titles['title']=='journey to the center of the earth']"
   ]
  },
  {
   "cell_type": "code",
   "execution_count": 37,
   "metadata": {
    "colab": {
     "base_uri": "https://localhost:8080/",
     "height": 80
    },
    "id": "e37kSOzaYCS2",
    "outputId": "2aee7e03-c6eb-4165-ecd8-f27608ed04bc"
   },
   "outputs": [
    {
     "data": {
      "text/html": [
       "<div>\n",
       "<style scoped>\n",
       "    .dataframe tbody tr th:only-of-type {\n",
       "        vertical-align: middle;\n",
       "    }\n",
       "\n",
       "    .dataframe tbody tr th {\n",
       "        vertical-align: top;\n",
       "    }\n",
       "\n",
       "    .dataframe thead th {\n",
       "        text-align: right;\n",
       "    }\n",
       "</style>\n",
       "<table border=\"1\" class=\"dataframe\">\n",
       "  <thead>\n",
       "    <tr style=\"text-align: right;\">\n",
       "      <th></th>\n",
       "      <th>movie_id</th>\n",
       "      <th>year_of_release</th>\n",
       "      <th>title</th>\n",
       "      <th>split_title</th>\n",
       "      <th>moviedb_result</th>\n",
       "      <th>moviedb_id</th>\n",
       "      <th>moviedb_search_title</th>\n",
       "      <th>result_title</th>\n",
       "      <th>type</th>\n",
       "      <th>match</th>\n",
       "    </tr>\n",
       "  </thead>\n",
       "  <tbody>\n",
       "    <tr>\n",
       "      <th>327</th>\n",
       "      <td>379</td>\n",
       "      <td>1996.0</td>\n",
       "      <td>crash dive</td>\n",
       "      <td>[crash dive]</td>\n",
       "      <td>{'id': 160019, 'title': 'Crash Dive', 'search_...</td>\n",
       "      <td>160019</td>\n",
       "      <td>Crash Dive</td>\n",
       "      <td>crash dive</td>\n",
       "      <td>movie</td>\n",
       "      <td>1</td>\n",
       "    </tr>\n",
       "  </tbody>\n",
       "</table>\n",
       "</div>"
      ],
      "text/plain": [
       "     movie_id  year_of_release       title   split_title  \\\n",
       "327       379           1996.0  crash dive  [crash dive]   \n",
       "\n",
       "                                        moviedb_result  moviedb_id  \\\n",
       "327  {'id': 160019, 'title': 'Crash Dive', 'search_...      160019   \n",
       "\n",
       "    moviedb_search_title result_title   type  match  \n",
       "327           Crash Dive   crash dive  movie      1  "
      ]
     },
     "execution_count": 37,
     "metadata": {},
     "output_type": "execute_result"
    }
   ],
   "source": [
    "# Check Sample 2\n",
    "titles[titles['title']=='crash dive']"
   ]
  },
  {
   "cell_type": "markdown",
   "metadata": {
    "id": "UvHp3Aw5YCS4"
   },
   "source": [
    "<span style='color:magenta'>Remarks:</span>\n",
    "From the sample after dropping duplicates, The older titles are dropped while the latest titles are retained.\n",
    "\n",
    "In total, I have dropped 2,847 titles. This amount to 16% reduction in original data. However, this is still acceptable as this implies that our dataset is as clean as possible for modeling."
   ]
  },
  {
   "cell_type": "code",
   "execution_count": 38,
   "metadata": {
    "colab": {
     "base_uri": "https://localhost:8080/",
     "height": 686
    },
    "id": "tNSZPhb-xZ_A",
    "outputId": "0a96f314-54a4-4fb4-8e18-308033bd781a"
   },
   "outputs": [
    {
     "name": "stdout",
     "output_type": "stream",
     "text": [
      "(14923, 5)\n"
     ]
    },
    {
     "data": {
      "text/html": [
       "<div>\n",
       "<style scoped>\n",
       "    .dataframe tbody tr th:only-of-type {\n",
       "        vertical-align: middle;\n",
       "    }\n",
       "\n",
       "    .dataframe tbody tr th {\n",
       "        vertical-align: top;\n",
       "    }\n",
       "\n",
       "    .dataframe thead th {\n",
       "        text-align: right;\n",
       "    }\n",
       "</style>\n",
       "<table border=\"1\" class=\"dataframe\">\n",
       "  <thead>\n",
       "    <tr style=\"text-align: right;\">\n",
       "      <th></th>\n",
       "      <th>movie_id</th>\n",
       "      <th>year_of_release</th>\n",
       "      <th>title</th>\n",
       "      <th>moviedb_id</th>\n",
       "      <th>type</th>\n",
       "    </tr>\n",
       "  </thead>\n",
       "  <tbody>\n",
       "    <tr>\n",
       "      <th>0</th>\n",
       "      <td>7003</td>\n",
       "      <td>2005.0</td>\n",
       "      <td>national geographic: arlington: field of honor</td>\n",
       "      <td>312215</td>\n",
       "      <td>movie</td>\n",
       "    </tr>\n",
       "    <tr>\n",
       "      <th>1</th>\n",
       "      <td>9603</td>\n",
       "      <td>2005.0</td>\n",
       "      <td>pink floyd: atom heart mother</td>\n",
       "      <td>61913</td>\n",
       "      <td>movie</td>\n",
       "    </tr>\n",
       "    <tr>\n",
       "      <th>2</th>\n",
       "      <td>14762</td>\n",
       "      <td>2005.0</td>\n",
       "      <td>devour</td>\n",
       "      <td>14147</td>\n",
       "      <td>movie</td>\n",
       "    </tr>\n",
       "    <tr>\n",
       "      <th>3</th>\n",
       "      <td>14757</td>\n",
       "      <td>2005.0</td>\n",
       "      <td>palindromes</td>\n",
       "      <td>13073</td>\n",
       "      <td>movie</td>\n",
       "    </tr>\n",
       "    <tr>\n",
       "      <th>4</th>\n",
       "      <td>631</td>\n",
       "      <td>2005.0</td>\n",
       "      <td>unleashed</td>\n",
       "      <td>10027</td>\n",
       "      <td>movie</td>\n",
       "    </tr>\n",
       "    <tr>\n",
       "      <th>5</th>\n",
       "      <td>14739</td>\n",
       "      <td>2005.0</td>\n",
       "      <td>martha stewart holidays: classic thanksgiving</td>\n",
       "      <td>531699</td>\n",
       "      <td>movie</td>\n",
       "    </tr>\n",
       "    <tr>\n",
       "      <th>6</th>\n",
       "      <td>9652</td>\n",
       "      <td>2005.0</td>\n",
       "      <td>wwe: the self-destruction of the ultimate warrior</td>\n",
       "      <td>58975</td>\n",
       "      <td>movie</td>\n",
       "    </tr>\n",
       "    <tr>\n",
       "      <th>7</th>\n",
       "      <td>9747</td>\n",
       "      <td>2005.0</td>\n",
       "      <td>warm springs</td>\n",
       "      <td>46661</td>\n",
       "      <td>movie</td>\n",
       "    </tr>\n",
       "    <tr>\n",
       "      <th>8</th>\n",
       "      <td>5892</td>\n",
       "      <td>2005.0</td>\n",
       "      <td>wwe: wrestlemania 21</td>\n",
       "      <td>58975</td>\n",
       "      <td>movie</td>\n",
       "    </tr>\n",
       "    <tr>\n",
       "      <th>9</th>\n",
       "      <td>9771</td>\n",
       "      <td>2005.0</td>\n",
       "      <td>black</td>\n",
       "      <td>31977</td>\n",
       "      <td>movie</td>\n",
       "    </tr>\n",
       "    <tr>\n",
       "      <th>10</th>\n",
       "      <td>9793</td>\n",
       "      <td>2005.0</td>\n",
       "      <td>vaada</td>\n",
       "      <td>311142</td>\n",
       "      <td>movie</td>\n",
       "    </tr>\n",
       "    <tr>\n",
       "      <th>11</th>\n",
       "      <td>14557</td>\n",
       "      <td>2005.0</td>\n",
       "      <td>fraggle rock: live by the rule of the rock</td>\n",
       "      <td>37751</td>\n",
       "      <td>movie</td>\n",
       "    </tr>\n",
       "    <tr>\n",
       "      <th>12</th>\n",
       "      <td>1577</td>\n",
       "      <td>2005.0</td>\n",
       "      <td>national geographic: predators at war</td>\n",
       "      <td>312215</td>\n",
       "      <td>movie</td>\n",
       "    </tr>\n",
       "    <tr>\n",
       "      <th>13</th>\n",
       "      <td>14518</td>\n",
       "      <td>2005.0</td>\n",
       "      <td>wwe: unforgiven 2005</td>\n",
       "      <td>58975</td>\n",
       "      <td>movie</td>\n",
       "    </tr>\n",
       "    <tr>\n",
       "      <th>14</th>\n",
       "      <td>14502</td>\n",
       "      <td>2005.0</td>\n",
       "      <td>naked fame</td>\n",
       "      <td>41919</td>\n",
       "      <td>movie</td>\n",
       "    </tr>\n",
       "    <tr>\n",
       "      <th>15</th>\n",
       "      <td>14490</td>\n",
       "      <td>2005.0</td>\n",
       "      <td>broadway's lost treasures iii: the best of the...</td>\n",
       "      <td>53542</td>\n",
       "      <td>movie</td>\n",
       "    </tr>\n",
       "    <tr>\n",
       "      <th>16</th>\n",
       "      <td>14489</td>\n",
       "      <td>2005.0</td>\n",
       "      <td>lies my mother told me</td>\n",
       "      <td>72151</td>\n",
       "      <td>movie</td>\n",
       "    </tr>\n",
       "    <tr>\n",
       "      <th>17</th>\n",
       "      <td>9642</td>\n",
       "      <td>2005.0</td>\n",
       "      <td>bomb the system</td>\n",
       "      <td>41613</td>\n",
       "      <td>movie</td>\n",
       "    </tr>\n",
       "    <tr>\n",
       "      <th>18</th>\n",
       "      <td>14805</td>\n",
       "      <td>2005.0</td>\n",
       "      <td>national geographic: china's lost girls</td>\n",
       "      <td>312215</td>\n",
       "      <td>movie</td>\n",
       "    </tr>\n",
       "    <tr>\n",
       "      <th>19</th>\n",
       "      <td>5822</td>\n",
       "      <td>2005.0</td>\n",
       "      <td>bionicle 3: web of shadows</td>\n",
       "      <td>18224</td>\n",
       "      <td>movie</td>\n",
       "    </tr>\n",
       "  </tbody>\n",
       "</table>\n",
       "</div>"
      ],
      "text/plain": [
       "    movie_id  year_of_release  \\\n",
       "0       7003           2005.0   \n",
       "1       9603           2005.0   \n",
       "2      14762           2005.0   \n",
       "3      14757           2005.0   \n",
       "4        631           2005.0   \n",
       "5      14739           2005.0   \n",
       "6       9652           2005.0   \n",
       "7       9747           2005.0   \n",
       "8       5892           2005.0   \n",
       "9       9771           2005.0   \n",
       "10      9793           2005.0   \n",
       "11     14557           2005.0   \n",
       "12      1577           2005.0   \n",
       "13     14518           2005.0   \n",
       "14     14502           2005.0   \n",
       "15     14490           2005.0   \n",
       "16     14489           2005.0   \n",
       "17      9642           2005.0   \n",
       "18     14805           2005.0   \n",
       "19      5822           2005.0   \n",
       "\n",
       "                                                title  moviedb_id   type  \n",
       "0      national geographic: arlington: field of honor      312215  movie  \n",
       "1                       pink floyd: atom heart mother       61913  movie  \n",
       "2                                              devour       14147  movie  \n",
       "3                                         palindromes       13073  movie  \n",
       "4                                           unleashed       10027  movie  \n",
       "5       martha stewart holidays: classic thanksgiving      531699  movie  \n",
       "6   wwe: the self-destruction of the ultimate warrior       58975  movie  \n",
       "7                                        warm springs       46661  movie  \n",
       "8                                wwe: wrestlemania 21       58975  movie  \n",
       "9                                               black       31977  movie  \n",
       "10                                              vaada      311142  movie  \n",
       "11         fraggle rock: live by the rule of the rock       37751  movie  \n",
       "12              national geographic: predators at war      312215  movie  \n",
       "13                               wwe: unforgiven 2005       58975  movie  \n",
       "14                                         naked fame       41919  movie  \n",
       "15  broadway's lost treasures iii: the best of the...       53542  movie  \n",
       "16                             lies my mother told me       72151  movie  \n",
       "17                                    bomb the system       41613  movie  \n",
       "18            national geographic: china's lost girls      312215  movie  \n",
       "19                         bionicle 3: web of shadows       18224  movie  "
      ]
     },
     "execution_count": 38,
     "metadata": {},
     "output_type": "execute_result"
    }
   ],
   "source": [
    "# Remove non-relevant columns\n",
    "titles.drop(columns=['split_title', 'moviedb_result', 'moviedb_search_title','result_title','match'], inplace=True, errors='ignore')\n",
    "titles.reset_index(drop=True,inplace=True)\n",
    "print(titles.shape)\n",
    "titles.head(20)"
   ]
  },
  {
   "cell_type": "code",
   "execution_count": 39,
   "metadata": {
    "id": "_T74MtW7YCS4"
   },
   "outputs": [],
   "source": [
    "# Save dataframe to HDF5 \n",
    "hf = pd.HDFStore(fileloc + 'movie_raw.hdf5')\n",
    "hf['titles_search_mvid'] = titles\n",
    "hf.close()"
   ]
  },
  {
   "cell_type": "markdown",
   "metadata": {
    "id": "FA6xQeDtYCS6"
   },
   "source": [
    "#### Invoke Metadata API Call"
   ]
  },
  {
   "cell_type": "code",
   "execution_count": 40,
   "metadata": {
    "colab": {
     "base_uri": "https://localhost:8080/",
     "height": 34
    },
    "id": "tMAbt3WkYCS7",
    "outputId": "508034b3-1351-4f7f-c1a6-0e8e6ca6efe8"
   },
   "outputs": [
    {
     "name": "stdout",
     "output_type": "stream",
     "text": [
      "200\n"
     ]
    }
   ],
   "source": [
    "# API key\n",
    "REQUEST_TOKEN = 'd8f46f139abc47c1f048f3efc486fe53'\n",
    "\n",
    "# Target web page:\n",
    "\n",
    "# To authenticate api call session\n",
    "url = \"https://www.themoviedb.org/authenticate/\"+ REQUEST_TOKEN\n",
    "\n",
    "# Establishing the connection to the web page:\n",
    "response = requests.get(url)\n",
    "\n",
    "# You can use status codes to understand how the target server responds to your request.\n",
    "# Ex., 200 = OK, 400 = Bad Request, 403 = Forbidden, 404 = Not Found.\n",
    "print(response.status_code)"
   ]
  },
  {
   "cell_type": "code",
   "execution_count": 41,
   "metadata": {
    "colab": {
     "base_uri": "https://localhost:8080/",
     "height": 34
    },
    "id": "E2bU7ijQYCS9",
    "outputId": "5d0d30c0-1c00-4a07-c19c-4bcdae707eb7"
   },
   "outputs": [
    {
     "name": "stdout",
     "output_type": "stream",
     "text": [
      "5\n"
     ]
    }
   ],
   "source": [
    "# Chunking the files\n",
    "chunk_list = chunking(chunk_size,titles)\n",
    "print(len(chunk_list))"
   ]
  },
  {
   "cell_type": "code",
   "execution_count": 61,
   "metadata": {
    "colab": {
     "base_uri": "https://localhost:8080/",
     "height": 357
    },
    "id": "ZYdHiP_iYCS_",
    "outputId": "380b4d44-148f-4594-aa8d-e44c43a46149"
   },
   "outputs": [
    {
     "name": "stdout",
     "output_type": "stream",
     "text": [
      "Start Time = 12:27:47\n",
      "There are 5 batches to process\n",
      "--------------------------------------------------\n"
     ]
    },
    {
     "name": "stderr",
     "output_type": "stream",
     "text": [
      "/usr/local/lib/python3.6/dist-packages/ipykernel_launcher.py:7: SettingWithCopyWarning: \n",
      "A value is trying to be set on a copy of a slice from a DataFrame.\n",
      "Try using .loc[row_indexer,col_indexer] = value instead\n",
      "\n",
      "See the caveats in the documentation: https://pandas.pydata.org/pandas-docs/stable/user_guide/indexing.html#returning-a-view-versus-a-copy\n",
      "  import sys\n"
     ]
    },
    {
     "name": "stdout",
     "output_type": "stream",
     "text": [
      "0 batch: run time = 12:34:47\n",
      "--------------------------------------------------\n",
      "1 batch: run time = 12:56:07\n",
      "--------------------------------------------------\n",
      "2 batch: run time = 13:17:28\n",
      "--------------------------------------------------\n",
      "3 batch: run time = 13:38:55\n",
      "--------------------------------------------------\n",
      "4 batch: run time = 13:58:45\n",
      "--------------------------------------------------\n",
      "API Call Complete\n"
     ]
    }
   ],
   "source": [
    "# Perform API call on chunked dataframe & save as csv file\n",
    "print(t_now('Start Time'))\n",
    "print(f\"There are {len(chunk_list)} batches to process\")\n",
    "print('-' * 50)\n",
    "\n",
    "for index, df in enumerate(chunk_list):\n",
    "    df['search_result'] = df.apply(lambda x: movieid_pull(x.name, x['moviedb_id'], x['type']), axis=1)\n",
    "    df.to_csv(f'{fileloc}metadata_added/md_{index}.csv', index=False)\n",
    "    print(f\"{index} batch: {t_now('run time')}\")\n",
    "    print('-' * 50)\n",
    "print('API Call Complete')"
   ]
  },
  {
   "cell_type": "markdown",
   "metadata": {},
   "source": [
    "#### Glob-ing of Chunked files"
   ]
  },
  {
   "cell_type": "code",
   "execution_count": 42,
   "metadata": {
    "colab": {
     "base_uri": "https://localhost:8080/",
     "height": 409
    },
    "id": "wPZynawwYCTA",
    "outputId": "69c044b8-3a5c-43a4-d136-0884678935d9"
   },
   "outputs": [
    {
     "name": "stdout",
     "output_type": "stream",
     "text": [
      "glob completed\n",
      "Wall time: 97.9 ms\n"
     ]
    }
   ],
   "source": [
    "%%time\n",
    "# Globbing of saved Chunks\n",
    "# Import titles chunks into dataframe\n",
    "ls_of_titles = []\n",
    "\n",
    "# Specify the pattern matching for glob\n",
    "rating_files = glob.glob(fileloc + 'metadata_added/*')\n",
    "\n",
    "# Loop to get dataframe into list\n",
    "for filename in rating_files:\n",
    "    df = pd.read_csv(filename, sep=',')\n",
    "    ls_of_titles.append(df)\n",
    "\n",
    "# Concat dataframe together\n",
    "titles = pd.concat(ls_of_titles,ignore_index=True)\n",
    "\n",
    "print('glob completed')"
   ]
  },
  {
   "cell_type": "code",
   "execution_count": 43,
   "metadata": {
    "id": "EE4ODu5vUjo8"
   },
   "outputs": [
    {
     "name": "stdout",
     "output_type": "stream",
     "text": [
      "(14923, 6)\n"
     ]
    },
    {
     "data": {
      "text/html": [
       "<div>\n",
       "<style scoped>\n",
       "    .dataframe tbody tr th:only-of-type {\n",
       "        vertical-align: middle;\n",
       "    }\n",
       "\n",
       "    .dataframe tbody tr th {\n",
       "        vertical-align: top;\n",
       "    }\n",
       "\n",
       "    .dataframe thead th {\n",
       "        text-align: right;\n",
       "    }\n",
       "</style>\n",
       "<table border=\"1\" class=\"dataframe\">\n",
       "  <thead>\n",
       "    <tr style=\"text-align: right;\">\n",
       "      <th></th>\n",
       "      <th>movie_id</th>\n",
       "      <th>year_of_release</th>\n",
       "      <th>title</th>\n",
       "      <th>moviedb_id</th>\n",
       "      <th>type</th>\n",
       "      <th>search_result</th>\n",
       "    </tr>\n",
       "  </thead>\n",
       "  <tbody>\n",
       "    <tr>\n",
       "      <th>0</th>\n",
       "      <td>7003</td>\n",
       "      <td>2005.0</td>\n",
       "      <td>national geographic: arlington: field of honor</td>\n",
       "      <td>312215</td>\n",
       "      <td>movie</td>\n",
       "      <td>{'name': 'Zahi Hawass', 'keywords': [{'id': 11...</td>\n",
       "    </tr>\n",
       "    <tr>\n",
       "      <th>1</th>\n",
       "      <td>9603</td>\n",
       "      <td>2005.0</td>\n",
       "      <td>pink floyd: atom heart mother</td>\n",
       "      <td>61913</td>\n",
       "      <td>movie</td>\n",
       "      <td>{'name': 'Roger Waters', 'keywords': [{'id': 5...</td>\n",
       "    </tr>\n",
       "    <tr>\n",
       "      <th>2</th>\n",
       "      <td>14762</td>\n",
       "      <td>2005.0</td>\n",
       "      <td>devour</td>\n",
       "      <td>14147</td>\n",
       "      <td>movie</td>\n",
       "      <td>{'name': 'Jensen Ackles', 'keywords': [{'id': ...</td>\n",
       "    </tr>\n",
       "    <tr>\n",
       "      <th>3</th>\n",
       "      <td>14757</td>\n",
       "      <td>2005.0</td>\n",
       "      <td>palindromes</td>\n",
       "      <td>13073</td>\n",
       "      <td>movie</td>\n",
       "      <td>{'name': 'Ellen Barkin', 'keywords': [{'id': 1...</td>\n",
       "    </tr>\n",
       "    <tr>\n",
       "      <th>4</th>\n",
       "      <td>631</td>\n",
       "      <td>2005.0</td>\n",
       "      <td>unleashed</td>\n",
       "      <td>10027</td>\n",
       "      <td>movie</td>\n",
       "      <td>{'name': 'Jet Li', 'keywords': [{'id': 779, 'n...</td>\n",
       "    </tr>\n",
       "  </tbody>\n",
       "</table>\n",
       "</div>"
      ],
      "text/plain": [
       "   movie_id  year_of_release                                           title  \\\n",
       "0      7003           2005.0  national geographic: arlington: field of honor   \n",
       "1      9603           2005.0                   pink floyd: atom heart mother   \n",
       "2     14762           2005.0                                          devour   \n",
       "3     14757           2005.0                                     palindromes   \n",
       "4       631           2005.0                                       unleashed   \n",
       "\n",
       "   moviedb_id   type                                      search_result  \n",
       "0      312215  movie  {'name': 'Zahi Hawass', 'keywords': [{'id': 11...  \n",
       "1       61913  movie  {'name': 'Roger Waters', 'keywords': [{'id': 5...  \n",
       "2       14147  movie  {'name': 'Jensen Ackles', 'keywords': [{'id': ...  \n",
       "3       13073  movie  {'name': 'Ellen Barkin', 'keywords': [{'id': 1...  \n",
       "4       10027  movie  {'name': 'Jet Li', 'keywords': [{'id': 779, 'n...  "
      ]
     },
     "execution_count": 43,
     "metadata": {},
     "output_type": "execute_result"
    }
   ],
   "source": [
    "print(titles.shape)\n",
    "titles.head()"
   ]
  },
  {
   "cell_type": "markdown",
   "metadata": {
    "id": "UvHp3Aw5YCS4"
   },
   "source": [
    "<span style='color:magenta'>Remarks:</span>\n",
    "Additional information such as genre, keywrods & featured actors are being extracted from MovieDB. As the API call takes more than 1 hour, I have broken my dataset into chunks to prevent loss of efforts should the API call failed half-way. Given that the dataset is being saved into a csv file, after globbing the data, the search result although should be a dictionary (data-type) is interpreted as string. Hence I will need to perform a data conversion using Abstract Syntax Tree library (ast) to convert back to dictionary."
   ]
  },
  {
   "cell_type": "code",
   "execution_count": 44,
   "metadata": {},
   "outputs": [
    {
     "data": {
      "text/plain": [
       "'{\\'name\\': \\'Zahi Hawass\\', \\'keywords\\': [{\\'id\\': 1160, \\'name\\': \\'egypt\\'}, {\\'id\\': 2598, \\'name\\': \\'museum\\'}, {\\'id\\': 2904, \\'name\\': \\'mummy\\'}, {\\'id\\': 9032, \\'name\\': \\'excavation\\'}, {\\'id\\': 157894, \\'name\\': \\'ancient egypt\\'}, {\\'id\\': 163347, \\'name\\': \\'egyptology\\'}, {\\'id\\': 180259, \\'name\\': \\'reconstruction\\'}, {\\'id\\': 183205, \\'name\\': \\'secret burial\\'}, {\\'id\\': 192125, \\'name\\': \\'egyptologist\\'}, {\\'id\\': 208435, \\'name\\': \\'archaeology\\'}, {\\'id\\': 210598, \\'name\\': \\'forensic archaeology\\'}, {\\'id\\': 215218, \\'name\\': \\'king tut\\'}, {\\'id\\': 234743, \\'name\\': \\'egyptian tomb\\'}, {\\'id\\': 234744, \\'name\\': \\'sarcophagus\\'}, {\\'id\\': 243413, \\'name\\': \"mummy\\'s curse\"}], \\'genres\\': [{\\'id\\': 99, \\'name\\': \\'Documentary\\'}, {\\'id\\': 36, \\'name\\': \\'History\\'}, {\\'id\\': 10770, \\'name\\': \\'TV Movie\\'}], \\'popularity\\': 4.338, \\'vote_count\\': 2, \\'vote_average\\': 7.0}'"
      ]
     },
     "execution_count": 44,
     "metadata": {},
     "output_type": "execute_result"
    }
   ],
   "source": [
    "# Sample of search result\n",
    "titles.loc[0,'search_result']"
   ]
  },
  {
   "cell_type": "markdown",
   "metadata": {},
   "source": [
    "#### Conversion of search_result type"
   ]
  },
  {
   "cell_type": "code",
   "execution_count": 45,
   "metadata": {},
   "outputs": [
    {
     "data": {
      "text/plain": [
       "str"
      ]
     },
     "execution_count": 45,
     "metadata": {},
     "output_type": "execute_result"
    }
   ],
   "source": [
    "# Check the data type of the element\n",
    "type(titles.loc[0,'search_result'])"
   ]
  },
  {
   "cell_type": "code",
   "execution_count": 46,
   "metadata": {},
   "outputs": [],
   "source": [
    "# Convert, evaluate stirng representation into actual type\n",
    "titles['search_result']  = titles['search_result'].apply(ast.literal_eval)"
   ]
  },
  {
   "cell_type": "code",
   "execution_count": 47,
   "metadata": {},
   "outputs": [
    {
     "data": {
      "text/plain": [
       "dict"
      ]
     },
     "execution_count": 47,
     "metadata": {},
     "output_type": "execute_result"
    }
   ],
   "source": [
    "# Re-check data type of the element\n",
    "type(titles.loc[0,'search_result'])"
   ]
  },
  {
   "cell_type": "code",
   "execution_count": 48,
   "metadata": {},
   "outputs": [
    {
     "data": {
      "text/plain": [
       "{'name': 'Zahi Hawass',\n",
       " 'keywords': [{'id': 1160, 'name': 'egypt'},\n",
       "  {'id': 2598, 'name': 'museum'},\n",
       "  {'id': 2904, 'name': 'mummy'},\n",
       "  {'id': 9032, 'name': 'excavation'},\n",
       "  {'id': 157894, 'name': 'ancient egypt'},\n",
       "  {'id': 163347, 'name': 'egyptology'},\n",
       "  {'id': 180259, 'name': 'reconstruction'},\n",
       "  {'id': 183205, 'name': 'secret burial'},\n",
       "  {'id': 192125, 'name': 'egyptologist'},\n",
       "  {'id': 208435, 'name': 'archaeology'},\n",
       "  {'id': 210598, 'name': 'forensic archaeology'},\n",
       "  {'id': 215218, 'name': 'king tut'},\n",
       "  {'id': 234743, 'name': 'egyptian tomb'},\n",
       "  {'id': 234744, 'name': 'sarcophagus'},\n",
       "  {'id': 243413, 'name': \"mummy's curse\"}],\n",
       " 'genres': [{'id': 99, 'name': 'Documentary'},\n",
       "  {'id': 36, 'name': 'History'},\n",
       "  {'id': 10770, 'name': 'TV Movie'}],\n",
       " 'popularity': 4.338,\n",
       " 'vote_count': 2,\n",
       " 'vote_average': 7.0}"
      ]
     },
     "execution_count": 48,
     "metadata": {},
     "output_type": "execute_result"
    }
   ],
   "source": [
    "# Example of returned result\n",
    "titles.loc[0,'search_result']"
   ]
  },
  {
   "cell_type": "code",
   "execution_count": 49,
   "metadata": {
    "id": "H9n8KnpVIJzv"
   },
   "outputs": [
    {
     "data": {
      "text/html": [
       "<div>\n",
       "<style scoped>\n",
       "    .dataframe tbody tr th:only-of-type {\n",
       "        vertical-align: middle;\n",
       "    }\n",
       "\n",
       "    .dataframe tbody tr th {\n",
       "        vertical-align: top;\n",
       "    }\n",
       "\n",
       "    .dataframe thead th {\n",
       "        text-align: right;\n",
       "    }\n",
       "</style>\n",
       "<table border=\"1\" class=\"dataframe\">\n",
       "  <thead>\n",
       "    <tr style=\"text-align: right;\">\n",
       "      <th></th>\n",
       "      <th>movie_id</th>\n",
       "      <th>year_of_release</th>\n",
       "      <th>title</th>\n",
       "      <th>moviedb_id</th>\n",
       "      <th>type</th>\n",
       "      <th>search_result</th>\n",
       "      <th>featured_actor</th>\n",
       "      <th>keywords</th>\n",
       "      <th>genre</th>\n",
       "      <th>popularity</th>\n",
       "      <th>vote_count</th>\n",
       "      <th>vote_average</th>\n",
       "    </tr>\n",
       "  </thead>\n",
       "  <tbody>\n",
       "    <tr>\n",
       "      <th>0</th>\n",
       "      <td>7003</td>\n",
       "      <td>2005.0</td>\n",
       "      <td>national geographic: arlington: field of honor</td>\n",
       "      <td>312215</td>\n",
       "      <td>movie</td>\n",
       "      <td>{'name': 'Zahi Hawass', 'keywords': [{'id': 11...</td>\n",
       "      <td>Zahi Hawass</td>\n",
       "      <td>[{'id': 1160, 'name': 'egypt'}, {'id': 2598, '...</td>\n",
       "      <td>[{'id': 99, 'name': 'Documentary'}, {'id': 36,...</td>\n",
       "      <td>4.338</td>\n",
       "      <td>2.0</td>\n",
       "      <td>7.0</td>\n",
       "    </tr>\n",
       "    <tr>\n",
       "      <th>1</th>\n",
       "      <td>9603</td>\n",
       "      <td>2005.0</td>\n",
       "      <td>pink floyd: atom heart mother</td>\n",
       "      <td>61913</td>\n",
       "      <td>movie</td>\n",
       "      <td>{'name': 'Roger Waters', 'keywords': [{'id': 5...</td>\n",
       "      <td>Roger Waters</td>\n",
       "      <td>[{'id': 5565, 'name': 'biography'}, {'id': 233...</td>\n",
       "      <td>[{'id': 99, 'name': 'Documentary'}]</td>\n",
       "      <td>1.863</td>\n",
       "      <td>1.0</td>\n",
       "      <td>7.0</td>\n",
       "    </tr>\n",
       "    <tr>\n",
       "      <th>2</th>\n",
       "      <td>14762</td>\n",
       "      <td>2005.0</td>\n",
       "      <td>devour</td>\n",
       "      <td>14147</td>\n",
       "      <td>movie</td>\n",
       "      <td>{'name': 'Jensen Ackles', 'keywords': [{'id': ...</td>\n",
       "      <td>Jensen Ackles</td>\n",
       "      <td>[{'id': 282, 'name': 'video game'}, {'id': 331...</td>\n",
       "      <td>[{'id': 27, 'name': 'Horror'}]</td>\n",
       "      <td>8.569</td>\n",
       "      <td>53.0</td>\n",
       "      <td>5.1</td>\n",
       "    </tr>\n",
       "    <tr>\n",
       "      <th>3</th>\n",
       "      <td>14757</td>\n",
       "      <td>2005.0</td>\n",
       "      <td>palindromes</td>\n",
       "      <td>13073</td>\n",
       "      <td>movie</td>\n",
       "      <td>{'name': 'Ellen Barkin', 'keywords': [{'id': 1...</td>\n",
       "      <td>Ellen Barkin</td>\n",
       "      <td>[{'id': 173186, 'name': 'teenage pregnancy'}, ...</td>\n",
       "      <td>[{'id': 35, 'name': 'Comedy'}, {'id': 18, 'nam...</td>\n",
       "      <td>12.121</td>\n",
       "      <td>102.0</td>\n",
       "      <td>6.2</td>\n",
       "    </tr>\n",
       "    <tr>\n",
       "      <th>4</th>\n",
       "      <td>631</td>\n",
       "      <td>2005.0</td>\n",
       "      <td>unleashed</td>\n",
       "      <td>10027</td>\n",
       "      <td>movie</td>\n",
       "      <td>{'name': 'Jet Li', 'keywords': [{'id': 779, 'n...</td>\n",
       "      <td>Jet Li</td>\n",
       "      <td>[{'id': 779, 'name': 'martial arts'}, {'id': 2...</td>\n",
       "      <td>[{'id': 28, 'name': 'Action'}, {'id': 80, 'nam...</td>\n",
       "      <td>17.592</td>\n",
       "      <td>1225.0</td>\n",
       "      <td>6.8</td>\n",
       "    </tr>\n",
       "  </tbody>\n",
       "</table>\n",
       "</div>"
      ],
      "text/plain": [
       "   movie_id  year_of_release                                           title  \\\n",
       "0      7003           2005.0  national geographic: arlington: field of honor   \n",
       "1      9603           2005.0                   pink floyd: atom heart mother   \n",
       "2     14762           2005.0                                          devour   \n",
       "3     14757           2005.0                                     palindromes   \n",
       "4       631           2005.0                                       unleashed   \n",
       "\n",
       "   moviedb_id   type                                      search_result  \\\n",
       "0      312215  movie  {'name': 'Zahi Hawass', 'keywords': [{'id': 11...   \n",
       "1       61913  movie  {'name': 'Roger Waters', 'keywords': [{'id': 5...   \n",
       "2       14147  movie  {'name': 'Jensen Ackles', 'keywords': [{'id': ...   \n",
       "3       13073  movie  {'name': 'Ellen Barkin', 'keywords': [{'id': 1...   \n",
       "4       10027  movie  {'name': 'Jet Li', 'keywords': [{'id': 779, 'n...   \n",
       "\n",
       "  featured_actor                                           keywords  \\\n",
       "0    Zahi Hawass  [{'id': 1160, 'name': 'egypt'}, {'id': 2598, '...   \n",
       "1   Roger Waters  [{'id': 5565, 'name': 'biography'}, {'id': 233...   \n",
       "2  Jensen Ackles  [{'id': 282, 'name': 'video game'}, {'id': 331...   \n",
       "3   Ellen Barkin  [{'id': 173186, 'name': 'teenage pregnancy'}, ...   \n",
       "4         Jet Li  [{'id': 779, 'name': 'martial arts'}, {'id': 2...   \n",
       "\n",
       "                                               genre  popularity  vote_count  \\\n",
       "0  [{'id': 99, 'name': 'Documentary'}, {'id': 36,...       4.338         2.0   \n",
       "1                [{'id': 99, 'name': 'Documentary'}]       1.863         1.0   \n",
       "2                     [{'id': 27, 'name': 'Horror'}]       8.569        53.0   \n",
       "3  [{'id': 35, 'name': 'Comedy'}, {'id': 18, 'nam...      12.121       102.0   \n",
       "4  [{'id': 28, 'name': 'Action'}, {'id': 80, 'nam...      17.592      1225.0   \n",
       "\n",
       "   vote_average  \n",
       "0           7.0  \n",
       "1           7.0  \n",
       "2           5.1  \n",
       "3           6.2  \n",
       "4           6.8  "
      ]
     },
     "execution_count": 49,
     "metadata": {},
     "output_type": "execute_result"
    }
   ],
   "source": [
    "# Convert search_result columns into multiple columns based on dictionary\n",
    "titles[['featured_actor', 'keywords', 'genre','popularity', 'vote_count', 'vote_average']] =  pd.DataFrame(titles['search_result'].tolist(), index=titles.index)\n",
    "titles.head()"
   ]
  },
  {
   "cell_type": "markdown",
   "metadata": {},
   "source": [
    "#### Fillna"
   ]
  },
  {
   "cell_type": "code",
   "execution_count": 50,
   "metadata": {},
   "outputs": [
    {
     "data": {
      "text/plain": [
       "featured_actor    1167\n",
       "keywords          4237\n",
       "genre             1108\n",
       "vote_count        1517\n",
       "vote_average      1519\n",
       "dtype: int64"
      ]
     },
     "execution_count": 50,
     "metadata": {},
     "output_type": "execute_result"
    }
   ],
   "source": [
    "# Check for null values\n",
    "titles.isnull().sum()[titles.isnull().sum()!=0]"
   ]
  },
  {
   "cell_type": "code",
   "execution_count": 51,
   "metadata": {},
   "outputs": [],
   "source": [
    "# Fillna for missing values\n",
    "titles['featured_actor'].fillna('NA', inplace=True)\n",
    "titles['keywords'].fillna('NA', inplace=True)\n",
    "titles['genre'].fillna('NA', inplace=True)\n",
    "titles['vote_count'].fillna(0, inplace=True)\n",
    "titles['vote_average'].fillna(0, inplace=True)"
   ]
  },
  {
   "cell_type": "code",
   "execution_count": 52,
   "metadata": {},
   "outputs": [
    {
     "data": {
      "text/plain": [
       "Series([], dtype: int64)"
      ]
     },
     "execution_count": 52,
     "metadata": {},
     "output_type": "execute_result"
    }
   ],
   "source": [
    "# Recheck if there are any null values\n",
    "titles.isnull().sum()[titles.isnull().sum()!=0]"
   ]
  },
  {
   "cell_type": "markdown",
   "metadata": {},
   "source": [
    "#### Creation of dictionary"
   ]
  },
  {
   "cell_type": "markdown",
   "metadata": {
    "id": "UvHp3Aw5YCS4"
   },
   "source": [
    "<span style='color:magenta'>Remarks:</span>\n",
    "The idea behind creation of genre & keyword dictionary is to create a key-value pairs which allows me to qucikly perform mapping at the modeling stage especially for the Neural Network as it accept a numpy array. The genre & keyword comes with its own indexing hence I do not need to create an identification key for them."
   ]
  },
  {
   "cell_type": "code",
   "execution_count": 53,
   "metadata": {},
   "outputs": [],
   "source": [
    "# Return a dictionary from a list of dictionary\n",
    "titles['keywords'] = titles['keywords'].apply(make_dict)\n",
    "titles['genre'] = titles['genre'].apply(make_dict)"
   ]
  },
  {
   "cell_type": "markdown",
   "metadata": {},
   "source": [
    "##### Keyword Dictionary"
   ]
  },
  {
   "cell_type": "code",
   "execution_count": 54,
   "metadata": {
    "id": "i9y11RiMB2kO"
   },
   "outputs": [],
   "source": [
    "# Generate a keyword dictionary\n",
    "keywords_dict = dict()\n",
    "titles['keywords'].apply(keywords_dict.update);\n",
    "\n",
    "# Convert dict into a series to be saved\n",
    "keywords_series = pd.Series(keywords_dict)\n",
    "\n",
    "# Change keyword column into list of keywords only\n",
    "titles['keywords'] = titles['keywords'].apply(lambda x: list(chain(x.keys())))"
   ]
  },
  {
   "cell_type": "code",
   "execution_count": 55,
   "metadata": {},
   "outputs": [
    {
     "data": {
      "text/html": [
       "<div>\n",
       "<style scoped>\n",
       "    .dataframe tbody tr th:only-of-type {\n",
       "        vertical-align: middle;\n",
       "    }\n",
       "\n",
       "    .dataframe tbody tr th {\n",
       "        vertical-align: top;\n",
       "    }\n",
       "\n",
       "    .dataframe thead th {\n",
       "        text-align: right;\n",
       "    }\n",
       "</style>\n",
       "<table border=\"1\" class=\"dataframe\">\n",
       "  <thead>\n",
       "    <tr style=\"text-align: right;\">\n",
       "      <th></th>\n",
       "      <th>movie_id</th>\n",
       "      <th>year_of_release</th>\n",
       "      <th>title</th>\n",
       "      <th>moviedb_id</th>\n",
       "      <th>type</th>\n",
       "      <th>search_result</th>\n",
       "      <th>featured_actor</th>\n",
       "      <th>keywords</th>\n",
       "      <th>genre</th>\n",
       "      <th>popularity</th>\n",
       "      <th>vote_count</th>\n",
       "      <th>vote_average</th>\n",
       "    </tr>\n",
       "  </thead>\n",
       "  <tbody>\n",
       "    <tr>\n",
       "      <th>0</th>\n",
       "      <td>7003</td>\n",
       "      <td>2005.0</td>\n",
       "      <td>national geographic: arlington: field of honor</td>\n",
       "      <td>312215</td>\n",
       "      <td>movie</td>\n",
       "      <td>{'name': 'Zahi Hawass', 'keywords': [{'id': 11...</td>\n",
       "      <td>Zahi Hawass</td>\n",
       "      <td>[egypt, museum, mummy, excavation, ancient egy...</td>\n",
       "      <td>{'Documentary': 99, 'History': 36, 'TV Movie':...</td>\n",
       "      <td>4.338</td>\n",
       "      <td>2.0</td>\n",
       "      <td>7.0</td>\n",
       "    </tr>\n",
       "    <tr>\n",
       "      <th>1</th>\n",
       "      <td>9603</td>\n",
       "      <td>2005.0</td>\n",
       "      <td>pink floyd: atom heart mother</td>\n",
       "      <td>61913</td>\n",
       "      <td>movie</td>\n",
       "      <td>{'name': 'Roger Waters', 'keywords': [{'id': 5...</td>\n",
       "      <td>Roger Waters</td>\n",
       "      <td>[biography, classic rock]</td>\n",
       "      <td>{'Documentary': 99}</td>\n",
       "      <td>1.863</td>\n",
       "      <td>1.0</td>\n",
       "      <td>7.0</td>\n",
       "    </tr>\n",
       "    <tr>\n",
       "      <th>2</th>\n",
       "      <td>14762</td>\n",
       "      <td>2005.0</td>\n",
       "      <td>devour</td>\n",
       "      <td>14147</td>\n",
       "      <td>movie</td>\n",
       "      <td>{'name': 'Jensen Ackles', 'keywords': [{'id': ...</td>\n",
       "      <td>Jensen Ackles</td>\n",
       "      <td>[video game, tattoo, nightmare, daydream, murd...</td>\n",
       "      <td>{'Horror': 27}</td>\n",
       "      <td>8.569</td>\n",
       "      <td>53.0</td>\n",
       "      <td>5.1</td>\n",
       "    </tr>\n",
       "    <tr>\n",
       "      <th>3</th>\n",
       "      <td>14757</td>\n",
       "      <td>2005.0</td>\n",
       "      <td>palindromes</td>\n",
       "      <td>13073</td>\n",
       "      <td>movie</td>\n",
       "      <td>{'name': 'Ellen Barkin', 'keywords': [{'id': 1...</td>\n",
       "      <td>Ellen Barkin</td>\n",
       "      <td>[teenage pregnancy, runaway teen]</td>\n",
       "      <td>{'Comedy': 35, 'Drama': 18}</td>\n",
       "      <td>12.121</td>\n",
       "      <td>102.0</td>\n",
       "      <td>6.2</td>\n",
       "    </tr>\n",
       "    <tr>\n",
       "      <th>4</th>\n",
       "      <td>631</td>\n",
       "      <td>2005.0</td>\n",
       "      <td>unleashed</td>\n",
       "      <td>10027</td>\n",
       "      <td>movie</td>\n",
       "      <td>{'name': 'Jet Li', 'keywords': [{'id': 779, 'n...</td>\n",
       "      <td>Jet Li</td>\n",
       "      <td>[martial arts, hitman, serial killer]</td>\n",
       "      <td>{'Action': 28, 'Crime': 80}</td>\n",
       "      <td>17.592</td>\n",
       "      <td>1225.0</td>\n",
       "      <td>6.8</td>\n",
       "    </tr>\n",
       "  </tbody>\n",
       "</table>\n",
       "</div>"
      ],
      "text/plain": [
       "   movie_id  year_of_release                                           title  \\\n",
       "0      7003           2005.0  national geographic: arlington: field of honor   \n",
       "1      9603           2005.0                   pink floyd: atom heart mother   \n",
       "2     14762           2005.0                                          devour   \n",
       "3     14757           2005.0                                     palindromes   \n",
       "4       631           2005.0                                       unleashed   \n",
       "\n",
       "   moviedb_id   type                                      search_result  \\\n",
       "0      312215  movie  {'name': 'Zahi Hawass', 'keywords': [{'id': 11...   \n",
       "1       61913  movie  {'name': 'Roger Waters', 'keywords': [{'id': 5...   \n",
       "2       14147  movie  {'name': 'Jensen Ackles', 'keywords': [{'id': ...   \n",
       "3       13073  movie  {'name': 'Ellen Barkin', 'keywords': [{'id': 1...   \n",
       "4       10027  movie  {'name': 'Jet Li', 'keywords': [{'id': 779, 'n...   \n",
       "\n",
       "  featured_actor                                           keywords  \\\n",
       "0    Zahi Hawass  [egypt, museum, mummy, excavation, ancient egy...   \n",
       "1   Roger Waters                          [biography, classic rock]   \n",
       "2  Jensen Ackles  [video game, tattoo, nightmare, daydream, murd...   \n",
       "3   Ellen Barkin                  [teenage pregnancy, runaway teen]   \n",
       "4         Jet Li              [martial arts, hitman, serial killer]   \n",
       "\n",
       "                                               genre  popularity  vote_count  \\\n",
       "0  {'Documentary': 99, 'History': 36, 'TV Movie':...       4.338         2.0   \n",
       "1                                {'Documentary': 99}       1.863         1.0   \n",
       "2                                     {'Horror': 27}       8.569        53.0   \n",
       "3                        {'Comedy': 35, 'Drama': 18}      12.121       102.0   \n",
       "4                        {'Action': 28, 'Crime': 80}      17.592      1225.0   \n",
       "\n",
       "   vote_average  \n",
       "0           7.0  \n",
       "1           7.0  \n",
       "2           5.1  \n",
       "3           6.2  \n",
       "4           6.8  "
      ]
     },
     "execution_count": 55,
     "metadata": {},
     "output_type": "execute_result"
    }
   ],
   "source": [
    "titles.head()"
   ]
  },
  {
   "cell_type": "code",
   "execution_count": 56,
   "metadata": {},
   "outputs": [],
   "source": [
    "# Save file to HDF5\n",
    "hf = pd.HDFStore('datasets/movie.hdf5')\n",
    "hf['keywords_series'] = keywords_series\n",
    "hf.close()"
   ]
  },
  {
   "cell_type": "markdown",
   "metadata": {},
   "source": [
    "##### Genre Dictionary"
   ]
  },
  {
   "cell_type": "code",
   "execution_count": 57,
   "metadata": {},
   "outputs": [],
   "source": [
    "def genre_dict_update(x,key_1,key_dict):\n",
    "    '''\n",
    "    Function will generate a dictionary of dictionary based on title type\n",
    "    \n",
    "    arg1 (list of dict): Element of the data series\n",
    "    arg2 (str)         : title type\n",
    "    arg3 (dict)        : return dictionary\n",
    "    \n",
    "    '''\n",
    "    if x != dict():\n",
    "        if key_1 == 'tv':\n",
    "            key_dict['tv'].update(x)\n",
    "        if key_1 == 'movie':\n",
    "            key_dict['movie'].update(x)"
   ]
  },
  {
   "cell_type": "code",
   "execution_count": 58,
   "metadata": {
    "id": "FnTbBtg5XF9l"
   },
   "outputs": [],
   "source": [
    "# Create a genre dictionary, The genre is split into 2 - tv & movie due to the way the API is strcutre and I am not able to confirm if the same id is used.\n",
    "g_dict = {'tv':{}, 'movie':{}}"
   ]
  },
  {
   "cell_type": "code",
   "execution_count": 59,
   "metadata": {
    "id": "c68LH2iKYPdV"
   },
   "outputs": [],
   "source": [
    "# update genre_dict based on titles type\n",
    "for i in range(len(titles)):\n",
    "    genre_dict_update(titles.loc[i,'genre'],titles.loc[i,'type'],g_dict)"
   ]
  },
  {
   "cell_type": "code",
   "execution_count": 59,
   "metadata": {
    "colab": {
     "base_uri": "https://localhost:8080/",
     "height": 697
    },
    "id": "idFRXLvjYni1",
    "outputId": "dde21245-77d7-49d3-c1b8-003a37bb46bf",
    "scrolled": true
   },
   "outputs": [
    {
     "data": {
      "text/plain": [
       "{'tv': {'Drama': 18,\n",
       "  'Mystery': 9648,\n",
       "  'Comedy': 35,\n",
       "  'Western': 37,\n",
       "  'Action & Adventure': 10759,\n",
       "  'Animation': 16,\n",
       "  'Crime': 80,\n",
       "  'Sci-Fi & Fantasy': 10765,\n",
       "  'Documentary': 99,\n",
       "  'Reality': 10764,\n",
       "  'Family': 10751,\n",
       "  'Kids': 10762,\n",
       "  'War & Politics': 10768,\n",
       "  'Talk': 10767,\n",
       "  'Adventure': 12,\n",
       "  'War': 10752,\n",
       "  'Horror': 27,\n",
       "  'Soap': 10766,\n",
       "  'Music': 10402,\n",
       "  'News': 10763,\n",
       "  'Science Fiction': 878},\n",
       " 'movie': {'Documentary': 99,\n",
       "  'History': 36,\n",
       "  'TV Movie': 10770,\n",
       "  'Horror': 27,\n",
       "  'Comedy': 35,\n",
       "  'Drama': 18,\n",
       "  'Action': 28,\n",
       "  'Crime': 80,\n",
       "  'Family': 10751,\n",
       "  'Romance': 10749,\n",
       "  'Music': 10402,\n",
       "  'Adventure': 12,\n",
       "  'Animation': 16,\n",
       "  'Fantasy': 14,\n",
       "  'Science Fiction': 878,\n",
       "  'War': 10752,\n",
       "  'Thriller': 53,\n",
       "  'Mystery': 9648,\n",
       "  'Western': 37}}"
      ]
     },
     "execution_count": 59,
     "metadata": {},
     "output_type": "execute_result"
    }
   ],
   "source": [
    "g_dict"
   ]
  },
  {
   "cell_type": "markdown",
   "metadata": {
    "id": "kuXraBFTkCNW",
    "outputId": "fbb35ed7-a24e-4d05-b4d5-f027d6a09686"
   },
   "source": [
    "<span style='color:magenta'>Remarks:</span>\n",
    "From the result, it seems that both TV & Moives are using the same id for the same genre. I will be combining them together."
   ]
  },
  {
   "cell_type": "code",
   "execution_count": 60,
   "metadata": {
    "id": "r3PJQ_FgkgEW"
   },
   "outputs": [],
   "source": [
    "genre_dict = dict()\n",
    "genre_dict.update(g_dict['tv'])\n",
    "genre_dict.update(g_dict['movie'])\n",
    "\n",
    "# Convert dict into a series to be saved\n",
    "genre_series = pd.Series(genre_dict)"
   ]
  },
  {
   "cell_type": "code",
   "execution_count": 61,
   "metadata": {
    "id": "s5CkT60-AKmE"
   },
   "outputs": [],
   "source": [
    "# Save file to HDF5\n",
    "hf = pd.HDFStore('datasets/movie.hdf5')\n",
    "hf['genre_series'] = genre_series\n",
    "hf.close()"
   ]
  },
  {
   "cell_type": "code",
   "execution_count": 62,
   "metadata": {
    "id": "SPsJ6StjXQau"
   },
   "outputs": [],
   "source": [
    "# Change keyword column into list of genre id only\n",
    "titles['genre'] = titles['genre'].apply(lambda x: list(chain(x.keys())))"
   ]
  },
  {
   "cell_type": "code",
   "execution_count": 63,
   "metadata": {
    "colab": {
     "base_uri": "https://localhost:8080/",
     "height": 289
    },
    "id": "IagJBM8fQG59",
    "outputId": "2fa7e11a-be60-4ebd-ed19-d25c41f07606"
   },
   "outputs": [
    {
     "data": {
      "text/html": [
       "<div>\n",
       "<style scoped>\n",
       "    .dataframe tbody tr th:only-of-type {\n",
       "        vertical-align: middle;\n",
       "    }\n",
       "\n",
       "    .dataframe tbody tr th {\n",
       "        vertical-align: top;\n",
       "    }\n",
       "\n",
       "    .dataframe thead th {\n",
       "        text-align: right;\n",
       "    }\n",
       "</style>\n",
       "<table border=\"1\" class=\"dataframe\">\n",
       "  <thead>\n",
       "    <tr style=\"text-align: right;\">\n",
       "      <th></th>\n",
       "      <th>movie_id</th>\n",
       "      <th>year_of_release</th>\n",
       "      <th>title</th>\n",
       "      <th>moviedb_id</th>\n",
       "      <th>type</th>\n",
       "      <th>search_result</th>\n",
       "      <th>featured_actor</th>\n",
       "      <th>keywords</th>\n",
       "      <th>genre</th>\n",
       "      <th>popularity</th>\n",
       "      <th>vote_count</th>\n",
       "      <th>vote_average</th>\n",
       "    </tr>\n",
       "  </thead>\n",
       "  <tbody>\n",
       "    <tr>\n",
       "      <th>0</th>\n",
       "      <td>7003</td>\n",
       "      <td>2005.0</td>\n",
       "      <td>national geographic: arlington: field of honor</td>\n",
       "      <td>312215</td>\n",
       "      <td>movie</td>\n",
       "      <td>{'name': 'Zahi Hawass', 'keywords': [{'id': 11...</td>\n",
       "      <td>Zahi Hawass</td>\n",
       "      <td>[egypt, museum, mummy, excavation, ancient egy...</td>\n",
       "      <td>[Documentary, History, TV Movie]</td>\n",
       "      <td>4.338</td>\n",
       "      <td>2.0</td>\n",
       "      <td>7.0</td>\n",
       "    </tr>\n",
       "    <tr>\n",
       "      <th>1</th>\n",
       "      <td>9603</td>\n",
       "      <td>2005.0</td>\n",
       "      <td>pink floyd: atom heart mother</td>\n",
       "      <td>61913</td>\n",
       "      <td>movie</td>\n",
       "      <td>{'name': 'Roger Waters', 'keywords': [{'id': 5...</td>\n",
       "      <td>Roger Waters</td>\n",
       "      <td>[biography, classic rock]</td>\n",
       "      <td>[Documentary]</td>\n",
       "      <td>1.863</td>\n",
       "      <td>1.0</td>\n",
       "      <td>7.0</td>\n",
       "    </tr>\n",
       "    <tr>\n",
       "      <th>2</th>\n",
       "      <td>14762</td>\n",
       "      <td>2005.0</td>\n",
       "      <td>devour</td>\n",
       "      <td>14147</td>\n",
       "      <td>movie</td>\n",
       "      <td>{'name': 'Jensen Ackles', 'keywords': [{'id': ...</td>\n",
       "      <td>Jensen Ackles</td>\n",
       "      <td>[video game, tattoo, nightmare, daydream, murd...</td>\n",
       "      <td>[Horror]</td>\n",
       "      <td>8.569</td>\n",
       "      <td>53.0</td>\n",
       "      <td>5.1</td>\n",
       "    </tr>\n",
       "    <tr>\n",
       "      <th>3</th>\n",
       "      <td>14757</td>\n",
       "      <td>2005.0</td>\n",
       "      <td>palindromes</td>\n",
       "      <td>13073</td>\n",
       "      <td>movie</td>\n",
       "      <td>{'name': 'Ellen Barkin', 'keywords': [{'id': 1...</td>\n",
       "      <td>Ellen Barkin</td>\n",
       "      <td>[teenage pregnancy, runaway teen]</td>\n",
       "      <td>[Comedy, Drama]</td>\n",
       "      <td>12.121</td>\n",
       "      <td>102.0</td>\n",
       "      <td>6.2</td>\n",
       "    </tr>\n",
       "    <tr>\n",
       "      <th>4</th>\n",
       "      <td>631</td>\n",
       "      <td>2005.0</td>\n",
       "      <td>unleashed</td>\n",
       "      <td>10027</td>\n",
       "      <td>movie</td>\n",
       "      <td>{'name': 'Jet Li', 'keywords': [{'id': 779, 'n...</td>\n",
       "      <td>Jet Li</td>\n",
       "      <td>[martial arts, hitman, serial killer]</td>\n",
       "      <td>[Action, Crime]</td>\n",
       "      <td>17.592</td>\n",
       "      <td>1225.0</td>\n",
       "      <td>6.8</td>\n",
       "    </tr>\n",
       "  </tbody>\n",
       "</table>\n",
       "</div>"
      ],
      "text/plain": [
       "   movie_id  year_of_release                                           title  \\\n",
       "0      7003           2005.0  national geographic: arlington: field of honor   \n",
       "1      9603           2005.0                   pink floyd: atom heart mother   \n",
       "2     14762           2005.0                                          devour   \n",
       "3     14757           2005.0                                     palindromes   \n",
       "4       631           2005.0                                       unleashed   \n",
       "\n",
       "   moviedb_id   type                                      search_result  \\\n",
       "0      312215  movie  {'name': 'Zahi Hawass', 'keywords': [{'id': 11...   \n",
       "1       61913  movie  {'name': 'Roger Waters', 'keywords': [{'id': 5...   \n",
       "2       14147  movie  {'name': 'Jensen Ackles', 'keywords': [{'id': ...   \n",
       "3       13073  movie  {'name': 'Ellen Barkin', 'keywords': [{'id': 1...   \n",
       "4       10027  movie  {'name': 'Jet Li', 'keywords': [{'id': 779, 'n...   \n",
       "\n",
       "  featured_actor                                           keywords  \\\n",
       "0    Zahi Hawass  [egypt, museum, mummy, excavation, ancient egy...   \n",
       "1   Roger Waters                          [biography, classic rock]   \n",
       "2  Jensen Ackles  [video game, tattoo, nightmare, daydream, murd...   \n",
       "3   Ellen Barkin                  [teenage pregnancy, runaway teen]   \n",
       "4         Jet Li              [martial arts, hitman, serial killer]   \n",
       "\n",
       "                              genre  popularity  vote_count  vote_average  \n",
       "0  [Documentary, History, TV Movie]       4.338         2.0           7.0  \n",
       "1                     [Documentary]       1.863         1.0           7.0  \n",
       "2                          [Horror]       8.569        53.0           5.1  \n",
       "3                   [Comedy, Drama]      12.121       102.0           6.2  \n",
       "4                   [Action, Crime]      17.592      1225.0           6.8  "
      ]
     },
     "execution_count": 63,
     "metadata": {},
     "output_type": "execute_result"
    }
   ],
   "source": [
    "titles.head()"
   ]
  },
  {
   "cell_type": "code",
   "execution_count": 64,
   "metadata": {
    "id": "dNhLx9YzQHL5"
   },
   "outputs": [
    {
     "name": "stdout",
     "output_type": "stream",
     "text": [
      "(14923, 10)\n"
     ]
    },
    {
     "data": {
      "text/html": [
       "<div>\n",
       "<style scoped>\n",
       "    .dataframe tbody tr th:only-of-type {\n",
       "        vertical-align: middle;\n",
       "    }\n",
       "\n",
       "    .dataframe tbody tr th {\n",
       "        vertical-align: top;\n",
       "    }\n",
       "\n",
       "    .dataframe thead th {\n",
       "        text-align: right;\n",
       "    }\n",
       "</style>\n",
       "<table border=\"1\" class=\"dataframe\">\n",
       "  <thead>\n",
       "    <tr style=\"text-align: right;\">\n",
       "      <th></th>\n",
       "      <th>movie_id</th>\n",
       "      <th>year_of_release</th>\n",
       "      <th>title</th>\n",
       "      <th>type</th>\n",
       "      <th>featured_actor</th>\n",
       "      <th>keywords</th>\n",
       "      <th>genre</th>\n",
       "      <th>popularity</th>\n",
       "      <th>vote_count</th>\n",
       "      <th>vote_average</th>\n",
       "    </tr>\n",
       "  </thead>\n",
       "  <tbody>\n",
       "    <tr>\n",
       "      <th>0</th>\n",
       "      <td>7003</td>\n",
       "      <td>2005.0</td>\n",
       "      <td>national geographic: arlington: field of honor</td>\n",
       "      <td>movie</td>\n",
       "      <td>Zahi Hawass</td>\n",
       "      <td>[egypt, museum, mummy, excavation, ancient egy...</td>\n",
       "      <td>[Documentary, History, TV Movie]</td>\n",
       "      <td>4.338</td>\n",
       "      <td>2.0</td>\n",
       "      <td>7.0</td>\n",
       "    </tr>\n",
       "    <tr>\n",
       "      <th>1</th>\n",
       "      <td>9603</td>\n",
       "      <td>2005.0</td>\n",
       "      <td>pink floyd: atom heart mother</td>\n",
       "      <td>movie</td>\n",
       "      <td>Roger Waters</td>\n",
       "      <td>[biography, classic rock]</td>\n",
       "      <td>[Documentary]</td>\n",
       "      <td>1.863</td>\n",
       "      <td>1.0</td>\n",
       "      <td>7.0</td>\n",
       "    </tr>\n",
       "    <tr>\n",
       "      <th>2</th>\n",
       "      <td>14762</td>\n",
       "      <td>2005.0</td>\n",
       "      <td>devour</td>\n",
       "      <td>movie</td>\n",
       "      <td>Jensen Ackles</td>\n",
       "      <td>[video game, tattoo, nightmare, daydream, murd...</td>\n",
       "      <td>[Horror]</td>\n",
       "      <td>8.569</td>\n",
       "      <td>53.0</td>\n",
       "      <td>5.1</td>\n",
       "    </tr>\n",
       "    <tr>\n",
       "      <th>3</th>\n",
       "      <td>14757</td>\n",
       "      <td>2005.0</td>\n",
       "      <td>palindromes</td>\n",
       "      <td>movie</td>\n",
       "      <td>Ellen Barkin</td>\n",
       "      <td>[teenage pregnancy, runaway teen]</td>\n",
       "      <td>[Comedy, Drama]</td>\n",
       "      <td>12.121</td>\n",
       "      <td>102.0</td>\n",
       "      <td>6.2</td>\n",
       "    </tr>\n",
       "    <tr>\n",
       "      <th>4</th>\n",
       "      <td>631</td>\n",
       "      <td>2005.0</td>\n",
       "      <td>unleashed</td>\n",
       "      <td>movie</td>\n",
       "      <td>Jet Li</td>\n",
       "      <td>[martial arts, hitman, serial killer]</td>\n",
       "      <td>[Action, Crime]</td>\n",
       "      <td>17.592</td>\n",
       "      <td>1225.0</td>\n",
       "      <td>6.8</td>\n",
       "    </tr>\n",
       "  </tbody>\n",
       "</table>\n",
       "</div>"
      ],
      "text/plain": [
       "   movie_id  year_of_release                                           title  \\\n",
       "0      7003           2005.0  national geographic: arlington: field of honor   \n",
       "1      9603           2005.0                   pink floyd: atom heart mother   \n",
       "2     14762           2005.0                                          devour   \n",
       "3     14757           2005.0                                     palindromes   \n",
       "4       631           2005.0                                       unleashed   \n",
       "\n",
       "    type featured_actor                                           keywords  \\\n",
       "0  movie    Zahi Hawass  [egypt, museum, mummy, excavation, ancient egy...   \n",
       "1  movie   Roger Waters                          [biography, classic rock]   \n",
       "2  movie  Jensen Ackles  [video game, tattoo, nightmare, daydream, murd...   \n",
       "3  movie   Ellen Barkin                  [teenage pregnancy, runaway teen]   \n",
       "4  movie         Jet Li              [martial arts, hitman, serial killer]   \n",
       "\n",
       "                              genre  popularity  vote_count  vote_average  \n",
       "0  [Documentary, History, TV Movie]       4.338         2.0           7.0  \n",
       "1                     [Documentary]       1.863         1.0           7.0  \n",
       "2                          [Horror]       8.569        53.0           5.1  \n",
       "3                   [Comedy, Drama]      12.121       102.0           6.2  \n",
       "4                   [Action, Crime]      17.592      1225.0           6.8  "
      ]
     },
     "execution_count": 64,
     "metadata": {},
     "output_type": "execute_result"
    }
   ],
   "source": [
    "# Remove search_result column\n",
    "titles.drop(columns=['search_result','moviedb_id'], inplace=True, errors='ignore')\n",
    "print(titles.shape)\n",
    "titles.head()"
   ]
  },
  {
   "cell_type": "code",
   "execution_count": 65,
   "metadata": {},
   "outputs": [],
   "source": [
    "# Create a series to creat a title mapping dict\n",
    "title_series= titles[['movie_id','title','genre']].set_index(keys='movie_id')"
   ]
  },
  {
   "cell_type": "code",
   "execution_count": 66,
   "metadata": {
    "id": "moI8KTmmAKmO",
    "outputId": "267f962e-5aa2-4083-95c1-6d2e1e862045"
   },
   "outputs": [
    {
     "name": "stderr",
     "output_type": "stream",
     "text": [
      "C:\\Users\\User\\anaconda3\\lib\\site-packages\\IPython\\core\\interactiveshell.py:3343: PerformanceWarning: \n",
      "your performance may suffer as PyTables will pickle object types that it cannot\n",
      "map directly to c-types [inferred_type->mixed,key->block2_values] [items->Index(['title', 'type', 'featured_actor', 'keywords', 'genre'], dtype='object')]\n",
      "\n",
      "  exec(code_obj, self.user_global_ns, self.user_ns)\n",
      "C:\\Users\\User\\anaconda3\\lib\\site-packages\\IPython\\core\\interactiveshell.py:3343: PerformanceWarning: \n",
      "your performance may suffer as PyTables will pickle object types that it cannot\n",
      "map directly to c-types [inferred_type->mixed,key->block0_values] [items->Index(['title', 'genre'], dtype='object')]\n",
      "\n",
      "  exec(code_obj, self.user_global_ns, self.user_ns)\n"
     ]
    }
   ],
   "source": [
    "# Save a copy of the cleaned title dataset\n",
    "hf = pd.HDFStore('datasets/movie_raw.hdf5')\n",
    "hf['titles_cleaned'] = titles\n",
    "hf.close()\n",
    "\n",
    "hf = pd.HDFStore('datasets/movie.hdf5')\n",
    "hf['titles_series'] = title_series\n",
    "hf.close()"
   ]
  },
  {
   "cell_type": "code",
   "execution_count": 67,
   "metadata": {},
   "outputs": [
    {
     "name": "stdout",
     "output_type": "stream",
     "text": [
      "Dataframe in movie_raw.hdf5 <KeysViewHDF5 ['full_ratings', 'titles_cleaned', 'titles_search_mvid']>\n"
     ]
    }
   ],
   "source": [
    "# Check if the dataframe is saved.\n",
    "hf = h5py.File('datasets/movie_raw.hdf5','r')\n",
    "print(f'Dataframe in movie_raw.hdf5 {hf.keys()}')\n",
    "hf.close()"
   ]
  },
  {
   "cell_type": "markdown",
   "metadata": {
    "id": "7rSSQkTeAKmU"
   },
   "source": [
    "### Users Rating"
   ]
  },
  {
   "cell_type": "markdown",
   "metadata": {
    "id": "kuXraBFTkCNW",
    "outputId": "fbb35ed7-a24e-4d05-b4d5-f027d6a09686"
   },
   "source": [
    "<span style='color:magenta'>Remarks:</span>\n",
    "The user rating is a massive multi-document data set. Each user's ratings are saved as a text file and each file contains the ratings for all the tiles they rate, including the date that they rate them. In total, there are over 100 million rows of data. Due to the massive-ness of it, I have attempt to save resources (RAM) by imputing them to the smallest data-type. "
   ]
  },
  {
   "cell_type": "markdown",
   "metadata": {},
   "source": [
    "#### Glob User Rating Files"
   ]
  },
  {
   "cell_type": "code",
   "execution_count": 68,
   "metadata": {
    "id": "x0SAS7vDAKmU",
    "outputId": "1ae946dc-898b-4e9d-b971-7852d98953bd"
   },
   "outputs": [
    {
     "name": "stdout",
     "output_type": "stream",
     "text": [
      "glob completed, saving....\n",
      "--------------------------------------------------\n",
      "<class 'pandas.core.frame.DataFrame'>\n",
      "RangeIndex: 100480507 entries, 0 to 100480506\n",
      "Data columns (total 4 columns):\n",
      " #   Column       Dtype         \n",
      "---  ------       -----         \n",
      " 0   customer_id  int32         \n",
      " 1   rating       int8          \n",
      " 2   date         datetime64[ns]\n",
      " 3   movie_id     int16         \n",
      "dtypes: datetime64[ns](1), int16(1), int32(1), int8(1)\n",
      "memory usage: 1.4 GB\n",
      "None\n",
      "--------------------------------------------------\n",
      "Saving completed\n",
      "Dataframe in movie.hdf5 <KeysViewHDF5 ['full_ratings', 'titles_cleaned', 'titles_search_mvid']>\n"
     ]
    }
   ],
   "source": [
    "# Import rating files into dataframe\n",
    "ls_of_ratings = []\n",
    "\n",
    "# Specify the pattern matching for glob\n",
    "rating_files = glob.glob('datasets/training_set/*')\n",
    "\n",
    "# Loop to get dataframe into list\n",
    "for filename in rating_files:\n",
    "    df = pd.read_csv(filename, sep=',', names=['customer_id','rating','date'],skiprows=1)\n",
    "    df['movie_id'] = int(filename.split('mv_')[1].split('.')[0])\n",
    "    ls_of_ratings.append(df)\n",
    "\n",
    "# Concat dataframe together\n",
    "ratings = pd.concat(ls_of_ratings,ignore_index=True)\n",
    "\n",
    "print('glob completed, saving....')\n",
    "print(\"-\" * 50)\n",
    "\n",
    "# covert dataframe into memory-saving datatype\n",
    "ratings['date'] = pd.to_datetime(ratings['date'])\n",
    "ratings[['customer_id', 'rating', 'movie_id']] = ratings[['customer_id', 'rating', 'movie_id']].apply(pd.to_numeric,args=('ignore','integer'))\n",
    "\n",
    "# Save file to HDF5\n",
    "hf = pd.HDFStore('datasets/movie_raw.hdf5')\n",
    "hf['full_ratings'] = ratings\n",
    "hf.close()\n",
    "\n",
    "print(ratings.info())\n",
    "print(\"-\" * 50)\n",
    "print('Saving completed')\n",
    "\n",
    "# Check if the dataframe is saved.\n",
    "hf = h5py.File('datasets/movie_raw.hdf5','r')\n",
    "print(f'Dataframe in movie.hdf5 {hf.keys()}')\n",
    "hf.close()"
   ]
  },
  {
   "cell_type": "markdown",
   "metadata": {},
   "source": [
    "#### Filter user-ratings of titles dropped"
   ]
  },
  {
   "cell_type": "code",
   "execution_count": 69,
   "metadata": {
    "id": "meVUaOKHAKmX"
   },
   "outputs": [],
   "source": [
    "# Find unique movie_id from titles\n",
    "titles_set = set(titles['movie_id'])"
   ]
  },
  {
   "cell_type": "code",
   "execution_count": 70,
   "metadata": {
    "id": "JPVmfFtlAKma"
   },
   "outputs": [],
   "source": [
    "# Filtered ratings based on cleaned titles\n",
    "ratings = ratings[ratings['movie_id'].isin(titles_set)]"
   ]
  },
  {
   "cell_type": "code",
   "execution_count": 71,
   "metadata": {
    "id": "zAQOhLqpAKmb"
   },
   "outputs": [],
   "source": [
    "#save rating file\n",
    "hf = pd.HDFStore('datasets/movie_raw.hdf5')\n",
    "hf['full_ratings'] = ratings\n",
    "hf.close()"
   ]
  },
  {
   "cell_type": "code",
   "execution_count": 72,
   "metadata": {
    "id": "O9TFV32vAKmc",
    "outputId": "68755284-76fe-4850-85ef-023fa9ded103"
   },
   "outputs": [
    {
     "name": "stdout",
     "output_type": "stream",
     "text": [
      "Dataframe in movie_raw.hdf5 <KeysViewHDF5 ['full_ratings', 'titles_cleaned', 'titles_search_mvid']>\n"
     ]
    }
   ],
   "source": [
    "hf = h5py.File('datasets/movie_raw.hdf5','r')\n",
    "print(f'Dataframe in movie_raw.hdf5 {hf.keys()}')\n",
    "hf.close()"
   ]
  },
  {
   "cell_type": "code",
   "execution_count": 73,
   "metadata": {},
   "outputs": [
    {
     "name": "stdout",
     "output_type": "stream",
     "text": [
      "Dataframe in movie.hdf5 <KeysViewHDF5 ['genre_series', 'keywords_series', 'titles_series']>\n"
     ]
    }
   ],
   "source": [
    "hf = h5py.File('datasets/movie.hdf5','r')\n",
    "print(f'Dataframe in movie.hdf5 {hf.keys()}')\n",
    "hf.close()"
   ]
  },
  {
   "cell_type": "code",
   "execution_count": null,
   "metadata": {},
   "outputs": [],
   "source": []
  }
 ],
 "metadata": {
  "accelerator": "GPU",
  "colab": {
   "collapsed_sections": [],
   "name": "New Capstone_1_DataCollection.ipynb",
   "provenance": []
  },
  "kernelspec": {
   "display_name": "Python 3",
   "language": "python",
   "name": "python3"
  },
  "language_info": {
   "codemirror_mode": {
    "name": "ipython",
    "version": 3
   },
   "file_extension": ".py",
   "mimetype": "text/x-python",
   "name": "python",
   "nbconvert_exporter": "python",
   "pygments_lexer": "ipython3",
   "version": "3.8.3"
  },
  "toc-autonumbering": false,
  "toc-showmarkdowntxt": false,
  "toc-showtags": false
 },
 "nbformat": 4,
 "nbformat_minor": 4
}
