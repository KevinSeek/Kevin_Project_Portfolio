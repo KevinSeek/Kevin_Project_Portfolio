{
 "cells": [
  {
   "cell_type": "markdown",
   "metadata": {},
   "source": [
    "# Introduction\n",
    "\n",
    "As the trend of on-demand entertainment becoming more prevelant, there is a change in the trend of content creation being less exclusive to a particular network and more avaiable across various content providers. Due to this, there is a competiton across various entertainment provider to provide the right content to the right user to ensure that their users are engaged and reduce their needs to move to another content provider. 1 key factor that can help in pushing the right content to the right users is to have a robust recommendation system.\n",
    "\n",
    "A singapore start-up which envision to be the Netflix of Singapore, has hired me as a Data scientist to assist their team in creating a recommendation system. They have kindly provided movie rating data from their system. Due to PDPA, no user's profiles are provided."
   ]
  },
  {
   "cell_type": "markdown",
   "metadata": {},
   "source": [
    "## Problem Statement\n",
    "1. To create a recommendation system based on collaborative filtering to recommend movies to users based on similar movie watched & ratings.\n",
    "2. Recommendation system should provide new contents (w/o rating) users based on user profile to user."
   ]
  },
  {
   "cell_type": "markdown",
   "metadata": {},
   "source": [
    "## Import Library"
   ]
  },
  {
   "cell_type": "code",
   "execution_count": 1,
   "metadata": {},
   "outputs": [],
   "source": [
    "import pickle\n",
    "pickle.HIGHEST_PROTOCOL = 4\n",
    "import numpy as np\n",
    "import pandas as pd\n",
    "import glob\n",
    "import csv\n",
    "\n",
    "import matplotlib.pyplot as plt\n",
    "import seaborn as sns\n",
    "\n",
    "# API Call\n",
    "import requests\n",
    "\n",
    "from datetime import datetime\n",
    "\n",
    "\n",
    "# Additional Setting\n",
    "pd.set_option(\"display.max_rows\", 201)"
   ]
  },
  {
   "cell_type": "markdown",
   "metadata": {},
   "source": [
    "## Import Data sets "
   ]
  },
  {
   "cell_type": "markdown",
   "metadata": {},
   "source": [
    "### Import Movie Rating File by Users"
   ]
  },
  {
   "cell_type": "code",
   "execution_count": 19,
   "metadata": {
    "scrolled": true
   },
   "outputs": [
    {
     "name": "stdout",
     "output_type": "stream",
     "text": [
      "glob completed\n",
      "Wall time: 2min 56s\n"
     ]
    }
   ],
   "source": [
    "%%time\n",
    "# Import rating files into dataframe\n",
    "ls_of_ratings = []\n",
    "\n",
    "# Specify the pattern matching for glob\n",
    "rating_files = glob.glob('datasets/training_set/*')\n",
    "\n",
    "# Loop to get dataframe into list\n",
    "for filename in rating_files:\n",
    "    df = pd.read_csv(filename, sep=',', names=['customer_id','rating','date'],skiprows=1)\n",
    "    df['movie_id'] = int(filename.split('mv_')[1].split('.')[0])\n",
    "    ls_of_ratings.append(df)\n",
    "\n",
    "# Concat dataframe together\n",
    "ratings = pd.concat(ls_of_ratings,ignore_index=True)\n",
    "\n",
    "print('glob completed')"
   ]
  },
  {
   "cell_type": "code",
   "execution_count": 16,
   "metadata": {},
   "outputs": [
    {
     "name": "stdout",
     "output_type": "stream",
     "text": [
      "Wall time: 7min 11s\n"
     ]
    }
   ],
   "source": [
    "%%time\n",
    "ratings.to_csv('datasets/movie.csv')"
   ]
  },
  {
   "cell_type": "code",
   "execution_count": 20,
   "metadata": {},
   "outputs": [
    {
     "name": "stdout",
     "output_type": "stream",
     "text": [
      "Wall time: 34.4 s\n"
     ]
    }
   ],
   "source": [
    "%%time\n",
    "ratings.to_hdf('datasets/movie.h5', key='ratings', mode='w')"
   ]
  },
  {
   "cell_type": "code",
   "execution_count": 2,
   "metadata": {},
   "outputs": [
    {
     "name": "stdout",
     "output_type": "stream",
     "text": [
      "Wall time: 27.8 s\n"
     ]
    }
   ],
   "source": [
    "%%time\n",
    "test_df = pd.read_hdf('datasets/movie.h5', 'ratings')"
   ]
  },
  {
   "cell_type": "code",
   "execution_count": 14,
   "metadata": {},
   "outputs": [
    {
     "name": "stdout",
     "output_type": "stream",
     "text": [
      "Wall time: 1min 15s\n"
     ]
    }
   ],
   "source": [
    "%%time\n",
    "test_df2 = pd.read_csv('datasets/ratings_combined.csv')"
   ]
  },
  {
   "cell_type": "code",
   "execution_count": 4,
   "metadata": {},
   "outputs": [
    {
     "name": "stdout",
     "output_type": "stream",
     "text": [
      "Wall time: 27 s\n"
     ]
    }
   ],
   "source": [
    "%%time\n",
    "ratings.to_pickle('datasets/movie.pkl',protocol=4)"
   ]
  },
  {
   "cell_type": "code",
   "execution_count": 8,
   "metadata": {},
   "outputs": [
    {
     "name": "stdout",
     "output_type": "stream",
     "text": [
      "Wall time: 15.4 s\n"
     ]
    }
   ],
   "source": [
    "%%time\n",
    "test_df3= pd.read_pickle('datasets/movie.pkl')"
   ]
  },
  {
   "cell_type": "code",
   "execution_count": 5,
   "metadata": {},
   "outputs": [],
   "source": [
    "# print(ratings.shape)\n",
    "# ratings.head()"
   ]
  },
  {
   "cell_type": "markdown",
   "metadata": {},
   "source": [
    "### Importing of Movie title file"
   ]
  },
  {
   "cell_type": "code",
   "execution_count": 4,
   "metadata": {},
   "outputs": [],
   "source": [
    "# Import Movie titles file\n",
    "titles = pd.read_csv('datasets/movie_titles.txt', sep = ',', names=['movie_id','year_of_release','title'], encoding='Latin_1')"
   ]
  },
  {
   "cell_type": "code",
   "execution_count": 5,
   "metadata": {},
   "outputs": [],
   "source": [
    "# convert all movie title to lower case\n",
    "titles['title'] = titles['title'].map(lambda x: str.lower(x))"
   ]
  },
  {
   "cell_type": "code",
   "execution_count": 6,
   "metadata": {},
   "outputs": [
    {
     "name": "stdout",
     "output_type": "stream",
     "text": [
      "shape of titles (17770, 3)\n"
     ]
    },
    {
     "data": {
      "text/html": [
       "<div>\n",
       "<style scoped>\n",
       "    .dataframe tbody tr th:only-of-type {\n",
       "        vertical-align: middle;\n",
       "    }\n",
       "\n",
       "    .dataframe tbody tr th {\n",
       "        vertical-align: top;\n",
       "    }\n",
       "\n",
       "    .dataframe thead th {\n",
       "        text-align: right;\n",
       "    }\n",
       "</style>\n",
       "<table border=\"1\" class=\"dataframe\">\n",
       "  <thead>\n",
       "    <tr style=\"text-align: right;\">\n",
       "      <th></th>\n",
       "      <th>movie_id</th>\n",
       "      <th>year_of_release</th>\n",
       "      <th>title</th>\n",
       "    </tr>\n",
       "  </thead>\n",
       "  <tbody>\n",
       "    <tr>\n",
       "      <th>0</th>\n",
       "      <td>1</td>\n",
       "      <td>2003.0</td>\n",
       "      <td>dinosaur planet</td>\n",
       "    </tr>\n",
       "    <tr>\n",
       "      <th>1</th>\n",
       "      <td>2</td>\n",
       "      <td>2004.0</td>\n",
       "      <td>isle of man tt 2004 review</td>\n",
       "    </tr>\n",
       "    <tr>\n",
       "      <th>2</th>\n",
       "      <td>3</td>\n",
       "      <td>1997.0</td>\n",
       "      <td>character</td>\n",
       "    </tr>\n",
       "    <tr>\n",
       "      <th>3</th>\n",
       "      <td>4</td>\n",
       "      <td>1994.0</td>\n",
       "      <td>paula abdul's get up &amp; dance</td>\n",
       "    </tr>\n",
       "    <tr>\n",
       "      <th>4</th>\n",
       "      <td>5</td>\n",
       "      <td>2004.0</td>\n",
       "      <td>the rise and fall of ecw</td>\n",
       "    </tr>\n",
       "  </tbody>\n",
       "</table>\n",
       "</div>"
      ],
      "text/plain": [
       "   movie_id  year_of_release                         title\n",
       "0         1           2003.0               dinosaur planet\n",
       "1         2           2004.0    isle of man tt 2004 review\n",
       "2         3           1997.0                     character\n",
       "3         4           1994.0  paula abdul's get up & dance\n",
       "4         5           2004.0      the rise and fall of ecw"
      ]
     },
     "execution_count": 6,
     "metadata": {},
     "output_type": "execute_result"
    }
   ],
   "source": [
    "print(f'shape of titles {titles.shape}')\n",
    "titles.head()"
   ]
  },
  {
   "cell_type": "markdown",
   "metadata": {},
   "source": [
    "#### Cleaning of titles dataframe"
   ]
  },
  {
   "cell_type": "code",
   "execution_count": 7,
   "metadata": {},
   "outputs": [
    {
     "data": {
      "text/html": [
       "<div>\n",
       "<style scoped>\n",
       "    .dataframe tbody tr th:only-of-type {\n",
       "        vertical-align: middle;\n",
       "    }\n",
       "\n",
       "    .dataframe tbody tr th {\n",
       "        vertical-align: top;\n",
       "    }\n",
       "\n",
       "    .dataframe thead th {\n",
       "        text-align: right;\n",
       "    }\n",
       "</style>\n",
       "<table border=\"1\" class=\"dataframe\">\n",
       "  <thead>\n",
       "    <tr style=\"text-align: right;\">\n",
       "      <th></th>\n",
       "      <th>movie_id</th>\n",
       "      <th>year_of_release</th>\n",
       "      <th>title</th>\n",
       "      <th>split_title</th>\n",
       "    </tr>\n",
       "  </thead>\n",
       "  <tbody>\n",
       "    <tr>\n",
       "      <th>0</th>\n",
       "      <td>1</td>\n",
       "      <td>2003.0</td>\n",
       "      <td>dinosaur planet</td>\n",
       "      <td>[dinosaur planet]</td>\n",
       "    </tr>\n",
       "    <tr>\n",
       "      <th>1</th>\n",
       "      <td>2</td>\n",
       "      <td>2004.0</td>\n",
       "      <td>isle of man tt 2004 review</td>\n",
       "      <td>[isle of man tt 2004 review]</td>\n",
       "    </tr>\n",
       "    <tr>\n",
       "      <th>2</th>\n",
       "      <td>3</td>\n",
       "      <td>1997.0</td>\n",
       "      <td>character</td>\n",
       "      <td>[character]</td>\n",
       "    </tr>\n",
       "    <tr>\n",
       "      <th>3</th>\n",
       "      <td>4</td>\n",
       "      <td>1994.0</td>\n",
       "      <td>paula abdul's get up &amp; dance</td>\n",
       "      <td>[paula abdul's get up &amp; dance]</td>\n",
       "    </tr>\n",
       "    <tr>\n",
       "      <th>4</th>\n",
       "      <td>5</td>\n",
       "      <td>2004.0</td>\n",
       "      <td>the rise and fall of ecw</td>\n",
       "      <td>[the rise and fall of ecw]</td>\n",
       "    </tr>\n",
       "  </tbody>\n",
       "</table>\n",
       "</div>"
      ],
      "text/plain": [
       "   movie_id  year_of_release                         title  \\\n",
       "0         1           2003.0               dinosaur planet   \n",
       "1         2           2004.0    isle of man tt 2004 review   \n",
       "2         3           1997.0                     character   \n",
       "3         4           1994.0  paula abdul's get up & dance   \n",
       "4         5           2004.0      the rise and fall of ecw   \n",
       "\n",
       "                      split_title  \n",
       "0               [dinosaur planet]  \n",
       "1    [isle of man tt 2004 review]  \n",
       "2                     [character]  \n",
       "3  [paula abdul's get up & dance]  \n",
       "4      [the rise and fall of ecw]  "
      ]
     },
     "execution_count": 7,
     "metadata": {},
     "output_type": "execute_result"
    }
   ],
   "source": [
    "# Split title into a list of words - delimiter \":\"\n",
    "titles['split_title'] = titles['title'].map(lambda x : [x for x in x.split(':')])\n",
    "titles.head()"
   ]
  },
  {
   "cell_type": "code",
   "execution_count": 8,
   "metadata": {},
   "outputs": [],
   "source": [
    "# For testing\n",
    "# titles = titles.loc[2200:2300,:]\n",
    "# titles.shape"
   ]
  },
  {
   "cell_type": "code",
   "execution_count": 9,
   "metadata": {},
   "outputs": [
    {
     "name": "stdout",
     "output_type": "stream",
     "text": [
      "<class 'pandas.core.frame.DataFrame'>\n",
      "RangeIndex: 17770 entries, 0 to 17769\n",
      "Data columns (total 4 columns):\n",
      " #   Column           Non-Null Count  Dtype  \n",
      "---  ------           --------------  -----  \n",
      " 0   movie_id         17770 non-null  int64  \n",
      " 1   year_of_release  17763 non-null  float64\n",
      " 2   title            17770 non-null  object \n",
      " 3   split_title      17770 non-null  object \n",
      "dtypes: float64(1), int64(1), object(2)\n",
      "memory usage: 555.4+ KB\n",
      "None\n",
      "--------------------------------------------------\n",
      "(17770, 4)\n"
     ]
    }
   ],
   "source": [
    "print(titles.info())\n",
    "print('-' * 50)\n",
    "print(titles.shape)"
   ]
  },
  {
   "cell_type": "code",
   "execution_count": 10,
   "metadata": {},
   "outputs": [
    {
     "data": {
      "text/html": [
       "<div>\n",
       "<style scoped>\n",
       "    .dataframe tbody tr th:only-of-type {\n",
       "        vertical-align: middle;\n",
       "    }\n",
       "\n",
       "    .dataframe tbody tr th {\n",
       "        vertical-align: top;\n",
       "    }\n",
       "\n",
       "    .dataframe thead th {\n",
       "        text-align: right;\n",
       "    }\n",
       "</style>\n",
       "<table border=\"1\" class=\"dataframe\">\n",
       "  <thead>\n",
       "    <tr style=\"text-align: right;\">\n",
       "      <th></th>\n",
       "      <th>movie_id</th>\n",
       "      <th>year_of_release</th>\n",
       "      <th>title</th>\n",
       "      <th>split_title</th>\n",
       "    </tr>\n",
       "  </thead>\n",
       "  <tbody>\n",
       "    <tr>\n",
       "      <th>0</th>\n",
       "      <td>1</td>\n",
       "      <td>2003.0</td>\n",
       "      <td>dinosaur planet</td>\n",
       "      <td>[dinosaur planet]</td>\n",
       "    </tr>\n",
       "    <tr>\n",
       "      <th>1</th>\n",
       "      <td>2</td>\n",
       "      <td>2004.0</td>\n",
       "      <td>isle of man tt 2004 review</td>\n",
       "      <td>[isle of man tt 2004 review]</td>\n",
       "    </tr>\n",
       "    <tr>\n",
       "      <th>2</th>\n",
       "      <td>3</td>\n",
       "      <td>1997.0</td>\n",
       "      <td>character</td>\n",
       "      <td>[character]</td>\n",
       "    </tr>\n",
       "    <tr>\n",
       "      <th>3</th>\n",
       "      <td>4</td>\n",
       "      <td>1994.0</td>\n",
       "      <td>paula abdul's get up &amp; dance</td>\n",
       "      <td>[paula abdul's get up &amp; dance]</td>\n",
       "    </tr>\n",
       "    <tr>\n",
       "      <th>4</th>\n",
       "      <td>5</td>\n",
       "      <td>2004.0</td>\n",
       "      <td>the rise and fall of ecw</td>\n",
       "      <td>[the rise and fall of ecw]</td>\n",
       "    </tr>\n",
       "    <tr>\n",
       "      <th>...</th>\n",
       "      <td>...</td>\n",
       "      <td>...</td>\n",
       "      <td>...</td>\n",
       "      <td>...</td>\n",
       "    </tr>\n",
       "    <tr>\n",
       "      <th>17765</th>\n",
       "      <td>17766</td>\n",
       "      <td>2002.0</td>\n",
       "      <td>where the wild things are and other maurice se...</td>\n",
       "      <td>[where the wild things are and other maurice s...</td>\n",
       "    </tr>\n",
       "    <tr>\n",
       "      <th>17766</th>\n",
       "      <td>17767</td>\n",
       "      <td>2004.0</td>\n",
       "      <td>fidel castro: american experience</td>\n",
       "      <td>[fidel castro,  american experience]</td>\n",
       "    </tr>\n",
       "    <tr>\n",
       "      <th>17767</th>\n",
       "      <td>17768</td>\n",
       "      <td>2000.0</td>\n",
       "      <td>epoch</td>\n",
       "      <td>[epoch]</td>\n",
       "    </tr>\n",
       "    <tr>\n",
       "      <th>17768</th>\n",
       "      <td>17769</td>\n",
       "      <td>2003.0</td>\n",
       "      <td>the company</td>\n",
       "      <td>[the company]</td>\n",
       "    </tr>\n",
       "    <tr>\n",
       "      <th>17769</th>\n",
       "      <td>17770</td>\n",
       "      <td>2003.0</td>\n",
       "      <td>alien hunter</td>\n",
       "      <td>[alien hunter]</td>\n",
       "    </tr>\n",
       "  </tbody>\n",
       "</table>\n",
       "<p>17770 rows × 4 columns</p>\n",
       "</div>"
      ],
      "text/plain": [
       "       movie_id  year_of_release  \\\n",
       "0             1           2003.0   \n",
       "1             2           2004.0   \n",
       "2             3           1997.0   \n",
       "3             4           1994.0   \n",
       "4             5           2004.0   \n",
       "...         ...              ...   \n",
       "17765     17766           2002.0   \n",
       "17766     17767           2004.0   \n",
       "17767     17768           2000.0   \n",
       "17768     17769           2003.0   \n",
       "17769     17770           2003.0   \n",
       "\n",
       "                                                   title  \\\n",
       "0                                        dinosaur planet   \n",
       "1                             isle of man tt 2004 review   \n",
       "2                                              character   \n",
       "3                           paula abdul's get up & dance   \n",
       "4                               the rise and fall of ecw   \n",
       "...                                                  ...   \n",
       "17765  where the wild things are and other maurice se...   \n",
       "17766                  fidel castro: american experience   \n",
       "17767                                              epoch   \n",
       "17768                                        the company   \n",
       "17769                                       alien hunter   \n",
       "\n",
       "                                             split_title  \n",
       "0                                      [dinosaur planet]  \n",
       "1                           [isle of man tt 2004 review]  \n",
       "2                                            [character]  \n",
       "3                         [paula abdul's get up & dance]  \n",
       "4                             [the rise and fall of ecw]  \n",
       "...                                                  ...  \n",
       "17765  [where the wild things are and other maurice s...  \n",
       "17766               [fidel castro,  american experience]  \n",
       "17767                                            [epoch]  \n",
       "17768                                      [the company]  \n",
       "17769                                     [alien hunter]  \n",
       "\n",
       "[17770 rows x 4 columns]"
      ]
     },
     "execution_count": 10,
     "metadata": {},
     "output_type": "execute_result"
    }
   ],
   "source": [
    "titles"
   ]
  },
  {
   "cell_type": "code",
   "execution_count": 11,
   "metadata": {},
   "outputs": [],
   "source": [
    "chunk_list = []\n",
    "for i in range(500, len(titles),500):\n",
    "    start_point = i - 500\n",
    "    df = titles.loc[start_point:i,:]\n",
    "    #print(type(df))\n",
    "    chunk_list.append(df)"
   ]
  },
  {
   "cell_type": "markdown",
   "metadata": {},
   "source": [
    "## API Call"
   ]
  },
  {
   "cell_type": "markdown",
   "metadata": {},
   "source": [
    "### Connect to TheMoiveDB.org"
   ]
  },
  {
   "cell_type": "code",
   "execution_count": 12,
   "metadata": {},
   "outputs": [
    {
     "name": "stdout",
     "output_type": "stream",
     "text": [
      "200\n"
     ]
    }
   ],
   "source": [
    "# API key\n",
    "REQUEST_TOKEN = 'd8f46f139abc47c1f048f3efc486fe53'\n",
    "\n",
    "# Target web page:\n",
    "\n",
    "# To authenticate api call session\n",
    "url = \"https://www.themoviedb.org/authenticate/\"+ REQUEST_TOKEN\n",
    "\n",
    "# Establishing the connection to the web page:\n",
    "response = requests.get(url)\n",
    "\n",
    "# You can use status codes to understand how the target server responds to your request.\n",
    "# Ex., 200 = OK, 400 = Bad Request, 403 = Forbidden, 404 = Not Found.\n",
    "print(response.status_code)"
   ]
  },
  {
   "cell_type": "markdown",
   "metadata": {},
   "source": [
    "# Need to spend some time to modify the code below"
   ]
  },
  {
   "cell_type": "code",
   "execution_count": 13,
   "metadata": {},
   "outputs": [],
   "source": [
    "def url_request(mode, item, item_release_year=None):\n",
    "    '''\n",
    "    Insert Docstring\n",
    "    \n",
    "    \n",
    "    '''\n",
    "    \n",
    "    global REQUEST_TOKEN\n",
    "    \n",
    "    if (mode == 'movie') & (item_release_year != None):\n",
    "        url = f\"https://api.themoviedb.org/3/search/{mode}?api_key={REQUEST_TOKEN}&query={item}&primary_release_year={item_release_year}&page=1\"\n",
    "        \n",
    "    elif (mode == 'movie') & (item_release_year == None):\n",
    "        url = f\"https://api.themoviedb.org/3/search/{mode}?api_key={REQUEST_TOKEN}&query={item}&page=1\"\n",
    "    \n",
    "    if (mode == 'tv') & (item_release_year != None):\n",
    "        url = f\"https://api.themoviedb.org/3/search/tv?api_key={REQUEST_TOKEN}&query={item}&first_air_date_year={item_release_year}&page=1\"\n",
    "        \n",
    "    elif (mode == 'tv') & (item_release_year == None):\n",
    "        url = f\"https://api.themoviedb.org/3/search/tv?api_key={REQUEST_TOKEN}&query={item}&page=1\"\n",
    "    \n",
    "    req = requests.get(url)\n",
    "    sq_dict = req.json()\n",
    "    \n",
    "    return sq_dict"
   ]
  },
  {
   "cell_type": "code",
   "execution_count": 14,
   "metadata": {},
   "outputs": [],
   "source": [
    "# Create a function for API call for different movie titles\n",
    "\n",
    "def title_pull(item_name, item_release_year):\n",
    "    '''\n",
    "    Insert docstring\n",
    "    '''\n",
    "    \n",
    "    # replace whitespace with %20\n",
    "    item = item_name.replace(\" \", \"%20\")\n",
    "\n",
    "    #print(f'currently working on {item_name}')\n",
    "    \n",
    "    # Try to search based on movie & release year\n",
    "    results = url_request('movie', item, item_release_year)\n",
    "    if results['total_results'] != 0:\n",
    "        res = {key: results['results'][0][key] for key in results['results'][0].keys() & {'id', 'title'}} \n",
    "        return (res, item, 'movie')\n",
    "    elif results['total_results'] == 0:\n",
    "        results = url_request('movie', item)\n",
    "        if results['total_results'] != 0:\n",
    "            res = {key: results['results'][0][key] for key in results['results'][0].keys() & {'id', 'title'}}  \n",
    "            return (res, item, 'movie')\n",
    "        elif results['total_results'] == 0:\n",
    "            results = url_request('tv', item, item_release_year)\n",
    "            if results['total_results'] != 0:\n",
    "                res = {key: results['results'][0][key] for key in results['results'][0].keys() & {'id', 'name'}} \n",
    "                return (res, item, 'tv')\n",
    "            elif results['total_results'] == 0:\n",
    "                results = url_request('tv', item)\n",
    "                if results['total_results'] != 0:\n",
    "                    res = {key: results['results'][0][key] for key in results['results'][0].keys() & {'id', 'name'}} \n",
    "                    return (res, item, 'tv')\n",
    "                else:\n",
    "                    return ('NA','NA','NA')"
   ]
  },
  {
   "cell_type": "code",
   "execution_count": 15,
   "metadata": {},
   "outputs": [],
   "source": [
    "def loop_title_pull(num_ls, item_list, item_release_year):\n",
    "    '''\n",
    "    Insert docstring\n",
    "    \n",
    "    '''\n",
    "    \n",
    "    # Check which 'stage' is running\n",
    "\n",
    "    \n",
    "    if num_ls % 100 == 0:\n",
    "        now = datetime.now()\n",
    "        current_time = now.strftime(\"%H:%M:%S\")\n",
    "        print(f\"Current run: {num_ls} @ {current_time}\")\n",
    "        \n",
    "    \n",
    "    \n",
    "    # Create an empty item_name\n",
    "    item_name = ''\n",
    "    \n",
    "    # Loop to create a string to search movie database\n",
    "    for i in range(len(item_list)):\n",
    "        if i != 0:\n",
    "            item_name += ':' + item_list[i]\n",
    "        else:\n",
    "            item_name = item_list[i]\n",
    "        \n",
    "        return title_pull(item_name, item_release_year)"
   ]
  },
  {
   "cell_type": "code",
   "execution_count": null,
   "metadata": {},
   "outputs": [
    {
     "name": "stdout",
     "output_type": "stream",
     "text": [
      "Current run: 100 @ 17:22:26\n",
      "Current run: 200 @ 17:23:16\n",
      "Current run: 300 @ 17:24:03\n"
     ]
    }
   ],
   "source": [
    "%%time\n",
    "for index, df in enumerate(chunk_list):\n",
    "    df['moviedb_result'] = df.apply(lambda x: loop_title_pull(x['movie_id'], x['split_title'], x['year_of_release']),axis=1)\n",
    "    df.to_csv(f'datasets/titles_added/ta_{index}.csv')\n",
    "    print(index, type(df))"
   ]
  },
  {
   "cell_type": "code",
   "execution_count": null,
   "metadata": {},
   "outputs": [],
   "source": []
  },
  {
   "cell_type": "code",
   "execution_count": null,
   "metadata": {
    "scrolled": true
   },
   "outputs": [],
   "source": [
    "%%time\n",
    "\n",
    "start = datetime.now()\n",
    "\n",
    "current_time = start.strftime(\"%H:%M:%S\")\n",
    "print(\"Start Time =\", current_time)\n",
    "\n",
    "\n",
    "# Create a column of pulled result based on title & release_year\n",
    "titles['moviedb_result'] = titles.apply(lambda x: loop_title_pull(x['movie_id'], x['split_title'], x['year_of_release']),axis=1)\n",
    "\n",
    "# Create a column of pulled result based on title & release_year\n",
    "# test['moviedb_result'] = test.apply(lambda x: loop_title_pull(x['split_title'], x['year_of_release']),axis=1)"
   ]
  },
  {
   "cell_type": "code",
   "execution_count": null,
   "metadata": {},
   "outputs": [],
   "source": []
  },
  {
   "cell_type": "code",
   "execution_count": null,
   "metadata": {},
   "outputs": [],
   "source": []
  },
  {
   "cell_type": "code",
   "execution_count": 19,
   "metadata": {},
   "outputs": [
    {
     "data": {
      "text/html": [
       "<div>\n",
       "<style scoped>\n",
       "    .dataframe tbody tr th:only-of-type {\n",
       "        vertical-align: middle;\n",
       "    }\n",
       "\n",
       "    .dataframe tbody tr th {\n",
       "        vertical-align: top;\n",
       "    }\n",
       "\n",
       "    .dataframe thead th {\n",
       "        text-align: right;\n",
       "    }\n",
       "</style>\n",
       "<table border=\"1\" class=\"dataframe\">\n",
       "  <thead>\n",
       "    <tr style=\"text-align: right;\">\n",
       "      <th></th>\n",
       "      <th>movie_id</th>\n",
       "      <th>year_of_release</th>\n",
       "      <th>title</th>\n",
       "      <th>split_title</th>\n",
       "    </tr>\n",
       "  </thead>\n",
       "  <tbody>\n",
       "    <tr>\n",
       "      <th>0</th>\n",
       "      <td>1</td>\n",
       "      <td>2003.0</td>\n",
       "      <td>dinosaur planet</td>\n",
       "      <td>[dinosaur planet]</td>\n",
       "    </tr>\n",
       "    <tr>\n",
       "      <th>1</th>\n",
       "      <td>2</td>\n",
       "      <td>2004.0</td>\n",
       "      <td>isle of man tt 2004 review</td>\n",
       "      <td>[isle of man tt 2004 review]</td>\n",
       "    </tr>\n",
       "    <tr>\n",
       "      <th>2</th>\n",
       "      <td>3</td>\n",
       "      <td>1997.0</td>\n",
       "      <td>character</td>\n",
       "      <td>[character]</td>\n",
       "    </tr>\n",
       "    <tr>\n",
       "      <th>3</th>\n",
       "      <td>4</td>\n",
       "      <td>1994.0</td>\n",
       "      <td>paula abdul's get up &amp; dance</td>\n",
       "      <td>[paula abdul's get up &amp; dance]</td>\n",
       "    </tr>\n",
       "    <tr>\n",
       "      <th>4</th>\n",
       "      <td>5</td>\n",
       "      <td>2004.0</td>\n",
       "      <td>the rise and fall of ecw</td>\n",
       "      <td>[the rise and fall of ecw]</td>\n",
       "    </tr>\n",
       "  </tbody>\n",
       "</table>\n",
       "</div>"
      ],
      "text/plain": [
       "   movie_id  year_of_release                         title  \\\n",
       "0         1           2003.0               dinosaur planet   \n",
       "1         2           2004.0    isle of man tt 2004 review   \n",
       "2         3           1997.0                     character   \n",
       "3         4           1994.0  paula abdul's get up & dance   \n",
       "4         5           2004.0      the rise and fall of ecw   \n",
       "\n",
       "                      split_title  \n",
       "0               [dinosaur planet]  \n",
       "1    [isle of man tt 2004 review]  \n",
       "2                     [character]  \n",
       "3  [paula abdul's get up & dance]  \n",
       "4      [the rise and fall of ecw]  "
      ]
     },
     "execution_count": 19,
     "metadata": {},
     "output_type": "execute_result"
    }
   ],
   "source": [
    "titles.head()"
   ]
  },
  {
   "cell_type": "code",
   "execution_count": null,
   "metadata": {},
   "outputs": [],
   "source": [
    "%%time\n",
    "titles[['search_result', 'search_title', 'type']] = pd.DataFrame(titles['moviedb_result'].tolist(), index=test.index)\n",
    "\n",
    "\n",
    "## test[['search_result', 'search_title', 'type']] = pd.DataFrame(test['moviedb_result'].tolist(), index=test.index)\n",
    "\n",
    "# Slower method but may be more readable\n",
    "#test['search_result'], test['search_title'], test['type'] = zip(*test['moviedb_result'])"
   ]
  },
  {
   "cell_type": "code",
   "execution_count": null,
   "metadata": {},
   "outputs": [],
   "source": [
    "# Change html whitespace to normal whitespace\n",
    "titles['search_title'] = titles['search_title'].map(lambda x: x.replace('%20', \" \"))\n",
    "\n",
    "# test['search_title'] = test['search_title'].map(lambda x: x.replace('%20', \" \"))"
   ]
  },
  {
   "cell_type": "code",
   "execution_count": null,
   "metadata": {},
   "outputs": [],
   "source": [
    "titles.head()"
   ]
  },
  {
   "cell_type": "code",
   "execution_count": null,
   "metadata": {},
   "outputs": [],
   "source": [
    "titles[titles['search_result']=='NA']['type'].count()"
   ]
  },
  {
   "cell_type": "code",
   "execution_count": null,
   "metadata": {},
   "outputs": [],
   "source": []
  },
  {
   "cell_type": "code",
   "execution_count": null,
   "metadata": {},
   "outputs": [],
   "source": []
  },
  {
   "cell_type": "code",
   "execution_count": null,
   "metadata": {},
   "outputs": [],
   "source": []
  },
  {
   "cell_type": "code",
   "execution_count": null,
   "metadata": {},
   "outputs": [],
   "source": []
  },
  {
   "cell_type": "code",
   "execution_count": null,
   "metadata": {},
   "outputs": [],
   "source": []
  },
  {
   "cell_type": "code",
   "execution_count": null,
   "metadata": {},
   "outputs": [],
   "source": []
  },
  {
   "cell_type": "code",
   "execution_count": null,
   "metadata": {},
   "outputs": [],
   "source": []
  },
  {
   "cell_type": "markdown",
   "metadata": {},
   "source": [
    "### Merging of Movie title & Rating DataFrame"
   ]
  },
  {
   "cell_type": "code",
   "execution_count": null,
   "metadata": {},
   "outputs": [],
   "source": [
    "ratings_set = set(ratings['movie_id'])\n",
    "titles_set = set(titles['movie_id'])\n",
    "print(f\" elements present in title df but not in rating df : {titles_set.difference(ratings_set)}\")\n",
    "print(f\" elements present in rating df but not in title df : {ratings_set.difference(titles_set)}\")"
   ]
  },
  {
   "cell_type": "code",
   "execution_count": null,
   "metadata": {},
   "outputs": [],
   "source": [
    "# Merge movie title with rating\n",
    "df = pd.merge(ratings, titles, on='movie_id', how='inner')\n",
    "df.shape"
   ]
  },
  {
   "cell_type": "code",
   "execution_count": null,
   "metadata": {},
   "outputs": [],
   "source": [
    "df.head()"
   ]
  },
  {
   "cell_type": "code",
   "execution_count": null,
   "metadata": {},
   "outputs": [],
   "source": [
    "df.isnull().sum()"
   ]
  },
  {
   "cell_type": "code",
   "execution_count": null,
   "metadata": {},
   "outputs": [],
   "source": [
    "df.info()"
   ]
  },
  {
   "cell_type": "code",
   "execution_count": null,
   "metadata": {},
   "outputs": [],
   "source": [
    "df['title'].nunique()"
   ]
  },
  {
   "cell_type": "code",
   "execution_count": null,
   "metadata": {},
   "outputs": [],
   "source": []
  },
  {
   "cell_type": "code",
   "execution_count": null,
   "metadata": {},
   "outputs": [],
   "source": []
  }
 ],
 "metadata": {
  "kernelspec": {
   "display_name": "Python 3",
   "language": "python",
   "name": "python3"
  },
  "language_info": {
   "codemirror_mode": {
    "name": "ipython",
    "version": 3
   },
   "file_extension": ".py",
   "mimetype": "text/x-python",
   "name": "python",
   "nbconvert_exporter": "python",
   "pygments_lexer": "ipython3",
   "version": "3.8.3"
  }
 },
 "nbformat": 4,
 "nbformat_minor": 4
}
