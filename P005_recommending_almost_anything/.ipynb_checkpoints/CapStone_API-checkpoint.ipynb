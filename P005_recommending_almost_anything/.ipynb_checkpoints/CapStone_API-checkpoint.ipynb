{
 "cells": [
  {
   "cell_type": "markdown",
   "metadata": {},
   "source": [
    "##  Import Library"
   ]
  },
  {
   "cell_type": "code",
   "execution_count": 1,
   "metadata": {},
   "outputs": [],
   "source": [
    "import requests"
   ]
  },
  {
   "cell_type": "code",
   "execution_count": 2,
   "metadata": {},
   "outputs": [],
   "source": [
    "REQUEST_TOKEN = 'd8f46f139abc47c1f048f3efc486fe53'"
   ]
  },
  {
   "cell_type": "code",
   "execution_count": 3,
   "metadata": {},
   "outputs": [
    {
     "name": "stdout",
     "output_type": "stream",
     "text": [
      "200\n"
     ]
    }
   ],
   "source": [
    "# Target web page:\n",
    "#url = \"https://www.datatau.com/\"\n",
    "url = \"https://www.themoviedb.org/authenticate/\"+ REQUEST_TOKEN\n",
    "# Establishing the connection to the web page:\n",
    "response = requests.get(url)\n",
    "\n",
    "# You can use status codes to understand how the target server responds to your request.\n",
    "# Ex., 200 = OK, 400 = Bad Request, 403 = Forbidden, 404 = Not Found.\n",
    "print(response.status_code)\n"
   ]
  },
  {
   "cell_type": "code",
   "execution_count": 4,
   "metadata": {},
   "outputs": [],
   "source": [
    "url =f\"https://api.themoviedb.org/3/search/movie?api_key={REQUEST_TOKEN}&language=en-US&query=Minority%20Report&page=1&include_adult=false\""
   ]
  },
  {
   "cell_type": "code",
   "execution_count": 5,
   "metadata": {},
   "outputs": [],
   "source": [
    "req = requests.get(url)"
   ]
  },
  {
   "cell_type": "code",
   "execution_count": 6,
   "metadata": {},
   "outputs": [
    {
     "data": {
      "text/plain": [
       "'{\"page\":1,\"total_results\":3,\"total_pages\":1,\"results\":[{\"popularity\":27.151,\"id\":180,\"video\":false,\"vote_count\":5767,\"vote_average\":7.3,\"title\":\"Minority Report\",\"release_date\":\"2002-06-20\",\"original_language\":\"en\",\"original_title\":\"Minority Report\",\"genre_ids\":[28,53,878,9648],\"backdrop_path\":\"\\\\/zrsOyPpOBqSoHCHOPtefVBCHxhQ.jpg\",\"adult\":false,\"overview\":\"John Anderton is a top \\'Precrime\\' cop in the late-21st century, when technology can predict crimes before they\\'re committed. But Anderton becomes the quarry when another investigator targets him for a murder charge.\",\"poster_path\":\"\\\\/5IrhHDVkKkE2rramdUAyej0RmWx.jpg\"},{\"popularity\":0.6,\"id\":300014,\"video\":false,\"vote_count\":0,\"vote_average\":0,\"title\":\"Chris Spencer\\'s Minority Report\",\"release_date\":\"2011-01-01\",\"original_language\":\"en\",\"original_title\":\"Chris Spencer\\'s Minority Report\",\"genre_ids\":[],\"backdrop_path\":\"\\\\/fRTLtJz8bH4fSVdqDQ5CJjuIcsF.jpg\",\"adult\":false,\"overview\":\"Hosted by internationally renowned comedian and star of 100\\'s of films and TV shows Chris Spencer brings together a multicultural taste of America today finding the funniest White, Brown and Yellow comics in a snapshot of America now. This show is hilarious and pokes back at all stereo types from all perspectives! Hosted by Chris Spencer and starring: Nema Williams, Flo Hernandez and Eliot Chang.\",\"poster_path\":\"\\\\/9XtRvDWWoNcVeccWom1nKv19lrW.jpg\"},{\"popularity\":0.6,\"vote_count\":0,\"video\":false,\"poster_path\":\"\\\\/954mdlR4103pFxhuODhxraVp4tT.jpg\",\"id\":567995,\"adult\":false,\"backdrop_path\":null,\"original_language\":\"de\",\"original_title\":\"Die Science Fiction Propheten - Philip K. Dick: Von Total Recall bis Minority Report\",\"genre_ids\":[99],\"title\":\"Die Science Fiction Propheten - Philip K. Dick: Von Total Recall bis Minority Report\",\"vote_average\":0,\"overview\":\"\",\"release_date\":\"\"}]}'"
      ]
     },
     "execution_count": 6,
     "metadata": {},
     "output_type": "execute_result"
    }
   ],
   "source": [
    "req.text"
   ]
  },
  {
   "cell_type": "code",
   "execution_count": 7,
   "metadata": {
    "scrolled": true
   },
   "outputs": [
    {
     "data": {
      "text/plain": [
       "{'page': 1,\n",
       " 'total_results': 3,\n",
       " 'total_pages': 1,\n",
       " 'results': [{'popularity': 27.151,\n",
       "   'id': 180,\n",
       "   'video': False,\n",
       "   'vote_count': 5767,\n",
       "   'vote_average': 7.3,\n",
       "   'title': 'Minority Report',\n",
       "   'release_date': '2002-06-20',\n",
       "   'original_language': 'en',\n",
       "   'original_title': 'Minority Report',\n",
       "   'genre_ids': [28, 53, 878, 9648],\n",
       "   'backdrop_path': '/zrsOyPpOBqSoHCHOPtefVBCHxhQ.jpg',\n",
       "   'adult': False,\n",
       "   'overview': \"John Anderton is a top 'Precrime' cop in the late-21st century, when technology can predict crimes before they're committed. But Anderton becomes the quarry when another investigator targets him for a murder charge.\",\n",
       "   'poster_path': '/5IrhHDVkKkE2rramdUAyej0RmWx.jpg'},\n",
       "  {'popularity': 0.6,\n",
       "   'id': 300014,\n",
       "   'video': False,\n",
       "   'vote_count': 0,\n",
       "   'vote_average': 0,\n",
       "   'title': \"Chris Spencer's Minority Report\",\n",
       "   'release_date': '2011-01-01',\n",
       "   'original_language': 'en',\n",
       "   'original_title': \"Chris Spencer's Minority Report\",\n",
       "   'genre_ids': [],\n",
       "   'backdrop_path': '/fRTLtJz8bH4fSVdqDQ5CJjuIcsF.jpg',\n",
       "   'adult': False,\n",
       "   'overview': \"Hosted by internationally renowned comedian and star of 100's of films and TV shows Chris Spencer brings together a multicultural taste of America today finding the funniest White, Brown and Yellow comics in a snapshot of America now. This show is hilarious and pokes back at all stereo types from all perspectives! Hosted by Chris Spencer and starring: Nema Williams, Flo Hernandez and Eliot Chang.\",\n",
       "   'poster_path': '/9XtRvDWWoNcVeccWom1nKv19lrW.jpg'},\n",
       "  {'popularity': 0.6,\n",
       "   'vote_count': 0,\n",
       "   'video': False,\n",
       "   'poster_path': '/954mdlR4103pFxhuODhxraVp4tT.jpg',\n",
       "   'id': 567995,\n",
       "   'adult': False,\n",
       "   'backdrop_path': None,\n",
       "   'original_language': 'de',\n",
       "   'original_title': 'Die Science Fiction Propheten - Philip K. Dick: Von Total Recall bis Minority Report',\n",
       "   'genre_ids': [99],\n",
       "   'title': 'Die Science Fiction Propheten - Philip K. Dick: Von Total Recall bis Minority Report',\n",
       "   'vote_average': 0,\n",
       "   'overview': '',\n",
       "   'release_date': ''}]}"
      ]
     },
     "execution_count": 7,
     "metadata": {},
     "output_type": "execute_result"
    }
   ],
   "source": [
    "sq_dict = req.json()\n",
    "sq_dict"
   ]
  },
  {
   "cell_type": "code",
   "execution_count": 8,
   "metadata": {},
   "outputs": [
    {
     "data": {
      "text/plain": [
       "'Minority Report'"
      ]
     },
     "execution_count": 8,
     "metadata": {},
     "output_type": "execute_result"
    }
   ],
   "source": [
    "sq_dict['results'][0]['title']"
   ]
  },
  {
   "cell_type": "code",
   "execution_count": null,
   "metadata": {},
   "outputs": [],
   "source": []
  }
 ],
 "metadata": {
  "kernelspec": {
   "display_name": "Python 3",
   "language": "python",
   "name": "python3"
  },
  "language_info": {
   "codemirror_mode": {
    "name": "ipython",
    "version": 3
   },
   "file_extension": ".py",
   "mimetype": "text/x-python",
   "name": "python",
   "nbconvert_exporter": "python",
   "pygments_lexer": "ipython3",
   "version": "3.8.3"
  }
 },
 "nbformat": 4,
 "nbformat_minor": 4
}
