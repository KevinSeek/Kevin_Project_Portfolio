{
 "cells": [
  {
   "cell_type": "markdown",
   "metadata": {},
   "source": [
    "# Introduction\n",
    "\n",
    "As the trend of on-demand entertainment becoming more prevelant, there is a change in the trend of content creation being less exclusive to a particular network and more avaiable across various content providers. Due to this, there is a competiton across various entertainment provider to provide the right content to the right user to ensure that their users are engaged and reduce their needs to move to another content provider. 1 key factor that can help in pushing the right content to the right users is to have a robust recommendation system.\n",
    "\n",
    "A singapore start-up which envision to be the Netflix of Singapore, has hired me as a Data scientist to assist their team in creating a recommendation system. They have kindly provided movie rating data from their system. Due to PDPA, no user's profiles are provided."
   ]
  },
  {
   "cell_type": "markdown",
   "metadata": {},
   "source": [
    "## Problem Statement\n",
    "1. To create a recommendation system based on collaborative filtering to recommend movies to users based on similar movie watched & ratings.\n",
    "2. Recommendation system should provide new contents (w/o rating) users based on user profile to user."
   ]
  },
  {
   "cell_type": "markdown",
   "metadata": {},
   "source": [
    "## Import Library"
   ]
  },
  {
   "cell_type": "code",
   "execution_count": 1,
   "metadata": {},
   "outputs": [],
   "source": [
    "import numpy as np\n",
    "import pandas as pd\n",
    "import glob\n",
    "import csv\n",
    "\n",
    "import matplotlib.pyplot as plt\n",
    "import seaborn as sns\n",
    "\n",
    "# API Call\n",
    "import requests\n",
    "\n",
    "from datetime import datetime\n",
    "\n",
    "\n",
    "# Additional Setting\n",
    "pd.set_option(\"display.max_rows\", 201)"
   ]
  },
  {
   "cell_type": "markdown",
   "metadata": {},
   "source": [
    "## Import Data sets "
   ]
  },
  {
   "cell_type": "markdown",
   "metadata": {},
   "source": [
    "### Import Movie Rating File by Users"
   ]
  },
  {
   "cell_type": "code",
   "execution_count": 2,
   "metadata": {
    "scrolled": true
   },
   "outputs": [],
   "source": [
    "# %%time\n",
    "# # Import rating files into dataframe\n",
    "# ls_of_ratings = []\n",
    "\n",
    "# # Specify the pattern matching for glob\n",
    "# rating_files = glob.glob('datasets/training_set/*')\n",
    "\n",
    "# # Loop to get dataframe into list\n",
    "# for filename in rating_files:\n",
    "#     df = pd.read_csv(filename, sep=',', names=['customer_id','rating','date'],skiprows=1)\n",
    "#     df['movie_id'] = int(filename.split('mv_')[1].split('.')[0])\n",
    "#     ls_of_ratings.append(df)\n",
    "\n",
    "# # Concat dataframe together\n",
    "# ratings = pd.concat(ls_of_ratings,ignore_index=True)\n",
    "\n",
    "# print('glob completed')"
   ]
  },
  {
   "cell_type": "code",
   "execution_count": 3,
   "metadata": {},
   "outputs": [],
   "source": [
    "# print(ratings.shape)\n",
    "# ratings.head()"
   ]
  },
  {
   "cell_type": "markdown",
   "metadata": {},
   "source": [
    "### Importing of Movie title file"
   ]
  },
  {
   "cell_type": "code",
   "execution_count": 4,
   "metadata": {},
   "outputs": [],
   "source": [
    "# Import Movie titles file\n",
    "titles = pd.read_csv('datasets/movie_titles.txt', sep = ',', names=['movie_id','year_of_release','title'], encoding='Latin_1')"
   ]
  },
  {
   "cell_type": "code",
   "execution_count": 5,
   "metadata": {},
   "outputs": [],
   "source": [
    "# convert all movie title to lower case\n",
    "titles['title'] = titles['title'].map(lambda x: str.lower(x))"
   ]
  },
  {
   "cell_type": "code",
   "execution_count": 6,
   "metadata": {},
   "outputs": [
    {
     "name": "stdout",
     "output_type": "stream",
     "text": [
      "shape of titles (17770, 3)\n"
     ]
    },
    {
     "data": {
      "text/html": [
       "<div>\n",
       "<style scoped>\n",
       "    .dataframe tbody tr th:only-of-type {\n",
       "        vertical-align: middle;\n",
       "    }\n",
       "\n",
       "    .dataframe tbody tr th {\n",
       "        vertical-align: top;\n",
       "    }\n",
       "\n",
       "    .dataframe thead th {\n",
       "        text-align: right;\n",
       "    }\n",
       "</style>\n",
       "<table border=\"1\" class=\"dataframe\">\n",
       "  <thead>\n",
       "    <tr style=\"text-align: right;\">\n",
       "      <th></th>\n",
       "      <th>movie_id</th>\n",
       "      <th>year_of_release</th>\n",
       "      <th>title</th>\n",
       "    </tr>\n",
       "  </thead>\n",
       "  <tbody>\n",
       "    <tr>\n",
       "      <th>0</th>\n",
       "      <td>1</td>\n",
       "      <td>2003.0</td>\n",
       "      <td>dinosaur planet</td>\n",
       "    </tr>\n",
       "    <tr>\n",
       "      <th>1</th>\n",
       "      <td>2</td>\n",
       "      <td>2004.0</td>\n",
       "      <td>isle of man tt 2004 review</td>\n",
       "    </tr>\n",
       "    <tr>\n",
       "      <th>2</th>\n",
       "      <td>3</td>\n",
       "      <td>1997.0</td>\n",
       "      <td>character</td>\n",
       "    </tr>\n",
       "    <tr>\n",
       "      <th>3</th>\n",
       "      <td>4</td>\n",
       "      <td>1994.0</td>\n",
       "      <td>paula abdul's get up &amp; dance</td>\n",
       "    </tr>\n",
       "    <tr>\n",
       "      <th>4</th>\n",
       "      <td>5</td>\n",
       "      <td>2004.0</td>\n",
       "      <td>the rise and fall of ecw</td>\n",
       "    </tr>\n",
       "  </tbody>\n",
       "</table>\n",
       "</div>"
      ],
      "text/plain": [
       "   movie_id  year_of_release                         title\n",
       "0         1           2003.0               dinosaur planet\n",
       "1         2           2004.0    isle of man tt 2004 review\n",
       "2         3           1997.0                     character\n",
       "3         4           1994.0  paula abdul's get up & dance\n",
       "4         5           2004.0      the rise and fall of ecw"
      ]
     },
     "execution_count": 6,
     "metadata": {},
     "output_type": "execute_result"
    }
   ],
   "source": [
    "print(f'shape of titles {titles.shape}')\n",
    "titles.head()"
   ]
  },
  {
   "cell_type": "markdown",
   "metadata": {},
   "source": [
    "#### Cleaning of titles dataframe"
   ]
  },
  {
   "cell_type": "code",
   "execution_count": 7,
   "metadata": {},
   "outputs": [
    {
     "data": {
      "text/html": [
       "<div>\n",
       "<style scoped>\n",
       "    .dataframe tbody tr th:only-of-type {\n",
       "        vertical-align: middle;\n",
       "    }\n",
       "\n",
       "    .dataframe tbody tr th {\n",
       "        vertical-align: top;\n",
       "    }\n",
       "\n",
       "    .dataframe thead th {\n",
       "        text-align: right;\n",
       "    }\n",
       "</style>\n",
       "<table border=\"1\" class=\"dataframe\">\n",
       "  <thead>\n",
       "    <tr style=\"text-align: right;\">\n",
       "      <th></th>\n",
       "      <th>movie_id</th>\n",
       "      <th>year_of_release</th>\n",
       "      <th>title</th>\n",
       "      <th>split_title</th>\n",
       "    </tr>\n",
       "  </thead>\n",
       "  <tbody>\n",
       "    <tr>\n",
       "      <th>0</th>\n",
       "      <td>1</td>\n",
       "      <td>2003.0</td>\n",
       "      <td>dinosaur planet</td>\n",
       "      <td>[dinosaur planet]</td>\n",
       "    </tr>\n",
       "    <tr>\n",
       "      <th>1</th>\n",
       "      <td>2</td>\n",
       "      <td>2004.0</td>\n",
       "      <td>isle of man tt 2004 review</td>\n",
       "      <td>[isle of man tt 2004 review]</td>\n",
       "    </tr>\n",
       "    <tr>\n",
       "      <th>2</th>\n",
       "      <td>3</td>\n",
       "      <td>1997.0</td>\n",
       "      <td>character</td>\n",
       "      <td>[character]</td>\n",
       "    </tr>\n",
       "    <tr>\n",
       "      <th>3</th>\n",
       "      <td>4</td>\n",
       "      <td>1994.0</td>\n",
       "      <td>paula abdul's get up &amp; dance</td>\n",
       "      <td>[paula abdul's get up &amp; dance]</td>\n",
       "    </tr>\n",
       "    <tr>\n",
       "      <th>4</th>\n",
       "      <td>5</td>\n",
       "      <td>2004.0</td>\n",
       "      <td>the rise and fall of ecw</td>\n",
       "      <td>[the rise and fall of ecw]</td>\n",
       "    </tr>\n",
       "  </tbody>\n",
       "</table>\n",
       "</div>"
      ],
      "text/plain": [
       "   movie_id  year_of_release                         title  \\\n",
       "0         1           2003.0               dinosaur planet   \n",
       "1         2           2004.0    isle of man tt 2004 review   \n",
       "2         3           1997.0                     character   \n",
       "3         4           1994.0  paula abdul's get up & dance   \n",
       "4         5           2004.0      the rise and fall of ecw   \n",
       "\n",
       "                      split_title  \n",
       "0               [dinosaur planet]  \n",
       "1    [isle of man tt 2004 review]  \n",
       "2                     [character]  \n",
       "3  [paula abdul's get up & dance]  \n",
       "4      [the rise and fall of ecw]  "
      ]
     },
     "execution_count": 7,
     "metadata": {},
     "output_type": "execute_result"
    }
   ],
   "source": [
    "# Split title into a list of words - delimiter \":\"\n",
    "titles['split_title'] = titles['title'].map(lambda x : [x for x in x.split(':')])\n",
    "titles.head()"
   ]
  },
  {
   "cell_type": "code",
   "execution_count": 8,
   "metadata": {},
   "outputs": [
    {
     "name": "stdout",
     "output_type": "stream",
     "text": [
      "<class 'pandas.core.frame.DataFrame'>\n",
      "RangeIndex: 17770 entries, 0 to 17769\n",
      "Data columns (total 4 columns):\n",
      " #   Column           Non-Null Count  Dtype  \n",
      "---  ------           --------------  -----  \n",
      " 0   movie_id         17770 non-null  int64  \n",
      " 1   year_of_release  17763 non-null  float64\n",
      " 2   title            17770 non-null  object \n",
      " 3   split_title      17770 non-null  object \n",
      "dtypes: float64(1), int64(1), object(2)\n",
      "memory usage: 555.4+ KB\n",
      "None\n",
      "--------------------------------------------------\n",
      "(17770, 4)\n"
     ]
    }
   ],
   "source": [
    "print(titles.info())\n",
    "print('-' * 50)\n",
    "print(titles.shape)"
   ]
  },
  {
   "cell_type": "code",
   "execution_count": 17,
   "metadata": {},
   "outputs": [],
   "source": [
    "chunk_size = 1000"
   ]
  },
  {
   "cell_type": "code",
   "execution_count": 18,
   "metadata": {},
   "outputs": [],
   "source": [
    "chunk_list = []\n",
    "for i in range(chunk_size, len(titles),500):\n",
    "    start_point = i - chunk_size\n",
    "    df = titles.loc[start_point:i,:]\n",
    "    #print(type(df))\n",
    "    chunk_list.append(df)"
   ]
  },
  {
   "cell_type": "code",
   "execution_count": 19,
   "metadata": {},
   "outputs": [],
   "source": [
    "# chunk_list = chunk_list[0:2]"
   ]
  },
  {
   "cell_type": "code",
   "execution_count": 20,
   "metadata": {},
   "outputs": [
    {
     "data": {
      "text/html": [
       "<div>\n",
       "<style scoped>\n",
       "    .dataframe tbody tr th:only-of-type {\n",
       "        vertical-align: middle;\n",
       "    }\n",
       "\n",
       "    .dataframe tbody tr th {\n",
       "        vertical-align: top;\n",
       "    }\n",
       "\n",
       "    .dataframe thead th {\n",
       "        text-align: right;\n",
       "    }\n",
       "</style>\n",
       "<table border=\"1\" class=\"dataframe\">\n",
       "  <thead>\n",
       "    <tr style=\"text-align: right;\">\n",
       "      <th></th>\n",
       "      <th>movie_id</th>\n",
       "      <th>year_of_release</th>\n",
       "      <th>title</th>\n",
       "      <th>split_title</th>\n",
       "    </tr>\n",
       "  </thead>\n",
       "  <tbody>\n",
       "    <tr>\n",
       "      <th>0</th>\n",
       "      <td>1</td>\n",
       "      <td>2003.0</td>\n",
       "      <td>dinosaur planet</td>\n",
       "      <td>[dinosaur planet]</td>\n",
       "    </tr>\n",
       "    <tr>\n",
       "      <th>1</th>\n",
       "      <td>2</td>\n",
       "      <td>2004.0</td>\n",
       "      <td>isle of man tt 2004 review</td>\n",
       "      <td>[isle of man tt 2004 review]</td>\n",
       "    </tr>\n",
       "    <tr>\n",
       "      <th>2</th>\n",
       "      <td>3</td>\n",
       "      <td>1997.0</td>\n",
       "      <td>character</td>\n",
       "      <td>[character]</td>\n",
       "    </tr>\n",
       "    <tr>\n",
       "      <th>3</th>\n",
       "      <td>4</td>\n",
       "      <td>1994.0</td>\n",
       "      <td>paula abdul's get up &amp; dance</td>\n",
       "      <td>[paula abdul's get up &amp; dance]</td>\n",
       "    </tr>\n",
       "    <tr>\n",
       "      <th>4</th>\n",
       "      <td>5</td>\n",
       "      <td>2004.0</td>\n",
       "      <td>the rise and fall of ecw</td>\n",
       "      <td>[the rise and fall of ecw]</td>\n",
       "    </tr>\n",
       "  </tbody>\n",
       "</table>\n",
       "</div>"
      ],
      "text/plain": [
       "   movie_id  year_of_release                         title  \\\n",
       "0         1           2003.0               dinosaur planet   \n",
       "1         2           2004.0    isle of man tt 2004 review   \n",
       "2         3           1997.0                     character   \n",
       "3         4           1994.0  paula abdul's get up & dance   \n",
       "4         5           2004.0      the rise and fall of ecw   \n",
       "\n",
       "                      split_title  \n",
       "0               [dinosaur planet]  \n",
       "1    [isle of man tt 2004 review]  \n",
       "2                     [character]  \n",
       "3  [paula abdul's get up & dance]  \n",
       "4      [the rise and fall of ecw]  "
      ]
     },
     "execution_count": 20,
     "metadata": {},
     "output_type": "execute_result"
    }
   ],
   "source": [
    "chunk_list[0].head()"
   ]
  },
  {
   "cell_type": "markdown",
   "metadata": {},
   "source": [
    "## API Call"
   ]
  },
  {
   "cell_type": "markdown",
   "metadata": {},
   "source": [
    "### Connect to TheMoiveDB.org"
   ]
  },
  {
   "cell_type": "code",
   "execution_count": 21,
   "metadata": {},
   "outputs": [
    {
     "name": "stdout",
     "output_type": "stream",
     "text": [
      "200\n"
     ]
    }
   ],
   "source": [
    "# API key\n",
    "REQUEST_TOKEN = 'd8f46f139abc47c1f048f3efc486fe53'\n",
    "\n",
    "# Target web page:\n",
    "\n",
    "# To authenticate api call session\n",
    "url = \"https://www.themoviedb.org/authenticate/\"+ REQUEST_TOKEN\n",
    "\n",
    "# Establishing the connection to the web page:\n",
    "response = requests.get(url)\n",
    "\n",
    "# You can use status codes to understand how the target server responds to your request.\n",
    "# Ex., 200 = OK, 400 = Bad Request, 403 = Forbidden, 404 = Not Found.\n",
    "print(response.status_code)"
   ]
  },
  {
   "cell_type": "code",
   "execution_count": 43,
   "metadata": {},
   "outputs": [],
   "source": [
    "# Create a function for API call for different movie titles\n",
    "\n",
    "def title_pull(item_ls, item_release_year):\n",
    "    '''\n",
    "    Insert docstring\n",
    "    '''\n",
    "    \n",
    "    global REQUEST_TOKEN\n",
    "    \n",
    "    item_name = ''\n",
    "    \n",
    "    # Loop to create a string to search movie database\n",
    "    for i in range(len(item_ls)):\n",
    "        if i != 0:\n",
    "            item_name += \":\" + item_ls[i]\n",
    "        else:\n",
    "            item_name = item_ls[i]\n",
    "        \n",
    "        # replace whitespace with %20\n",
    "        search_item = item_name.replace(\" \", \"%20\")\n",
    "            \n",
    "        # Try to search based on movie & release year\n",
    "        try:\n",
    "            url = f\"https://api.themoviedb.org/3/search/movie?api_key={REQUEST_TOKEN}&query={search_item}&primary_release_year={item_release_year}&page=1\" \n",
    "            req = requests.get(url)\n",
    "            sq_dict = req.json()\n",
    "            res = {key: sq_dict['results'][0][key] for key in sq_dict['results'][0].keys() & {'id', 'title'}}\n",
    "            res['search_title'] = search_item.replace(\"%20\", ' ')\n",
    "            res['type'] = 'movie'\n",
    "            return res\n",
    "        except:\n",
    "            pass\n",
    "\n",
    "        # Try to search based on TV name & first air date\n",
    "        try:\n",
    "            url = f\"https://api.themoviedb.org/3/search/tv?api_key={REQUEST_TOKEN}&query={search_item}&first_air_date_year={item_release_year}&page=1\"\n",
    "            req = requests.get(url)\n",
    "            sq_dict = req.json()\n",
    "            res = {key: sq_dict['results'][0][key] for key in sq_dict['results'][0].keys() & {'id', 'name'}}\n",
    "            res['search_title'] = search_item.replace(\"%20\", ' ')\n",
    "            res['type'] = 'tv'\n",
    "            return res\n",
    "        except:\n",
    "            pass\n",
    "\n",
    "        # Try to search based on Movie title only\n",
    "        try:\n",
    "            url = f\"https://api.themoviedb.org/3/search/movie?api_key={REQUEST_TOKEN}&query={search_item}&page=1\" \n",
    "            req = requests.get(url)\n",
    "            sq_dict = req.json()\n",
    "            res = {key: sq_dict['results'][0][key] for key in sq_dict['results'][0].keys() & {'id', 'title'}}\n",
    "            res['search_title'] = search_item.replace(\"%20\", ' ')\n",
    "            res['type'] = 'movie'\n",
    "            return res\n",
    "        except:\n",
    "            pass\n",
    "\n",
    "        # Try to search based on TV name only\n",
    "        try:\n",
    "            url = f\"https://api.themoviedb.org/3/search/tv?api_key={REQUEST_TOKEN}&query={search_item}&page=1\"\n",
    "            req = requests.get(url)\n",
    "            sq_dict = req.json()\n",
    "            res = {key: sq_dict['results'][0][key] for key in sq_dict['results'][0].keys() & {'id', 'name'}}\n",
    "            res['search_title'] = search_item.replace(\"%20\", ' ')\n",
    "            res['type'] = 'tv'\n",
    "            return res\n",
    "        except:\n",
    "            return 'NA'\n",
    "        \n",
    "    # generate a random sleep duration to look more 'natural'\n",
    "    sleep_duration = random.randint(2,5)\n",
    "    print(f'Sleep Duration: {sleep_duration}')\n",
    "    print('-' * 50)\n",
    "    time.sleep(sleep_duration)    \n",
    "    \n",
    "    # Check if url time-out\n",
    "    if response.status_code != 200:\n",
    "        url = \"https://www.themoviedb.org/authenticate/\"+ REQUEST_TOKEN\n",
    "    else:\n",
    "        print(f'Connection Error, error type: {response.status_code}')\n",
    "\n",
    "        "
   ]
  },
  {
   "cell_type": "code",
   "execution_count": 50,
   "metadata": {},
   "outputs": [],
   "source": [
    "def t_now(string):\n",
    "    time = datetime.now()\n",
    "    current_time = start.strftime(\"%H:%M:%S\")\n",
    "    return f\"{string} = {current_time}\""
   ]
  },
  {
   "cell_type": "code",
   "execution_count": 52,
   "metadata": {},
   "outputs": [
    {
     "name": "stdout",
     "output_type": "stream",
     "text": [
      "Start Time = 21:10:58\n",
      "0 batch: run time = 21:10:58\n"
     ]
    },
    {
     "name": "stderr",
     "output_type": "stream",
     "text": [
      "<timed exec>:5: SettingWithCopyWarning: \n",
      "A value is trying to be set on a copy of a slice from a DataFrame.\n",
      "Try using .loc[row_indexer,col_indexer] = value instead\n",
      "\n",
      "See the caveats in the documentation: https://pandas.pydata.org/pandas-docs/stable/user_guide/indexing.html#returning-a-view-versus-a-copy\n"
     ]
    },
    {
     "name": "stdout",
     "output_type": "stream",
     "text": [
      "1 batch: run time = 21:10:58\n",
      "Wall time: 9.38 s\n"
     ]
    }
   ],
   "source": [
    "%%time\n",
    "\n",
    "print(t_now('Start Time'))\n",
    "\n",
    "for index, df in enumerate(chunk_list):\n",
    "    print(f\"{index} batch: {t_now('run time')}\")\n",
    "    df['moviedb_result'] = df.apply(lambda x: title_pull(x['split_title'], x['year_of_release']),axis=1)\n",
    "    df.to_csv(f'datasets/titles_added/ta_{index}.csv')"
   ]
  },
  {
   "cell_type": "code",
   "execution_count": null,
   "metadata": {},
   "outputs": [],
   "source": []
  },
  {
   "cell_type": "code",
   "execution_count": null,
   "metadata": {},
   "outputs": [],
   "source": []
  },
  {
   "cell_type": "code",
   "execution_count": null,
   "metadata": {
    "scrolled": true
   },
   "outputs": [],
   "source": [
    "%%time\n",
    "\n",
    "start = datetime.now()\n",
    "\n",
    "current_time = start.strftime(\"%H:%M:%S\")\n",
    "print(\"Start Time =\", current_time)\n",
    "\n",
    "\n",
    "# Create a column of pulled result based on title & release_year\n",
    "titles['moviedb_result'] = titles.apply(lambda x: loop_title_pull(x['movie_id'], x['split_title'], x['year_of_release']),axis=1)\n",
    "\n",
    "# Create a column of pulled result based on title & release_year\n",
    "# test['moviedb_result'] = test.apply(lambda x: loop_title_pull(x['split_title'], x['year_of_release']),axis=1)"
   ]
  },
  {
   "cell_type": "code",
   "execution_count": null,
   "metadata": {},
   "outputs": [],
   "source": []
  },
  {
   "cell_type": "code",
   "execution_count": null,
   "metadata": {},
   "outputs": [],
   "source": []
  },
  {
   "cell_type": "code",
   "execution_count": 19,
   "metadata": {},
   "outputs": [
    {
     "data": {
      "text/html": [
       "<div>\n",
       "<style scoped>\n",
       "    .dataframe tbody tr th:only-of-type {\n",
       "        vertical-align: middle;\n",
       "    }\n",
       "\n",
       "    .dataframe tbody tr th {\n",
       "        vertical-align: top;\n",
       "    }\n",
       "\n",
       "    .dataframe thead th {\n",
       "        text-align: right;\n",
       "    }\n",
       "</style>\n",
       "<table border=\"1\" class=\"dataframe\">\n",
       "  <thead>\n",
       "    <tr style=\"text-align: right;\">\n",
       "      <th></th>\n",
       "      <th>movie_id</th>\n",
       "      <th>year_of_release</th>\n",
       "      <th>title</th>\n",
       "      <th>split_title</th>\n",
       "    </tr>\n",
       "  </thead>\n",
       "  <tbody>\n",
       "    <tr>\n",
       "      <th>0</th>\n",
       "      <td>1</td>\n",
       "      <td>2003.0</td>\n",
       "      <td>dinosaur planet</td>\n",
       "      <td>[dinosaur planet]</td>\n",
       "    </tr>\n",
       "    <tr>\n",
       "      <th>1</th>\n",
       "      <td>2</td>\n",
       "      <td>2004.0</td>\n",
       "      <td>isle of man tt 2004 review</td>\n",
       "      <td>[isle of man tt 2004 review]</td>\n",
       "    </tr>\n",
       "    <tr>\n",
       "      <th>2</th>\n",
       "      <td>3</td>\n",
       "      <td>1997.0</td>\n",
       "      <td>character</td>\n",
       "      <td>[character]</td>\n",
       "    </tr>\n",
       "    <tr>\n",
       "      <th>3</th>\n",
       "      <td>4</td>\n",
       "      <td>1994.0</td>\n",
       "      <td>paula abdul's get up &amp; dance</td>\n",
       "      <td>[paula abdul's get up &amp; dance]</td>\n",
       "    </tr>\n",
       "    <tr>\n",
       "      <th>4</th>\n",
       "      <td>5</td>\n",
       "      <td>2004.0</td>\n",
       "      <td>the rise and fall of ecw</td>\n",
       "      <td>[the rise and fall of ecw]</td>\n",
       "    </tr>\n",
       "  </tbody>\n",
       "</table>\n",
       "</div>"
      ],
      "text/plain": [
       "   movie_id  year_of_release                         title  \\\n",
       "0         1           2003.0               dinosaur planet   \n",
       "1         2           2004.0    isle of man tt 2004 review   \n",
       "2         3           1997.0                     character   \n",
       "3         4           1994.0  paula abdul's get up & dance   \n",
       "4         5           2004.0      the rise and fall of ecw   \n",
       "\n",
       "                      split_title  \n",
       "0               [dinosaur planet]  \n",
       "1    [isle of man tt 2004 review]  \n",
       "2                     [character]  \n",
       "3  [paula abdul's get up & dance]  \n",
       "4      [the rise and fall of ecw]  "
      ]
     },
     "execution_count": 19,
     "metadata": {},
     "output_type": "execute_result"
    }
   ],
   "source": [
    "titles.head()"
   ]
  },
  {
   "cell_type": "code",
   "execution_count": null,
   "metadata": {},
   "outputs": [],
   "source": [
    "%%time\n",
    "titles[['search_result', 'search_title', 'type']] = pd.DataFrame(titles['moviedb_result'].tolist(), index=test.index)\n",
    "\n",
    "\n",
    "## test[['search_result', 'search_title', 'type']] = pd.DataFrame(test['moviedb_result'].tolist(), index=test.index)\n",
    "\n",
    "# Slower method but may be more readable\n",
    "#test['search_result'], test['search_title'], test['type'] = zip(*test['moviedb_result'])"
   ]
  },
  {
   "cell_type": "code",
   "execution_count": null,
   "metadata": {},
   "outputs": [],
   "source": [
    "# Change html whitespace to normal whitespace\n",
    "titles['search_title'] = titles['search_title'].map(lambda x: x.replace('%20', \" \"))\n",
    "\n",
    "# test['search_title'] = test['search_title'].map(lambda x: x.replace('%20', \" \"))"
   ]
  },
  {
   "cell_type": "code",
   "execution_count": null,
   "metadata": {},
   "outputs": [],
   "source": [
    "titles.head()"
   ]
  },
  {
   "cell_type": "code",
   "execution_count": null,
   "metadata": {},
   "outputs": [],
   "source": [
    "titles[titles['search_result']=='NA']['type'].count()"
   ]
  },
  {
   "cell_type": "code",
   "execution_count": null,
   "metadata": {},
   "outputs": [],
   "source": []
  },
  {
   "cell_type": "code",
   "execution_count": null,
   "metadata": {},
   "outputs": [],
   "source": []
  },
  {
   "cell_type": "code",
   "execution_count": null,
   "metadata": {},
   "outputs": [],
   "source": []
  },
  {
   "cell_type": "code",
   "execution_count": null,
   "metadata": {},
   "outputs": [],
   "source": []
  },
  {
   "cell_type": "code",
   "execution_count": null,
   "metadata": {},
   "outputs": [],
   "source": []
  },
  {
   "cell_type": "code",
   "execution_count": null,
   "metadata": {},
   "outputs": [],
   "source": []
  },
  {
   "cell_type": "code",
   "execution_count": null,
   "metadata": {},
   "outputs": [],
   "source": []
  },
  {
   "cell_type": "markdown",
   "metadata": {},
   "source": [
    "### Merging of Movie title & Rating DataFrame"
   ]
  },
  {
   "cell_type": "code",
   "execution_count": null,
   "metadata": {},
   "outputs": [],
   "source": [
    "ratings_set = set(ratings['movie_id'])\n",
    "titles_set = set(titles['movie_id'])\n",
    "print(f\" elements present in title df but not in rating df : {titles_set.difference(ratings_set)}\")\n",
    "print(f\" elements present in rating df but not in title df : {ratings_set.difference(titles_set)}\")"
   ]
  },
  {
   "cell_type": "code",
   "execution_count": null,
   "metadata": {},
   "outputs": [],
   "source": [
    "# Merge movie title with rating\n",
    "df = pd.merge(ratings, titles, on='movie_id', how='inner')\n",
    "df.shape"
   ]
  },
  {
   "cell_type": "code",
   "execution_count": null,
   "metadata": {},
   "outputs": [],
   "source": [
    "df.head()"
   ]
  },
  {
   "cell_type": "code",
   "execution_count": null,
   "metadata": {},
   "outputs": [],
   "source": [
    "df.isnull().sum()"
   ]
  },
  {
   "cell_type": "code",
   "execution_count": null,
   "metadata": {},
   "outputs": [],
   "source": [
    "df.info()"
   ]
  },
  {
   "cell_type": "code",
   "execution_count": null,
   "metadata": {},
   "outputs": [],
   "source": [
    "df['title'].nunique()"
   ]
  },
  {
   "cell_type": "code",
   "execution_count": null,
   "metadata": {},
   "outputs": [],
   "source": []
  },
  {
   "cell_type": "code",
   "execution_count": null,
   "metadata": {},
   "outputs": [],
   "source": []
  }
 ],
 "metadata": {
  "kernelspec": {
   "display_name": "Python 3",
   "language": "python",
   "name": "python3"
  },
  "language_info": {
   "codemirror_mode": {
    "name": "ipython",
    "version": 3
   },
   "file_extension": ".py",
   "mimetype": "text/x-python",
   "name": "python",
   "nbconvert_exporter": "python",
   "pygments_lexer": "ipython3",
   "version": "3.8.3"
  }
 },
 "nbformat": 4,
 "nbformat_minor": 4
}
