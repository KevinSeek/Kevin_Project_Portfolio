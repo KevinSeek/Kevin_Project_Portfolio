{
 "cells": [
  {
   "cell_type": "markdown",
   "metadata": {
    "id": "PqqDx0GHIIST"
   },
   "source": [
    "## Connection to Google Drive"
   ]
  },
  {
   "cell_type": "code",
   "execution_count": 1,
   "metadata": {
    "colab": {
     "base_uri": "https://localhost:8080/",
     "height": 34
    },
    "executionInfo": {
     "elapsed": 15974,
     "status": "ok",
     "timestamp": 1601974133153,
     "user": {
      "displayName": "Kevin Seek",
      "photoUrl": "https://lh3.googleusercontent.com/a-/AOh14GiNGwQWCnn4srwEjY-kXn9aljnFOiHDs5frkwDmfQ=s64",
      "userId": "14837091755124416556"
     },
     "user_tz": -480
    },
    "id": "cG7iSpv_CKWG",
    "outputId": "7c084a30-8759-4ea7-d726-2ec82b02d8a5"
   },
   "outputs": [],
   "source": [
    "# Importing datasets from shared folder\n",
    "# from google.colab import drive\n",
    "# drive.mount(\"/content/drive/\")"
   ]
  },
  {
   "cell_type": "code",
   "execution_count": 2,
   "metadata": {
    "executionInfo": {
     "elapsed": 1699,
     "status": "ok",
     "timestamp": 1601974133154,
     "user": {
      "displayName": "Kevin Seek",
      "photoUrl": "https://lh3.googleusercontent.com/a-/AOh14GiNGwQWCnn4srwEjY-kXn9aljnFOiHDs5frkwDmfQ=s64",
      "userId": "14837091755124416556"
     },
     "user_tz": -480
    },
    "id": "aq126kRZCPy9"
   },
   "outputs": [],
   "source": [
    "# File location variable \n",
    "# fileloc = '/content/drive/My Drive/DSI_16/Capstone/datasets/'\n",
    "\n",
    "# File @ local machine\n",
    "fileloc = 'datasets/'"
   ]
  },
  {
   "cell_type": "markdown",
   "metadata": {
    "id": "CPpBOZrwRiTx"
   },
   "source": [
    "# Introduction\n",
    "As the trend of on-demand entertainment becoming more prevelant, there is a change in the trend of content creation being less exclusive to a particular network and more avaiable across various content providers. Due to this, there is a competiton across various entertainment provider to provide the right content to the right user to ensure that their users are engaged and reduce their needs to move to another content provider. 1 key factor that can help in pushing the right content to the right users is to have a robust recommendation system.\n",
    "\n",
    "A singapore start-up which envision to be the Netflix of Singapore, has hired me as a Data scientist to assist their team in creating a recommendation system. They have kindly provided movie rating data from their system. Due to PDPA, no user's profiles are provided."
   ]
  },
  {
   "cell_type": "markdown",
   "metadata": {
    "id": "GK_2rVTzRrtG"
   },
   "source": [
    "## Problem Statement\n",
    "1. To create a recommendation system based on collaborative filtering to recommend movies to users based on similar movie watched & ratings.\n",
    "2. Recommendation system should provide new contents (w/o rating) users based on user profile to user."
   ]
  },
  {
   "cell_type": "markdown",
   "metadata": {
    "id": "arQQz3y1UVLK"
   },
   "source": [
    "# Codes Book"
   ]
  },
  {
   "cell_type": "markdown",
   "metadata": {
    "id": "JRYK5qUjCoW8"
   },
   "source": [
    "## Import Library"
   ]
  },
  {
   "cell_type": "code",
   "execution_count": 3,
   "metadata": {
    "executionInfo": {
     "elapsed": 1039,
     "status": "ok",
     "timestamp": 1601974148571,
     "user": {
      "displayName": "Kevin Seek",
      "photoUrl": "https://lh3.googleusercontent.com/a-/AOh14GiNGwQWCnn4srwEjY-kXn9aljnFOiHDs5frkwDmfQ=s64",
      "userId": "14837091755124416556"
     },
     "user_tz": -480
    },
    "id": "EQUBU7zACgyx"
   },
   "outputs": [],
   "source": [
    "import numpy as np\n",
    "import pandas as pd\n",
    "\n",
    "# Library for importing and saving large datasets\n",
    "import glob\n",
    "import json\n",
    "import h5py\n",
    "\n",
    "# For dealing with iterables\n",
    "from itertools import chain\n",
    "from collections import ChainMap\n",
    "\n",
    "# Plotting\n",
    "import matplotlib.pyplot as plt\n",
    "import seaborn as sns\n",
    "\n",
    "# API Call\n",
    "import requests\n",
    "\n",
    "from datetime import datetime\n",
    "import time\n",
    "import random\n",
    "import ast\n",
    "\n",
    "# Additional Setting\n",
    "pd.set_option(\"display.max_rows\", 201)"
   ]
  },
  {
   "cell_type": "markdown",
   "metadata": {
    "id": "2TpcaRi1SQmZ"
   },
   "source": [
    "## User Defined Functions"
   ]
  },
  {
   "cell_type": "markdown",
   "metadata": {
    "id": "qVdEqrC6AKjE"
   },
   "source": [
    "### Time Function"
   ]
  },
  {
   "cell_type": "code",
   "execution_count": 4,
   "metadata": {
    "executionInfo": {
     "elapsed": 821,
     "status": "ok",
     "timestamp": 1601974151647,
     "user": {
      "displayName": "Kevin Seek",
      "photoUrl": "https://lh3.googleusercontent.com/a-/AOh14GiNGwQWCnn4srwEjY-kXn9aljnFOiHDs5frkwDmfQ=s64",
      "userId": "14837091755124416556"
     },
     "user_tz": -480
    },
    "id": "lAjRkW8BDSkg"
   },
   "outputs": [],
   "source": [
    "# Time function\n",
    "\n",
    "def t_now(string):\n",
    "    '''\n",
    "    Insert Docstring\n",
    "    '''\n",
    "    time = datetime.now()\n",
    "    current_time = time.strftime(\"%H:%M:%S\")\n",
    "    return f\"{string} = {current_time}\""
   ]
  },
  {
   "cell_type": "markdown",
   "metadata": {
    "id": "dG0mDF9HAKjH"
   },
   "source": [
    "### Title Pull"
   ]
  },
  {
   "cell_type": "code",
   "execution_count": 5,
   "metadata": {
    "executionInfo": {
     "elapsed": 821,
     "status": "ok",
     "timestamp": 1601974153503,
     "user": {
      "displayName": "Kevin Seek",
      "photoUrl": "https://lh3.googleusercontent.com/a-/AOh14GiNGwQWCnn4srwEjY-kXn9aljnFOiHDs5frkwDmfQ=s64",
      "userId": "14837091755124416556"
     },
     "user_tz": -480
    },
    "id": "8h9017HnDPYW"
   },
   "outputs": [],
   "source": [
    "# Create a function for API call for different movie titles\n",
    "\n",
    "def title_pull(item_ls, item_release_year):\n",
    "    '''\n",
    "    Function: This is \n",
    "    '''\n",
    "    \n",
    "    global REQUEST_TOKEN\n",
    "    \n",
    "    item_name = ''\n",
    "    \n",
    "    # Loop to create a string to search movie database\n",
    "    for i in range(len(item_ls)):\n",
    "        if i != 0:\n",
    "            item_name += \":\" + item_ls[i]\n",
    "        else:\n",
    "            item_name = item_ls[i]\n",
    "        \n",
    "        # replace whitespace with %20\n",
    "        search_item = item_name.replace(\" \", \"%20\")\n",
    "            \n",
    "        # Try to search based on movie & release year\n",
    "        try:\n",
    "            url = f\"https://api.themoviedb.org/3/search/movie?api_key={REQUEST_TOKEN}&query={search_item}&primary_release_year={item_release_year}&page=1\" \n",
    "            req = requests.get(url)\n",
    "            sq_dict = req.json()\n",
    "            res = {key: sq_dict['results'][0][key] for key in sq_dict['results'][0].keys() & {'id', 'title'}}\n",
    "            #res = {key: sq_dict['results'][0][key] for key in sq_dict['results'][0].keys() & {'id', 'title','genre_ids'}}\n",
    "            res['search_title'] = search_item.replace(\"%20\", ' ')\n",
    "            res['type'] = 'movie'\n",
    "            return res\n",
    "        except:\n",
    "            pass\n",
    "\n",
    "        # Try to search based on TV name & first air date\n",
    "        try:\n",
    "            url = f\"https://api.themoviedb.org/3/search/tv?api_key={REQUEST_TOKEN}&query={search_item}&first_air_date_year={item_release_year}&page=1\"\n",
    "            req = requests.get(url)\n",
    "            sq_dict = req.json()\n",
    "            res = {key: sq_dict['results'][0][key] for key in sq_dict['results'][0].keys() & {'id', 'name'}}\n",
    "            #res = {key: sq_dict['results'][0][key] for key in sq_dict['results'][0].keys() & {'id', 'name','genre_ids'}}\n",
    "            res['search_title'] = search_item.replace(\"%20\", ' ')\n",
    "            res['type'] = 'tv'\n",
    "            return res\n",
    "        except:\n",
    "            pass\n",
    "\n",
    "        # Try to search based on Movie title only\n",
    "        try:\n",
    "            url = f\"https://api.themoviedb.org/3/search/movie?api_key={REQUEST_TOKEN}&query={search_item}&page=1\" \n",
    "            req = requests.get(url)\n",
    "            sq_dict = req.json()\n",
    "            res = {key: sq_dict['results'][0][key] for key in sq_dict['results'][0].keys() & {'id', 'title'}}\n",
    "            #res = {key: sq_dict['results'][0][key] for key in sq_dict['results'][0].keys() & {'id', 'title','genre_ids'}}\n",
    "            res['search_title'] = search_item.replace(\"%20\", ' ')\n",
    "            res['type'] = 'movie'\n",
    "            return res\n",
    "        except:\n",
    "            pass\n",
    "\n",
    "        # Try to search based on TV name only\n",
    "        try:\n",
    "            url = f\"https://api.themoviedb.org/3/search/tv?api_key={REQUEST_TOKEN}&query={search_item}&page=1\"\n",
    "            req = requests.get(url)\n",
    "            sq_dict = req.json()\n",
    "            res = {key: sq_dict['results'][0][key] for key in sq_dict['results'][0].keys() & {'id', 'name'}}\n",
    "            #res = {key: sq_dict['results'][0][key] for key in sq_dict['results'][0].keys() & {'id', 'name','genre_ids'}}\n",
    "            res['search_title'] = search_item.replace(\"%20\", ' ')\n",
    "            res['type'] = 'tv'\n",
    "            return res\n",
    "        except:\n",
    "            return 'NA'"
   ]
  },
  {
   "cell_type": "markdown",
   "metadata": {
    "id": "bCpwTH_PAKjJ"
   },
   "source": [
    "### Metadata API"
   ]
  },
  {
   "cell_type": "code",
   "execution_count": 6,
   "metadata": {
    "executionInfo": {
     "elapsed": 833,
     "status": "ok",
     "timestamp": 1601974154856,
     "user": {
      "displayName": "Kevin Seek",
      "photoUrl": "https://lh3.googleusercontent.com/a-/AOh14GiNGwQWCnn4srwEjY-kXn9aljnFOiHDs5frkwDmfQ=s64",
      "userId": "14837091755124416556"
     },
     "user_tz": -480
    },
    "id": "jGRGfpmCBTgM"
   },
   "outputs": [],
   "source": [
    "# Create a function for API call for different movie titles\n",
    "\n",
    "def movieid_pull(index, item_id, title_type):\n",
    "    '''\n",
    "    Function: Perform API call to movie db and extract relevant information base on movie_id\n",
    "\n",
    "    arg1 (int): moive_id unique to the movie db\n",
    "\n",
    "    arg2 (str): Whether the title is a movie or a tv show\n",
    "    '''\n",
    "    \n",
    "    global REQUEST_TOKEN, chunk_size\n",
    "\n",
    "    #Create empty dict\n",
    "    res = dict()\n",
    "    sq_dict = dict()\n",
    "\n",
    "    # # Loop to create a string to search movie database\n",
    "    # if index % chunk_size == 0:\n",
    "    #     print(f\"{chunk_size}{t_now(' rows processed')}\")\n",
    "\n",
    "    #Check title type\n",
    "    if title_type == 'movie':\n",
    "        # Find the top actor/actress of the moive - api order = 0\n",
    "        url = f\"https://api.themoviedb.org/3/movie/{item_id}/credits?api_key={REQUEST_TOKEN}\" \n",
    "        req = requests.get(url)\n",
    "        sq_dict = req.json()\n",
    "\n",
    "        # Find actor/actress\n",
    "        if sq_dict['cast']:\n",
    "            res = {key: sq_dict['cast'][0][key] for key in sq_dict['cast'][0].keys() & {'name'}}\n",
    "        \n",
    "        # Find Associated Keywords with titles\n",
    "        url = f\"https://api.themoviedb.org/3/movie/{item_id}/keywords?api_key={REQUEST_TOKEN}\"\n",
    "        req = requests.get(url)\n",
    "        sq_dict = req.json()\n",
    "        if sq_dict['keywords']:\n",
    "            res['keywords'] = sq_dict['keywords']\n",
    "\n",
    "        # Find titles details\n",
    "        url = f\"https://api.themoviedb.org/3/movie/{item_id}?api_key={REQUEST_TOKEN}\"\n",
    "        req = requests.get(url)\n",
    "        sq_dict = req.json()\n",
    "        for i in ['genres', 'popularity','vote_count','vote_average']:\n",
    "            if sq_dict[i]:\n",
    "                res[i] = sq_dict[i]\n",
    "        return res\n",
    "    \n",
    "    elif title_type == 'tv':\n",
    "        # Find the top actor/actress/host of the moive - api order = 0\n",
    "        url = f\"https://api.themoviedb.org/3/tv/{item_id}/credits?api_key={REQUEST_TOKEN}\" \n",
    "        req = requests.get(url)\n",
    "        sq_dict = req.json()\n",
    "        if sq_dict['cast']:\n",
    "            res = {key: sq_dict['cast'][0][key] for key in sq_dict['cast'][0].keys() & {'name'}}\n",
    "\n",
    "        # Find Associated Keywords with titles\n",
    "        url = f\"https://api.themoviedb.org/3/tv/{item_id}/keywords?api_key={REQUEST_TOKEN}\"\n",
    "        req = requests.get(url)\n",
    "        sq_dict = req.json()\n",
    "        if sq_dict['results']:\n",
    "            res['keywords'] = sq_dict['results']\n",
    "\n",
    "        # Find titles details\n",
    "        url = f\"https://api.themoviedb.org/3/tv/{item_id}?api_key={REQUEST_TOKEN}\"\n",
    "        req = requests.get(url)\n",
    "        sq_dict = req.json()\n",
    "        for i in ['genres', 'popularity','vote_count','vote_average']:\n",
    "            if sq_dict[i]:\n",
    "                res[i] = sq_dict[i]\n",
    "        return res"
   ]
  },
  {
   "cell_type": "markdown",
   "metadata": {
    "id": "e1BT4X8HAKjM"
   },
   "source": [
    "### make dict"
   ]
  },
  {
   "cell_type": "code",
   "execution_count": 7,
   "metadata": {
    "executionInfo": {
     "elapsed": 790,
     "status": "ok",
     "timestamp": 1601974158407,
     "user": {
      "displayName": "Kevin Seek",
      "photoUrl": "https://lh3.googleusercontent.com/a-/AOh14GiNGwQWCnn4srwEjY-kXn9aljnFOiHDs5frkwDmfQ=s64",
      "userId": "14837091755124416556"
     },
     "user_tz": -480
    },
    "id": "boUfJjW5av1b"
   },
   "outputs": [],
   "source": [
    "def make_dict(x):\n",
    "    '''\n",
    "    Function: Return a dict of 2 vals within a dict = {val1: val2}\n",
    "    \n",
    "    arg1 (list): A list of dictionaries\n",
    "\n",
    "    '''\n",
    "    \n",
    "    final_dict = dict()\n",
    "    try:\n",
    "        for item in x:\n",
    "            final_dict.update({item['name'] : item['id']})\n",
    "        return final_dict\n",
    "    except:\n",
    "        return final_dict"
   ]
  },
  {
   "cell_type": "markdown",
   "metadata": {
    "id": "8W7c33AOAKjP"
   },
   "source": [
    "### Chunking"
   ]
  },
  {
   "cell_type": "code",
   "execution_count": 8,
   "metadata": {
    "executionInfo": {
     "elapsed": 1116,
     "status": "ok",
     "timestamp": 1601974167551,
     "user": {
      "displayName": "Kevin Seek",
      "photoUrl": "https://lh3.googleusercontent.com/a-/AOh14GiNGwQWCnn4srwEjY-kXn9aljnFOiHDs5frkwDmfQ=s64",
      "userId": "14837091755124416556"
     },
     "user_tz": -480
    },
    "id": "VWq8UcVDAKjP"
   },
   "outputs": [],
   "source": [
    "def chunking(chunk_size, df):\n",
    "    '''\n",
    "    Function return a lsit of chunked dataframe\n",
    "    \n",
    "    arg1 (int): Chunk size of each chunk\n",
    "    arg2 (df) : Dataframe to chunk\n",
    "    \n",
    "    return (list): A list of chunked dataframe\n",
    "    '''\n",
    "    \n",
    "    chunk_list = []\n",
    "    for i in range(0, len(titles),chunk_size):\n",
    "        if i == 0:\n",
    "            start_point = 0\n",
    "        else:\n",
    "            start_point = i\n",
    "\n",
    "        df = titles.loc[start_point: start_point + chunk_size -1 ,:]\n",
    "        chunk_list.append(df)\n",
    "        \n",
    "    return chunk_list"
   ]
  },
  {
   "cell_type": "markdown",
   "metadata": {
    "id": "kyN-6svxCxFU"
   },
   "source": [
    "## Import Dataset"
   ]
  },
  {
   "cell_type": "markdown",
   "metadata": {
    "id": "jG9fpXCRR85-"
   },
   "source": [
    "### Movie Title Dataset"
   ]
  },
  {
   "cell_type": "code",
   "execution_count": 9,
   "metadata": {
    "executionInfo": {
     "elapsed": 1342,
     "status": "ok",
     "timestamp": 1601974181358,
     "user": {
      "displayName": "Kevin Seek",
      "photoUrl": "https://lh3.googleusercontent.com/a-/AOh14GiNGwQWCnn4srwEjY-kXn9aljnFOiHDs5frkwDmfQ=s64",
      "userId": "14837091755124416556"
     },
     "user_tz": -480
    },
    "id": "lsOagZ95Cttg"
   },
   "outputs": [],
   "source": [
    "# Import Movie titles file\n",
    "titles = pd.read_csv(fileloc+ 'movie_titles.txt', sep = ',', names=['movie_id','year_of_release','title'], encoding='Latin_1')"
   ]
  },
  {
   "cell_type": "code",
   "execution_count": 10,
   "metadata": {
    "executionInfo": {
     "elapsed": 1353,
     "status": "ok",
     "timestamp": 1601974183183,
     "user": {
      "displayName": "Kevin Seek",
      "photoUrl": "https://lh3.googleusercontent.com/a-/AOh14GiNGwQWCnn4srwEjY-kXn9aljnFOiHDs5frkwDmfQ=s64",
      "userId": "14837091755124416556"
     },
     "user_tz": -480
    },
    "id": "UjsyGiYcC3o-"
   },
   "outputs": [],
   "source": [
    "# convert all movie title to lower case\n",
    "titles['title'] = titles['title'].map(lambda x: str.lower(x))"
   ]
  },
  {
   "cell_type": "code",
   "execution_count": 11,
   "metadata": {
    "colab": {
     "base_uri": "https://localhost:8080/",
     "height": 221
    },
    "executionInfo": {
     "elapsed": 1280,
     "status": "ok",
     "timestamp": 1601974183634,
     "user": {
      "displayName": "Kevin Seek",
      "photoUrl": "https://lh3.googleusercontent.com/a-/AOh14GiNGwQWCnn4srwEjY-kXn9aljnFOiHDs5frkwDmfQ=s64",
      "userId": "14837091755124416556"
     },
     "user_tz": -480
    },
    "id": "jcdfWFOaC6g8",
    "outputId": "1bc42398-2327-4239-abe7-1000400c7542"
   },
   "outputs": [
    {
     "name": "stdout",
     "output_type": "stream",
     "text": [
      "shape of titles (17770, 3)\n"
     ]
    },
    {
     "data": {
      "text/html": [
       "<div>\n",
       "<style scoped>\n",
       "    .dataframe tbody tr th:only-of-type {\n",
       "        vertical-align: middle;\n",
       "    }\n",
       "\n",
       "    .dataframe tbody tr th {\n",
       "        vertical-align: top;\n",
       "    }\n",
       "\n",
       "    .dataframe thead th {\n",
       "        text-align: right;\n",
       "    }\n",
       "</style>\n",
       "<table border=\"1\" class=\"dataframe\">\n",
       "  <thead>\n",
       "    <tr style=\"text-align: right;\">\n",
       "      <th></th>\n",
       "      <th>movie_id</th>\n",
       "      <th>year_of_release</th>\n",
       "      <th>title</th>\n",
       "    </tr>\n",
       "  </thead>\n",
       "  <tbody>\n",
       "    <tr>\n",
       "      <th>0</th>\n",
       "      <td>1</td>\n",
       "      <td>2003.0</td>\n",
       "      <td>dinosaur planet</td>\n",
       "    </tr>\n",
       "    <tr>\n",
       "      <th>1</th>\n",
       "      <td>2</td>\n",
       "      <td>2004.0</td>\n",
       "      <td>isle of man tt 2004 review</td>\n",
       "    </tr>\n",
       "    <tr>\n",
       "      <th>2</th>\n",
       "      <td>3</td>\n",
       "      <td>1997.0</td>\n",
       "      <td>character</td>\n",
       "    </tr>\n",
       "    <tr>\n",
       "      <th>3</th>\n",
       "      <td>4</td>\n",
       "      <td>1994.0</td>\n",
       "      <td>paula abdul's get up &amp; dance</td>\n",
       "    </tr>\n",
       "    <tr>\n",
       "      <th>4</th>\n",
       "      <td>5</td>\n",
       "      <td>2004.0</td>\n",
       "      <td>the rise and fall of ecw</td>\n",
       "    </tr>\n",
       "  </tbody>\n",
       "</table>\n",
       "</div>"
      ],
      "text/plain": [
       "   movie_id  year_of_release                         title\n",
       "0         1           2003.0               dinosaur planet\n",
       "1         2           2004.0    isle of man tt 2004 review\n",
       "2         3           1997.0                     character\n",
       "3         4           1994.0  paula abdul's get up & dance\n",
       "4         5           2004.0      the rise and fall of ecw"
      ]
     },
     "execution_count": 11,
     "metadata": {},
     "output_type": "execute_result"
    }
   ],
   "source": [
    "print(f'shape of titles {titles.shape}')\n",
    "titles.head()"
   ]
  },
  {
   "cell_type": "markdown",
   "metadata": {
    "id": "m98sV9ohC9ib"
   },
   "source": [
    "#### Delimit Title for search in MovieDB"
   ]
  },
  {
   "cell_type": "code",
   "execution_count": 12,
   "metadata": {
    "colab": {
     "base_uri": "https://localhost:8080/",
     "height": 359
    },
    "executionInfo": {
     "elapsed": 513,
     "status": "ok",
     "timestamp": 1601974185136,
     "user": {
      "displayName": "Kevin Seek",
      "photoUrl": "https://lh3.googleusercontent.com/a-/AOh14GiNGwQWCnn4srwEjY-kXn9aljnFOiHDs5frkwDmfQ=s64",
      "userId": "14837091755124416556"
     },
     "user_tz": -480
    },
    "id": "hdCS87MRqVO2",
    "outputId": "0798bd17-b0e1-4653-b163-d6124a86062f"
   },
   "outputs": [
    {
     "data": {
      "text/html": [
       "<div>\n",
       "<style scoped>\n",
       "    .dataframe tbody tr th:only-of-type {\n",
       "        vertical-align: middle;\n",
       "    }\n",
       "\n",
       "    .dataframe tbody tr th {\n",
       "        vertical-align: top;\n",
       "    }\n",
       "\n",
       "    .dataframe thead th {\n",
       "        text-align: right;\n",
       "    }\n",
       "</style>\n",
       "<table border=\"1\" class=\"dataframe\">\n",
       "  <thead>\n",
       "    <tr style=\"text-align: right;\">\n",
       "      <th></th>\n",
       "      <th>movie_id</th>\n",
       "      <th>year_of_release</th>\n",
       "      <th>title</th>\n",
       "      <th>split_title</th>\n",
       "    </tr>\n",
       "  </thead>\n",
       "  <tbody>\n",
       "    <tr>\n",
       "      <th>0</th>\n",
       "      <td>1</td>\n",
       "      <td>2003.0</td>\n",
       "      <td>dinosaur planet</td>\n",
       "      <td>[dinosaur planet]</td>\n",
       "    </tr>\n",
       "    <tr>\n",
       "      <th>1</th>\n",
       "      <td>2</td>\n",
       "      <td>2004.0</td>\n",
       "      <td>isle of man tt 2004 review</td>\n",
       "      <td>[isle of man tt 2004 review]</td>\n",
       "    </tr>\n",
       "    <tr>\n",
       "      <th>2</th>\n",
       "      <td>3</td>\n",
       "      <td>1997.0</td>\n",
       "      <td>character</td>\n",
       "      <td>[character]</td>\n",
       "    </tr>\n",
       "    <tr>\n",
       "      <th>3</th>\n",
       "      <td>4</td>\n",
       "      <td>1994.0</td>\n",
       "      <td>paula abdul's get up &amp; dance</td>\n",
       "      <td>[paula abdul's get up &amp; dance]</td>\n",
       "    </tr>\n",
       "    <tr>\n",
       "      <th>4</th>\n",
       "      <td>5</td>\n",
       "      <td>2004.0</td>\n",
       "      <td>the rise and fall of ecw</td>\n",
       "      <td>[the rise and fall of ecw]</td>\n",
       "    </tr>\n",
       "    <tr>\n",
       "      <th>5</th>\n",
       "      <td>6</td>\n",
       "      <td>1997.0</td>\n",
       "      <td>sick</td>\n",
       "      <td>[sick]</td>\n",
       "    </tr>\n",
       "    <tr>\n",
       "      <th>6</th>\n",
       "      <td>7</td>\n",
       "      <td>1992.0</td>\n",
       "      <td>8 man</td>\n",
       "      <td>[8 man]</td>\n",
       "    </tr>\n",
       "    <tr>\n",
       "      <th>7</th>\n",
       "      <td>8</td>\n",
       "      <td>2004.0</td>\n",
       "      <td>what the #$*! do we know!?</td>\n",
       "      <td>[what the #$*! do we know!?]</td>\n",
       "    </tr>\n",
       "    <tr>\n",
       "      <th>8</th>\n",
       "      <td>9</td>\n",
       "      <td>1991.0</td>\n",
       "      <td>class of nuke 'em high 2</td>\n",
       "      <td>[class of nuke 'em high 2]</td>\n",
       "    </tr>\n",
       "    <tr>\n",
       "      <th>9</th>\n",
       "      <td>10</td>\n",
       "      <td>2001.0</td>\n",
       "      <td>fighter</td>\n",
       "      <td>[fighter]</td>\n",
       "    </tr>\n",
       "  </tbody>\n",
       "</table>\n",
       "</div>"
      ],
      "text/plain": [
       "   movie_id  year_of_release                         title  \\\n",
       "0         1           2003.0               dinosaur planet   \n",
       "1         2           2004.0    isle of man tt 2004 review   \n",
       "2         3           1997.0                     character   \n",
       "3         4           1994.0  paula abdul's get up & dance   \n",
       "4         5           2004.0      the rise and fall of ecw   \n",
       "5         6           1997.0                          sick   \n",
       "6         7           1992.0                         8 man   \n",
       "7         8           2004.0    what the #$*! do we know!?   \n",
       "8         9           1991.0      class of nuke 'em high 2   \n",
       "9        10           2001.0                       fighter   \n",
       "\n",
       "                      split_title  \n",
       "0               [dinosaur planet]  \n",
       "1    [isle of man tt 2004 review]  \n",
       "2                     [character]  \n",
       "3  [paula abdul's get up & dance]  \n",
       "4      [the rise and fall of ecw]  \n",
       "5                          [sick]  \n",
       "6                         [8 man]  \n",
       "7    [what the #$*! do we know!?]  \n",
       "8      [class of nuke 'em high 2]  \n",
       "9                       [fighter]  "
      ]
     },
     "execution_count": 12,
     "metadata": {},
     "output_type": "execute_result"
    }
   ],
   "source": [
    "# Split title into a list of words - delimiter \":\"\n",
    "titles['split_title'] = titles['title'].str.split(':')\n",
    "titles.head(10)"
   ]
  },
  {
   "cell_type": "code",
   "execution_count": 13,
   "metadata": {
    "executionInfo": {
     "elapsed": 1061,
     "status": "ok",
     "timestamp": 1601974187653,
     "user": {
      "displayName": "Kevin Seek",
      "photoUrl": "https://lh3.googleusercontent.com/a-/AOh14GiNGwQWCnn4srwEjY-kXn9aljnFOiHDs5frkwDmfQ=s64",
      "userId": "14837091755124416556"
     },
     "user_tz": -480
    },
    "id": "5ZDuhbZ4DAqB"
   },
   "outputs": [],
   "source": [
    "# Create Chunk Size\n",
    "chunk_size = 3000"
   ]
  },
  {
   "cell_type": "code",
   "execution_count": 14,
   "metadata": {
    "executionInfo": {
     "elapsed": 579,
     "status": "ok",
     "timestamp": 1601974187654,
     "user": {
      "displayName": "Kevin Seek",
      "photoUrl": "https://lh3.googleusercontent.com/a-/AOh14GiNGwQWCnn4srwEjY-kXn9aljnFOiHDs5frkwDmfQ=s64",
      "userId": "14837091755124416556"
     },
     "user_tz": -480
    },
    "id": "Nxfitl1AAKjj"
   },
   "outputs": [],
   "source": [
    "chunk_list = chunking(chunk_size, titles)"
   ]
  },
  {
   "cell_type": "markdown",
   "metadata": {},
   "source": [
    "#### Invoke API call to extract title id from MovieDB"
   ]
  },
  {
   "cell_type": "code",
   "execution_count": 15,
   "metadata": {
    "colab": {
     "base_uri": "https://localhost:8080/",
     "height": 34
    },
    "id": "eJ55-U3VAKkf",
    "outputId": "b801c646-a147-4da8-b0b5-2714a99b59d4"
   },
   "outputs": [
    {
     "name": "stdout",
     "output_type": "stream",
     "text": [
      "200\n"
     ]
    }
   ],
   "source": [
    "# API key\n",
    "REQUEST_TOKEN = 'd8f46f139abc47c1f048f3efc486fe53'\n",
    "\n",
    "# Target web page:\n",
    "\n",
    "# To authenticate api call session\n",
    "url = \"https://www.themoviedb.org/authenticate/\"+ REQUEST_TOKEN\n",
    "\n",
    "# Establishing the connection to the web page:\n",
    "response = requests.get(url)\n",
    "\n",
    "# You can use status codes to understand how the target server responds to your request.\n",
    "# Ex., 200 = OK, 400 = Bad Request, 403 = Forbidden, 404 = Not Found.\n",
    "print(response.status_code)"
   ]
  },
  {
   "cell_type": "code",
   "execution_count": null,
   "metadata": {
    "colab": {
     "base_uri": "https://localhost:8080/",
     "height": 1000
    },
    "id": "Y1e0O9ezAKkh",
    "outputId": "fde69a00-ea53-47e8-ff5a-c519b531947f",
    "scrolled": true
   },
   "outputs": [
    {
     "name": "stdout",
     "output_type": "stream",
     "text": [
      "Start Time = 17:31:20\n",
      "There are 6 batches to process\n"
     ]
    }
   ],
   "source": [
    "%%time\n",
    "\n",
    "print(t_now('Start Time'))\n",
    "print(f\"There are {len(chunk_list)} batches to process\")\n",
    "\n",
    "# Saving of titles files\n",
    "for index, df in enumerate(chunk_list):\n",
    "    df['moviedb_result'] = df.apply(lambda x: title_pull(x['split_title'], x['year_of_release']),axis=1)\n",
    "    print(f\"{index} batch: {t_now('run time')}\")\n",
    "    df.to_csv(f'{fileloc}titles_added/ta_{index}.csv', index=False)\n",
    "        \n",
    "    # Check if url time-out\n",
    "    if response.status_code != 200:\n",
    "        print(f'Connection Error, error type: {response.status_code}')\n",
    "        url = \"https://www.themoviedb.org/authenticate/\"+ REQUEST_TOKEN\n",
    "        print(response.status_code)\n",
    "        \n",
    "    #generate a random sleep duration to look more 'natural'\n",
    "    sleep_duration = random.randint(0,2)\n",
    "    print(f'Sleep Duration: {sleep_duration}')\n",
    "    print('-' * 50)\n",
    "    time.sleep(sleep_duration) "
   ]
  },
  {
   "cell_type": "code",
   "execution_count": 56,
   "metadata": {
    "colab": {
     "base_uri": "https://localhost:8080/",
     "height": 68
    },
    "id": "kbjz_7WrAKkk",
    "outputId": "545435d2-15ae-4ae8-ac61-7ce1af3a52d6"
   },
   "outputs": [
    {
     "name": "stdout",
     "output_type": "stream",
     "text": [
      "glob completed\n",
      "Wall time: 70.8 ms\n"
     ]
    }
   ],
   "source": [
    "%%time\n",
    "# Globbing of saved Chunks\n",
    "# Import titles chunks into dataframe\n",
    "ls_of_titles = []\n",
    "\n",
    "# Specify the pattern matching for glob\n",
    "rating_files = glob.glob(fileloc + 'titles_added/*')\n",
    "\n",
    "# Loop to get dataframe into list\n",
    "for filename in rating_files:\n",
    "    df = pd.read_csv(filename, sep=',')\n",
    "    ls_of_titles.append(df)\n",
    "\n",
    "# Concat dataframe together\n",
    "titles = pd.concat(ls_of_titles,ignore_index=True)\n",
    "\n",
    "print('glob completed')"
   ]
  },
  {
   "cell_type": "code",
   "execution_count": 57,
   "metadata": {
    "colab": {
     "base_uri": "https://localhost:8080/",
     "height": 34
    },
    "id": "m4C7lg_yAKkl",
    "outputId": "58762bdd-d3f8-4dfe-caea-0eb0930e206e"
   },
   "outputs": [
    {
     "name": "stdout",
     "output_type": "stream",
     "text": [
      "(17770, 5)\n"
     ]
    }
   ],
   "source": [
    "print(titles.shape)"
   ]
  },
  {
   "cell_type": "code",
   "execution_count": 58,
   "metadata": {
    "colab": {
     "base_uri": "https://localhost:8080/",
     "height": 204
    },
    "id": "kqnmrAGRAKkn",
    "outputId": "1cb366e7-e8a8-49f4-a262-54c467e47777"
   },
   "outputs": [
    {
     "data": {
      "text/html": [
       "<div>\n",
       "<style scoped>\n",
       "    .dataframe tbody tr th:only-of-type {\n",
       "        vertical-align: middle;\n",
       "    }\n",
       "\n",
       "    .dataframe tbody tr th {\n",
       "        vertical-align: top;\n",
       "    }\n",
       "\n",
       "    .dataframe thead th {\n",
       "        text-align: right;\n",
       "    }\n",
       "</style>\n",
       "<table border=\"1\" class=\"dataframe\">\n",
       "  <thead>\n",
       "    <tr style=\"text-align: right;\">\n",
       "      <th></th>\n",
       "      <th>movie_id</th>\n",
       "      <th>year_of_release</th>\n",
       "      <th>title</th>\n",
       "      <th>split_title</th>\n",
       "      <th>moviedb_result</th>\n",
       "    </tr>\n",
       "  </thead>\n",
       "  <tbody>\n",
       "    <tr>\n",
       "      <th>0</th>\n",
       "      <td>1</td>\n",
       "      <td>2003.0</td>\n",
       "      <td>dinosaur planet</td>\n",
       "      <td>['dinosaur planet']</td>\n",
       "      <td>{'name': 'Dinosaur Planet', 'id': 11710, 'sear...</td>\n",
       "    </tr>\n",
       "    <tr>\n",
       "      <th>1</th>\n",
       "      <td>2</td>\n",
       "      <td>2004.0</td>\n",
       "      <td>isle of man tt 2004 review</td>\n",
       "      <td>['isle of man tt 2004 review']</td>\n",
       "      <td>NaN</td>\n",
       "    </tr>\n",
       "    <tr>\n",
       "      <th>2</th>\n",
       "      <td>3</td>\n",
       "      <td>1997.0</td>\n",
       "      <td>character</td>\n",
       "      <td>['character']</td>\n",
       "      <td>{'id': 17139, 'title': 'Character', 'search_ti...</td>\n",
       "    </tr>\n",
       "    <tr>\n",
       "      <th>3</th>\n",
       "      <td>4</td>\n",
       "      <td>1994.0</td>\n",
       "      <td>paula abdul's get up &amp; dance</td>\n",
       "      <td>[\"paula abdul's get up &amp; dance\"]</td>\n",
       "      <td>{'id': 274766, 'title': \"Paula Abdul's Get Up ...</td>\n",
       "    </tr>\n",
       "    <tr>\n",
       "      <th>4</th>\n",
       "      <td>5</td>\n",
       "      <td>2004.0</td>\n",
       "      <td>the rise and fall of ecw</td>\n",
       "      <td>['the rise and fall of ecw']</td>\n",
       "      <td>{'id': 33209, 'title': 'The Rise &amp; Fall of ECW...</td>\n",
       "    </tr>\n",
       "  </tbody>\n",
       "</table>\n",
       "</div>"
      ],
      "text/plain": [
       "   movie_id  year_of_release                         title  \\\n",
       "0         1           2003.0               dinosaur planet   \n",
       "1         2           2004.0    isle of man tt 2004 review   \n",
       "2         3           1997.0                     character   \n",
       "3         4           1994.0  paula abdul's get up & dance   \n",
       "4         5           2004.0      the rise and fall of ecw   \n",
       "\n",
       "                        split_title  \\\n",
       "0               ['dinosaur planet']   \n",
       "1    ['isle of man tt 2004 review']   \n",
       "2                     ['character']   \n",
       "3  [\"paula abdul's get up & dance\"]   \n",
       "4      ['the rise and fall of ecw']   \n",
       "\n",
       "                                      moviedb_result  \n",
       "0  {'name': 'Dinosaur Planet', 'id': 11710, 'sear...  \n",
       "1                                                NaN  \n",
       "2  {'id': 17139, 'title': 'Character', 'search_ti...  \n",
       "3  {'id': 274766, 'title': \"Paula Abdul's Get Up ...  \n",
       "4  {'id': 33209, 'title': 'The Rise & Fall of ECW...  "
      ]
     },
     "execution_count": 58,
     "metadata": {},
     "output_type": "execute_result"
    }
   ],
   "source": [
    "titles.head()"
   ]
  },
  {
   "cell_type": "markdown",
   "metadata": {},
   "source": [
    "#### Cleaning of Title Dataset"
   ]
  },
  {
   "cell_type": "markdown",
   "metadata": {},
   "source": [
    "##### Dropping of Null Values"
   ]
  },
  {
   "cell_type": "code",
   "execution_count": 59,
   "metadata": {
    "colab": {
     "base_uri": "https://localhost:8080/",
     "height": 34
    },
    "id": "X2xPWcJnAKkp",
    "outputId": "64441606-9183-4eb7-ab0c-943a59331aee"
   },
   "outputs": [
    {
     "data": {
      "text/plain": [
       "year_of_release      7\n",
       "moviedb_result     803\n",
       "dtype: int64"
      ]
     },
     "execution_count": 59,
     "metadata": {},
     "output_type": "execute_result"
    }
   ],
   "source": [
    "titles.isnull().sum()[titles.isnull().sum()>0]"
   ]
  },
  {
   "cell_type": "code",
   "execution_count": 60,
   "metadata": {},
   "outputs": [
    {
     "name": "stdout",
     "output_type": "stream",
     "text": [
      "Shape of titles before dropping: (17770, 5)\n",
      "Shape of titles after dropping: (16967, 5)\n"
     ]
    }
   ],
   "source": [
    "# Drop null values in moviedb_result and reassigned back to titles\n",
    "print(f'Shape of titles before dropping: {titles.shape}')\n",
    "titles = titles.dropna(axis=0, how='all', subset=['moviedb_result'])\n",
    "print(f'Shape of titles after dropping: {titles.shape}')"
   ]
  },
  {
   "cell_type": "code",
   "execution_count": 61,
   "metadata": {
    "colab": {
     "base_uri": "https://localhost:8080/",
     "height": 221
    },
    "id": "edTjv-9eAKkq",
    "outputId": "6e635c49-17f3-457d-835b-b0f78833b5f3"
   },
   "outputs": [
    {
     "name": "stdout",
     "output_type": "stream",
     "text": [
      "(16967, 5)\n"
     ]
    },
    {
     "data": {
      "text/html": [
       "<div>\n",
       "<style scoped>\n",
       "    .dataframe tbody tr th:only-of-type {\n",
       "        vertical-align: middle;\n",
       "    }\n",
       "\n",
       "    .dataframe tbody tr th {\n",
       "        vertical-align: top;\n",
       "    }\n",
       "\n",
       "    .dataframe thead th {\n",
       "        text-align: right;\n",
       "    }\n",
       "</style>\n",
       "<table border=\"1\" class=\"dataframe\">\n",
       "  <thead>\n",
       "    <tr style=\"text-align: right;\">\n",
       "      <th></th>\n",
       "      <th>movie_id</th>\n",
       "      <th>year_of_release</th>\n",
       "      <th>title</th>\n",
       "      <th>split_title</th>\n",
       "      <th>moviedb_result</th>\n",
       "    </tr>\n",
       "  </thead>\n",
       "  <tbody>\n",
       "    <tr>\n",
       "      <th>0</th>\n",
       "      <td>1</td>\n",
       "      <td>2003.0</td>\n",
       "      <td>dinosaur planet</td>\n",
       "      <td>['dinosaur planet']</td>\n",
       "      <td>{'title': 'Dinosaur Planet', 'id': 11710, 'sea...</td>\n",
       "    </tr>\n",
       "    <tr>\n",
       "      <th>1</th>\n",
       "      <td>3</td>\n",
       "      <td>1997.0</td>\n",
       "      <td>character</td>\n",
       "      <td>['character']</td>\n",
       "      <td>{'id': 17139, 'title': 'Character', 'search_ti...</td>\n",
       "    </tr>\n",
       "    <tr>\n",
       "      <th>2</th>\n",
       "      <td>4</td>\n",
       "      <td>1994.0</td>\n",
       "      <td>paula abdul's get up &amp; dance</td>\n",
       "      <td>[\"paula abdul's get up &amp; dance\"]</td>\n",
       "      <td>{'id': 274766, 'title': \"Paula Abdul's Get Up ...</td>\n",
       "    </tr>\n",
       "    <tr>\n",
       "      <th>3</th>\n",
       "      <td>5</td>\n",
       "      <td>2004.0</td>\n",
       "      <td>the rise and fall of ecw</td>\n",
       "      <td>['the rise and fall of ecw']</td>\n",
       "      <td>{'id': 33209, 'title': 'The Rise &amp; Fall of ECW...</td>\n",
       "    </tr>\n",
       "    <tr>\n",
       "      <th>4</th>\n",
       "      <td>6</td>\n",
       "      <td>1997.0</td>\n",
       "      <td>sick</td>\n",
       "      <td>['sick']</td>\n",
       "      <td>{'id': 35638, 'title': 'Sick: The Life and Dea...</td>\n",
       "    </tr>\n",
       "  </tbody>\n",
       "</table>\n",
       "</div>"
      ],
      "text/plain": [
       "   movie_id  year_of_release                         title  \\\n",
       "0         1           2003.0               dinosaur planet   \n",
       "1         3           1997.0                     character   \n",
       "2         4           1994.0  paula abdul's get up & dance   \n",
       "3         5           2004.0      the rise and fall of ecw   \n",
       "4         6           1997.0                          sick   \n",
       "\n",
       "                        split_title  \\\n",
       "0               ['dinosaur planet']   \n",
       "1                     ['character']   \n",
       "2  [\"paula abdul's get up & dance\"]   \n",
       "3      ['the rise and fall of ecw']   \n",
       "4                          ['sick']   \n",
       "\n",
       "                                      moviedb_result  \n",
       "0  {'title': 'Dinosaur Planet', 'id': 11710, 'sea...  \n",
       "1  {'id': 17139, 'title': 'Character', 'search_ti...  \n",
       "2  {'id': 274766, 'title': \"Paula Abdul's Get Up ...  \n",
       "3  {'id': 33209, 'title': 'The Rise & Fall of ECW...  \n",
       "4  {'id': 35638, 'title': 'Sick: The Life and Dea...  "
      ]
     },
     "execution_count": 61,
     "metadata": {},
     "output_type": "execute_result"
    }
   ],
   "source": [
    "# Change the wordings from API function call\n",
    "titles['moviedb_result'] = titles['moviedb_result'].map(lambda x : x.replace('name', 'title'))\n",
    "titles.reset_index(drop=True,inplace=True)\n",
    "print(titles.shape)\n",
    "titles.head()"
   ]
  },
  {
   "cell_type": "code",
   "execution_count": 62,
   "metadata": {},
   "outputs": [
    {
     "data": {
      "text/html": [
       "<div>\n",
       "<style scoped>\n",
       "    .dataframe tbody tr th:only-of-type {\n",
       "        vertical-align: middle;\n",
       "    }\n",
       "\n",
       "    .dataframe tbody tr th {\n",
       "        vertical-align: top;\n",
       "    }\n",
       "\n",
       "    .dataframe thead th {\n",
       "        text-align: right;\n",
       "    }\n",
       "</style>\n",
       "<table border=\"1\" class=\"dataframe\">\n",
       "  <thead>\n",
       "    <tr style=\"text-align: right;\">\n",
       "      <th></th>\n",
       "      <th>movie_id</th>\n",
       "      <th>year_of_release</th>\n",
       "      <th>title</th>\n",
       "      <th>split_title</th>\n",
       "      <th>moviedb_result</th>\n",
       "    </tr>\n",
       "  </thead>\n",
       "  <tbody>\n",
       "    <tr>\n",
       "      <th>4191</th>\n",
       "      <td>4388</td>\n",
       "      <td>NaN</td>\n",
       "      <td>ancient civilizations: rome and pompeii</td>\n",
       "      <td>['ancient civilizations', ' rome and pompeii']</td>\n",
       "      <td>{'id': 503681, 'title': 'Ancient Civilizations...</td>\n",
       "    </tr>\n",
       "    <tr>\n",
       "      <th>4577</th>\n",
       "      <td>4794</td>\n",
       "      <td>NaN</td>\n",
       "      <td>ancient civilizations: land of the pharaohs</td>\n",
       "      <td>['ancient civilizations', ' land of the pharao...</td>\n",
       "      <td>{'id': 503681, 'title': 'Ancient Civilizations...</td>\n",
       "    </tr>\n",
       "    <tr>\n",
       "      <th>6898</th>\n",
       "      <td>7241</td>\n",
       "      <td>NaN</td>\n",
       "      <td>ancient civilizations: athens and greece</td>\n",
       "      <td>['ancient civilizations', ' athens and greece']</td>\n",
       "      <td>{'id': 503681, 'title': 'Ancient Civilizations...</td>\n",
       "    </tr>\n",
       "    <tr>\n",
       "      <th>10300</th>\n",
       "      <td>10782</td>\n",
       "      <td>NaN</td>\n",
       "      <td>roti kapada aur makaan</td>\n",
       "      <td>['roti kapada aur makaan']</td>\n",
       "      <td>{'id': 125292, 'title': 'Roti Kapada Aur Makaa...</td>\n",
       "    </tr>\n",
       "    <tr>\n",
       "      <th>15932</th>\n",
       "      <td>16678</td>\n",
       "      <td>NaN</td>\n",
       "      <td>jimmy hollywood</td>\n",
       "      <td>['jimmy hollywood']</td>\n",
       "      <td>{'id': 31643, 'title': 'Jimmy Hollywood', 'sea...</td>\n",
       "    </tr>\n",
       "  </tbody>\n",
       "</table>\n",
       "</div>"
      ],
      "text/plain": [
       "       movie_id  year_of_release                                        title  \\\n",
       "4191       4388              NaN      ancient civilizations: rome and pompeii   \n",
       "4577       4794              NaN  ancient civilizations: land of the pharaohs   \n",
       "6898       7241              NaN     ancient civilizations: athens and greece   \n",
       "10300     10782              NaN                       roti kapada aur makaan   \n",
       "15932     16678              NaN                              jimmy hollywood   \n",
       "\n",
       "                                             split_title  \\\n",
       "4191      ['ancient civilizations', ' rome and pompeii']   \n",
       "4577   ['ancient civilizations', ' land of the pharao...   \n",
       "6898     ['ancient civilizations', ' athens and greece']   \n",
       "10300                         ['roti kapada aur makaan']   \n",
       "15932                                ['jimmy hollywood']   \n",
       "\n",
       "                                          moviedb_result  \n",
       "4191   {'id': 503681, 'title': 'Ancient Civilizations...  \n",
       "4577   {'id': 503681, 'title': 'Ancient Civilizations...  \n",
       "6898   {'id': 503681, 'title': 'Ancient Civilizations...  \n",
       "10300  {'id': 125292, 'title': 'Roti Kapada Aur Makaa...  \n",
       "15932  {'id': 31643, 'title': 'Jimmy Hollywood', 'sea...  "
      ]
     },
     "execution_count": 62,
     "metadata": {},
     "output_type": "execute_result"
    }
   ],
   "source": [
    "titles[titles['year_of_release'].isnull()]"
   ]
  },
  {
   "cell_type": "code",
   "execution_count": 63,
   "metadata": {},
   "outputs": [
    {
     "name": "stdout",
     "output_type": "stream",
     "text": [
      "Shape of titles before dropping: (16967, 5)\n",
      "Shape of titles before dropping: (16962, 5)\n"
     ]
    }
   ],
   "source": [
    "# Filter for years of releases that are missing\n",
    "print(f'Shape of titles before dropping: {titles.shape}')\n",
    "titles = titles[~(titles['year_of_release'].isnull())]\n",
    "print(f'Shape of titles before dropping: {titles.shape}')\n",
    "\n",
    "# Reset titles index after dropping of rows\n",
    "titles.reset_index(drop=True,inplace=True)"
   ]
  },
  {
   "cell_type": "markdown",
   "metadata": {
    "id": "nf7O80xYAKku",
    "outputId": "942d73d4-7710-4c3c-92e4-759689add832"
   },
   "source": [
    "<span style='color:magenta'>Remarks:</span> I have removed 808 titles from the Netflix datasets. This amount to about 4.5% loss in original data. This is acceptable as the cleanliness of the dataset is important to model a good recommendation system."
   ]
  },
  {
   "cell_type": "markdown",
   "metadata": {},
   "source": [
    "##### Change column datatype using ast.literal.eval"
   ]
  },
  {
   "cell_type": "code",
   "execution_count": 64,
   "metadata": {},
   "outputs": [
    {
     "name": "stdout",
     "output_type": "stream",
     "text": [
      "<class 'str'>\n",
      "<class 'str'>\n"
     ]
    }
   ],
   "source": [
    "# Check the data type of the 2 columns\n",
    "print(type(titles.loc[0,'split_title']))\n",
    "print(type(titles.loc[0,'moviedb_result']))"
   ]
  },
  {
   "cell_type": "code",
   "execution_count": 65,
   "metadata": {},
   "outputs": [],
   "source": [
    "# Convert, evaluate stirng representation into actual type\n",
    "titles['split_title']  = titles['split_title'].apply(ast.literal_eval)\n",
    "titles['moviedb_result']  = titles['moviedb_result'].apply(ast.literal_eval)"
   ]
  },
  {
   "cell_type": "code",
   "execution_count": 66,
   "metadata": {},
   "outputs": [
    {
     "name": "stdout",
     "output_type": "stream",
     "text": [
      "<class 'list'>\n",
      "<class 'dict'>\n"
     ]
    }
   ],
   "source": [
    "print(type(titles.loc[0,'split_title']))\n",
    "print(type(titles.loc[0,'moviedb_result']))"
   ]
  },
  {
   "cell_type": "code",
   "execution_count": 67,
   "metadata": {},
   "outputs": [
    {
     "data": {
      "text/plain": [
       "{'title': 'Dinosaur Planet',\n",
       " 'id': 11710,\n",
       " 'search_title': 'dinosaur planet',\n",
       " 'type': 'tv'}"
      ]
     },
     "execution_count": 67,
     "metadata": {},
     "output_type": "execute_result"
    }
   ],
   "source": [
    "# Sample of an element\n",
    "titles.loc[0,'moviedb_result']"
   ]
  },
  {
   "cell_type": "code",
   "execution_count": 68,
   "metadata": {},
   "outputs": [
    {
     "data": {
      "text/html": [
       "<div>\n",
       "<style scoped>\n",
       "    .dataframe tbody tr th:only-of-type {\n",
       "        vertical-align: middle;\n",
       "    }\n",
       "\n",
       "    .dataframe tbody tr th {\n",
       "        vertical-align: top;\n",
       "    }\n",
       "\n",
       "    .dataframe thead th {\n",
       "        text-align: right;\n",
       "    }\n",
       "</style>\n",
       "<table border=\"1\" class=\"dataframe\">\n",
       "  <thead>\n",
       "    <tr style=\"text-align: right;\">\n",
       "      <th></th>\n",
       "      <th>movie_id</th>\n",
       "      <th>year_of_release</th>\n",
       "      <th>title</th>\n",
       "      <th>split_title</th>\n",
       "      <th>moviedb_result</th>\n",
       "      <th>moviedb_search_title</th>\n",
       "      <th>moviedb_id</th>\n",
       "      <th>result_title</th>\n",
       "      <th>type</th>\n",
       "    </tr>\n",
       "  </thead>\n",
       "  <tbody>\n",
       "    <tr>\n",
       "      <th>0</th>\n",
       "      <td>1</td>\n",
       "      <td>2003.0</td>\n",
       "      <td>dinosaur planet</td>\n",
       "      <td>[dinosaur planet]</td>\n",
       "      <td>{'title': 'Dinosaur Planet', 'id': 11710, 'sea...</td>\n",
       "      <td>Dinosaur Planet</td>\n",
       "      <td>11710</td>\n",
       "      <td>dinosaur planet</td>\n",
       "      <td>tv</td>\n",
       "    </tr>\n",
       "    <tr>\n",
       "      <th>1</th>\n",
       "      <td>3</td>\n",
       "      <td>1997.0</td>\n",
       "      <td>character</td>\n",
       "      <td>[character]</td>\n",
       "      <td>{'id': 17139, 'title': 'Character', 'search_ti...</td>\n",
       "      <td>Character</td>\n",
       "      <td>17139</td>\n",
       "      <td>character</td>\n",
       "      <td>movie</td>\n",
       "    </tr>\n",
       "    <tr>\n",
       "      <th>2</th>\n",
       "      <td>4</td>\n",
       "      <td>1994.0</td>\n",
       "      <td>paula abdul's get up &amp; dance</td>\n",
       "      <td>[paula abdul's get up &amp; dance]</td>\n",
       "      <td>{'id': 274766, 'title': 'Paula Abdul's Get Up ...</td>\n",
       "      <td>Paula Abdul's Get Up &amp; Dance</td>\n",
       "      <td>274766</td>\n",
       "      <td>paula abdul's get up &amp; dance</td>\n",
       "      <td>movie</td>\n",
       "    </tr>\n",
       "    <tr>\n",
       "      <th>3</th>\n",
       "      <td>5</td>\n",
       "      <td>2004.0</td>\n",
       "      <td>the rise and fall of ecw</td>\n",
       "      <td>[the rise and fall of ecw]</td>\n",
       "      <td>{'id': 33209, 'title': 'The Rise &amp; Fall of ECW...</td>\n",
       "      <td>The Rise &amp; Fall of ECW</td>\n",
       "      <td>33209</td>\n",
       "      <td>the rise and fall of ecw</td>\n",
       "      <td>movie</td>\n",
       "    </tr>\n",
       "    <tr>\n",
       "      <th>4</th>\n",
       "      <td>6</td>\n",
       "      <td>1997.0</td>\n",
       "      <td>sick</td>\n",
       "      <td>[sick]</td>\n",
       "      <td>{'id': 35638, 'title': 'Sick: The Life and Dea...</td>\n",
       "      <td>Sick: The Life and Death of Bob Flanagan, Supe...</td>\n",
       "      <td>35638</td>\n",
       "      <td>sick</td>\n",
       "      <td>movie</td>\n",
       "    </tr>\n",
       "  </tbody>\n",
       "</table>\n",
       "</div>"
      ],
      "text/plain": [
       "   movie_id  year_of_release                         title  \\\n",
       "0         1           2003.0               dinosaur planet   \n",
       "1         3           1997.0                     character   \n",
       "2         4           1994.0  paula abdul's get up & dance   \n",
       "3         5           2004.0      the rise and fall of ecw   \n",
       "4         6           1997.0                          sick   \n",
       "\n",
       "                      split_title  \\\n",
       "0               [dinosaur planet]   \n",
       "1                     [character]   \n",
       "2  [paula abdul's get up & dance]   \n",
       "3      [the rise and fall of ecw]   \n",
       "4                          [sick]   \n",
       "\n",
       "                                      moviedb_result  \\\n",
       "0  {'title': 'Dinosaur Planet', 'id': 11710, 'sea...   \n",
       "1  {'id': 17139, 'title': 'Character', 'search_ti...   \n",
       "2  {'id': 274766, 'title': 'Paula Abdul's Get Up ...   \n",
       "3  {'id': 33209, 'title': 'The Rise & Fall of ECW...   \n",
       "4  {'id': 35638, 'title': 'Sick: The Life and Dea...   \n",
       "\n",
       "                                moviedb_search_title  moviedb_id  \\\n",
       "0                                    Dinosaur Planet       11710   \n",
       "1                                          Character       17139   \n",
       "2                       Paula Abdul's Get Up & Dance      274766   \n",
       "3                             The Rise & Fall of ECW       33209   \n",
       "4  Sick: The Life and Death of Bob Flanagan, Supe...       35638   \n",
       "\n",
       "                   result_title   type  \n",
       "0               dinosaur planet     tv  \n",
       "1                     character  movie  \n",
       "2  paula abdul's get up & dance  movie  \n",
       "3      the rise and fall of ecw  movie  \n",
       "4                          sick  movie  "
      ]
     },
     "execution_count": 68,
     "metadata": {},
     "output_type": "execute_result"
    }
   ],
   "source": [
    "# Unpack dictionary into dataframe columns\n",
    "titles[['moviedb_search_title', 'moviedb_id', 'result_title','type']] =  pd.DataFrame(titles['moviedb_result'].tolist(), index=titles.index)\n",
    "titles.head()"
   ]
  },
  {
   "cell_type": "markdown",
   "metadata": {},
   "source": [
    "##### Filter Netflix title = MovieDB titles"
   ]
  },
  {
   "cell_type": "code",
   "execution_count": 69,
   "metadata": {},
   "outputs": [
    {
     "name": "stdout",
     "output_type": "stream",
     "text": [
      "Wall time: 391 ms\n"
     ]
    },
    {
     "data": {
      "text/html": [
       "<div>\n",
       "<style scoped>\n",
       "    .dataframe tbody tr th:only-of-type {\n",
       "        vertical-align: middle;\n",
       "    }\n",
       "\n",
       "    .dataframe tbody tr th {\n",
       "        vertical-align: top;\n",
       "    }\n",
       "\n",
       "    .dataframe thead th {\n",
       "        text-align: right;\n",
       "    }\n",
       "</style>\n",
       "<table border=\"1\" class=\"dataframe\">\n",
       "  <thead>\n",
       "    <tr style=\"text-align: right;\">\n",
       "      <th></th>\n",
       "      <th>movie_id</th>\n",
       "      <th>year_of_release</th>\n",
       "      <th>title</th>\n",
       "      <th>split_title</th>\n",
       "      <th>moviedb_result</th>\n",
       "      <th>moviedb_search_title</th>\n",
       "      <th>moviedb_id</th>\n",
       "      <th>result_title</th>\n",
       "      <th>type</th>\n",
       "      <th>match</th>\n",
       "    </tr>\n",
       "  </thead>\n",
       "  <tbody>\n",
       "    <tr>\n",
       "      <th>0</th>\n",
       "      <td>1</td>\n",
       "      <td>2003.0</td>\n",
       "      <td>dinosaur planet</td>\n",
       "      <td>[dinosaur planet]</td>\n",
       "      <td>{'title': 'Dinosaur Planet', 'id': 11710, 'sea...</td>\n",
       "      <td>Dinosaur Planet</td>\n",
       "      <td>11710</td>\n",
       "      <td>dinosaur planet</td>\n",
       "      <td>tv</td>\n",
       "      <td>1</td>\n",
       "    </tr>\n",
       "    <tr>\n",
       "      <th>1</th>\n",
       "      <td>3</td>\n",
       "      <td>1997.0</td>\n",
       "      <td>character</td>\n",
       "      <td>[character]</td>\n",
       "      <td>{'id': 17139, 'title': 'Character', 'search_ti...</td>\n",
       "      <td>Character</td>\n",
       "      <td>17139</td>\n",
       "      <td>character</td>\n",
       "      <td>movie</td>\n",
       "      <td>1</td>\n",
       "    </tr>\n",
       "    <tr>\n",
       "      <th>2</th>\n",
       "      <td>4</td>\n",
       "      <td>1994.0</td>\n",
       "      <td>paula abdul's get up &amp; dance</td>\n",
       "      <td>[paula abdul's get up &amp; dance]</td>\n",
       "      <td>{'id': 274766, 'title': 'Paula Abdul's Get Up ...</td>\n",
       "      <td>Paula Abdul's Get Up &amp; Dance</td>\n",
       "      <td>274766</td>\n",
       "      <td>paula abdul's get up &amp; dance</td>\n",
       "      <td>movie</td>\n",
       "      <td>1</td>\n",
       "    </tr>\n",
       "    <tr>\n",
       "      <th>3</th>\n",
       "      <td>5</td>\n",
       "      <td>2004.0</td>\n",
       "      <td>the rise and fall of ecw</td>\n",
       "      <td>[the rise and fall of ecw]</td>\n",
       "      <td>{'id': 33209, 'title': 'The Rise &amp; Fall of ECW...</td>\n",
       "      <td>The Rise &amp; Fall of ECW</td>\n",
       "      <td>33209</td>\n",
       "      <td>the rise and fall of ecw</td>\n",
       "      <td>movie</td>\n",
       "      <td>0</td>\n",
       "    </tr>\n",
       "    <tr>\n",
       "      <th>4</th>\n",
       "      <td>6</td>\n",
       "      <td>1997.0</td>\n",
       "      <td>sick</td>\n",
       "      <td>[sick]</td>\n",
       "      <td>{'id': 35638, 'title': 'Sick: The Life and Dea...</td>\n",
       "      <td>Sick: The Life and Death of Bob Flanagan, Supe...</td>\n",
       "      <td>35638</td>\n",
       "      <td>sick</td>\n",
       "      <td>movie</td>\n",
       "      <td>1</td>\n",
       "    </tr>\n",
       "  </tbody>\n",
       "</table>\n",
       "</div>"
      ],
      "text/plain": [
       "   movie_id  year_of_release                         title  \\\n",
       "0         1           2003.0               dinosaur planet   \n",
       "1         3           1997.0                     character   \n",
       "2         4           1994.0  paula abdul's get up & dance   \n",
       "3         5           2004.0      the rise and fall of ecw   \n",
       "4         6           1997.0                          sick   \n",
       "\n",
       "                      split_title  \\\n",
       "0               [dinosaur planet]   \n",
       "1                     [character]   \n",
       "2  [paula abdul's get up & dance]   \n",
       "3      [the rise and fall of ecw]   \n",
       "4                          [sick]   \n",
       "\n",
       "                                      moviedb_result  \\\n",
       "0  {'title': 'Dinosaur Planet', 'id': 11710, 'sea...   \n",
       "1  {'id': 17139, 'title': 'Character', 'search_ti...   \n",
       "2  {'id': 274766, 'title': 'Paula Abdul's Get Up ...   \n",
       "3  {'id': 33209, 'title': 'The Rise & Fall of ECW...   \n",
       "4  {'id': 35638, 'title': 'Sick: The Life and Dea...   \n",
       "\n",
       "                                moviedb_search_title  moviedb_id  \\\n",
       "0                                    Dinosaur Planet       11710   \n",
       "1                                          Character       17139   \n",
       "2                       Paula Abdul's Get Up & Dance      274766   \n",
       "3                             The Rise & Fall of ECW       33209   \n",
       "4  Sick: The Life and Death of Bob Flanagan, Supe...       35638   \n",
       "\n",
       "                   result_title   type  match  \n",
       "0               dinosaur planet     tv      1  \n",
       "1                     character  movie      1  \n",
       "2  paula abdul's get up & dance  movie      1  \n",
       "3      the rise and fall of ecw  movie      0  \n",
       "4                          sick  movie      1  "
      ]
     },
     "execution_count": 69,
     "metadata": {},
     "output_type": "execute_result"
    }
   ],
   "source": [
    "%%time\n",
    "# 1 if exact match for each item of list in split_title == moviedb_search_title\n",
    "titles['match'] = [[1 if element in titles.loc[i, 'moviedb_search_title'].lower() else 0 for element in titles.loc[i,'split_title']][0] for i in range(len(titles))]\n",
    "titles.head()"
   ]
  },
  {
   "cell_type": "markdown",
   "metadata": {},
   "source": [
    "<span style='color:magenta'>Remarks:</span>\n",
    "To find match as there are instances where the moviedb is returning a wrong moive. This happens as the API call do not have an exact match function and only the top result is returned"
   ]
  },
  {
   "cell_type": "code",
   "execution_count": 70,
   "metadata": {},
   "outputs": [
    {
     "data": {
      "text/plain": [
       "1590"
      ]
     },
     "execution_count": 70,
     "metadata": {},
     "output_type": "execute_result"
    }
   ],
   "source": [
    "# Filter for those that are wrongly match\n",
    "titles[titles['match']==0].shape[0]"
   ]
  },
  {
   "cell_type": "code",
   "execution_count": 71,
   "metadata": {},
   "outputs": [
    {
     "name": "stdout",
     "output_type": "stream",
     "text": [
      "(15372, 10)\n"
     ]
    },
    {
     "data": {
      "text/html": [
       "<div>\n",
       "<style scoped>\n",
       "    .dataframe tbody tr th:only-of-type {\n",
       "        vertical-align: middle;\n",
       "    }\n",
       "\n",
       "    .dataframe tbody tr th {\n",
       "        vertical-align: top;\n",
       "    }\n",
       "\n",
       "    .dataframe thead th {\n",
       "        text-align: right;\n",
       "    }\n",
       "</style>\n",
       "<table border=\"1\" class=\"dataframe\">\n",
       "  <thead>\n",
       "    <tr style=\"text-align: right;\">\n",
       "      <th></th>\n",
       "      <th>movie_id</th>\n",
       "      <th>year_of_release</th>\n",
       "      <th>title</th>\n",
       "      <th>split_title</th>\n",
       "      <th>moviedb_result</th>\n",
       "      <th>moviedb_search_title</th>\n",
       "      <th>moviedb_id</th>\n",
       "      <th>result_title</th>\n",
       "      <th>type</th>\n",
       "      <th>match</th>\n",
       "    </tr>\n",
       "  </thead>\n",
       "  <tbody>\n",
       "    <tr>\n",
       "      <th>0</th>\n",
       "      <td>1</td>\n",
       "      <td>2003.0</td>\n",
       "      <td>dinosaur planet</td>\n",
       "      <td>[dinosaur planet]</td>\n",
       "      <td>{'title': 'Dinosaur Planet', 'id': 11710, 'sea...</td>\n",
       "      <td>Dinosaur Planet</td>\n",
       "      <td>11710</td>\n",
       "      <td>dinosaur planet</td>\n",
       "      <td>tv</td>\n",
       "      <td>1</td>\n",
       "    </tr>\n",
       "    <tr>\n",
       "      <th>1</th>\n",
       "      <td>3</td>\n",
       "      <td>1997.0</td>\n",
       "      <td>character</td>\n",
       "      <td>[character]</td>\n",
       "      <td>{'id': 17139, 'title': 'Character', 'search_ti...</td>\n",
       "      <td>Character</td>\n",
       "      <td>17139</td>\n",
       "      <td>character</td>\n",
       "      <td>movie</td>\n",
       "      <td>1</td>\n",
       "    </tr>\n",
       "    <tr>\n",
       "      <th>2</th>\n",
       "      <td>4</td>\n",
       "      <td>1994.0</td>\n",
       "      <td>paula abdul's get up &amp; dance</td>\n",
       "      <td>[paula abdul's get up &amp; dance]</td>\n",
       "      <td>{'id': 274766, 'title': 'Paula Abdul's Get Up ...</td>\n",
       "      <td>Paula Abdul's Get Up &amp; Dance</td>\n",
       "      <td>274766</td>\n",
       "      <td>paula abdul's get up &amp; dance</td>\n",
       "      <td>movie</td>\n",
       "      <td>1</td>\n",
       "    </tr>\n",
       "    <tr>\n",
       "      <th>3</th>\n",
       "      <td>6</td>\n",
       "      <td>1997.0</td>\n",
       "      <td>sick</td>\n",
       "      <td>[sick]</td>\n",
       "      <td>{'id': 35638, 'title': 'Sick: The Life and Dea...</td>\n",
       "      <td>Sick: The Life and Death of Bob Flanagan, Supe...</td>\n",
       "      <td>35638</td>\n",
       "      <td>sick</td>\n",
       "      <td>movie</td>\n",
       "      <td>1</td>\n",
       "    </tr>\n",
       "    <tr>\n",
       "      <th>4</th>\n",
       "      <td>7</td>\n",
       "      <td>1992.0</td>\n",
       "      <td>8 man</td>\n",
       "      <td>[8 man]</td>\n",
       "      <td>{'id': 196685, 'title': '8 Man - For All Lonel...</td>\n",
       "      <td>8 Man - For All Lonely Nights</td>\n",
       "      <td>196685</td>\n",
       "      <td>8 man</td>\n",
       "      <td>movie</td>\n",
       "      <td>1</td>\n",
       "    </tr>\n",
       "  </tbody>\n",
       "</table>\n",
       "</div>"
      ],
      "text/plain": [
       "   movie_id  year_of_release                         title  \\\n",
       "0         1           2003.0               dinosaur planet   \n",
       "1         3           1997.0                     character   \n",
       "2         4           1994.0  paula abdul's get up & dance   \n",
       "3         6           1997.0                          sick   \n",
       "4         7           1992.0                         8 man   \n",
       "\n",
       "                      split_title  \\\n",
       "0               [dinosaur planet]   \n",
       "1                     [character]   \n",
       "2  [paula abdul's get up & dance]   \n",
       "3                          [sick]   \n",
       "4                         [8 man]   \n",
       "\n",
       "                                      moviedb_result  \\\n",
       "0  {'title': 'Dinosaur Planet', 'id': 11710, 'sea...   \n",
       "1  {'id': 17139, 'title': 'Character', 'search_ti...   \n",
       "2  {'id': 274766, 'title': 'Paula Abdul's Get Up ...   \n",
       "3  {'id': 35638, 'title': 'Sick: The Life and Dea...   \n",
       "4  {'id': 196685, 'title': '8 Man - For All Lonel...   \n",
       "\n",
       "                                moviedb_search_title  moviedb_id  \\\n",
       "0                                    Dinosaur Planet       11710   \n",
       "1                                          Character       17139   \n",
       "2                       Paula Abdul's Get Up & Dance      274766   \n",
       "3  Sick: The Life and Death of Bob Flanagan, Supe...       35638   \n",
       "4                      8 Man - For All Lonely Nights      196685   \n",
       "\n",
       "                   result_title   type  match  \n",
       "0               dinosaur planet     tv      1  \n",
       "1                     character  movie      1  \n",
       "2  paula abdul's get up & dance  movie      1  \n",
       "3                          sick  movie      1  \n",
       "4                         8 man  movie      1  "
      ]
     },
     "execution_count": 71,
     "metadata": {},
     "output_type": "execute_result"
    }
   ],
   "source": [
    "# Filter for those that are match\n",
    "titles = titles[titles['match']!=0]\n",
    "titles.reset_index(drop=True, inplace=True)\n",
    "print(titles.shape)\n",
    "titles.head()"
   ]
  },
  {
   "cell_type": "markdown",
   "metadata": {},
   "source": [
    "##### Check if there are duplicated movies"
   ]
  },
  {
   "cell_type": "code",
   "execution_count": 72,
   "metadata": {},
   "outputs": [
    {
     "data": {
      "text/html": [
       "<div>\n",
       "<style scoped>\n",
       "    .dataframe tbody tr th:only-of-type {\n",
       "        vertical-align: middle;\n",
       "    }\n",
       "\n",
       "    .dataframe tbody tr th {\n",
       "        vertical-align: top;\n",
       "    }\n",
       "\n",
       "    .dataframe thead th {\n",
       "        text-align: right;\n",
       "    }\n",
       "</style>\n",
       "<table border=\"1\" class=\"dataframe\">\n",
       "  <thead>\n",
       "    <tr style=\"text-align: right;\">\n",
       "      <th></th>\n",
       "      <th>movie_id</th>\n",
       "      <th>year_of_release</th>\n",
       "      <th>title</th>\n",
       "      <th>split_title</th>\n",
       "      <th>moviedb_result</th>\n",
       "      <th>moviedb_search_title</th>\n",
       "      <th>moviedb_id</th>\n",
       "      <th>result_title</th>\n",
       "      <th>type</th>\n",
       "      <th>match</th>\n",
       "    </tr>\n",
       "  </thead>\n",
       "  <tbody>\n",
       "    <tr>\n",
       "      <th>267</th>\n",
       "      <td>305</td>\n",
       "      <td>1996.0</td>\n",
       "      <td>jack</td>\n",
       "      <td>[jack]</td>\n",
       "      <td>{'id': 7095, 'title': 'Jack', 'search_title': ...</td>\n",
       "      <td>Jack</td>\n",
       "      <td>7095</td>\n",
       "      <td>jack</td>\n",
       "      <td>movie</td>\n",
       "      <td>1</td>\n",
       "    </tr>\n",
       "    <tr>\n",
       "      <th>327</th>\n",
       "      <td>379</td>\n",
       "      <td>1996.0</td>\n",
       "      <td>crash dive</td>\n",
       "      <td>[crash dive]</td>\n",
       "      <td>{'id': 160019, 'title': 'Crash Dive', 'search_...</td>\n",
       "      <td>Crash Dive</td>\n",
       "      <td>160019</td>\n",
       "      <td>crash dive</td>\n",
       "      <td>movie</td>\n",
       "      <td>1</td>\n",
       "    </tr>\n",
       "    <tr>\n",
       "      <th>888</th>\n",
       "      <td>1015</td>\n",
       "      <td>1996.0</td>\n",
       "      <td>dr. quinn</td>\n",
       "      <td>[dr. quinn]</td>\n",
       "      <td>{'id': 25101, 'title': 'Dr. Quinn Medicine Wom...</td>\n",
       "      <td>Dr. Quinn Medicine Woman: The Movie</td>\n",
       "      <td>25101</td>\n",
       "      <td>dr. quinn</td>\n",
       "      <td>movie</td>\n",
       "      <td>1</td>\n",
       "    </tr>\n",
       "    <tr>\n",
       "      <th>1107</th>\n",
       "      <td>1260</td>\n",
       "      <td>1999.0</td>\n",
       "      <td>journey to the center of the earth</td>\n",
       "      <td>[journey to the center of the earth]</td>\n",
       "      <td>{'id': 732427, 'title': 'Journey to the Center...</td>\n",
       "      <td>Journey to the Center of the Earth</td>\n",
       "      <td>732427</td>\n",
       "      <td>journey to the center of the earth</td>\n",
       "      <td>movie</td>\n",
       "      <td>1</td>\n",
       "    </tr>\n",
       "    <tr>\n",
       "      <th>1322</th>\n",
       "      <td>1505</td>\n",
       "      <td>1964.0</td>\n",
       "      <td>hamlet</td>\n",
       "      <td>[hamlet]</td>\n",
       "      <td>{'id': 261439, 'title': 'Hamlet at Elsinore', ...</td>\n",
       "      <td>Hamlet at Elsinore</td>\n",
       "      <td>261439</td>\n",
       "      <td>hamlet</td>\n",
       "      <td>movie</td>\n",
       "      <td>1</td>\n",
       "    </tr>\n",
       "    <tr>\n",
       "      <th>...</th>\n",
       "      <td>...</td>\n",
       "      <td>...</td>\n",
       "      <td>...</td>\n",
       "      <td>...</td>\n",
       "      <td>...</td>\n",
       "      <td>...</td>\n",
       "      <td>...</td>\n",
       "      <td>...</td>\n",
       "      <td>...</td>\n",
       "      <td>...</td>\n",
       "    </tr>\n",
       "    <tr>\n",
       "      <th>15274</th>\n",
       "      <td>17658</td>\n",
       "      <td>1994.0</td>\n",
       "      <td>the chase</td>\n",
       "      <td>[the chase]</td>\n",
       "      <td>{'id': 10694, 'title': 'The Chase', 'search_ti...</td>\n",
       "      <td>The Chase</td>\n",
       "      <td>10694</td>\n",
       "      <td>the chase</td>\n",
       "      <td>movie</td>\n",
       "      <td>1</td>\n",
       "    </tr>\n",
       "    <tr>\n",
       "      <th>15297</th>\n",
       "      <td>17685</td>\n",
       "      <td>1988.0</td>\n",
       "      <td>alice</td>\n",
       "      <td>[alice]</td>\n",
       "      <td>{'id': 114364, 'title': 'Alice in Wonderland',...</td>\n",
       "      <td>Alice in Wonderland</td>\n",
       "      <td>114364</td>\n",
       "      <td>alice</td>\n",
       "      <td>movie</td>\n",
       "      <td>1</td>\n",
       "    </tr>\n",
       "    <tr>\n",
       "      <th>15315</th>\n",
       "      <td>17704</td>\n",
       "      <td>1999.0</td>\n",
       "      <td>taboo</td>\n",
       "      <td>[taboo]</td>\n",
       "      <td>{'id': 20617, 'title': 'Taboo', 'search_title'...</td>\n",
       "      <td>Taboo</td>\n",
       "      <td>20617</td>\n",
       "      <td>taboo</td>\n",
       "      <td>movie</td>\n",
       "      <td>1</td>\n",
       "    </tr>\n",
       "    <tr>\n",
       "      <th>15330</th>\n",
       "      <td>17721</td>\n",
       "      <td>1998.0</td>\n",
       "      <td>the love letter</td>\n",
       "      <td>[the love letter]</td>\n",
       "      <td>{'id': 57943, 'title': 'The Love Letter', 'sea...</td>\n",
       "      <td>The Love Letter</td>\n",
       "      <td>57943</td>\n",
       "      <td>the love letter</td>\n",
       "      <td>movie</td>\n",
       "      <td>1</td>\n",
       "    </tr>\n",
       "    <tr>\n",
       "      <th>15337</th>\n",
       "      <td>17730</td>\n",
       "      <td>1958.0</td>\n",
       "      <td>the blob</td>\n",
       "      <td>[the blob]</td>\n",
       "      <td>{'id': 8851, 'title': 'The Blob', 'search_titl...</td>\n",
       "      <td>The Blob</td>\n",
       "      <td>8851</td>\n",
       "      <td>the blob</td>\n",
       "      <td>movie</td>\n",
       "      <td>1</td>\n",
       "    </tr>\n",
       "  </tbody>\n",
       "</table>\n",
       "<p>449 rows × 10 columns</p>\n",
       "</div>"
      ],
      "text/plain": [
       "       movie_id  year_of_release                               title  \\\n",
       "267         305           1996.0                                jack   \n",
       "327         379           1996.0                          crash dive   \n",
       "888        1015           1996.0                           dr. quinn   \n",
       "1107       1260           1999.0  journey to the center of the earth   \n",
       "1322       1505           1964.0                              hamlet   \n",
       "...         ...              ...                                 ...   \n",
       "15274     17658           1994.0                           the chase   \n",
       "15297     17685           1988.0                               alice   \n",
       "15315     17704           1999.0                               taboo   \n",
       "15330     17721           1998.0                     the love letter   \n",
       "15337     17730           1958.0                            the blob   \n",
       "\n",
       "                                split_title  \\\n",
       "267                                  [jack]   \n",
       "327                            [crash dive]   \n",
       "888                             [dr. quinn]   \n",
       "1107   [journey to the center of the earth]   \n",
       "1322                               [hamlet]   \n",
       "...                                     ...   \n",
       "15274                           [the chase]   \n",
       "15297                               [alice]   \n",
       "15315                               [taboo]   \n",
       "15330                     [the love letter]   \n",
       "15337                            [the blob]   \n",
       "\n",
       "                                          moviedb_result  \\\n",
       "267    {'id': 7095, 'title': 'Jack', 'search_title': ...   \n",
       "327    {'id': 160019, 'title': 'Crash Dive', 'search_...   \n",
       "888    {'id': 25101, 'title': 'Dr. Quinn Medicine Wom...   \n",
       "1107   {'id': 732427, 'title': 'Journey to the Center...   \n",
       "1322   {'id': 261439, 'title': 'Hamlet at Elsinore', ...   \n",
       "...                                                  ...   \n",
       "15274  {'id': 10694, 'title': 'The Chase', 'search_ti...   \n",
       "15297  {'id': 114364, 'title': 'Alice in Wonderland',...   \n",
       "15315  {'id': 20617, 'title': 'Taboo', 'search_title'...   \n",
       "15330  {'id': 57943, 'title': 'The Love Letter', 'sea...   \n",
       "15337  {'id': 8851, 'title': 'The Blob', 'search_titl...   \n",
       "\n",
       "                      moviedb_search_title  moviedb_id  \\\n",
       "267                                   Jack        7095   \n",
       "327                             Crash Dive      160019   \n",
       "888    Dr. Quinn Medicine Woman: The Movie       25101   \n",
       "1107    Journey to the Center of the Earth      732427   \n",
       "1322                    Hamlet at Elsinore      261439   \n",
       "...                                    ...         ...   \n",
       "15274                            The Chase       10694   \n",
       "15297                  Alice in Wonderland      114364   \n",
       "15315                                Taboo       20617   \n",
       "15330                      The Love Letter       57943   \n",
       "15337                             The Blob        8851   \n",
       "\n",
       "                             result_title   type  match  \n",
       "267                                  jack  movie      1  \n",
       "327                            crash dive  movie      1  \n",
       "888                             dr. quinn  movie      1  \n",
       "1107   journey to the center of the earth  movie      1  \n",
       "1322                               hamlet  movie      1  \n",
       "...                                   ...    ...    ...  \n",
       "15274                           the chase  movie      1  \n",
       "15297                               alice  movie      1  \n",
       "15315                               taboo  movie      1  \n",
       "15330                     the love letter  movie      1  \n",
       "15337                            the blob  movie      1  \n",
       "\n",
       "[449 rows x 10 columns]"
      ]
     },
     "execution_count": 72,
     "metadata": {},
     "output_type": "execute_result"
    }
   ],
   "source": [
    "titles[titles.duplicated(subset='title', keep='first')]"
   ]
  },
  {
   "cell_type": "code",
   "execution_count": 73,
   "metadata": {},
   "outputs": [
    {
     "data": {
      "text/html": [
       "<div>\n",
       "<style scoped>\n",
       "    .dataframe tbody tr th:only-of-type {\n",
       "        vertical-align: middle;\n",
       "    }\n",
       "\n",
       "    .dataframe tbody tr th {\n",
       "        vertical-align: top;\n",
       "    }\n",
       "\n",
       "    .dataframe thead th {\n",
       "        text-align: right;\n",
       "    }\n",
       "</style>\n",
       "<table border=\"1\" class=\"dataframe\">\n",
       "  <thead>\n",
       "    <tr style=\"text-align: right;\">\n",
       "      <th></th>\n",
       "      <th>movie_id</th>\n",
       "      <th>year_of_release</th>\n",
       "      <th>title</th>\n",
       "      <th>split_title</th>\n",
       "      <th>moviedb_result</th>\n",
       "      <th>moviedb_search_title</th>\n",
       "      <th>moviedb_id</th>\n",
       "      <th>result_title</th>\n",
       "      <th>type</th>\n",
       "      <th>match</th>\n",
       "    </tr>\n",
       "  </thead>\n",
       "  <tbody>\n",
       "    <tr>\n",
       "      <th>415</th>\n",
       "      <td>486</td>\n",
       "      <td>1959.0</td>\n",
       "      <td>journey to the center of the earth</td>\n",
       "      <td>[journey to the center of the earth]</td>\n",
       "      <td>{'id': 11571, 'title': 'Journey to the Center ...</td>\n",
       "      <td>Journey to the Center of the Earth</td>\n",
       "      <td>11571</td>\n",
       "      <td>journey to the center of the earth</td>\n",
       "      <td>movie</td>\n",
       "      <td>1</td>\n",
       "    </tr>\n",
       "    <tr>\n",
       "      <th>1107</th>\n",
       "      <td>1260</td>\n",
       "      <td>1999.0</td>\n",
       "      <td>journey to the center of the earth</td>\n",
       "      <td>[journey to the center of the earth]</td>\n",
       "      <td>{'id': 732427, 'title': 'Journey to the Center...</td>\n",
       "      <td>Journey to the Center of the Earth</td>\n",
       "      <td>732427</td>\n",
       "      <td>journey to the center of the earth</td>\n",
       "      <td>movie</td>\n",
       "      <td>1</td>\n",
       "    </tr>\n",
       "  </tbody>\n",
       "</table>\n",
       "</div>"
      ],
      "text/plain": [
       "      movie_id  year_of_release                               title  \\\n",
       "415        486           1959.0  journey to the center of the earth   \n",
       "1107      1260           1999.0  journey to the center of the earth   \n",
       "\n",
       "                               split_title  \\\n",
       "415   [journey to the center of the earth]   \n",
       "1107  [journey to the center of the earth]   \n",
       "\n",
       "                                         moviedb_result  \\\n",
       "415   {'id': 11571, 'title': 'Journey to the Center ...   \n",
       "1107  {'id': 732427, 'title': 'Journey to the Center...   \n",
       "\n",
       "                    moviedb_search_title  moviedb_id  \\\n",
       "415   Journey to the Center of the Earth       11571   \n",
       "1107  Journey to the Center of the Earth      732427   \n",
       "\n",
       "                            result_title   type  match  \n",
       "415   journey to the center of the earth  movie      1  \n",
       "1107  journey to the center of the earth  movie      1  "
      ]
     },
     "execution_count": 73,
     "metadata": {},
     "output_type": "execute_result"
    }
   ],
   "source": [
    "# Check Sample 1\n",
    "titles[titles['title']=='journey to the center of the earth']"
   ]
  },
  {
   "cell_type": "code",
   "execution_count": 74,
   "metadata": {},
   "outputs": [
    {
     "data": {
      "text/html": [
       "<div>\n",
       "<style scoped>\n",
       "    .dataframe tbody tr th:only-of-type {\n",
       "        vertical-align: middle;\n",
       "    }\n",
       "\n",
       "    .dataframe tbody tr th {\n",
       "        vertical-align: top;\n",
       "    }\n",
       "\n",
       "    .dataframe thead th {\n",
       "        text-align: right;\n",
       "    }\n",
       "</style>\n",
       "<table border=\"1\" class=\"dataframe\">\n",
       "  <thead>\n",
       "    <tr style=\"text-align: right;\">\n",
       "      <th></th>\n",
       "      <th>movie_id</th>\n",
       "      <th>year_of_release</th>\n",
       "      <th>title</th>\n",
       "      <th>split_title</th>\n",
       "      <th>moviedb_result</th>\n",
       "      <th>moviedb_search_title</th>\n",
       "      <th>moviedb_id</th>\n",
       "      <th>result_title</th>\n",
       "      <th>type</th>\n",
       "      <th>match</th>\n",
       "    </tr>\n",
       "  </thead>\n",
       "  <tbody>\n",
       "    <tr>\n",
       "      <th>51</th>\n",
       "      <td>63</td>\n",
       "      <td>1943.0</td>\n",
       "      <td>crash dive</td>\n",
       "      <td>[crash dive]</td>\n",
       "      <td>{'id': 74012, 'title': 'Crash Dive', 'search_t...</td>\n",
       "      <td>Crash Dive</td>\n",
       "      <td>74012</td>\n",
       "      <td>crash dive</td>\n",
       "      <td>movie</td>\n",
       "      <td>1</td>\n",
       "    </tr>\n",
       "    <tr>\n",
       "      <th>327</th>\n",
       "      <td>379</td>\n",
       "      <td>1996.0</td>\n",
       "      <td>crash dive</td>\n",
       "      <td>[crash dive]</td>\n",
       "      <td>{'id': 160019, 'title': 'Crash Dive', 'search_...</td>\n",
       "      <td>Crash Dive</td>\n",
       "      <td>160019</td>\n",
       "      <td>crash dive</td>\n",
       "      <td>movie</td>\n",
       "      <td>1</td>\n",
       "    </tr>\n",
       "  </tbody>\n",
       "</table>\n",
       "</div>"
      ],
      "text/plain": [
       "     movie_id  year_of_release       title   split_title  \\\n",
       "51         63           1943.0  crash dive  [crash dive]   \n",
       "327       379           1996.0  crash dive  [crash dive]   \n",
       "\n",
       "                                        moviedb_result moviedb_search_title  \\\n",
       "51   {'id': 74012, 'title': 'Crash Dive', 'search_t...           Crash Dive   \n",
       "327  {'id': 160019, 'title': 'Crash Dive', 'search_...           Crash Dive   \n",
       "\n",
       "     moviedb_id result_title   type  match  \n",
       "51        74012   crash dive  movie      1  \n",
       "327      160019   crash dive  movie      1  "
      ]
     },
     "execution_count": 74,
     "metadata": {},
     "output_type": "execute_result"
    }
   ],
   "source": [
    "# Check Sample 2\n",
    "titles[titles['title']=='crash dive']"
   ]
  },
  {
   "cell_type": "markdown",
   "metadata": {},
   "source": [
    "<span style='color:magenta'>Remarks:</span>\n",
    "It seems like there are some movies that are a re-make of the original. This may 'pollute' our model when we pull additional data from MovieDB especially when we are creating an title-based recommendation system later on. There are 2 treatments for this:\n",
    "1. Create a unique Name that is a combination of title & year_of_release. This will helps us to retain these old movies and may improve our recommendation system.\n",
    "2. Remove them as the improvement may be insignificant. \n",
    "\n",
    "I will choose option (2) for the following reason:\n",
    "- These old titles may have missing information when I perfrom an API call from MovieDB. This will not value-add to my features in my recommendation system.\n",
    "- Users tends to watch and rate more recent movies hence if we ignore the materiality of less features, the low ratings of these movies may mean that they will very unlikely to be recommended."
   ]
  },
  {
   "cell_type": "code",
   "execution_count": 75,
   "metadata": {},
   "outputs": [
    {
     "data": {
      "text/html": [
       "<div>\n",
       "<style scoped>\n",
       "    .dataframe tbody tr th:only-of-type {\n",
       "        vertical-align: middle;\n",
       "    }\n",
       "\n",
       "    .dataframe tbody tr th {\n",
       "        vertical-align: top;\n",
       "    }\n",
       "\n",
       "    .dataframe thead th {\n",
       "        text-align: right;\n",
       "    }\n",
       "</style>\n",
       "<table border=\"1\" class=\"dataframe\">\n",
       "  <thead>\n",
       "    <tr style=\"text-align: right;\">\n",
       "      <th></th>\n",
       "      <th>movie_id</th>\n",
       "      <th>year_of_release</th>\n",
       "      <th>title</th>\n",
       "      <th>split_title</th>\n",
       "      <th>moviedb_result</th>\n",
       "      <th>moviedb_search_title</th>\n",
       "      <th>moviedb_id</th>\n",
       "      <th>result_title</th>\n",
       "      <th>type</th>\n",
       "      <th>match</th>\n",
       "    </tr>\n",
       "  </thead>\n",
       "  <tbody>\n",
       "    <tr>\n",
       "      <th>10733</th>\n",
       "      <td>12379</td>\n",
       "      <td>2005.0</td>\n",
       "      <td>national geographic: king tut's final secrets</td>\n",
       "      <td>[national geographic,  king tut's final secrets]</td>\n",
       "      <td>{'id': 312215, 'title': 'National Geographic E...</td>\n",
       "      <td>National Geographic Explorer: King Tut's Final...</td>\n",
       "      <td>312215</td>\n",
       "      <td>national geographic</td>\n",
       "      <td>movie</td>\n",
       "      <td>1</td>\n",
       "    </tr>\n",
       "    <tr>\n",
       "      <th>10476</th>\n",
       "      <td>12078</td>\n",
       "      <td>2005.0</td>\n",
       "      <td>care bears: big wish movie</td>\n",
       "      <td>[care bears,  big wish movie]</td>\n",
       "      <td>{'id': 19018, 'title': 'Care Bears: Big Wish M...</td>\n",
       "      <td>Care Bears: Big Wish Movie</td>\n",
       "      <td>19018</td>\n",
       "      <td>care bears</td>\n",
       "      <td>movie</td>\n",
       "      <td>1</td>\n",
       "    </tr>\n",
       "    <tr>\n",
       "      <th>10863</th>\n",
       "      <td>12534</td>\n",
       "      <td>2005.0</td>\n",
       "      <td>steamboy</td>\n",
       "      <td>[steamboy]</td>\n",
       "      <td>{'id': 8953, 'title': 'Steamboy', 'search_titl...</td>\n",
       "      <td>Steamboy</td>\n",
       "      <td>8953</td>\n",
       "      <td>steamboy</td>\n",
       "      <td>movie</td>\n",
       "      <td>1</td>\n",
       "    </tr>\n",
       "    <tr>\n",
       "      <th>930</th>\n",
       "      <td>1060</td>\n",
       "      <td>2005.0</td>\n",
       "      <td>king's ransom</td>\n",
       "      <td>[king's ransom]</td>\n",
       "      <td>{'id': 27360, 'title': 'King's Ransom', 'searc...</td>\n",
       "      <td>King's Ransom</td>\n",
       "      <td>27360</td>\n",
       "      <td>king's ransom</td>\n",
       "      <td>movie</td>\n",
       "      <td>1</td>\n",
       "    </tr>\n",
       "    <tr>\n",
       "      <th>4388</th>\n",
       "      <td>5064</td>\n",
       "      <td>2005.0</td>\n",
       "      <td>left behind: world at war</td>\n",
       "      <td>[left behind,  world at war]</td>\n",
       "      <td>{'id': 38828, 'title': 'Left Behind: World at ...</td>\n",
       "      <td>Left Behind: World at War</td>\n",
       "      <td>38828</td>\n",
       "      <td>left behind</td>\n",
       "      <td>movie</td>\n",
       "      <td>1</td>\n",
       "    </tr>\n",
       "  </tbody>\n",
       "</table>\n",
       "</div>"
      ],
      "text/plain": [
       "       movie_id  year_of_release  \\\n",
       "10733     12379           2005.0   \n",
       "10476     12078           2005.0   \n",
       "10863     12534           2005.0   \n",
       "930        1060           2005.0   \n",
       "4388       5064           2005.0   \n",
       "\n",
       "                                               title  \\\n",
       "10733  national geographic: king tut's final secrets   \n",
       "10476                     care bears: big wish movie   \n",
       "10863                                       steamboy   \n",
       "930                                    king's ransom   \n",
       "4388                       left behind: world at war   \n",
       "\n",
       "                                            split_title  \\\n",
       "10733  [national geographic,  king tut's final secrets]   \n",
       "10476                     [care bears,  big wish movie]   \n",
       "10863                                        [steamboy]   \n",
       "930                                     [king's ransom]   \n",
       "4388                       [left behind,  world at war]   \n",
       "\n",
       "                                          moviedb_result  \\\n",
       "10733  {'id': 312215, 'title': 'National Geographic E...   \n",
       "10476  {'id': 19018, 'title': 'Care Bears: Big Wish M...   \n",
       "10863  {'id': 8953, 'title': 'Steamboy', 'search_titl...   \n",
       "930    {'id': 27360, 'title': 'King's Ransom', 'searc...   \n",
       "4388   {'id': 38828, 'title': 'Left Behind: World at ...   \n",
       "\n",
       "                                    moviedb_search_title  moviedb_id  \\\n",
       "10733  National Geographic Explorer: King Tut's Final...      312215   \n",
       "10476                         Care Bears: Big Wish Movie       19018   \n",
       "10863                                           Steamboy        8953   \n",
       "930                                        King's Ransom       27360   \n",
       "4388                           Left Behind: World at War       38828   \n",
       "\n",
       "              result_title   type  match  \n",
       "10733  national geographic  movie      1  \n",
       "10476           care bears  movie      1  \n",
       "10863             steamboy  movie      1  \n",
       "930          king's ransom  movie      1  \n",
       "4388           left behind  movie      1  "
      ]
     },
     "execution_count": 75,
     "metadata": {},
     "output_type": "execute_result"
    }
   ],
   "source": [
    "# Sort titles based on latest year_of_release\n",
    "titles.sort_values(by='year_of_release',ascending=False, inplace=True)\n",
    "titles.head()"
   ]
  },
  {
   "cell_type": "code",
   "execution_count": 76,
   "metadata": {},
   "outputs": [
    {
     "name": "stdout",
     "output_type": "stream",
     "text": [
      "Shape of titles before dropping: (15372, 10)\n",
      "Shape of titles after dropping: (14923, 10)\n"
     ]
    }
   ],
   "source": [
    "# Drop all duplicate titles\n",
    "print(f'Shape of titles before dropping: {titles.shape}')\n",
    "titles = titles[~(titles.duplicated(subset='title', keep='first'))]\n",
    "print(f'Shape of titles after dropping: {titles.shape}')"
   ]
  },
  {
   "cell_type": "code",
   "execution_count": 77,
   "metadata": {},
   "outputs": [
    {
     "data": {
      "text/html": [
       "<div>\n",
       "<style scoped>\n",
       "    .dataframe tbody tr th:only-of-type {\n",
       "        vertical-align: middle;\n",
       "    }\n",
       "\n",
       "    .dataframe tbody tr th {\n",
       "        vertical-align: top;\n",
       "    }\n",
       "\n",
       "    .dataframe thead th {\n",
       "        text-align: right;\n",
       "    }\n",
       "</style>\n",
       "<table border=\"1\" class=\"dataframe\">\n",
       "  <thead>\n",
       "    <tr style=\"text-align: right;\">\n",
       "      <th></th>\n",
       "      <th>movie_id</th>\n",
       "      <th>year_of_release</th>\n",
       "      <th>title</th>\n",
       "      <th>split_title</th>\n",
       "      <th>moviedb_result</th>\n",
       "      <th>moviedb_search_title</th>\n",
       "      <th>moviedb_id</th>\n",
       "      <th>result_title</th>\n",
       "      <th>type</th>\n",
       "      <th>match</th>\n",
       "    </tr>\n",
       "  </thead>\n",
       "  <tbody>\n",
       "    <tr>\n",
       "      <th>1107</th>\n",
       "      <td>1260</td>\n",
       "      <td>1999.0</td>\n",
       "      <td>journey to the center of the earth</td>\n",
       "      <td>[journey to the center of the earth]</td>\n",
       "      <td>{'id': 732427, 'title': 'Journey to the Center...</td>\n",
       "      <td>Journey to the Center of the Earth</td>\n",
       "      <td>732427</td>\n",
       "      <td>journey to the center of the earth</td>\n",
       "      <td>movie</td>\n",
       "      <td>1</td>\n",
       "    </tr>\n",
       "  </tbody>\n",
       "</table>\n",
       "</div>"
      ],
      "text/plain": [
       "      movie_id  year_of_release                               title  \\\n",
       "1107      1260           1999.0  journey to the center of the earth   \n",
       "\n",
       "                               split_title  \\\n",
       "1107  [journey to the center of the earth]   \n",
       "\n",
       "                                         moviedb_result  \\\n",
       "1107  {'id': 732427, 'title': 'Journey to the Center...   \n",
       "\n",
       "                    moviedb_search_title  moviedb_id  \\\n",
       "1107  Journey to the Center of the Earth      732427   \n",
       "\n",
       "                            result_title   type  match  \n",
       "1107  journey to the center of the earth  movie      1  "
      ]
     },
     "execution_count": 77,
     "metadata": {},
     "output_type": "execute_result"
    }
   ],
   "source": [
    "# Sample 1\n",
    "titles[titles['title']=='journey to the center of the earth']"
   ]
  },
  {
   "cell_type": "code",
   "execution_count": 78,
   "metadata": {},
   "outputs": [
    {
     "data": {
      "text/html": [
       "<div>\n",
       "<style scoped>\n",
       "    .dataframe tbody tr th:only-of-type {\n",
       "        vertical-align: middle;\n",
       "    }\n",
       "\n",
       "    .dataframe tbody tr th {\n",
       "        vertical-align: top;\n",
       "    }\n",
       "\n",
       "    .dataframe thead th {\n",
       "        text-align: right;\n",
       "    }\n",
       "</style>\n",
       "<table border=\"1\" class=\"dataframe\">\n",
       "  <thead>\n",
       "    <tr style=\"text-align: right;\">\n",
       "      <th></th>\n",
       "      <th>movie_id</th>\n",
       "      <th>year_of_release</th>\n",
       "      <th>title</th>\n",
       "      <th>split_title</th>\n",
       "      <th>moviedb_result</th>\n",
       "      <th>moviedb_search_title</th>\n",
       "      <th>moviedb_id</th>\n",
       "      <th>result_title</th>\n",
       "      <th>type</th>\n",
       "      <th>match</th>\n",
       "    </tr>\n",
       "  </thead>\n",
       "  <tbody>\n",
       "    <tr>\n",
       "      <th>327</th>\n",
       "      <td>379</td>\n",
       "      <td>1996.0</td>\n",
       "      <td>crash dive</td>\n",
       "      <td>[crash dive]</td>\n",
       "      <td>{'id': 160019, 'title': 'Crash Dive', 'search_...</td>\n",
       "      <td>Crash Dive</td>\n",
       "      <td>160019</td>\n",
       "      <td>crash dive</td>\n",
       "      <td>movie</td>\n",
       "      <td>1</td>\n",
       "    </tr>\n",
       "  </tbody>\n",
       "</table>\n",
       "</div>"
      ],
      "text/plain": [
       "     movie_id  year_of_release       title   split_title  \\\n",
       "327       379           1996.0  crash dive  [crash dive]   \n",
       "\n",
       "                                        moviedb_result moviedb_search_title  \\\n",
       "327  {'id': 160019, 'title': 'Crash Dive', 'search_...           Crash Dive   \n",
       "\n",
       "     moviedb_id result_title   type  match  \n",
       "327      160019   crash dive  movie      1  "
      ]
     },
     "execution_count": 78,
     "metadata": {},
     "output_type": "execute_result"
    }
   ],
   "source": [
    "# Check Sample 2\n",
    "titles[titles['title']=='crash dive']"
   ]
  },
  {
   "cell_type": "markdown",
   "metadata": {},
   "source": [
    "<span style='color:magenta'>Remarks:</span>\n",
    "From the sample after dropping duplicates, The older titles are dropped while the latest titles are retained.\n",
    "\n",
    "In total, I have dropped 2,847 titles. This amount to 16% reduction in original data. However, this is still acceptable as this implies that our dataset is as clean as possible for modeling."
   ]
  },
  {
   "cell_type": "code",
   "execution_count": null,
   "metadata": {},
   "outputs": [],
   "source": [
    "# Save dataframe to HDF5 \n",
    "hf = pd.HDFStore(fileloc + 'movie_raw.hdf5')\n",
    "hf['titles_search_mvid'] = titles\n",
    "hf.close()"
   ]
  },
  {
   "cell_type": "markdown",
   "metadata": {},
   "source": [
    "#### Invoke Metadata API Call"
   ]
  },
  {
   "cell_type": "code",
   "execution_count": 79,
   "metadata": {},
   "outputs": [
    {
     "name": "stdout",
     "output_type": "stream",
     "text": [
      "200\n"
     ]
    }
   ],
   "source": [
    "# API key\n",
    "REQUEST_TOKEN = 'd8f46f139abc47c1f048f3efc486fe53'\n",
    "\n",
    "# Target web page:\n",
    "\n",
    "# To authenticate api call session\n",
    "url = \"https://www.themoviedb.org/authenticate/\"+ REQUEST_TOKEN\n",
    "\n",
    "# Establishing the connection to the web page:\n",
    "response = requests.get(url)\n",
    "\n",
    "# You can use status codes to understand how the target server responds to your request.\n",
    "# Ex., 200 = OK, 400 = Bad Request, 403 = Forbidden, 404 = Not Found.\n",
    "print(response.status_code)"
   ]
  },
  {
   "cell_type": "code",
   "execution_count": null,
   "metadata": {},
   "outputs": [],
   "source": [
    "# Chunking the files\n",
    "chunk_list = chunking(chunk_size,titles)\n",
    "print(len(chunk_list))"
   ]
  },
  {
   "cell_type": "code",
   "execution_count": null,
   "metadata": {},
   "outputs": [],
   "source": [
    "# Perform API call on chunked dataframe & save as csv file\n",
    "for index, df in enumerate(chunk_list):\n",
    "    df['search_result'] = df.apply(lambda x: movieid_pull(x.name, x['moviedb_id'], x['type']), axis=1)\n",
    "    df.to_csv(f'{fileloc}Metadata_added/md_{index}.csv', index=False)\n",
    "    print(f\"{index} batch: {t_now('run time')}\")"
   ]
  },
  {
   "cell_type": "code",
   "execution_count": null,
   "metadata": {},
   "outputs": [],
   "source": []
  }
 ],
 "metadata": {
  "kernelspec": {
   "display_name": "Python 3",
   "language": "python",
   "name": "python3"
  },
  "language_info": {
   "codemirror_mode": {
    "name": "ipython",
    "version": 3
   },
   "file_extension": ".py",
   "mimetype": "text/x-python",
   "name": "python",
   "nbconvert_exporter": "python",
   "pygments_lexer": "ipython3",
   "version": "3.8.3"
  },
  "toc-autonumbering": false,
  "toc-showmarkdowntxt": false,
  "toc-showtags": false
 },
 "nbformat": 4,
 "nbformat_minor": 4
}
