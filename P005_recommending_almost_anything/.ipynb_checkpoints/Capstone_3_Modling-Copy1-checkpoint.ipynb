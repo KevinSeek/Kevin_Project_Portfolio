{
 "cells": [
  {
   "cell_type": "code",
   "execution_count": 1,
   "metadata": {},
   "outputs": [],
   "source": [
    "import pandas as pd\n",
    "import numpy as np\n",
    "import h5py\n",
    "import random\n",
    "from sklearn.metrics.pairwise import cosine_similarity"
   ]
  },
  {
   "cell_type": "code",
   "execution_count": 2,
   "metadata": {},
   "outputs": [],
   "source": [
    "def common_scale(val, new_range, pd_series):\n",
    "    '''\n",
    "    Function will scale element of pandas series to new range\n",
    "    \n",
    "    arg1 (int)    : value\n",
    "    arg2 (list)  : [Min, Max]\n",
    "    arg3 (series) : Pandas series to apply function to\n",
    "    \n",
    "    Return: the new scaled valued\n",
    "    '''\n",
    "    s_range = [pd_series.min(),pd_series.max()]\n",
    "    return round(np.diff(new_range)[0] * ((val - s_range[0])/(np.diff(s_range)[0])) + 1,2)"
   ]
  },
  {
   "cell_type": "code",
   "execution_count": 3,
   "metadata": {},
   "outputs": [],
   "source": [
    "# Mean Centering\n",
    "\n",
    "def mean_center_rows(df):\n",
    "    '''\n",
    "    Function to center a dataset based on mean\n",
    "    \n",
    "    arg1 (df): Dataframe\n",
    "    '''\n",
    "    return (df.T - df.mean(axis=1)).T"
   ]
  },
  {
   "cell_type": "code",
   "execution_count": 4,
   "metadata": {},
   "outputs": [],
   "source": [
    "# # Import retained title series\n",
    "# with pd.HDFStore('datasets/movie.hdf5') as store:\n",
    "#     rt = store['subset_title_ids']\n",
    "#     index_title_dict = store['titles_series'].to_dict()['title']\n",
    "\n",
    "# # Randomly genreate 5 titles for user to rate\n",
    "# user_test_list = random.sample(rt.to_list(),5)\n",
    "# user_test_name = [index_title_dict[i] for i in user_test_list]\n",
    "\n",
    "# # Ask for user input and convert input into a list\n",
    "# user_rate = input(f'Please rate the following 5 titles with comma: {user_test_name}')\n",
    "# user_rate = [int(x) for x in user_rate.split(\",\")]"
   ]
  },
  {
   "cell_type": "code",
   "execution_count": 5,
   "metadata": {},
   "outputs": [],
   "source": [
    "def gen_new_user_rating():\n",
    "    '''\n",
    "    Function to generate 5 sample titles from subset titles\n",
    "    \n",
    "    '''\n",
    "    \n",
    "    # Pull in datasets\n",
    "    with pd.HDFStore('datasets/movie.hdf5') as store:\n",
    "        rt = store['subset_title_ids']\n",
    "        index_title_dict = store['titles_series'].to_dict()['title']\n",
    "\n",
    "    # Randomly genreate 5 titles for user to rate\n",
    "    sampling_title_list = random.sample(rt.to_list(),5)\n",
    "    \n",
    "    # Create dataframe with title_id & title name\n",
    "    st_df = pd.DataFrame(sampling_title_list, columns=['title_id'])\n",
    "    st_df['title'] = st_df['title_id'].map(index_title_dict)\n",
    "    \n",
    "    return st_df"
   ]
  },
  {
   "cell_type": "code",
   "execution_count": 6,
   "metadata": {},
   "outputs": [
    {
     "name": "stdin",
     "output_type": "stream",
     "text": [
      "Please rate the following 5 titles with comma: ['patch adams', \"st. elmo's fire\", 'toy story', 'winning london', 'flying leathernecks'] 5,4,3,2,1\n"
     ]
    }
   ],
   "source": [
    "# Ask for user input and convert input into a list\n",
    "sample_df = gen_new_user_rating()\n",
    "sample_titles = sample_df['title'].to_list()\n",
    "\n",
    "user_rate = input(f'Please rate the following 5 titles with comma: {sample_titles}')\n",
    "user_rate = [int(x) for x in user_rate.split(\",\")]\n",
    "\n",
    "# Create a user_dict from title and user's input\n",
    "user_dict = dict(zip(sample_df['title_id'],user_rate))"
   ]
  },
  {
   "cell_type": "code",
   "execution_count": 7,
   "metadata": {},
   "outputs": [
    {
     "data": {
      "text/plain": [
       "[4123, 6050, 13673, 5896, 11075]"
      ]
     },
     "execution_count": 7,
     "metadata": {},
     "output_type": "execute_result"
    }
   ],
   "source": [
    "list(user_dict.keys())"
   ]
  },
  {
   "cell_type": "code",
   "execution_count": null,
   "metadata": {},
   "outputs": [],
   "source": [
    "def find_next_closest_user(user_res, user_res_loc, users, users_loc):\n",
    "    '''\n",
    "    Function to find next closest user\n",
    "    '''\n",
    "    with pd.HDFStore(users_loc) as store:\n",
    "    users = store[users]\n",
    "    \n",
    "    # Create a user series with index as -1 and append to user-title matrix\n",
    "    to_append = pd.Series(data=user_dict, index=user_dict,name=-1)\n",
    "    \n",
    "    # Make a copy so as not to contiminate original dataframe; append to user-title matrix\n",
    "    user1 = users.copy()\n",
    "    user1 = user1[user_test_list]\n",
    "    user1 = user1.append(to_append)\n",
    "\n",
    "    "
   ]
  },
  {
   "cell_type": "code",
   "execution_count": 85,
   "metadata": {},
   "outputs": [
    {
     "name": "stdout",
     "output_type": "stream",
     "text": [
      "2188622\n",
      "Wall time: 13.7 s\n"
     ]
    }
   ],
   "source": [
    "%%time\n",
    "\n",
    "with pd.HDFStore('datasets/movie.hdf5') as store:\n",
    "    users = store['users']\n",
    "\n",
    "\n",
    "\n",
    "# Create a user series with index as -1 and append to user-title matrix\n",
    "to_append = pd.Series(data=user_dict, index=user_dict,name=-1)\n",
    "\n",
    "# Make a copy so as not to contiminate original dataframe; append to user-title matrix\n",
    "user1 = users.copy()\n",
    "user1 = user1[user_test_list]\n",
    "user1 = user1.append(to_append)\n",
    "\n",
    "# Drop users that have no ratings for the chosen nth titles\n",
    "user1 = user1[user_test_list].dropna(axis=0, how='all')\n",
    "\n",
    "# Mean Centering the ratings\n",
    "user1_mc = mean_center_rows(user1)\n",
    "user1_mc = user1_mc.fillna(0)\n",
    "\n",
    "# Create User sim matrix\n",
    "user1_sim = cosine_similarity(user1_mc)\n",
    "user1_sim = pd.DataFrame(user1_sim, columns=user1_mc.index, index = user1_mc.index)\n",
    "\n",
    "# Find the next most similar user to user other than user\n",
    "next_sim = user1_sim[[-1]].sort_values(by=-1, ascending=False).iloc[1].name\n",
    "\n",
    "print (next_sim)"
   ]
  },
  {
   "cell_type": "markdown",
   "metadata": {},
   "source": [
    "## Collaborative Filtering Recommendation System"
   ]
  },
  {
   "cell_type": "markdown",
   "metadata": {},
   "source": [
    "### Collaborative Filtering Function"
   ]
  },
  {
   "cell_type": "code",
   "execution_count": 7,
   "metadata": {},
   "outputs": [],
   "source": [
    "def cf_rec(hdf5_loc, user_id, top_rec=5):\n",
    "    '''\n",
    "    Function will put the following stored dataframe/series from HDF5, series must be in the same name: \n",
    "    1. users         => dataframe containing the user/title utility Matrix\n",
    "    2. user_sim      => dataframe containing the user cosine similiarity matrix\n",
    "    3. titles_series => Series of title and movie_id\n",
    "    \n",
    "    Arguments\n",
    "    arg1 (str) : HDF5 File location\n",
    "    arg2 (int) : User_id\n",
    "    arg3 (int) : Top nth number of recommendation\n",
    "    \n",
    "    retun:\n",
    "    DataFrame with movie_id, title, composite score\n",
    "    '''\n",
    "    \n",
    "    # Import user rating file\n",
    "    with pd.HDFStore(hdf5_loc) as store:\n",
    "        users_sim = store['users_sim']\n",
    "        users = store['users']\n",
    "        index_title_dict = store['titles_series'].to_dict()['title']\n",
    "    \n",
    "    # Find user's similarity scores against users have positive similarity\n",
    "    users_sim = users_sim[user_id].drop(user_id)\n",
    "    users_sim = users_sim[users_sim > 0]\n",
    "    \n",
    "    # Convert user's score to weight; A 1-D array of weights\n",
    "    user_weight = users_sim.values/np.sum(users_sim.values)\n",
    "    \n",
    "    # Find title ratings of titles which user has not rate; A 2-D array of ratings bounded by user-unwatch titles & users that are similar\n",
    "    titles_rating = users.T\n",
    "    titles_rating = titles_rating[titles_rating[user_id].isnull()]\n",
    "    titles_rating = titles_rating.drop(user_id, axis=1)\n",
    "    titles_rating = titles_rating[users_sim.index]\n",
    "    \n",
    "    # Find the score of titles which user has not rate; A 1-D array of composite ratings\n",
    "    user_rating = np.dot(titles_rating.fillna(0).values, user_weight)\n",
    "    \n",
    "    # convert to a dataframe\n",
    "    user_rec_df = pd.DataFrame(user_rating, index=titles_rating.index,\n",
    "                               columns=['composite_rating']).sort_values(by='composite_rating', ascending=False).head(top_rec)\n",
    "    \n",
    "    # reset index to get movie_id as 1 of the column\n",
    "    user_rec_df.reset_index(inplace=True)\n",
    "    \n",
    "    # Map to find the title\n",
    "    user_rec_df['title'] = user_rec_df['movie_id'].map(index_title_dict)\n",
    "    user_rec_df = user_rec_df[['movie_id', 'title','composite_rating']]\n",
    "    \n",
    "    # Apply Standard Rating Scaling\n",
    "    user_rec_df['composite_rating'] = user_rec_df['composite_rating'].apply(common_scale, args=([1,5],user_rec_df['composite_rating']))\n",
    "    \n",
    "    # Return a dataframe of the titles recommendation\n",
    "    return user_rec_df"
   ]
  },
  {
   "cell_type": "code",
   "execution_count": 48,
   "metadata": {},
   "outputs": [
    {
     "name": "stdout",
     "output_type": "stream",
     "text": [
      "Wall time: 14.4 s\n"
     ]
    },
    {
     "data": {
      "text/html": [
       "<div>\n",
       "<style scoped>\n",
       "    .dataframe tbody tr th:only-of-type {\n",
       "        vertical-align: middle;\n",
       "    }\n",
       "\n",
       "    .dataframe tbody tr th {\n",
       "        vertical-align: top;\n",
       "    }\n",
       "\n",
       "    .dataframe thead th {\n",
       "        text-align: right;\n",
       "    }\n",
       "</style>\n",
       "<table border=\"1\" class=\"dataframe\">\n",
       "  <thead>\n",
       "    <tr style=\"text-align: right;\">\n",
       "      <th></th>\n",
       "      <th>movie_id</th>\n",
       "      <th>title</th>\n",
       "      <th>composite_rating</th>\n",
       "    </tr>\n",
       "  </thead>\n",
       "  <tbody>\n",
       "    <tr>\n",
       "      <th>0</th>\n",
       "      <td>11521</td>\n",
       "      <td>lord of the rings: the two towers</td>\n",
       "      <td>5.00</td>\n",
       "    </tr>\n",
       "    <tr>\n",
       "      <th>1</th>\n",
       "      <td>14240</td>\n",
       "      <td>lord of the rings: the return of the king</td>\n",
       "      <td>4.28</td>\n",
       "    </tr>\n",
       "    <tr>\n",
       "      <th>2</th>\n",
       "      <td>17157</td>\n",
       "      <td>saving private ryan</td>\n",
       "      <td>3.31</td>\n",
       "    </tr>\n",
       "    <tr>\n",
       "      <th>3</th>\n",
       "      <td>9960</td>\n",
       "      <td>die hard</td>\n",
       "      <td>1.64</td>\n",
       "    </tr>\n",
       "    <tr>\n",
       "      <th>4</th>\n",
       "      <td>5862</td>\n",
       "      <td>memento</td>\n",
       "      <td>1.00</td>\n",
       "    </tr>\n",
       "  </tbody>\n",
       "</table>\n",
       "</div>"
      ],
      "text/plain": [
       "   movie_id                                      title  composite_rating\n",
       "0     11521          lord of the rings: the two towers              5.00\n",
       "1     14240  lord of the rings: the return of the king              4.28\n",
       "2     17157                        saving private ryan              3.31\n",
       "3      9960                                   die hard              1.64\n",
       "4      5862                                    memento              1.00"
      ]
     },
     "execution_count": 48,
     "metadata": {},
     "output_type": "execute_result"
    }
   ],
   "source": [
    "%%time\n",
    "cf_rec('datasets/movie.hdf5', 2637886, 5)"
   ]
  },
  {
   "cell_type": "markdown",
   "metadata": {},
   "source": [
    "### Title Based Recommendation Functions"
   ]
  },
  {
   "cell_type": "code",
   "execution_count": 100,
   "metadata": {},
   "outputs": [],
   "source": [
    "def title_weighter(users_df, title_sim, user_id, title_id):\n",
    "    \n",
    "    '''\n",
    "    Function: Return the title name and its weights to other similar title\n",
    "    \n",
    "    '''\n",
    "    title_sim = movies_sim[title_id].drop(title_id)\n",
    "    title_sim = title_sim[title_sim > 0]\n",
    "        \n",
    "    # Find the weight of each title similarity\n",
    "    title_weights = title_sim.values/np.sum(title_sim.values)\n",
    "\n",
    "    # Filter by title similarity then but those that have user's rating\n",
    "    user_ratings = users_df.T[user_id].loc[title_sim.index].fillna(0)\n",
    "\n",
    "    # Find the composite rating of the single unwatch title\n",
    "    return (title_id, np.dot(user_ratings.values, title_weights))  "
   ]
  },
  {
   "cell_type": "code",
   "execution_count": 109,
   "metadata": {},
   "outputs": [],
   "source": [
    "def title_based_recommender(hdf5_loc, user_res, user_id, top_rec=5):\n",
    "    '''\n",
    "    Function\n",
    "    \n",
    "    '''\n",
    "    # Top_rec dataframe containers\n",
    "    chunks = []\n",
    "    \n",
    "    # Import user rating file\n",
    "    with pd.HDFStore(hdf5_loc) as store:\n",
    "        movies_sim = store['movies_sim']\n",
    "        users = store['users']\n",
    "        index_title_dict = store['titles_series'].to_dict()['title']\n",
    "\n",
    "    # Loop through user_response\n",
    "    for mv_id, rating in user_res.items():\n",
    "        \n",
    "        # Find list of titles that are positively similar to the title\n",
    "        title_sim = movies_sim[mv_id].drop(mv_id)\n",
    "        title_sim = title_sim[title_sim > 0]\n",
    "        \n",
    "        # Find list of titles that are not watched by user\n",
    "        n_watch = list(users.T[user_id].loc[title_sim.index][users.T[user_id].isnull()].index)\n",
    "        \n",
    "        # Return a list of recommendation for each title that user have not watch\n",
    "        ls_rec = [title_weighter(users, title_sim, user_id, title) for title in n_watch]\n",
    "                        \n",
    "        # Create a dataframe of recommendations\n",
    "        com_rec_df = pd.DataFrame(data=ls_rec, columns=['movie_id', 'composite_rating']).sort_values(by='composite_rating', ascending=False).head(top_rec)\n",
    "\n",
    "        # Apply User's rating weight\n",
    "        com_rec_df['composite_rating'] = com_rec_df['composite_rating'] * rating/len(user_res)\n",
    "        \n",
    "        # Append to rec_df container\n",
    "        chunks.append(com_rec_df)\n",
    "    \n",
    "    # Concat dataframe together\n",
    "    user_rec_df = pd.concat(chunks,ignore_index=True)\n",
    "    \n",
    "    # Map to find the title\n",
    "    user_rec_df['title'] = user_rec_df['movie_id'].map(index_title_dict)\n",
    "    user_rec_df = user_rec_df[['title','composite_rating']]\n",
    "    \n",
    "    # Apply standard scaling\n",
    "    user_rec_df['composite_rating'] = user_rec_df['composite_rating'].apply(common_scale, args=([1,5],user_rec_df['composite_rating']))\n",
    "    \n",
    "    # Sort & Remove Duplicates\n",
    "    user_rec_df.sort_values(by='composite_rating', ascending=False, inplace=True)\n",
    "    user_rec_df.drop_duplicates(subset='title', keep='first', inplace=True)\n",
    "    \n",
    "    # Return a dataframe of the titles recommendation\n",
    "    return user_rec_df"
   ]
  },
  {
   "cell_type": "code",
   "execution_count": 110,
   "metadata": {},
   "outputs": [
    {
     "name": "stdout",
     "output_type": "stream",
     "text": [
      "Wall time: 43.3 s\n"
     ]
    },
    {
     "data": {
      "text/html": [
       "<div>\n",
       "<style scoped>\n",
       "    .dataframe tbody tr th:only-of-type {\n",
       "        vertical-align: middle;\n",
       "    }\n",
       "\n",
       "    .dataframe tbody tr th {\n",
       "        vertical-align: top;\n",
       "    }\n",
       "\n",
       "    .dataframe thead th {\n",
       "        text-align: right;\n",
       "    }\n",
       "</style>\n",
       "<table border=\"1\" class=\"dataframe\">\n",
       "  <thead>\n",
       "    <tr style=\"text-align: right;\">\n",
       "      <th></th>\n",
       "      <th>title</th>\n",
       "      <th>composite_rating</th>\n",
       "    </tr>\n",
       "  </thead>\n",
       "  <tbody>\n",
       "    <tr>\n",
       "      <th>0</th>\n",
       "      <td>lost in translation</td>\n",
       "      <td>5.00</td>\n",
       "    </tr>\n",
       "    <tr>\n",
       "      <th>1</th>\n",
       "      <td>memento</td>\n",
       "      <td>4.94</td>\n",
       "    </tr>\n",
       "    <tr>\n",
       "      <th>2</th>\n",
       "      <td>saving private ryan</td>\n",
       "      <td>4.76</td>\n",
       "    </tr>\n",
       "    <tr>\n",
       "      <th>3</th>\n",
       "      <td>apollo 13</td>\n",
       "      <td>4.69</td>\n",
       "    </tr>\n",
       "    <tr>\n",
       "      <th>4</th>\n",
       "      <td>old school</td>\n",
       "      <td>4.69</td>\n",
       "    </tr>\n",
       "    <tr>\n",
       "      <th>9</th>\n",
       "      <td>national lampoon's vacation</td>\n",
       "      <td>3.75</td>\n",
       "    </tr>\n",
       "    <tr>\n",
       "      <th>24</th>\n",
       "      <td>misery</td>\n",
       "      <td>1.00</td>\n",
       "    </tr>\n",
       "  </tbody>\n",
       "</table>\n",
       "</div>"
      ],
      "text/plain": [
       "                          title  composite_rating\n",
       "0           lost in translation              5.00\n",
       "1                       memento              4.94\n",
       "2           saving private ryan              4.76\n",
       "3                     apollo 13              4.69\n",
       "4                    old school              4.69\n",
       "9   national lampoon's vacation              3.75\n",
       "24                       misery              1.00"
      ]
     },
     "execution_count": 110,
     "metadata": {},
     "output_type": "execute_result"
    }
   ],
   "source": [
    "%%time\n",
    "title_based_recommender('datasets/movie.hdf5', user_dict,2637886, 5)"
   ]
  },
  {
   "cell_type": "code",
   "execution_count": 106,
   "metadata": {},
   "outputs": [
    {
     "name": "stdout",
     "output_type": "stream",
     "text": [
      "Wall time: 40.7 s\n"
     ]
    },
    {
     "data": {
      "text/html": [
       "<div>\n",
       "<style scoped>\n",
       "    .dataframe tbody tr th:only-of-type {\n",
       "        vertical-align: middle;\n",
       "    }\n",
       "\n",
       "    .dataframe tbody tr th {\n",
       "        vertical-align: top;\n",
       "    }\n",
       "\n",
       "    .dataframe thead th {\n",
       "        text-align: right;\n",
       "    }\n",
       "</style>\n",
       "<table border=\"1\" class=\"dataframe\">\n",
       "  <thead>\n",
       "    <tr style=\"text-align: right;\">\n",
       "      <th></th>\n",
       "      <th>title</th>\n",
       "      <th>composite_rating</th>\n",
       "    </tr>\n",
       "  </thead>\n",
       "  <tbody>\n",
       "    <tr>\n",
       "      <th>0</th>\n",
       "      <td>lost in translation</td>\n",
       "      <td>5.00</td>\n",
       "    </tr>\n",
       "    <tr>\n",
       "      <th>5</th>\n",
       "      <td>memento</td>\n",
       "      <td>5.00</td>\n",
       "    </tr>\n",
       "    <tr>\n",
       "      <th>20</th>\n",
       "      <td>saving private ryan</td>\n",
       "      <td>5.00</td>\n",
       "    </tr>\n",
       "    <tr>\n",
       "      <th>21</th>\n",
       "      <td>apollo 13</td>\n",
       "      <td>2.75</td>\n",
       "    </tr>\n",
       "    <tr>\n",
       "      <th>22</th>\n",
       "      <td>old school</td>\n",
       "      <td>2.53</td>\n",
       "    </tr>\n",
       "    <tr>\n",
       "      <th>23</th>\n",
       "      <td>national lampoon's vacation</td>\n",
       "      <td>1.58</td>\n",
       "    </tr>\n",
       "    <tr>\n",
       "      <th>24</th>\n",
       "      <td>misery</td>\n",
       "      <td>1.00</td>\n",
       "    </tr>\n",
       "  </tbody>\n",
       "</table>\n",
       "</div>"
      ],
      "text/plain": [
       "                          title  composite_rating\n",
       "0           lost in translation              5.00\n",
       "5                       memento              5.00\n",
       "20          saving private ryan              5.00\n",
       "21                    apollo 13              2.75\n",
       "22                   old school              2.53\n",
       "23  national lampoon's vacation              1.58\n",
       "24                       misery              1.00"
      ]
     },
     "execution_count": 106,
     "metadata": {},
     "output_type": "execute_result"
    }
   ],
   "source": [
    "%%time\n",
    "title_based_recommender('datasets/movie.hdf5', user_dict,2637886, 5)"
   ]
  },
  {
   "cell_type": "markdown",
   "metadata": {},
   "source": [
    "<span style= 'color:magenta'>Remark:</span>\n",
    "Comparing the results from both Collaborative Filtering RS & Item-Based RS, the recommendated list seems similar. This may indicate that most system are able to identify quite similarily what the user wants OR it could be that the sampled user has a very skewed watch-list eg. only watch a particular genre and nothing else hence resulting in similar recommendation. I will be creating a Neural Network Content-Based RS and see if we can get similar results."
   ]
  },
  {
   "cell_type": "markdown",
   "metadata": {},
   "source": [
    "##  Keyword Based Recommendation System"
   ]
  },
  {
   "cell_type": "code",
   "execution_count": 21,
   "metadata": {},
   "outputs": [],
   "source": [
    "def find_similar(name, n = 10):\n",
    "    \"\"\"Find n most similar items (or least) to name based on embeddings. Option to also plot the results\"\"\"\n",
    "    \n",
    "    \n",
    "    # Retrieve pre-calculated title weights\n",
    "    with h5py.File('datasets/movie_NN.hdf5','r') as hf:\n",
    "        weights = hf['title_weights'][:]\n",
    "        \n",
    "    with pd.HDFStore('datasets/movie.hdf5') as store:\n",
    "        idx_t_ids_dict = store['idx_title_series'].to_dict()\n",
    "        index_title_dict = store['titles_series'].to_dict()['title']\n",
    "    \n",
    "    t_ids_idx_dict = {item : key for key,item in idx_t_ids_dict.items()}\n",
    "    \n",
    "    # Create a list container to hold calculated dictionary\n",
    "    ls_of_dicts = []\n",
    "    \n",
    "    # Select index and reverse index\n",
    "    index_name = 'title'\n",
    "    index = t_ids_idx_dict\n",
    "    rindex = idx_t_ids_dict\n",
    "\n",
    "    # Check to make sure `name` is in index\n",
    "    try:\n",
    "        # Calculate dot product between book and all others\n",
    "        dists = np.dot(weights, weights[index[name]])\n",
    "    except KeyError:\n",
    "        print(f'{name} Not Found.')\n",
    "        return\n",
    "    \n",
    "    # Sort distance indexes from smallest to largest\n",
    "    sorted_dists = np.argsort(dists)\n",
    "    \n",
    "    # Take the last n sorted distances; remove the title itself\n",
    "    closest = sorted_dists[-(n+1):][:-1]\n",
    "    \n",
    "    ls_of_dicts = [{'title': rindex[c], 'composite_rating': dists[c]} for c in reversed(closest)]\n",
    "    \n",
    "    user_rec_df = pd.DataFrame(ls_of_dicts)\n",
    "    \n",
    "    # Map title name to title id\n",
    "    user_rec_df['title'] = user_rec_df['title'].map(index_title_dict)\n",
    "    \n",
    "    return user_rec_df"
   ]
  },
  {
   "cell_type": "code",
   "execution_count": 113,
   "metadata": {},
   "outputs": [],
   "source": [
    "def keyword_based_recommender(user_res, top_rec=10):\n",
    "    '''\n",
    "    Function to run rec algorithms \n",
    "    \n",
    "    '''\n",
    "    chunks = []\n",
    "    for mv_id, rating in user_res.items():\n",
    "        df = find_similar(mv_id, n = 10)\n",
    "        \n",
    "        # Apply weights based on user's rating\n",
    "        df['composite_rating'] = df['composite_rating'] * rating/len(user_res)\n",
    "        \n",
    "        # Append dataframe\n",
    "        chunks.append(df)\n",
    "\n",
    "    # Concat dataframe together\n",
    "    user_rec_df = pd.concat(chunks,ignore_index=True)\n",
    "    \n",
    "    # Apply standard scaling\n",
    "    user_rec_df['composite_rating'] = user_rec_df['composite_rating'].apply(common_scale, args=([1,5],user_rec_df['composite_rating']))\n",
    "    \n",
    "    user_rec_df.sort_values(by='composite_rating', ascending=False, inplace=True)\n",
    "    user_rec_df.drop_duplicates(subset='title', keep='first', inplace=True)\n",
    "    user_rec_df.reset_index(drop=True, inplace=True)\n",
    "    \n",
    "    \n",
    "    return user_rec_df.head(top_rec)"
   ]
  },
  {
   "cell_type": "code",
   "execution_count": 115,
   "metadata": {},
   "outputs": [
    {
     "data": {
      "text/html": [
       "<div>\n",
       "<style scoped>\n",
       "    .dataframe tbody tr th:only-of-type {\n",
       "        vertical-align: middle;\n",
       "    }\n",
       "\n",
       "    .dataframe tbody tr th {\n",
       "        vertical-align: top;\n",
       "    }\n",
       "\n",
       "    .dataframe thead th {\n",
       "        text-align: right;\n",
       "    }\n",
       "</style>\n",
       "<table border=\"1\" class=\"dataframe\">\n",
       "  <thead>\n",
       "    <tr style=\"text-align: right;\">\n",
       "      <th></th>\n",
       "      <th>title</th>\n",
       "      <th>composite_rating</th>\n",
       "    </tr>\n",
       "  </thead>\n",
       "  <tbody>\n",
       "    <tr>\n",
       "      <th>0</th>\n",
       "      <td>enigma: mcmxc a.d</td>\n",
       "      <td>5.00</td>\n",
       "    </tr>\n",
       "    <tr>\n",
       "      <th>1</th>\n",
       "      <td>dragon drive</td>\n",
       "      <td>4.17</td>\n",
       "    </tr>\n",
       "    <tr>\n",
       "      <th>2</th>\n",
       "      <td>iron monkey 2</td>\n",
       "      <td>3.33</td>\n",
       "    </tr>\n",
       "    <tr>\n",
       "      <th>3</th>\n",
       "      <td>classic albums: meat loaf: bat out of hell</td>\n",
       "      <td>3.18</td>\n",
       "    </tr>\n",
       "    <tr>\n",
       "      <th>4</th>\n",
       "      <td>walking with cavemen</td>\n",
       "      <td>3.08</td>\n",
       "    </tr>\n",
       "  </tbody>\n",
       "</table>\n",
       "</div>"
      ],
      "text/plain": [
       "                                        title  composite_rating\n",
       "0                           enigma: mcmxc a.d              5.00\n",
       "1                                dragon drive              4.17\n",
       "2                               iron monkey 2              3.33\n",
       "3  classic albums: meat loaf: bat out of hell              3.18\n",
       "4                        walking with cavemen              3.08"
      ]
     },
     "execution_count": 115,
     "metadata": {},
     "output_type": "execute_result"
    }
   ],
   "source": [
    "keyword_based_recommender(user_dict, 5)"
   ]
  },
  {
   "cell_type": "code",
   "execution_count": null,
   "metadata": {},
   "outputs": [],
   "source": []
  },
  {
   "cell_type": "code",
   "execution_count": 139,
   "metadata": {},
   "outputs": [
    {
     "name": "stdout",
     "output_type": "stream",
     "text": [
      "Dataframe in movie.hdf5 <KeysViewHDF5 ['genre_series', 'idx_title_series', 'keywords_series', 'movies_sim', 'subset_title_ids', 'titles_series', 'users', 'users_sim']>\n"
     ]
    }
   ],
   "source": [
    "hf = h5py.File('datasets/movie.hdf5','r')\n",
    "print(f'Dataframe in movie.hdf5 {hf.keys()}')\n",
    "hf.close()"
   ]
  },
  {
   "cell_type": "code",
   "execution_count": 138,
   "metadata": {},
   "outputs": [
    {
     "name": "stdout",
     "output_type": "stream",
     "text": [
      "Dataframe in movie.hdf5 <KeysViewHDF5 ['full_ratings', 'titles_cleaned', 'titles_search_mvid']>\n"
     ]
    }
   ],
   "source": [
    "hf = h5py.File('datasets/movie_raw.hdf5','r')\n",
    "print(f'Dataframe in movie.hdf5 {hf.keys()}')\n",
    "hf.close()"
   ]
  },
  {
   "cell_type": "code",
   "execution_count": null,
   "metadata": {},
   "outputs": [],
   "source": []
  }
 ],
 "metadata": {
  "kernelspec": {
   "display_name": "Python 3",
   "language": "python",
   "name": "python3"
  },
  "language_info": {
   "codemirror_mode": {
    "name": "ipython",
    "version": 3
   },
   "file_extension": ".py",
   "mimetype": "text/x-python",
   "name": "python",
   "nbconvert_exporter": "python",
   "pygments_lexer": "ipython3",
   "version": "3.8.3"
  }
 },
 "nbformat": 4,
 "nbformat_minor": 4
}
