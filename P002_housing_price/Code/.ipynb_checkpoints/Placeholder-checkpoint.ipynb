{
 "cells": [
  {
   "cell_type": "code",
   "execution_count": 101,
   "metadata": {},
   "outputs": [],
   "source": [
    "rs = rs[rs['saleprice']>=50000]"
   ]
  },
  {
   "cell_type": "code",
   "execution_count": 102,
   "metadata": {},
   "outputs": [],
   "source": [
    "rs = rs[rs['saleprice']<500000]"
   ]
  },
  {
   "cell_type": "code",
   "execution_count": 103,
   "metadata": {},
   "outputs": [],
   "source": [
    "rs = rs[rs['lot_frontage']<=200]"
   ]
  },
  {
   "cell_type": "code",
   "execution_count": 104,
   "metadata": {},
   "outputs": [],
   "source": [
    "rs = rs[rs['gr_liv_area']<=4000]"
   ]
  },
  {
   "cell_type": "code",
   "execution_count": 105,
   "metadata": {},
   "outputs": [],
   "source": [
    "rs = rs[rs['total_bsmt_sf']<3000]"
   ]
  },
  {
   "cell_type": "code",
   "execution_count": 106,
   "metadata": {},
   "outputs": [],
   "source": [
    "rs = rs[rs['lot_area']<60000]"
   ]
  },
  {
   "cell_type": "code",
   "execution_count": 107,
   "metadata": {},
   "outputs": [],
   "source": [
    "rs = rs[rs['lot_frontage']<160]"
   ]
  },
  {
   "cell_type": "code",
   "execution_count": 108,
   "metadata": {},
   "outputs": [],
   "source": [
    "rs = rs[rs['mas_vnr_area']<1000]"
   ]
  },
  {
   "cell_type": "code",
   "execution_count": 109,
   "metadata": {},
   "outputs": [
    {
     "data": {
      "text/plain": [
       "(2006, 86)"
      ]
     },
     "execution_count": 109,
     "metadata": {},
     "output_type": "execute_result"
    }
   ],
   "source": [
    "rs.shape"
   ]
  },
  {
   "cell_type": "code",
   "execution_count": 28,
   "metadata": {},
   "outputs": [],
   "source": [
    "def Modeling(X_train, X_test, y_train, y_test,features_list,ls_alpha=100, lasso_iter=1000, ri_alpha=(0.1,10,100)):\n",
    "    '''\n",
    "    Function: To scale train, test data and fit into linear regression, ridge regularization & lasso regularization\n",
    "\n",
    "\n",
    "\n",
    "    return a dataframe of coefficent of features. Features = index\n",
    "    '''\n",
    "\n",
    "    # 1. Instantiate StandardScaler and scaled data\n",
    "    ss = StandardScaler()\n",
    "    X_train_scaled = ss.fit_transform(X_train)\n",
    "    X_test_scaled = ss.transform(X_test)\n",
    "    \n",
    "    # 2. Instantiate Models, Cross-Val and Fitting\n",
    "    lr = LinearRegression()\n",
    "    lasso_cv = LassoCV(n_alphas = ls_alpha, max_iter=lasso_iter)\n",
    "    ridge_cv = RidgeCV(alphas=ri_alpha)\n",
    "    \n",
    "    lr.fit(X_train_scaled, y_train)\n",
    "    lasso_cv.fit(X_train_scaled, y_train)\n",
    "    ridge_cv.fit(X_train_scaled, y_train)\n",
    "\n",
    "    # 3. Execute Cross_val_scoring\n",
    "    lr_cv_scores = cross_val_score(lr, X_train_scaled,y_train, cv=5)\n",
    "    lr_cv_mse_scores = -cross_val_score(lr, X_train_scaled,y_train, cv=5,scoring ='neg_mean_squared_error')\n",
    "    ridge_cv_scores = cross_val_score(ridge_cv,X_train_scaled,y_train,cv=5)\n",
    "    ridge_cv_mse_scores = -cross_val_score(ridge_cv,X_train_scaled,y_train,cv=5, scoring ='neg_mean_squared_error')\n",
    "    lasso_cv_scores = cross_val_score(lasso_cv, X_train_scaled,y_train, cv=5)\n",
    "    lasso_cv_mse_scores = -cross_val_score(lasso_cv, X_train_scaled,y_train, cv=5,scoring ='neg_mean_squared_error')\n",
    "    \n",
    "    # 4. Printing result\n",
    "    \n",
    "    ## Linear Regression\n",
    "    internal_print('LR', 'R^2',lr.score(X_train_scaled,y_train), lr.score(X_test_scaled,y_test),lr_cv_scores.mean(), n_title=True)\n",
    "    \n",
    "    internal_print('LR', 'Adj-R^2',r2_adj(y_train, lr.predict(X_train_scaled), len(X_train.columns)), \\\n",
    "                   r2_adj(y_test, lr.predict(X_test_scaled), len(X_test.columns)))\n",
    "    internal_print('LR', 'RMSE',np.sqrt(metrics.mean_squared_error(y_train, lr.predict(X_train_scaled))), \\\n",
    "                   np.sqrt(metrics.mean_squared_error(y_test, lr.predict(X_test_scaled))),np.sqrt(lr_cv_mse_scores.mean()))\n",
    "    \n",
    "    ## Ridge Regularisation\n",
    "    internal_print('Ridge', 'R^2',ridge_cv.score(X_train_scaled,y_train), ridge_cv.score(X_test_scaled,y_test),ridge_cv_scores.mean(), n_title=True)\n",
    "    internal_print('Ridge', 'Adj-R^2',r2_adj(y_train, ridge_cv.predict(X_train_scaled), len(X_train.columns)), \\\n",
    "                   r2_adj(y_test, ridge_cv.predict(X_test_scaled), len(X_test.columns)))\n",
    "    internal_print('Ridge', 'RMSE',np.sqrt(metrics.mean_squared_error(y_train, ridge_cv.predict(X_train_scaled))), \\\n",
    "                   np.sqrt(metrics.mean_squared_error(y_test, ridge_cv.predict(X_test_scaled))),np.sqrt(ridge_cv_mse_scores.mean()))\n",
    "\n",
    "    ## Lasso Regularisation\n",
    "    internal_print('Lasso', 'R^2',lasso_cv.score(X_train_scaled,y_train), lasso_cv.score(X_test_scaled,y_test),lasso_cv_scores.mean(), n_title=True)\n",
    "    internal_print('Lasso', 'Adj-R^2',r2_adj(y_train, lasso_cv.predict(X_train_scaled), len(X_train.columns)), \\\n",
    "                   r2_adj(y_test, lasso_cv.predict(X_test_scaled), len(X_test.columns)))\n",
    "    internal_print('Lasso', 'RMSE',np.sqrt(metrics.mean_squared_error(y_train, lasso_cv.predict(X_train_scaled))),\\\n",
    "                   np.sqrt(metrics.mean_squared_error(y_test, lasso_cv.predict(X_test_scaled))),np.sqrt(lasso_cv_mse_scores.mean()))\n",
    "\n",
    "    \n",
    "    # 5. Print out Lasso Feature Mapping\n",
    "    pd.Series(lasso_cv.coef_, index=features_list).plot.barh(figsize=(15,20))\n",
    "    rund_fea = X_train.columns[lasso_cv.coef_==0]\n",
    "    print(f'Number of redundant features to drop: {len(rund_fea)}')\n",
    "    \n",
    "    return lasso_cv.coef_\n",
    "\n"
   ]
  }
 ],
 "metadata": {
  "kernelspec": {
   "display_name": "Python 3",
   "language": "python",
   "name": "python3"
  },
  "language_info": {
   "codemirror_mode": {
    "name": "ipython",
    "version": 3
   },
   "file_extension": ".py",
   "mimetype": "text/x-python",
   "name": "python",
   "nbconvert_exporter": "python",
   "pygments_lexer": "ipython3",
   "version": "3.8.3"
  }
 },
 "nbformat": 4,
 "nbformat_minor": 4
}
