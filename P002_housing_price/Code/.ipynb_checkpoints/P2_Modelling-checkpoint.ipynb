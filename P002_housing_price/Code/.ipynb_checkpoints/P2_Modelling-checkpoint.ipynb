{
 "cells": [
  {
   "cell_type": "markdown",
   "metadata": {},
   "source": [
    "#### Library To Import"
   ]
  },
  {
   "cell_type": "code",
   "execution_count": 179,
   "metadata": {},
   "outputs": [],
   "source": [
    "#Imports:\n",
    "import pandas as pd\n",
    "import numpy as np\n",
    "import scipy.stats as stats\n",
    "import matplotlib.pyplot as plt\n",
    "import seaborn as sns\n",
    "\n",
    "# Modelling Library\n",
    "from sklearn.linear_model import LinearRegression, LassoCV, RidgeCV\n",
    "from sklearn.preprocessing import StandardScaler, PolynomialFeatures\n",
    "from sklearn.model_selection import train_test_split, cross_val_score, cross_val_predict\n",
    "from sklearn.metrics import mean_squared_error, r2_score\n",
    "from sklearn import metrics"
   ]
  },
  {
   "cell_type": "markdown",
   "metadata": {},
   "source": [
    "Additional Settings"
   ]
  },
  {
   "cell_type": "code",
   "execution_count": 180,
   "metadata": {
    "code_folding": [
     0
    ]
   },
   "outputs": [
    {
     "data": {
      "text/html": [
       "\n",
       "<style>\n",
       "    div#notebook-container    { width: 80%; }\n",
       "    div#menubar-container     { width: 80%; }\n",
       "    div#maintoolbar-container { width: 80%; }\n",
       "</style>\n"
      ],
      "text/plain": [
       "<IPython.core.display.HTML object>"
      ]
     },
     "metadata": {},
     "output_type": "display_data"
    }
   ],
   "source": [
    "# Plot Style Sheets\n",
    "plt.style.use('default')\n",
    "sns.set_style('white')\n",
    "\n",
    "\n",
    "\n",
    "\n",
    "# Optional setting to setup Jupyter\n",
    "from IPython.display import display, HTML\n",
    "\n",
    "display(HTML(data=\"\"\"\n",
    "<style>\n",
    "    div#notebook-container    { width: 80%; }\n",
    "    div#menubar-container     { width: 80%; }\n",
    "    div#maintoolbar-container { width: 80%; }\n",
    "</style>\n",
    "\"\"\"))\n",
    "\n",
    "pd.set_option(\"display.width\", 120)\n",
    "pd.set_option(\"display.max_rows\", 100)\n",
    "pd.set_option(\"display.max_columns\", 100)\n",
    "pd.set_option('display.float_format', lambda x: '%.5f' % x)"
   ]
  },
  {
   "cell_type": "markdown",
   "metadata": {},
   "source": [
    "### Importing of data"
   ]
  },
  {
   "cell_type": "code",
   "execution_count": 181,
   "metadata": {},
   "outputs": [
    {
     "data": {
      "text/html": [
       "<div>\n",
       "<style scoped>\n",
       "    .dataframe tbody tr th:only-of-type {\n",
       "        vertical-align: middle;\n",
       "    }\n",
       "\n",
       "    .dataframe tbody tr th {\n",
       "        vertical-align: top;\n",
       "    }\n",
       "\n",
       "    .dataframe thead th {\n",
       "        text-align: right;\n",
       "    }\n",
       "</style>\n",
       "<table border=\"1\" class=\"dataframe\">\n",
       "  <thead>\n",
       "    <tr style=\"text-align: right;\">\n",
       "      <th></th>\n",
       "      <th>id</th>\n",
       "      <th>pid</th>\n",
       "      <th>ms_subclass</th>\n",
       "      <th>lot_frontage</th>\n",
       "      <th>lot_area</th>\n",
       "      <th>neighborhood</th>\n",
       "      <th>condition_1</th>\n",
       "      <th>bldg_type</th>\n",
       "      <th>house_style</th>\n",
       "      <th>overall_qual</th>\n",
       "      <th>year_built</th>\n",
       "      <th>year_remod/add</th>\n",
       "      <th>exterior_1st</th>\n",
       "      <th>exterior_2nd</th>\n",
       "      <th>mas_vnr_area</th>\n",
       "      <th>exter_qual</th>\n",
       "      <th>exter_cond</th>\n",
       "      <th>foundation</th>\n",
       "      <th>bsmt_qual</th>\n",
       "      <th>bsmt_exposure</th>\n",
       "      <th>bsmtfin_type_1</th>\n",
       "      <th>bsmtfin_sf_1</th>\n",
       "      <th>bsmt_unf_sf</th>\n",
       "      <th>total_bsmt_sf</th>\n",
       "      <th>heating_qc</th>\n",
       "      <th>1st_flr_sf</th>\n",
       "      <th>gr_liv_area</th>\n",
       "      <th>bsmt_full_bath</th>\n",
       "      <th>full_bath</th>\n",
       "      <th>half_bath</th>\n",
       "      <th>bedroom_abvgr</th>\n",
       "      <th>kitchen_qual</th>\n",
       "      <th>totrms_abvgrd</th>\n",
       "      <th>fireplaces</th>\n",
       "      <th>fireplace_qu</th>\n",
       "      <th>garage_type</th>\n",
       "      <th>garage_yr_blt</th>\n",
       "      <th>garage_finish</th>\n",
       "      <th>garage_cars</th>\n",
       "      <th>garage_area</th>\n",
       "      <th>wood_deck_sf</th>\n",
       "      <th>open_porch_sf</th>\n",
       "      <th>enclosed_porch</th>\n",
       "      <th>3ssn_porch</th>\n",
       "      <th>screen_porch</th>\n",
       "      <th>sale_type</th>\n",
       "      <th>saleprice</th>\n",
       "    </tr>\n",
       "  </thead>\n",
       "  <tbody>\n",
       "    <tr>\n",
       "      <th>0</th>\n",
       "      <td>109</td>\n",
       "      <td>533352170</td>\n",
       "      <td>60</td>\n",
       "      <td>73.48551</td>\n",
       "      <td>13517</td>\n",
       "      <td>Sawyer</td>\n",
       "      <td>RRAe</td>\n",
       "      <td>1Fam</td>\n",
       "      <td>2Story</td>\n",
       "      <td>6</td>\n",
       "      <td>1976</td>\n",
       "      <td>2005</td>\n",
       "      <td>HdBoard</td>\n",
       "      <td>Plywood</td>\n",
       "      <td>289.00000</td>\n",
       "      <td>Gd</td>\n",
       "      <td>TA</td>\n",
       "      <td>CBlock</td>\n",
       "      <td>TA</td>\n",
       "      <td>No</td>\n",
       "      <td>GLQ</td>\n",
       "      <td>533.00000</td>\n",
       "      <td>192.00000</td>\n",
       "      <td>725.00000</td>\n",
       "      <td>Ex</td>\n",
       "      <td>725</td>\n",
       "      <td>1479</td>\n",
       "      <td>0.00000</td>\n",
       "      <td>2</td>\n",
       "      <td>1</td>\n",
       "      <td>3</td>\n",
       "      <td>Gd</td>\n",
       "      <td>6</td>\n",
       "      <td>0</td>\n",
       "      <td>No Fireplace</td>\n",
       "      <td>Attchd</td>\n",
       "      <td>1976.00000</td>\n",
       "      <td>RFn</td>\n",
       "      <td>2.00000</td>\n",
       "      <td>475.00000</td>\n",
       "      <td>0</td>\n",
       "      <td>44</td>\n",
       "      <td>0</td>\n",
       "      <td>0</td>\n",
       "      <td>0</td>\n",
       "      <td>WD</td>\n",
       "      <td>130500</td>\n",
       "    </tr>\n",
       "    <tr>\n",
       "      <th>1</th>\n",
       "      <td>544</td>\n",
       "      <td>531379050</td>\n",
       "      <td>60</td>\n",
       "      <td>43.00000</td>\n",
       "      <td>11492</td>\n",
       "      <td>SawyerW</td>\n",
       "      <td>Norm</td>\n",
       "      <td>1Fam</td>\n",
       "      <td>2Story</td>\n",
       "      <td>7</td>\n",
       "      <td>1996</td>\n",
       "      <td>1997</td>\n",
       "      <td>VinylSd</td>\n",
       "      <td>VinylSd</td>\n",
       "      <td>132.00000</td>\n",
       "      <td>Gd</td>\n",
       "      <td>TA</td>\n",
       "      <td>PConc</td>\n",
       "      <td>Gd</td>\n",
       "      <td>No</td>\n",
       "      <td>GLQ</td>\n",
       "      <td>637.00000</td>\n",
       "      <td>276.00000</td>\n",
       "      <td>913.00000</td>\n",
       "      <td>Ex</td>\n",
       "      <td>913</td>\n",
       "      <td>2122</td>\n",
       "      <td>1.00000</td>\n",
       "      <td>2</td>\n",
       "      <td>1</td>\n",
       "      <td>4</td>\n",
       "      <td>Gd</td>\n",
       "      <td>8</td>\n",
       "      <td>1</td>\n",
       "      <td>TA</td>\n",
       "      <td>Attchd</td>\n",
       "      <td>1997.00000</td>\n",
       "      <td>RFn</td>\n",
       "      <td>2.00000</td>\n",
       "      <td>559.00000</td>\n",
       "      <td>0</td>\n",
       "      <td>74</td>\n",
       "      <td>0</td>\n",
       "      <td>0</td>\n",
       "      <td>0</td>\n",
       "      <td>WD</td>\n",
       "      <td>220000</td>\n",
       "    </tr>\n",
       "    <tr>\n",
       "      <th>2</th>\n",
       "      <td>153</td>\n",
       "      <td>535304180</td>\n",
       "      <td>20</td>\n",
       "      <td>68.00000</td>\n",
       "      <td>7922</td>\n",
       "      <td>NAmes</td>\n",
       "      <td>Norm</td>\n",
       "      <td>1Fam</td>\n",
       "      <td>1Story</td>\n",
       "      <td>5</td>\n",
       "      <td>1953</td>\n",
       "      <td>2007</td>\n",
       "      <td>VinylSd</td>\n",
       "      <td>VinylSd</td>\n",
       "      <td>0.00000</td>\n",
       "      <td>TA</td>\n",
       "      <td>Gd</td>\n",
       "      <td>CBlock</td>\n",
       "      <td>TA</td>\n",
       "      <td>No</td>\n",
       "      <td>GLQ</td>\n",
       "      <td>731.00000</td>\n",
       "      <td>326.00000</td>\n",
       "      <td>1057.00000</td>\n",
       "      <td>TA</td>\n",
       "      <td>1057</td>\n",
       "      <td>1057</td>\n",
       "      <td>1.00000</td>\n",
       "      <td>1</td>\n",
       "      <td>0</td>\n",
       "      <td>3</td>\n",
       "      <td>Gd</td>\n",
       "      <td>5</td>\n",
       "      <td>0</td>\n",
       "      <td>No Fireplace</td>\n",
       "      <td>Detchd</td>\n",
       "      <td>1953.00000</td>\n",
       "      <td>Unf</td>\n",
       "      <td>1.00000</td>\n",
       "      <td>246.00000</td>\n",
       "      <td>0</td>\n",
       "      <td>52</td>\n",
       "      <td>0</td>\n",
       "      <td>0</td>\n",
       "      <td>0</td>\n",
       "      <td>WD</td>\n",
       "      <td>109000</td>\n",
       "    </tr>\n",
       "    <tr>\n",
       "      <th>3</th>\n",
       "      <td>318</td>\n",
       "      <td>916386060</td>\n",
       "      <td>60</td>\n",
       "      <td>73.00000</td>\n",
       "      <td>9802</td>\n",
       "      <td>Timber</td>\n",
       "      <td>Norm</td>\n",
       "      <td>1Fam</td>\n",
       "      <td>2Story</td>\n",
       "      <td>5</td>\n",
       "      <td>2006</td>\n",
       "      <td>2007</td>\n",
       "      <td>VinylSd</td>\n",
       "      <td>VinylSd</td>\n",
       "      <td>0.00000</td>\n",
       "      <td>TA</td>\n",
       "      <td>TA</td>\n",
       "      <td>PConc</td>\n",
       "      <td>Gd</td>\n",
       "      <td>No</td>\n",
       "      <td>Unf</td>\n",
       "      <td>0.00000</td>\n",
       "      <td>384.00000</td>\n",
       "      <td>384.00000</td>\n",
       "      <td>Gd</td>\n",
       "      <td>744</td>\n",
       "      <td>1444</td>\n",
       "      <td>0.00000</td>\n",
       "      <td>2</td>\n",
       "      <td>1</td>\n",
       "      <td>3</td>\n",
       "      <td>TA</td>\n",
       "      <td>7</td>\n",
       "      <td>0</td>\n",
       "      <td>No Fireplace</td>\n",
       "      <td>BuiltIn</td>\n",
       "      <td>2007.00000</td>\n",
       "      <td>Fin</td>\n",
       "      <td>2.00000</td>\n",
       "      <td>400.00000</td>\n",
       "      <td>100</td>\n",
       "      <td>0</td>\n",
       "      <td>0</td>\n",
       "      <td>0</td>\n",
       "      <td>0</td>\n",
       "      <td>WD</td>\n",
       "      <td>174000</td>\n",
       "    </tr>\n",
       "    <tr>\n",
       "      <th>4</th>\n",
       "      <td>255</td>\n",
       "      <td>906425045</td>\n",
       "      <td>50</td>\n",
       "      <td>82.00000</td>\n",
       "      <td>14235</td>\n",
       "      <td>SawyerW</td>\n",
       "      <td>Norm</td>\n",
       "      <td>1Fam</td>\n",
       "      <td>1.5Fin</td>\n",
       "      <td>6</td>\n",
       "      <td>1900</td>\n",
       "      <td>1993</td>\n",
       "      <td>Wd Sdng</td>\n",
       "      <td>Plywood</td>\n",
       "      <td>0.00000</td>\n",
       "      <td>TA</td>\n",
       "      <td>TA</td>\n",
       "      <td>PConc</td>\n",
       "      <td>Fa</td>\n",
       "      <td>No</td>\n",
       "      <td>Unf</td>\n",
       "      <td>0.00000</td>\n",
       "      <td>676.00000</td>\n",
       "      <td>676.00000</td>\n",
       "      <td>TA</td>\n",
       "      <td>831</td>\n",
       "      <td>1445</td>\n",
       "      <td>0.00000</td>\n",
       "      <td>2</td>\n",
       "      <td>0</td>\n",
       "      <td>3</td>\n",
       "      <td>TA</td>\n",
       "      <td>6</td>\n",
       "      <td>0</td>\n",
       "      <td>No Fireplace</td>\n",
       "      <td>Detchd</td>\n",
       "      <td>1957.00000</td>\n",
       "      <td>Unf</td>\n",
       "      <td>2.00000</td>\n",
       "      <td>484.00000</td>\n",
       "      <td>0</td>\n",
       "      <td>59</td>\n",
       "      <td>0</td>\n",
       "      <td>0</td>\n",
       "      <td>0</td>\n",
       "      <td>WD</td>\n",
       "      <td>138500</td>\n",
       "    </tr>\n",
       "  </tbody>\n",
       "</table>\n",
       "</div>"
      ],
      "text/plain": [
       "    id        pid  ms_subclass  lot_frontage  lot_area neighborhood condition_1 bldg_type house_style  overall_qual  \\\n",
       "0  109  533352170           60      73.48551     13517       Sawyer        RRAe      1Fam      2Story             6   \n",
       "1  544  531379050           60      43.00000     11492      SawyerW        Norm      1Fam      2Story             7   \n",
       "2  153  535304180           20      68.00000      7922        NAmes        Norm      1Fam      1Story             5   \n",
       "3  318  916386060           60      73.00000      9802       Timber        Norm      1Fam      2Story             5   \n",
       "4  255  906425045           50      82.00000     14235      SawyerW        Norm      1Fam      1.5Fin             6   \n",
       "\n",
       "   year_built  year_remod/add exterior_1st exterior_2nd  mas_vnr_area exter_qual exter_cond foundation bsmt_qual  \\\n",
       "0        1976            2005      HdBoard      Plywood     289.00000         Gd         TA     CBlock        TA   \n",
       "1        1996            1997      VinylSd      VinylSd     132.00000         Gd         TA      PConc        Gd   \n",
       "2        1953            2007      VinylSd      VinylSd       0.00000         TA         Gd     CBlock        TA   \n",
       "3        2006            2007      VinylSd      VinylSd       0.00000         TA         TA      PConc        Gd   \n",
       "4        1900            1993      Wd Sdng      Plywood       0.00000         TA         TA      PConc        Fa   \n",
       "\n",
       "  bsmt_exposure bsmtfin_type_1  bsmtfin_sf_1  bsmt_unf_sf  total_bsmt_sf heating_qc  1st_flr_sf  gr_liv_area  \\\n",
       "0            No            GLQ     533.00000    192.00000      725.00000         Ex         725         1479   \n",
       "1            No            GLQ     637.00000    276.00000      913.00000         Ex         913         2122   \n",
       "2            No            GLQ     731.00000    326.00000     1057.00000         TA        1057         1057   \n",
       "3            No            Unf       0.00000    384.00000      384.00000         Gd         744         1444   \n",
       "4            No            Unf       0.00000    676.00000      676.00000         TA         831         1445   \n",
       "\n",
       "   bsmt_full_bath  full_bath  half_bath  bedroom_abvgr kitchen_qual  totrms_abvgrd  fireplaces  fireplace_qu  \\\n",
       "0         0.00000          2          1              3           Gd              6           0  No Fireplace   \n",
       "1         1.00000          2          1              4           Gd              8           1            TA   \n",
       "2         1.00000          1          0              3           Gd              5           0  No Fireplace   \n",
       "3         0.00000          2          1              3           TA              7           0  No Fireplace   \n",
       "4         0.00000          2          0              3           TA              6           0  No Fireplace   \n",
       "\n",
       "  garage_type  garage_yr_blt garage_finish  garage_cars  garage_area  wood_deck_sf  open_porch_sf  enclosed_porch  \\\n",
       "0      Attchd     1976.00000           RFn      2.00000    475.00000             0             44               0   \n",
       "1      Attchd     1997.00000           RFn      2.00000    559.00000             0             74               0   \n",
       "2      Detchd     1953.00000           Unf      1.00000    246.00000             0             52               0   \n",
       "3     BuiltIn     2007.00000           Fin      2.00000    400.00000           100              0               0   \n",
       "4      Detchd     1957.00000           Unf      2.00000    484.00000             0             59               0   \n",
       "\n",
       "   3ssn_porch  screen_porch sale_type  saleprice  \n",
       "0           0             0       WD      130500  \n",
       "1           0             0       WD      220000  \n",
       "2           0             0       WD      109000  \n",
       "3           0             0       WD      174000  \n",
       "4           0             0       WD      138500  "
      ]
     },
     "execution_count": 181,
     "metadata": {},
     "output_type": "execute_result"
    }
   ],
   "source": [
    "realestate = pd.read_csv('../datasets/cleaned_train.csv')\n",
    "realestate.drop(columns='Unnamed: 0', inplace=True)\n",
    "realestate.head()"
   ]
  },
  {
   "cell_type": "markdown",
   "metadata": {},
   "source": [
    "### Encoding of data"
   ]
  },
  {
   "cell_type": "markdown",
   "metadata": {},
   "source": [
    "#### Maping of Ordinal features"
   ]
  },
  {
   "cell_type": "code",
   "execution_count": 182,
   "metadata": {},
   "outputs": [
    {
     "data": {
      "text/plain": [
       "TA    1247\n",
       "Gd     697\n",
       "Ex      81\n",
       "Fa      26\n",
       "Name: exter_qual, dtype: int64"
      ]
     },
     "execution_count": 182,
     "metadata": {},
     "output_type": "execute_result"
    }
   ],
   "source": [
    "# Before mapping\n",
    "realestate['exter_qual'].value_counts()"
   ]
  },
  {
   "cell_type": "code",
   "execution_count": 183,
   "metadata": {},
   "outputs": [],
   "source": [
    "# create an nested ordinal mapping dictionary\n",
    "ordinal_dict ={'exter_qual':{'Ex':5,'Gd':4,'TA':3,'Fa':2,'Po':1}}\n",
    "realestate['exter_qual']=realestate['exter_qual'].map(ordinal_dict['exter_qual'])"
   ]
  },
  {
   "cell_type": "code",
   "execution_count": 184,
   "metadata": {},
   "outputs": [
    {
     "data": {
      "text/plain": [
       "3    1247\n",
       "4     697\n",
       "5      81\n",
       "2      26\n",
       "Name: exter_qual, dtype: int64"
      ]
     },
     "execution_count": 184,
     "metadata": {},
     "output_type": "execute_result"
    }
   ],
   "source": [
    "# After Mapping\n",
    "realestate['exter_qual'].value_counts()"
   ]
  },
  {
   "cell_type": "code",
   "execution_count": 185,
   "metadata": {},
   "outputs": [
    {
     "data": {
      "text/plain": [
       "TA    1778\n",
       "Gd     215\n",
       "Fa      49\n",
       "Ex       7\n",
       "Po       2\n",
       "Name: exter_cond, dtype: int64"
      ]
     },
     "execution_count": 185,
     "metadata": {},
     "output_type": "execute_result"
    }
   ],
   "source": [
    "# Before mapping\n",
    "realestate['exter_cond'].value_counts()"
   ]
  },
  {
   "cell_type": "code",
   "execution_count": 186,
   "metadata": {},
   "outputs": [],
   "source": [
    "ordinal_dict['exter_cond'] = {'Ex':5,'Gd':4,'TA':3,'Fa':2,'Po':1}"
   ]
  },
  {
   "cell_type": "code",
   "execution_count": 187,
   "metadata": {},
   "outputs": [],
   "source": [
    "realestate['exter_cond']=realestate['exter_cond'].map(ordinal_dict['exter_cond'])"
   ]
  },
  {
   "cell_type": "code",
   "execution_count": 188,
   "metadata": {},
   "outputs": [
    {
     "data": {
      "text/plain": [
       "3    1778\n",
       "4     215\n",
       "2      49\n",
       "5       7\n",
       "1       2\n",
       "Name: exter_cond, dtype: int64"
      ]
     },
     "execution_count": 188,
     "metadata": {},
     "output_type": "execute_result"
    }
   ],
   "source": [
    "# After mapping\n",
    "realestate['exter_cond'].value_counts()"
   ]
  },
  {
   "cell_type": "code",
   "execution_count": 189,
   "metadata": {},
   "outputs": [
    {
     "data": {
      "text/plain": [
       "TA             887\n",
       "Gd             864\n",
       "Ex             184\n",
       "Fa              60\n",
       "No Basement     55\n",
       "Po               1\n",
       "Name: bsmt_qual, dtype: int64"
      ]
     },
     "execution_count": 189,
     "metadata": {},
     "output_type": "execute_result"
    }
   ],
   "source": [
    "# Before mapping\n",
    "realestate['bsmt_qual'].value_counts()"
   ]
  },
  {
   "cell_type": "code",
   "execution_count": 190,
   "metadata": {},
   "outputs": [],
   "source": [
    "ordinal_dict['bsmt_qual'] = {'Ex':5,'Gd':4,'TA':3,'Fa':2,'Po':1,'No Basement':0}"
   ]
  },
  {
   "cell_type": "code",
   "execution_count": 191,
   "metadata": {},
   "outputs": [],
   "source": [
    "realestate['bsmt_qual']=realestate['bsmt_qual'].map(ordinal_dict['bsmt_qual'])"
   ]
  },
  {
   "cell_type": "code",
   "execution_count": 192,
   "metadata": {},
   "outputs": [
    {
     "data": {
      "text/plain": [
       "3    887\n",
       "4    864\n",
       "5    184\n",
       "2     60\n",
       "0     55\n",
       "1      1\n",
       "Name: bsmt_qual, dtype: int64"
      ]
     },
     "execution_count": 192,
     "metadata": {},
     "output_type": "execute_result"
    }
   ],
   "source": [
    "# After mapping\n",
    "realestate['bsmt_qual'].value_counts()"
   ]
  },
  {
   "cell_type": "code",
   "execution_count": 193,
   "metadata": {},
   "outputs": [
    {
     "data": {
      "text/plain": [
       "No             1339\n",
       "Av              288\n",
       "Gd              203\n",
       "Mn              163\n",
       "No Basement      58\n",
       "Name: bsmt_exposure, dtype: int64"
      ]
     },
     "execution_count": 193,
     "metadata": {},
     "output_type": "execute_result"
    }
   ],
   "source": [
    "# Before mapping\n",
    "realestate['bsmt_exposure'].value_counts()"
   ]
  },
  {
   "cell_type": "code",
   "execution_count": 194,
   "metadata": {},
   "outputs": [],
   "source": [
    "ordinal_dict['bsmt_exposure'] = {'Gd':5,'Av':4,'Mn':3,'No':2,'No Basement':1}"
   ]
  },
  {
   "cell_type": "code",
   "execution_count": 195,
   "metadata": {},
   "outputs": [],
   "source": [
    "realestate['bsmt_exposure']=realestate['bsmt_exposure'].map(ordinal_dict['bsmt_exposure'])"
   ]
  },
  {
   "cell_type": "code",
   "execution_count": 196,
   "metadata": {},
   "outputs": [
    {
     "data": {
      "text/plain": [
       "2    1339\n",
       "4     288\n",
       "5     203\n",
       "3     163\n",
       "1      58\n",
       "Name: bsmt_exposure, dtype: int64"
      ]
     },
     "execution_count": 196,
     "metadata": {},
     "output_type": "execute_result"
    }
   ],
   "source": [
    "# After mapping\n",
    "realestate['bsmt_exposure'].value_counts()"
   ]
  },
  {
   "cell_type": "code",
   "execution_count": 197,
   "metadata": {},
   "outputs": [
    {
     "data": {
      "text/plain": [
       "Ex    1065\n",
       "TA     597\n",
       "Gd     319\n",
       "Fa      67\n",
       "Po       3\n",
       "Name: heating_qc, dtype: int64"
      ]
     },
     "execution_count": 197,
     "metadata": {},
     "output_type": "execute_result"
    }
   ],
   "source": [
    "realestate['heating_qc'].value_counts()"
   ]
  },
  {
   "cell_type": "code",
   "execution_count": 198,
   "metadata": {},
   "outputs": [],
   "source": [
    "ordinal_dict['heating_qc'] = {'Ex':5,'Gd':4,'TA':3,'Fa':2,'Po':1}"
   ]
  },
  {
   "cell_type": "code",
   "execution_count": 199,
   "metadata": {},
   "outputs": [],
   "source": [
    "realestate['heating_qc']=realestate['heating_qc'].map(ordinal_dict['heating_qc'])"
   ]
  },
  {
   "cell_type": "code",
   "execution_count": 200,
   "metadata": {},
   "outputs": [
    {
     "data": {
      "text/plain": [
       "5    1065\n",
       "3     597\n",
       "4     319\n",
       "2      67\n",
       "1       3\n",
       "Name: heating_qc, dtype: int64"
      ]
     },
     "execution_count": 200,
     "metadata": {},
     "output_type": "execute_result"
    }
   ],
   "source": [
    "realestate['heating_qc'].value_counts()"
   ]
  },
  {
   "cell_type": "code",
   "execution_count": 201,
   "metadata": {},
   "outputs": [
    {
     "data": {
      "text/plain": [
       "TA    1047\n",
       "Gd     806\n",
       "Ex     151\n",
       "Fa      47\n",
       "Name: kitchen_qual, dtype: int64"
      ]
     },
     "execution_count": 201,
     "metadata": {},
     "output_type": "execute_result"
    }
   ],
   "source": [
    "realestate['kitchen_qual'].value_counts()"
   ]
  },
  {
   "cell_type": "code",
   "execution_count": 202,
   "metadata": {},
   "outputs": [],
   "source": [
    "ordinal_dict['kitchen_qual'] = {'Ex':5,'Gd':4,'TA':3,'Fa':2,'Po':1}"
   ]
  },
  {
   "cell_type": "code",
   "execution_count": 203,
   "metadata": {},
   "outputs": [],
   "source": [
    "realestate['kitchen_qual']=realestate['kitchen_qual'].map(ordinal_dict['kitchen_qual'])"
   ]
  },
  {
   "cell_type": "code",
   "execution_count": 204,
   "metadata": {},
   "outputs": [
    {
     "data": {
      "text/plain": [
       "3    1047\n",
       "4     806\n",
       "5     151\n",
       "2      47\n",
       "Name: kitchen_qual, dtype: int64"
      ]
     },
     "execution_count": 204,
     "metadata": {},
     "output_type": "execute_result"
    }
   ],
   "source": [
    "realestate['kitchen_qual'].value_counts()"
   ]
  },
  {
   "cell_type": "code",
   "execution_count": 205,
   "metadata": {},
   "outputs": [
    {
     "data": {
      "text/plain": [
       "No Fireplace    1000\n",
       "Gd               523\n",
       "TA               407\n",
       "Fa                59\n",
       "Ex                31\n",
       "Po                31\n",
       "Name: fireplace_qu, dtype: int64"
      ]
     },
     "execution_count": 205,
     "metadata": {},
     "output_type": "execute_result"
    }
   ],
   "source": [
    "realestate['fireplace_qu'].value_counts()"
   ]
  },
  {
   "cell_type": "code",
   "execution_count": 206,
   "metadata": {},
   "outputs": [],
   "source": [
    "ordinal_dict['fireplace_qu'] = {'Ex':5,'Gd':4,'TA':3,'Fa':2,'Po':1, 'No Fireplace': 0}"
   ]
  },
  {
   "cell_type": "code",
   "execution_count": 207,
   "metadata": {},
   "outputs": [],
   "source": [
    "realestate['fireplace_qu']=realestate['fireplace_qu'].map(ordinal_dict['fireplace_qu'])"
   ]
  },
  {
   "cell_type": "code",
   "execution_count": 208,
   "metadata": {},
   "outputs": [
    {
     "data": {
      "text/plain": [
       "3    1047\n",
       "4     806\n",
       "5     151\n",
       "2      47\n",
       "Name: kitchen_qual, dtype: int64"
      ]
     },
     "execution_count": 208,
     "metadata": {},
     "output_type": "execute_result"
    }
   ],
   "source": [
    "realestate['kitchen_qual'].value_counts()"
   ]
  },
  {
   "cell_type": "code",
   "execution_count": 209,
   "metadata": {},
   "outputs": [],
   "source": [
    "#### Creating dummy variables"
   ]
  },
  {
   "cell_type": "code",
   "execution_count": 210,
   "metadata": {},
   "outputs": [],
   "source": [
    "dum_list = [i for i in realestate.select_dtypes(exclude=np.number).columns]"
   ]
  },
  {
   "cell_type": "code",
   "execution_count": 211,
   "metadata": {},
   "outputs": [
    {
     "data": {
      "text/plain": [
       "['neighborhood',\n",
       " 'condition_1',\n",
       " 'bldg_type',\n",
       " 'house_style',\n",
       " 'exterior_1st',\n",
       " 'exterior_2nd',\n",
       " 'foundation',\n",
       " 'bsmtfin_type_1',\n",
       " 'garage_type',\n",
       " 'garage_finish',\n",
       " 'sale_type']"
      ]
     },
     "execution_count": 211,
     "metadata": {},
     "output_type": "execute_result"
    }
   ],
   "source": [
    "dum_list"
   ]
  },
  {
   "cell_type": "code",
   "execution_count": 212,
   "metadata": {},
   "outputs": [],
   "source": [
    "rs_1 = pd.get_dummies(realestate,columns=dum_list, drop_first=True)"
   ]
  },
  {
   "cell_type": "code",
   "execution_count": 213,
   "metadata": {},
   "outputs": [],
   "source": [
    "rs_1 = pd.get_dummies(rs_1,columns=['ms_subclass'], drop_first=True)"
   ]
  },
  {
   "cell_type": "code",
   "execution_count": 214,
   "metadata": {},
   "outputs": [
    {
     "data": {
      "text/plain": [
       "(2051, 152)"
      ]
     },
     "execution_count": 214,
     "metadata": {},
     "output_type": "execute_result"
    }
   ],
   "source": [
    "rs_1.shape"
   ]
  },
  {
   "cell_type": "code",
   "execution_count": 215,
   "metadata": {},
   "outputs": [
    {
     "name": "stdout",
     "output_type": "stream",
     "text": [
      "<class 'pandas.core.frame.DataFrame'>\n",
      "RangeIndex: 2051 entries, 0 to 2050\n",
      "Columns: 152 entries, id to ms_subclass_190\n",
      "dtypes: float64(9), int64(26), uint8(117)\n",
      "memory usage: 795.3 KB\n"
     ]
    }
   ],
   "source": [
    "rs_1.info()"
   ]
  },
  {
   "cell_type": "code",
   "execution_count": 216,
   "metadata": {},
   "outputs": [
    {
     "data": {
      "text/html": [
       "<div>\n",
       "<style scoped>\n",
       "    .dataframe tbody tr th:only-of-type {\n",
       "        vertical-align: middle;\n",
       "    }\n",
       "\n",
       "    .dataframe tbody tr th {\n",
       "        vertical-align: top;\n",
       "    }\n",
       "\n",
       "    .dataframe thead th {\n",
       "        text-align: right;\n",
       "    }\n",
       "</style>\n",
       "<table border=\"1\" class=\"dataframe\">\n",
       "  <thead>\n",
       "    <tr style=\"text-align: right;\">\n",
       "      <th></th>\n",
       "      <th>id</th>\n",
       "      <th>pid</th>\n",
       "      <th>lot_frontage</th>\n",
       "      <th>lot_area</th>\n",
       "      <th>overall_qual</th>\n",
       "      <th>year_built</th>\n",
       "      <th>year_remod/add</th>\n",
       "      <th>mas_vnr_area</th>\n",
       "      <th>exter_qual</th>\n",
       "      <th>exter_cond</th>\n",
       "      <th>bsmt_qual</th>\n",
       "      <th>bsmt_exposure</th>\n",
       "      <th>bsmtfin_sf_1</th>\n",
       "      <th>bsmt_unf_sf</th>\n",
       "      <th>total_bsmt_sf</th>\n",
       "      <th>heating_qc</th>\n",
       "      <th>1st_flr_sf</th>\n",
       "      <th>gr_liv_area</th>\n",
       "      <th>bsmt_full_bath</th>\n",
       "      <th>full_bath</th>\n",
       "      <th>half_bath</th>\n",
       "      <th>bedroom_abvgr</th>\n",
       "      <th>kitchen_qual</th>\n",
       "      <th>totrms_abvgrd</th>\n",
       "      <th>fireplaces</th>\n",
       "      <th>fireplace_qu</th>\n",
       "      <th>garage_yr_blt</th>\n",
       "      <th>garage_cars</th>\n",
       "      <th>garage_area</th>\n",
       "      <th>wood_deck_sf</th>\n",
       "      <th>open_porch_sf</th>\n",
       "      <th>enclosed_porch</th>\n",
       "      <th>3ssn_porch</th>\n",
       "      <th>screen_porch</th>\n",
       "      <th>saleprice</th>\n",
       "      <th>neighborhood_Blueste</th>\n",
       "      <th>neighborhood_BrDale</th>\n",
       "      <th>neighborhood_BrkSide</th>\n",
       "      <th>neighborhood_ClearCr</th>\n",
       "      <th>neighborhood_CollgCr</th>\n",
       "      <th>neighborhood_Crawfor</th>\n",
       "      <th>neighborhood_Edwards</th>\n",
       "      <th>neighborhood_Gilbert</th>\n",
       "      <th>neighborhood_Greens</th>\n",
       "      <th>neighborhood_GrnHill</th>\n",
       "      <th>neighborhood_IDOTRR</th>\n",
       "      <th>neighborhood_Landmrk</th>\n",
       "      <th>neighborhood_MeadowV</th>\n",
       "      <th>neighborhood_Mitchel</th>\n",
       "      <th>neighborhood_NAmes</th>\n",
       "      <th>...</th>\n",
       "      <th>exterior_2nd_MetalSd</th>\n",
       "      <th>exterior_2nd_Plywood</th>\n",
       "      <th>exterior_2nd_Stone</th>\n",
       "      <th>exterior_2nd_Stucco</th>\n",
       "      <th>exterior_2nd_VinylSd</th>\n",
       "      <th>exterior_2nd_Wd Sdng</th>\n",
       "      <th>exterior_2nd_Wd Shng</th>\n",
       "      <th>foundation_CBlock</th>\n",
       "      <th>foundation_PConc</th>\n",
       "      <th>foundation_Slab</th>\n",
       "      <th>foundation_Stone</th>\n",
       "      <th>foundation_Wood</th>\n",
       "      <th>bsmtfin_type_1_BLQ</th>\n",
       "      <th>bsmtfin_type_1_GLQ</th>\n",
       "      <th>bsmtfin_type_1_LwQ</th>\n",
       "      <th>bsmtfin_type_1_No Basement</th>\n",
       "      <th>bsmtfin_type_1_Rec</th>\n",
       "      <th>bsmtfin_type_1_Unf</th>\n",
       "      <th>garage_type_Attchd</th>\n",
       "      <th>garage_type_Basment</th>\n",
       "      <th>garage_type_BuiltIn</th>\n",
       "      <th>garage_type_CarPort</th>\n",
       "      <th>garage_type_Detchd</th>\n",
       "      <th>garage_type_No Garage</th>\n",
       "      <th>garage_finish_No Garage</th>\n",
       "      <th>garage_finish_RFn</th>\n",
       "      <th>garage_finish_Unf</th>\n",
       "      <th>sale_type_CWD</th>\n",
       "      <th>sale_type_Con</th>\n",
       "      <th>sale_type_ConLD</th>\n",
       "      <th>sale_type_ConLI</th>\n",
       "      <th>sale_type_ConLw</th>\n",
       "      <th>sale_type_New</th>\n",
       "      <th>sale_type_Oth</th>\n",
       "      <th>sale_type_WD</th>\n",
       "      <th>ms_subclass_30</th>\n",
       "      <th>ms_subclass_40</th>\n",
       "      <th>ms_subclass_45</th>\n",
       "      <th>ms_subclass_50</th>\n",
       "      <th>ms_subclass_60</th>\n",
       "      <th>ms_subclass_70</th>\n",
       "      <th>ms_subclass_75</th>\n",
       "      <th>ms_subclass_80</th>\n",
       "      <th>ms_subclass_85</th>\n",
       "      <th>ms_subclass_90</th>\n",
       "      <th>ms_subclass_120</th>\n",
       "      <th>ms_subclass_150</th>\n",
       "      <th>ms_subclass_160</th>\n",
       "      <th>ms_subclass_180</th>\n",
       "      <th>ms_subclass_190</th>\n",
       "    </tr>\n",
       "  </thead>\n",
       "  <tbody>\n",
       "    <tr>\n",
       "      <th>0</th>\n",
       "      <td>109</td>\n",
       "      <td>533352170</td>\n",
       "      <td>73.48551</td>\n",
       "      <td>13517</td>\n",
       "      <td>6</td>\n",
       "      <td>1976</td>\n",
       "      <td>2005</td>\n",
       "      <td>289.00000</td>\n",
       "      <td>4</td>\n",
       "      <td>3</td>\n",
       "      <td>3</td>\n",
       "      <td>2</td>\n",
       "      <td>533.00000</td>\n",
       "      <td>192.00000</td>\n",
       "      <td>725.00000</td>\n",
       "      <td>5</td>\n",
       "      <td>725</td>\n",
       "      <td>1479</td>\n",
       "      <td>0.00000</td>\n",
       "      <td>2</td>\n",
       "      <td>1</td>\n",
       "      <td>3</td>\n",
       "      <td>4</td>\n",
       "      <td>6</td>\n",
       "      <td>0</td>\n",
       "      <td>0</td>\n",
       "      <td>1976.00000</td>\n",
       "      <td>2.00000</td>\n",
       "      <td>475.00000</td>\n",
       "      <td>0</td>\n",
       "      <td>44</td>\n",
       "      <td>0</td>\n",
       "      <td>0</td>\n",
       "      <td>0</td>\n",
       "      <td>130500</td>\n",
       "      <td>0</td>\n",
       "      <td>0</td>\n",
       "      <td>0</td>\n",
       "      <td>0</td>\n",
       "      <td>0</td>\n",
       "      <td>0</td>\n",
       "      <td>0</td>\n",
       "      <td>0</td>\n",
       "      <td>0</td>\n",
       "      <td>0</td>\n",
       "      <td>0</td>\n",
       "      <td>0</td>\n",
       "      <td>0</td>\n",
       "      <td>0</td>\n",
       "      <td>0</td>\n",
       "      <td>...</td>\n",
       "      <td>0</td>\n",
       "      <td>1</td>\n",
       "      <td>0</td>\n",
       "      <td>0</td>\n",
       "      <td>0</td>\n",
       "      <td>0</td>\n",
       "      <td>0</td>\n",
       "      <td>1</td>\n",
       "      <td>0</td>\n",
       "      <td>0</td>\n",
       "      <td>0</td>\n",
       "      <td>0</td>\n",
       "      <td>0</td>\n",
       "      <td>1</td>\n",
       "      <td>0</td>\n",
       "      <td>0</td>\n",
       "      <td>0</td>\n",
       "      <td>0</td>\n",
       "      <td>1</td>\n",
       "      <td>0</td>\n",
       "      <td>0</td>\n",
       "      <td>0</td>\n",
       "      <td>0</td>\n",
       "      <td>0</td>\n",
       "      <td>0</td>\n",
       "      <td>1</td>\n",
       "      <td>0</td>\n",
       "      <td>0</td>\n",
       "      <td>0</td>\n",
       "      <td>0</td>\n",
       "      <td>0</td>\n",
       "      <td>0</td>\n",
       "      <td>0</td>\n",
       "      <td>0</td>\n",
       "      <td>1</td>\n",
       "      <td>0</td>\n",
       "      <td>0</td>\n",
       "      <td>0</td>\n",
       "      <td>0</td>\n",
       "      <td>1</td>\n",
       "      <td>0</td>\n",
       "      <td>0</td>\n",
       "      <td>0</td>\n",
       "      <td>0</td>\n",
       "      <td>0</td>\n",
       "      <td>0</td>\n",
       "      <td>0</td>\n",
       "      <td>0</td>\n",
       "      <td>0</td>\n",
       "      <td>0</td>\n",
       "    </tr>\n",
       "    <tr>\n",
       "      <th>1</th>\n",
       "      <td>544</td>\n",
       "      <td>531379050</td>\n",
       "      <td>43.00000</td>\n",
       "      <td>11492</td>\n",
       "      <td>7</td>\n",
       "      <td>1996</td>\n",
       "      <td>1997</td>\n",
       "      <td>132.00000</td>\n",
       "      <td>4</td>\n",
       "      <td>3</td>\n",
       "      <td>4</td>\n",
       "      <td>2</td>\n",
       "      <td>637.00000</td>\n",
       "      <td>276.00000</td>\n",
       "      <td>913.00000</td>\n",
       "      <td>5</td>\n",
       "      <td>913</td>\n",
       "      <td>2122</td>\n",
       "      <td>1.00000</td>\n",
       "      <td>2</td>\n",
       "      <td>1</td>\n",
       "      <td>4</td>\n",
       "      <td>4</td>\n",
       "      <td>8</td>\n",
       "      <td>1</td>\n",
       "      <td>3</td>\n",
       "      <td>1997.00000</td>\n",
       "      <td>2.00000</td>\n",
       "      <td>559.00000</td>\n",
       "      <td>0</td>\n",
       "      <td>74</td>\n",
       "      <td>0</td>\n",
       "      <td>0</td>\n",
       "      <td>0</td>\n",
       "      <td>220000</td>\n",
       "      <td>0</td>\n",
       "      <td>0</td>\n",
       "      <td>0</td>\n",
       "      <td>0</td>\n",
       "      <td>0</td>\n",
       "      <td>0</td>\n",
       "      <td>0</td>\n",
       "      <td>0</td>\n",
       "      <td>0</td>\n",
       "      <td>0</td>\n",
       "      <td>0</td>\n",
       "      <td>0</td>\n",
       "      <td>0</td>\n",
       "      <td>0</td>\n",
       "      <td>0</td>\n",
       "      <td>...</td>\n",
       "      <td>0</td>\n",
       "      <td>0</td>\n",
       "      <td>0</td>\n",
       "      <td>0</td>\n",
       "      <td>1</td>\n",
       "      <td>0</td>\n",
       "      <td>0</td>\n",
       "      <td>0</td>\n",
       "      <td>1</td>\n",
       "      <td>0</td>\n",
       "      <td>0</td>\n",
       "      <td>0</td>\n",
       "      <td>0</td>\n",
       "      <td>1</td>\n",
       "      <td>0</td>\n",
       "      <td>0</td>\n",
       "      <td>0</td>\n",
       "      <td>0</td>\n",
       "      <td>1</td>\n",
       "      <td>0</td>\n",
       "      <td>0</td>\n",
       "      <td>0</td>\n",
       "      <td>0</td>\n",
       "      <td>0</td>\n",
       "      <td>0</td>\n",
       "      <td>1</td>\n",
       "      <td>0</td>\n",
       "      <td>0</td>\n",
       "      <td>0</td>\n",
       "      <td>0</td>\n",
       "      <td>0</td>\n",
       "      <td>0</td>\n",
       "      <td>0</td>\n",
       "      <td>0</td>\n",
       "      <td>1</td>\n",
       "      <td>0</td>\n",
       "      <td>0</td>\n",
       "      <td>0</td>\n",
       "      <td>0</td>\n",
       "      <td>1</td>\n",
       "      <td>0</td>\n",
       "      <td>0</td>\n",
       "      <td>0</td>\n",
       "      <td>0</td>\n",
       "      <td>0</td>\n",
       "      <td>0</td>\n",
       "      <td>0</td>\n",
       "      <td>0</td>\n",
       "      <td>0</td>\n",
       "      <td>0</td>\n",
       "    </tr>\n",
       "    <tr>\n",
       "      <th>2</th>\n",
       "      <td>153</td>\n",
       "      <td>535304180</td>\n",
       "      <td>68.00000</td>\n",
       "      <td>7922</td>\n",
       "      <td>5</td>\n",
       "      <td>1953</td>\n",
       "      <td>2007</td>\n",
       "      <td>0.00000</td>\n",
       "      <td>3</td>\n",
       "      <td>4</td>\n",
       "      <td>3</td>\n",
       "      <td>2</td>\n",
       "      <td>731.00000</td>\n",
       "      <td>326.00000</td>\n",
       "      <td>1057.00000</td>\n",
       "      <td>3</td>\n",
       "      <td>1057</td>\n",
       "      <td>1057</td>\n",
       "      <td>1.00000</td>\n",
       "      <td>1</td>\n",
       "      <td>0</td>\n",
       "      <td>3</td>\n",
       "      <td>4</td>\n",
       "      <td>5</td>\n",
       "      <td>0</td>\n",
       "      <td>0</td>\n",
       "      <td>1953.00000</td>\n",
       "      <td>1.00000</td>\n",
       "      <td>246.00000</td>\n",
       "      <td>0</td>\n",
       "      <td>52</td>\n",
       "      <td>0</td>\n",
       "      <td>0</td>\n",
       "      <td>0</td>\n",
       "      <td>109000</td>\n",
       "      <td>0</td>\n",
       "      <td>0</td>\n",
       "      <td>0</td>\n",
       "      <td>0</td>\n",
       "      <td>0</td>\n",
       "      <td>0</td>\n",
       "      <td>0</td>\n",
       "      <td>0</td>\n",
       "      <td>0</td>\n",
       "      <td>0</td>\n",
       "      <td>0</td>\n",
       "      <td>0</td>\n",
       "      <td>0</td>\n",
       "      <td>0</td>\n",
       "      <td>1</td>\n",
       "      <td>...</td>\n",
       "      <td>0</td>\n",
       "      <td>0</td>\n",
       "      <td>0</td>\n",
       "      <td>0</td>\n",
       "      <td>1</td>\n",
       "      <td>0</td>\n",
       "      <td>0</td>\n",
       "      <td>1</td>\n",
       "      <td>0</td>\n",
       "      <td>0</td>\n",
       "      <td>0</td>\n",
       "      <td>0</td>\n",
       "      <td>0</td>\n",
       "      <td>1</td>\n",
       "      <td>0</td>\n",
       "      <td>0</td>\n",
       "      <td>0</td>\n",
       "      <td>0</td>\n",
       "      <td>0</td>\n",
       "      <td>0</td>\n",
       "      <td>0</td>\n",
       "      <td>0</td>\n",
       "      <td>1</td>\n",
       "      <td>0</td>\n",
       "      <td>0</td>\n",
       "      <td>0</td>\n",
       "      <td>1</td>\n",
       "      <td>0</td>\n",
       "      <td>0</td>\n",
       "      <td>0</td>\n",
       "      <td>0</td>\n",
       "      <td>0</td>\n",
       "      <td>0</td>\n",
       "      <td>0</td>\n",
       "      <td>1</td>\n",
       "      <td>0</td>\n",
       "      <td>0</td>\n",
       "      <td>0</td>\n",
       "      <td>0</td>\n",
       "      <td>0</td>\n",
       "      <td>0</td>\n",
       "      <td>0</td>\n",
       "      <td>0</td>\n",
       "      <td>0</td>\n",
       "      <td>0</td>\n",
       "      <td>0</td>\n",
       "      <td>0</td>\n",
       "      <td>0</td>\n",
       "      <td>0</td>\n",
       "      <td>0</td>\n",
       "    </tr>\n",
       "    <tr>\n",
       "      <th>3</th>\n",
       "      <td>318</td>\n",
       "      <td>916386060</td>\n",
       "      <td>73.00000</td>\n",
       "      <td>9802</td>\n",
       "      <td>5</td>\n",
       "      <td>2006</td>\n",
       "      <td>2007</td>\n",
       "      <td>0.00000</td>\n",
       "      <td>3</td>\n",
       "      <td>3</td>\n",
       "      <td>4</td>\n",
       "      <td>2</td>\n",
       "      <td>0.00000</td>\n",
       "      <td>384.00000</td>\n",
       "      <td>384.00000</td>\n",
       "      <td>4</td>\n",
       "      <td>744</td>\n",
       "      <td>1444</td>\n",
       "      <td>0.00000</td>\n",
       "      <td>2</td>\n",
       "      <td>1</td>\n",
       "      <td>3</td>\n",
       "      <td>3</td>\n",
       "      <td>7</td>\n",
       "      <td>0</td>\n",
       "      <td>0</td>\n",
       "      <td>2007.00000</td>\n",
       "      <td>2.00000</td>\n",
       "      <td>400.00000</td>\n",
       "      <td>100</td>\n",
       "      <td>0</td>\n",
       "      <td>0</td>\n",
       "      <td>0</td>\n",
       "      <td>0</td>\n",
       "      <td>174000</td>\n",
       "      <td>0</td>\n",
       "      <td>0</td>\n",
       "      <td>0</td>\n",
       "      <td>0</td>\n",
       "      <td>0</td>\n",
       "      <td>0</td>\n",
       "      <td>0</td>\n",
       "      <td>0</td>\n",
       "      <td>0</td>\n",
       "      <td>0</td>\n",
       "      <td>0</td>\n",
       "      <td>0</td>\n",
       "      <td>0</td>\n",
       "      <td>0</td>\n",
       "      <td>0</td>\n",
       "      <td>...</td>\n",
       "      <td>0</td>\n",
       "      <td>0</td>\n",
       "      <td>0</td>\n",
       "      <td>0</td>\n",
       "      <td>1</td>\n",
       "      <td>0</td>\n",
       "      <td>0</td>\n",
       "      <td>0</td>\n",
       "      <td>1</td>\n",
       "      <td>0</td>\n",
       "      <td>0</td>\n",
       "      <td>0</td>\n",
       "      <td>0</td>\n",
       "      <td>0</td>\n",
       "      <td>0</td>\n",
       "      <td>0</td>\n",
       "      <td>0</td>\n",
       "      <td>1</td>\n",
       "      <td>0</td>\n",
       "      <td>0</td>\n",
       "      <td>1</td>\n",
       "      <td>0</td>\n",
       "      <td>0</td>\n",
       "      <td>0</td>\n",
       "      <td>0</td>\n",
       "      <td>0</td>\n",
       "      <td>0</td>\n",
       "      <td>0</td>\n",
       "      <td>0</td>\n",
       "      <td>0</td>\n",
       "      <td>0</td>\n",
       "      <td>0</td>\n",
       "      <td>0</td>\n",
       "      <td>0</td>\n",
       "      <td>1</td>\n",
       "      <td>0</td>\n",
       "      <td>0</td>\n",
       "      <td>0</td>\n",
       "      <td>0</td>\n",
       "      <td>1</td>\n",
       "      <td>0</td>\n",
       "      <td>0</td>\n",
       "      <td>0</td>\n",
       "      <td>0</td>\n",
       "      <td>0</td>\n",
       "      <td>0</td>\n",
       "      <td>0</td>\n",
       "      <td>0</td>\n",
       "      <td>0</td>\n",
       "      <td>0</td>\n",
       "    </tr>\n",
       "    <tr>\n",
       "      <th>4</th>\n",
       "      <td>255</td>\n",
       "      <td>906425045</td>\n",
       "      <td>82.00000</td>\n",
       "      <td>14235</td>\n",
       "      <td>6</td>\n",
       "      <td>1900</td>\n",
       "      <td>1993</td>\n",
       "      <td>0.00000</td>\n",
       "      <td>3</td>\n",
       "      <td>3</td>\n",
       "      <td>2</td>\n",
       "      <td>2</td>\n",
       "      <td>0.00000</td>\n",
       "      <td>676.00000</td>\n",
       "      <td>676.00000</td>\n",
       "      <td>3</td>\n",
       "      <td>831</td>\n",
       "      <td>1445</td>\n",
       "      <td>0.00000</td>\n",
       "      <td>2</td>\n",
       "      <td>0</td>\n",
       "      <td>3</td>\n",
       "      <td>3</td>\n",
       "      <td>6</td>\n",
       "      <td>0</td>\n",
       "      <td>0</td>\n",
       "      <td>1957.00000</td>\n",
       "      <td>2.00000</td>\n",
       "      <td>484.00000</td>\n",
       "      <td>0</td>\n",
       "      <td>59</td>\n",
       "      <td>0</td>\n",
       "      <td>0</td>\n",
       "      <td>0</td>\n",
       "      <td>138500</td>\n",
       "      <td>0</td>\n",
       "      <td>0</td>\n",
       "      <td>0</td>\n",
       "      <td>0</td>\n",
       "      <td>0</td>\n",
       "      <td>0</td>\n",
       "      <td>0</td>\n",
       "      <td>0</td>\n",
       "      <td>0</td>\n",
       "      <td>0</td>\n",
       "      <td>0</td>\n",
       "      <td>0</td>\n",
       "      <td>0</td>\n",
       "      <td>0</td>\n",
       "      <td>0</td>\n",
       "      <td>...</td>\n",
       "      <td>0</td>\n",
       "      <td>1</td>\n",
       "      <td>0</td>\n",
       "      <td>0</td>\n",
       "      <td>0</td>\n",
       "      <td>0</td>\n",
       "      <td>0</td>\n",
       "      <td>0</td>\n",
       "      <td>1</td>\n",
       "      <td>0</td>\n",
       "      <td>0</td>\n",
       "      <td>0</td>\n",
       "      <td>0</td>\n",
       "      <td>0</td>\n",
       "      <td>0</td>\n",
       "      <td>0</td>\n",
       "      <td>0</td>\n",
       "      <td>1</td>\n",
       "      <td>0</td>\n",
       "      <td>0</td>\n",
       "      <td>0</td>\n",
       "      <td>0</td>\n",
       "      <td>1</td>\n",
       "      <td>0</td>\n",
       "      <td>0</td>\n",
       "      <td>0</td>\n",
       "      <td>1</td>\n",
       "      <td>0</td>\n",
       "      <td>0</td>\n",
       "      <td>0</td>\n",
       "      <td>0</td>\n",
       "      <td>0</td>\n",
       "      <td>0</td>\n",
       "      <td>0</td>\n",
       "      <td>1</td>\n",
       "      <td>0</td>\n",
       "      <td>0</td>\n",
       "      <td>0</td>\n",
       "      <td>1</td>\n",
       "      <td>0</td>\n",
       "      <td>0</td>\n",
       "      <td>0</td>\n",
       "      <td>0</td>\n",
       "      <td>0</td>\n",
       "      <td>0</td>\n",
       "      <td>0</td>\n",
       "      <td>0</td>\n",
       "      <td>0</td>\n",
       "      <td>0</td>\n",
       "      <td>0</td>\n",
       "    </tr>\n",
       "  </tbody>\n",
       "</table>\n",
       "<p>5 rows × 152 columns</p>\n",
       "</div>"
      ],
      "text/plain": [
       "    id        pid  lot_frontage  lot_area  overall_qual  year_built  year_remod/add  mas_vnr_area  exter_qual  \\\n",
       "0  109  533352170      73.48551     13517             6        1976            2005     289.00000           4   \n",
       "1  544  531379050      43.00000     11492             7        1996            1997     132.00000           4   \n",
       "2  153  535304180      68.00000      7922             5        1953            2007       0.00000           3   \n",
       "3  318  916386060      73.00000      9802             5        2006            2007       0.00000           3   \n",
       "4  255  906425045      82.00000     14235             6        1900            1993       0.00000           3   \n",
       "\n",
       "   exter_cond  bsmt_qual  bsmt_exposure  bsmtfin_sf_1  bsmt_unf_sf  total_bsmt_sf  heating_qc  1st_flr_sf  \\\n",
       "0           3          3              2     533.00000    192.00000      725.00000           5         725   \n",
       "1           3          4              2     637.00000    276.00000      913.00000           5         913   \n",
       "2           4          3              2     731.00000    326.00000     1057.00000           3        1057   \n",
       "3           3          4              2       0.00000    384.00000      384.00000           4         744   \n",
       "4           3          2              2       0.00000    676.00000      676.00000           3         831   \n",
       "\n",
       "   gr_liv_area  bsmt_full_bath  full_bath  half_bath  bedroom_abvgr  kitchen_qual  totrms_abvgrd  fireplaces  \\\n",
       "0         1479         0.00000          2          1              3             4              6           0   \n",
       "1         2122         1.00000          2          1              4             4              8           1   \n",
       "2         1057         1.00000          1          0              3             4              5           0   \n",
       "3         1444         0.00000          2          1              3             3              7           0   \n",
       "4         1445         0.00000          2          0              3             3              6           0   \n",
       "\n",
       "   fireplace_qu  garage_yr_blt  garage_cars  garage_area  wood_deck_sf  open_porch_sf  enclosed_porch  3ssn_porch  \\\n",
       "0             0     1976.00000      2.00000    475.00000             0             44               0           0   \n",
       "1             3     1997.00000      2.00000    559.00000             0             74               0           0   \n",
       "2             0     1953.00000      1.00000    246.00000             0             52               0           0   \n",
       "3             0     2007.00000      2.00000    400.00000           100              0               0           0   \n",
       "4             0     1957.00000      2.00000    484.00000             0             59               0           0   \n",
       "\n",
       "   screen_porch  saleprice  neighborhood_Blueste  neighborhood_BrDale  neighborhood_BrkSide  neighborhood_ClearCr  \\\n",
       "0             0     130500                     0                    0                     0                     0   \n",
       "1             0     220000                     0                    0                     0                     0   \n",
       "2             0     109000                     0                    0                     0                     0   \n",
       "3             0     174000                     0                    0                     0                     0   \n",
       "4             0     138500                     0                    0                     0                     0   \n",
       "\n",
       "   neighborhood_CollgCr  neighborhood_Crawfor  neighborhood_Edwards  neighborhood_Gilbert  neighborhood_Greens  \\\n",
       "0                     0                     0                     0                     0                    0   \n",
       "1                     0                     0                     0                     0                    0   \n",
       "2                     0                     0                     0                     0                    0   \n",
       "3                     0                     0                     0                     0                    0   \n",
       "4                     0                     0                     0                     0                    0   \n",
       "\n",
       "   neighborhood_GrnHill  neighborhood_IDOTRR  neighborhood_Landmrk  neighborhood_MeadowV  neighborhood_Mitchel  \\\n",
       "0                     0                    0                     0                     0                     0   \n",
       "1                     0                    0                     0                     0                     0   \n",
       "2                     0                    0                     0                     0                     0   \n",
       "3                     0                    0                     0                     0                     0   \n",
       "4                     0                    0                     0                     0                     0   \n",
       "\n",
       "   neighborhood_NAmes  ...  exterior_2nd_MetalSd  exterior_2nd_Plywood  exterior_2nd_Stone  exterior_2nd_Stucco  \\\n",
       "0                   0  ...                     0                     1                   0                    0   \n",
       "1                   0  ...                     0                     0                   0                    0   \n",
       "2                   1  ...                     0                     0                   0                    0   \n",
       "3                   0  ...                     0                     0                   0                    0   \n",
       "4                   0  ...                     0                     1                   0                    0   \n",
       "\n",
       "   exterior_2nd_VinylSd  exterior_2nd_Wd Sdng  exterior_2nd_Wd Shng  foundation_CBlock  foundation_PConc  \\\n",
       "0                     0                     0                     0                  1                 0   \n",
       "1                     1                     0                     0                  0                 1   \n",
       "2                     1                     0                     0                  1                 0   \n",
       "3                     1                     0                     0                  0                 1   \n",
       "4                     0                     0                     0                  0                 1   \n",
       "\n",
       "   foundation_Slab  foundation_Stone  foundation_Wood  bsmtfin_type_1_BLQ  bsmtfin_type_1_GLQ  bsmtfin_type_1_LwQ  \\\n",
       "0                0                 0                0                   0                   1                   0   \n",
       "1                0                 0                0                   0                   1                   0   \n",
       "2                0                 0                0                   0                   1                   0   \n",
       "3                0                 0                0                   0                   0                   0   \n",
       "4                0                 0                0                   0                   0                   0   \n",
       "\n",
       "   bsmtfin_type_1_No Basement  bsmtfin_type_1_Rec  bsmtfin_type_1_Unf  garage_type_Attchd  garage_type_Basment  \\\n",
       "0                           0                   0                   0                   1                    0   \n",
       "1                           0                   0                   0                   1                    0   \n",
       "2                           0                   0                   0                   0                    0   \n",
       "3                           0                   0                   1                   0                    0   \n",
       "4                           0                   0                   1                   0                    0   \n",
       "\n",
       "   garage_type_BuiltIn  garage_type_CarPort  garage_type_Detchd  garage_type_No Garage  garage_finish_No Garage  \\\n",
       "0                    0                    0                   0                      0                        0   \n",
       "1                    0                    0                   0                      0                        0   \n",
       "2                    0                    0                   1                      0                        0   \n",
       "3                    1                    0                   0                      0                        0   \n",
       "4                    0                    0                   1                      0                        0   \n",
       "\n",
       "   garage_finish_RFn  garage_finish_Unf  sale_type_CWD  sale_type_Con  sale_type_ConLD  sale_type_ConLI  \\\n",
       "0                  1                  0              0              0                0                0   \n",
       "1                  1                  0              0              0                0                0   \n",
       "2                  0                  1              0              0                0                0   \n",
       "3                  0                  0              0              0                0                0   \n",
       "4                  0                  1              0              0                0                0   \n",
       "\n",
       "   sale_type_ConLw  sale_type_New  sale_type_Oth  sale_type_WD   ms_subclass_30  ms_subclass_40  ms_subclass_45  \\\n",
       "0                0              0              0              1               0               0               0   \n",
       "1                0              0              0              1               0               0               0   \n",
       "2                0              0              0              1               0               0               0   \n",
       "3                0              0              0              1               0               0               0   \n",
       "4                0              0              0              1               0               0               0   \n",
       "\n",
       "   ms_subclass_50  ms_subclass_60  ms_subclass_70  ms_subclass_75  ms_subclass_80  ms_subclass_85  ms_subclass_90  \\\n",
       "0               0               1               0               0               0               0               0   \n",
       "1               0               1               0               0               0               0               0   \n",
       "2               0               0               0               0               0               0               0   \n",
       "3               0               1               0               0               0               0               0   \n",
       "4               1               0               0               0               0               0               0   \n",
       "\n",
       "   ms_subclass_120  ms_subclass_150  ms_subclass_160  ms_subclass_180  ms_subclass_190  \n",
       "0                0                0                0                0                0  \n",
       "1                0                0                0                0                0  \n",
       "2                0                0                0                0                0  \n",
       "3                0                0                0                0                0  \n",
       "4                0                0                0                0                0  \n",
       "\n",
       "[5 rows x 152 columns]"
      ]
     },
     "execution_count": 216,
     "metadata": {},
     "output_type": "execute_result"
    }
   ],
   "source": [
    "rs_1.head()"
   ]
  },
  {
   "cell_type": "markdown",
   "metadata": {},
   "source": [
    "# Modelling"
   ]
  },
  {
   "cell_type": "markdown",
   "metadata": {},
   "source": [
    "## Creating Base Model"
   ]
  },
  {
   "cell_type": "code",
   "execution_count": 217,
   "metadata": {},
   "outputs": [],
   "source": [
    "features = [i for i in rs_1 if i not in ['saleprice','id','pid']]\n",
    "X = rs_1[features]\n",
    "y = rs_1['saleprice']"
   ]
  },
  {
   "cell_type": "markdown",
   "metadata": {},
   "source": [
    "## Model Prep: Train/test split\n",
    "---\n",
    "\n",
    "We always want to have a holdout set to test our model. Use the `train_test_split` function to split our `X` and `y` variables into a training set and a holdout set."
   ]
  },
  {
   "cell_type": "code",
   "execution_count": 218,
   "metadata": {},
   "outputs": [],
   "source": [
    "X_train, X_test, y_train, y_test =  train_test_split(X,y,random_state=42)"
   ]
  },
  {
   "cell_type": "markdown",
   "metadata": {},
   "source": [
    "## Model Prep: Scaling"
   ]
  },
  {
   "cell_type": "code",
   "execution_count": 219,
   "metadata": {},
   "outputs": [],
   "source": [
    "ss= StandardScaler()\n",
    "ss.fit(X_train)\n",
    "\n",
    "X_train_scaled = ss.transform(X_train)\n",
    "X_test_scaled = ss.transform(X_test)"
   ]
  },
  {
   "cell_type": "markdown",
   "metadata": {},
   "source": [
    "## Model Prep: Instantiate our model\n",
    "---\n",
    "\n",
    "Create an instance of `LinearRegression` in the cell below."
   ]
  },
  {
   "cell_type": "code",
   "execution_count": 220,
   "metadata": {},
   "outputs": [],
   "source": [
    "lr = LinearRegression()"
   ]
  },
  {
   "cell_type": "code",
   "execution_count": 221,
   "metadata": {},
   "outputs": [],
   "source": [
    "#Lasso Model\n",
    "lasso = LassoCV(n_alphas=100)"
   ]
  },
  {
   "cell_type": "code",
   "execution_count": 222,
   "metadata": {},
   "outputs": [],
   "source": [
    "#Ridge Model\n",
    "ridge = RidgeCV(alphas=np.linspace(1,100,500))"
   ]
  },
  {
   "cell_type": "markdown",
   "metadata": {},
   "source": [
    "### Linear Regression Model"
   ]
  },
  {
   "cell_type": "code",
   "execution_count": 223,
   "metadata": {},
   "outputs": [],
   "source": [
    "lr = LinearRegression()\n",
    "lr.fit(X_train_scaled, y_train);"
   ]
  },
  {
   "cell_type": "markdown",
   "metadata": {},
   "source": [
    "### Linear Model Evaluation"
   ]
  },
  {
   "cell_type": "code",
   "execution_count": 224,
   "metadata": {},
   "outputs": [
    {
     "data": {
      "text/plain": [
       "0.8880237666141079"
      ]
     },
     "execution_count": 224,
     "metadata": {},
     "output_type": "execute_result"
    }
   ],
   "source": [
    "lr.score(X_train_scaled, y_train)"
   ]
  },
  {
   "cell_type": "code",
   "execution_count": 225,
   "metadata": {},
   "outputs": [
    {
     "data": {
      "text/plain": [
       "-7.063099474068398e+18"
      ]
     },
     "execution_count": 225,
     "metadata": {},
     "output_type": "execute_result"
    }
   ],
   "source": [
    "lr.score(X_test_scaled, y_test)"
   ]
  },
  {
   "cell_type": "code",
   "execution_count": null,
   "metadata": {},
   "outputs": [],
   "source": []
  },
  {
   "cell_type": "code",
   "execution_count": 229,
   "metadata": {},
   "outputs": [
    {
     "data": {
      "text/plain": [
       "-3.628724232641225e+23"
      ]
     },
     "execution_count": 229,
     "metadata": {},
     "output_type": "execute_result"
    }
   ],
   "source": [
    "cross_val_score(lr, X_train_scaled, y_train, cv=5).mean()"
   ]
  },
  {
   "cell_type": "code",
   "execution_count": 230,
   "metadata": {},
   "outputs": [
    {
     "data": {
      "text/plain": [
       "LassoCV(alphas=None, copy_X=True, cv=None, eps=0.001, fit_intercept=True,\n",
       "        max_iter=1000, n_alphas=100, n_jobs=None, normalize=False,\n",
       "        positive=False, precompute='auto', random_state=None,\n",
       "        selection='cyclic', tol=0.0001, verbose=False)"
      ]
     },
     "execution_count": 230,
     "metadata": {},
     "output_type": "execute_result"
    }
   ],
   "source": [
    "lasso.fit(X_train_scaled, y_train)"
   ]
  },
  {
   "cell_type": "code",
   "execution_count": 231,
   "metadata": {},
   "outputs": [
    {
     "data": {
      "text/plain": [
       "0.8843487711043543"
      ]
     },
     "execution_count": 231,
     "metadata": {},
     "output_type": "execute_result"
    }
   ],
   "source": [
    "lasso.score(X_train_scaled,y_train)"
   ]
  },
  {
   "cell_type": "code",
   "execution_count": 232,
   "metadata": {},
   "outputs": [
    {
     "data": {
      "text/plain": [
       "0.8921331966271321"
      ]
     },
     "execution_count": 232,
     "metadata": {},
     "output_type": "execute_result"
    }
   ],
   "source": [
    "lasso.score(X_test_scaled,y_test)"
   ]
  },
  {
   "cell_type": "code",
   "execution_count": 136,
   "metadata": {},
   "outputs": [
    {
     "data": {
      "text/plain": [
       "<matplotlib.axes._subplots.AxesSubplot at 0x2539ba21c48>"
      ]
     },
     "execution_count": 136,
     "metadata": {},
     "output_type": "execute_result"
    },
    {
     "data": {
      "image/png": "[encoded data removed]",
      "text/plain": [
       "<Figure size 1500x700 with 1 Axes>"
      ]
     },
     "metadata": {},
     "output_type": "display_data"
    }
   ],
   "source": [
    "pd.Series(lasso.coef_, index=features).plot.bar(figsize=(15,7))"
   ]
  },
  {
   "cell_type": "code",
   "execution_count": 141,
   "metadata": {},
   "outputs": [],
   "source": [
    "test = pd.DataFrame(lasso.coef_,index=features, columns=['Value'])"
   ]
  },
  {
   "cell_type": "code",
   "execution_count": 146,
   "metadata": {},
   "outputs": [],
   "source": [
    "dropped_col = [i for i in test[test['Value']==0].index]"
   ]
  },
  {
   "cell_type": "code",
   "execution_count": 153,
   "metadata": {},
   "outputs": [
    {
     "data": {
      "text/plain": [
       "44"
      ]
     },
     "execution_count": 153,
     "metadata": {},
     "output_type": "execute_result"
    }
   ],
   "source": [
    "len(dropped_col)"
   ]
  },
  {
   "cell_type": "code",
   "execution_count": 148,
   "metadata": {},
   "outputs": [
    {
     "data": {
      "text/plain": [
       "(2051, 152)"
      ]
     },
     "execution_count": 148,
     "metadata": {},
     "output_type": "execute_result"
    }
   ],
   "source": [
    "rs_1.shape"
   ]
  },
  {
   "cell_type": "code",
   "execution_count": 150,
   "metadata": {},
   "outputs": [],
   "source": [
    "remaining_col = [i for i in rs_1.columns if i not in dropped_col]"
   ]
  },
  {
   "cell_type": "code",
   "execution_count": 152,
   "metadata": {},
   "outputs": [
    {
     "data": {
      "text/plain": [
       "108"
      ]
     },
     "execution_count": 152,
     "metadata": {},
     "output_type": "execute_result"
    }
   ],
   "source": [
    "len(remaining_col)"
   ]
  },
  {
   "cell_type": "code",
   "execution_count": 154,
   "metadata": {},
   "outputs": [],
   "source": [
    "rs_2 = rs_1[remaining_col]"
   ]
  },
  {
   "cell_type": "code",
   "execution_count": null,
   "metadata": {},
   "outputs": [],
   "source": []
  },
  {
   "cell_type": "code",
   "execution_count": null,
   "metadata": {},
   "outputs": [],
   "source": []
  },
  {
   "cell_type": "code",
   "execution_count": 155,
   "metadata": {},
   "outputs": [],
   "source": [
    "features = [i for i in rs_2 if i not in ['saleprice','id','pid']]\n",
    "X_2 = rs_2[features]\n",
    "y_2 = rs_2['saleprice']"
   ]
  },
  {
   "cell_type": "code",
   "execution_count": 156,
   "metadata": {},
   "outputs": [],
   "source": [
    "X_train_2, X_test_2, y_train_2, y_test_2 =  train_test_split(X_2,y_2,random_state=42)"
   ]
  },
  {
   "cell_type": "markdown",
   "metadata": {},
   "source": [
    "## Model Prep: Scaling"
   ]
  },
  {
   "cell_type": "code",
   "execution_count": 157,
   "metadata": {},
   "outputs": [],
   "source": [
    "ss= StandardScaler()\n",
    "ss.fit(X_train_2)\n",
    "\n",
    "X_train_scaled_2 = ss.transform(X_train_2)\n",
    "X_test_scaled_2 = ss.transform(X_test_2)"
   ]
  },
  {
   "cell_type": "markdown",
   "metadata": {},
   "source": [
    "## Model Prep: Instantiate our model\n",
    "---\n",
    "\n",
    "Create an instance of `LinearRegression` in the cell below."
   ]
  },
  {
   "cell_type": "code",
   "execution_count": 169,
   "metadata": {},
   "outputs": [],
   "source": [
    "lr_2 = LinearRegression()"
   ]
  },
  {
   "cell_type": "code",
   "execution_count": 170,
   "metadata": {},
   "outputs": [],
   "source": [
    "#Lasso Model\n",
    "lasso_2 = LassoCV(n_alphas=100)"
   ]
  },
  {
   "cell_type": "markdown",
   "metadata": {},
   "source": [
    "### Linear Regression Model"
   ]
  },
  {
   "cell_type": "code",
   "execution_count": 171,
   "metadata": {},
   "outputs": [],
   "source": [
    "lr_2 = LinearRegression()\n",
    "lr_2.fit(X_train_scaled_2, y_train);"
   ]
  },
  {
   "cell_type": "markdown",
   "metadata": {},
   "source": [
    "### Linear Model Evaluation"
   ]
  },
  {
   "cell_type": "code",
   "execution_count": 172,
   "metadata": {},
   "outputs": [
    {
     "data": {
      "text/plain": [
       "0.8861651854324677"
      ]
     },
     "execution_count": 172,
     "metadata": {},
     "output_type": "execute_result"
    }
   ],
   "source": [
    "lr_2.score(X_train_scaled_2, y_train)"
   ]
  },
  {
   "cell_type": "code",
   "execution_count": 173,
   "metadata": {},
   "outputs": [
    {
     "data": {
      "text/plain": [
       "-1.6631260190885034e+22"
      ]
     },
     "execution_count": 173,
     "metadata": {},
     "output_type": "execute_result"
    }
   ],
   "source": [
    "lr_2.score(X_test_scaled_2, y_test)"
   ]
  },
  {
   "cell_type": "code",
   "execution_count": 174,
   "metadata": {},
   "outputs": [
    {
     "data": {
      "text/plain": [
       "-101496218.30322912"
      ]
     },
     "execution_count": 174,
     "metadata": {},
     "output_type": "execute_result"
    }
   ],
   "source": [
    "cross_val_score(lr_2, X_train_scaled_2, y_train, cv=5).mean()"
   ]
  },
  {
   "cell_type": "code",
   "execution_count": 177,
   "metadata": {},
   "outputs": [
    {
     "data": {
      "text/plain": [
       "LassoCV(alphas=None, copy_X=True, cv=None, eps=0.001, fit_intercept=True,\n",
       "        max_iter=1000, n_alphas=100, n_jobs=None, normalize=False,\n",
       "        positive=False, precompute='auto', random_state=None,\n",
       "        selection='cyclic', tol=0.0001, verbose=False)"
      ]
     },
     "execution_count": 177,
     "metadata": {},
     "output_type": "execute_result"
    }
   ],
   "source": [
    "lasso_2.fit(X_train_scaled_2, y_train)"
   ]
  },
  {
   "cell_type": "code",
   "execution_count": 178,
   "metadata": {},
   "outputs": [
    {
     "data": {
      "text/plain": [
       "<matplotlib.axes._subplots.AxesSubplot at 0x2539b400c88>"
      ]
     },
     "execution_count": 178,
     "metadata": {},
     "output_type": "execute_result"
    },
    {
     "data": {
      "image/png": "[encoded data removed]",
      "text/plain": [
       "<Figure size 1500x700 with 1 Axes>"
      ]
     },
     "metadata": {},
     "output_type": "display_data"
    }
   ],
   "source": [
    "pd.Series(lasso_2.coef_, index=features).plot.bar(figsize=(15,7))"
   ]
  },
  {
   "cell_type": "code",
   "execution_count": null,
   "metadata": {},
   "outputs": [],
   "source": []
  }
 ],
 "metadata": {
  "kernelspec": {
   "display_name": "Python 3",
   "language": "python",
   "name": "python3"
  },
  "language_info": {
   "codemirror_mode": {
    "name": "ipython",
    "version": 3
   },
   "file_extension": ".py",
   "mimetype": "text/x-python",
   "name": "python",
   "nbconvert_exporter": "python",
   "pygments_lexer": "ipython3",
   "version": "3.7.6"
  }
 },
 "nbformat": 4,
 "nbformat_minor": 4
}
